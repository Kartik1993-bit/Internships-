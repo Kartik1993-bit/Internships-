{
 "cells": [
  {
   "cell_type": "markdown",
   "id": "4a804583",
   "metadata": {},
   "source": [
    "# WEB SCRAPING ASSIGNMENT-2\n"
   ]
  },
  {
   "cell_type": "markdown",
   "id": "47c36168",
   "metadata": {},
   "source": [
    "# Instructions:\n",
    "    1. All the questions must be done in a single Jupyter notebook. \n",
    "    2.There should be proper comments in code\n",
    "\n"
   ]
  },
  {
   "cell_type": "markdown",
   "id": "8d1879e6",
   "metadata": {},
   "source": [
    "Q1: Write a python program to scrape data for “Data Analyst” Job position in \n",
    "    “Bangalore” location. You have to scrape the job-title, job-location, company_name,\n",
    "    experience_required. You have to scrape first 10 jobs data.\n"
   ]
  },
  {
   "cell_type": "markdown",
   "id": "b1c2140d",
   "metadata": {},
   "source": [
    "# This task will be done in following steps:\n",
    "    1. first get the webpage https://www.naukri.com/\n",
    "    2. Enter “Data Analyst” in “Skill,Designations,Companies” field and enter “Bangalore” in “enter the location” field.\n",
    "    3. Then click the search button.\n",
    "    5. Finally create a dataframe of the scraped data.\n",
    "    4. Then scrape the data for the first 10 jobs results you get.\n",
    "    Note- All of the above steps have to be done in code. No step is to be done manually.\n",
    "\n"
   ]
  },
  {
   "cell_type": "code",
   "execution_count": 1,
   "id": "fbc9468c",
   "metadata": {},
   "outputs": [
    {
     "name": "stdout",
     "output_type": "stream",
     "text": [
      "Collecting selenium\n",
      "  Downloading selenium-3.141.0-py2.py3-none-any.whl (904 kB)\n",
      "Requirement already satisfied: urllib3 in d:\\new folder (2)\\new folder\\lib\\site-packages (from selenium) (1.26.6)\n",
      "Installing collected packages: selenium\n",
      "Successfully installed selenium-3.141.0\n"
     ]
    }
   ],
   "source": [
    "#!pip install selenium"
   ]
  },
  {
   "cell_type": "code",
   "execution_count": 1,
   "id": "1f81466c",
   "metadata": {},
   "outputs": [],
   "source": [
    "#lets now import all required libraries\n",
    "import selenium\n",
    "import pandas as pd\n",
    "from selenium import webdriver"
   ]
  },
  {
   "cell_type": "code",
   "execution_count": 48,
   "id": "f8624136",
   "metadata": {},
   "outputs": [],
   "source": [
    "#lets first connect to the web driver\n",
    "driver=webdriver.Edge(\"msedgedriver.exe\")"
   ]
  },
  {
   "cell_type": "code",
   "execution_count": 49,
   "id": "ff83237c",
   "metadata": {},
   "outputs": [],
   "source": [
    "url='https://www.naukri.com/'\n",
    "driver.get(url)"
   ]
  },
  {
   "cell_type": "code",
   "execution_count": 50,
   "id": "076b5346",
   "metadata": {},
   "outputs": [
    {
     "data": {
      "text/plain": [
       "<selenium.webdriver.remote.webelement.WebElement (session=\"dcb4df54ab12fae6270102efc1a33995\", element=\"ef894c29-dc68-406e-a38a-f886b2cb4814\")>"
      ]
     },
     "execution_count": 50,
     "metadata": {},
     "output_type": "execute_result"
    }
   ],
   "source": [
    "search_job=driver.find_element_by_xpath('//input[@class=\"sugInp\"]')\n",
    "search_job"
   ]
  },
  {
   "cell_type": "code",
   "execution_count": 51,
   "id": "f48c0c06",
   "metadata": {},
   "outputs": [],
   "source": [
    "#write on search bar\n",
    "search_job.send_keys(\"Data Analyst\")"
   ]
  },
  {
   "cell_type": "code",
   "execution_count": 52,
   "id": "38e197bb",
   "metadata": {},
   "outputs": [],
   "source": [
    "#finding the element for job location\n",
    "search_loc=driver.find_element_by_id(\"qsb-location-sugg\")\n",
    "search_loc.send_keys(\"Bangalore\")"
   ]
  },
  {
   "cell_type": "code",
   "execution_count": 54,
   "id": "7746c21e",
   "metadata": {},
   "outputs": [],
   "source": [
    "search_btn=driver.find_element_by_xpath('//button[@class=\"btn\"]')\n",
    "search_btn.click()"
   ]
  },
  {
   "cell_type": "code",
   "execution_count": 55,
   "id": "7d560227",
   "metadata": {},
   "outputs": [
    {
     "data": {
      "text/plain": [
       "[<selenium.webdriver.remote.webelement.WebElement (session=\"dcb4df54ab12fae6270102efc1a33995\", element=\"4f59a247-5a32-4c9a-bc46-ffa1333bffd7\")>,\n",
       " <selenium.webdriver.remote.webelement.WebElement (session=\"dcb4df54ab12fae6270102efc1a33995\", element=\"b6f5551b-ec5d-41d3-b181-f0a2acf37564\")>,\n",
       " <selenium.webdriver.remote.webelement.WebElement (session=\"dcb4df54ab12fae6270102efc1a33995\", element=\"2ccd1fdb-5b21-497c-ad0a-c28b92738894\")>,\n",
       " <selenium.webdriver.remote.webelement.WebElement (session=\"dcb4df54ab12fae6270102efc1a33995\", element=\"5ad428c3-e10d-49b9-8e36-bcf058f4648c\")>,\n",
       " <selenium.webdriver.remote.webelement.WebElement (session=\"dcb4df54ab12fae6270102efc1a33995\", element=\"0637515d-9f42-4478-8625-2cf85aebca49\")>,\n",
       " <selenium.webdriver.remote.webelement.WebElement (session=\"dcb4df54ab12fae6270102efc1a33995\", element=\"ab303ff8-41e9-4a3e-9d63-01f9dde2eff2\")>,\n",
       " <selenium.webdriver.remote.webelement.WebElement (session=\"dcb4df54ab12fae6270102efc1a33995\", element=\"2898c292-a001-44e8-b794-189a5ae8f5f0\")>,\n",
       " <selenium.webdriver.remote.webelement.WebElement (session=\"dcb4df54ab12fae6270102efc1a33995\", element=\"0e048902-e3aa-451b-b037-6ed9bd1a0ee1\")>,\n",
       " <selenium.webdriver.remote.webelement.WebElement (session=\"dcb4df54ab12fae6270102efc1a33995\", element=\"c5131959-4228-4d03-aa0b-b82a2f007011\")>,\n",
       " <selenium.webdriver.remote.webelement.WebElement (session=\"dcb4df54ab12fae6270102efc1a33995\", element=\"18df6745-52a7-4d5f-a0a6-9feaad4676f4\")>,\n",
       " <selenium.webdriver.remote.webelement.WebElement (session=\"dcb4df54ab12fae6270102efc1a33995\", element=\"f878409f-a1da-4718-97f1-a94ec8e92f6d\")>,\n",
       " <selenium.webdriver.remote.webelement.WebElement (session=\"dcb4df54ab12fae6270102efc1a33995\", element=\"986f6593-764d-4b42-9c0e-52090928c391\")>,\n",
       " <selenium.webdriver.remote.webelement.WebElement (session=\"dcb4df54ab12fae6270102efc1a33995\", element=\"985106e0-be98-4098-b889-7aab69b237ca\")>,\n",
       " <selenium.webdriver.remote.webelement.WebElement (session=\"dcb4df54ab12fae6270102efc1a33995\", element=\"4dba8920-f839-4e59-ad92-c49195a500c4\")>,\n",
       " <selenium.webdriver.remote.webelement.WebElement (session=\"dcb4df54ab12fae6270102efc1a33995\", element=\"d35a629b-912c-4d17-a0bd-743c2c5d7cf7\")>,\n",
       " <selenium.webdriver.remote.webelement.WebElement (session=\"dcb4df54ab12fae6270102efc1a33995\", element=\"4fb3df84-fac2-4759-a3ae-b969eaf08f1d\")>,\n",
       " <selenium.webdriver.remote.webelement.WebElement (session=\"dcb4df54ab12fae6270102efc1a33995\", element=\"602413d8-dcd0-439d-abce-f5e5066b26e9\")>,\n",
       " <selenium.webdriver.remote.webelement.WebElement (session=\"dcb4df54ab12fae6270102efc1a33995\", element=\"79f85a3e-bfb9-4fa6-b7db-a212e5f85e02\")>,\n",
       " <selenium.webdriver.remote.webelement.WebElement (session=\"dcb4df54ab12fae6270102efc1a33995\", element=\"ac2a18a7-f153-4c9d-8a61-fc93a10fda8b\")>,\n",
       " <selenium.webdriver.remote.webelement.WebElement (session=\"dcb4df54ab12fae6270102efc1a33995\", element=\"e0fa7f14-23c2-47b5-b4be-8afb9b0a10e6\")>]"
      ]
     },
     "execution_count": 55,
     "metadata": {},
     "output_type": "execute_result"
    }
   ],
   "source": [
    "#so lets extaract all the tags having the job titles\n",
    "titles_tags=driver.find_elements_by_xpath('//a[@class=\"title fw500 ellipsis\"]')\n",
    "titles_tags"
   ]
  },
  {
   "cell_type": "code",
   "execution_count": 56,
   "id": "7c9339d5",
   "metadata": {},
   "outputs": [
    {
     "data": {
      "text/plain": [
       "['Business Data Analyst - Google Data Studio & SQL',\n",
       " 'Business Data Analyst',\n",
       " 'Business Data Analyst',\n",
       " 'Executive Data Analyst',\n",
       " 'Senior Data Analyst',\n",
       " 'Data Analyst - I/II',\n",
       " 'Data Analyst',\n",
       " 'Hiring For the role - DATA Analyst (Flipkart)',\n",
       " 'Hiring For the role - DATA Analyst (Flipkart)',\n",
       " 'Business Data Analyst - MIS & Reporting',\n",
       " 'Senior Data Analyst',\n",
       " 'Senior Data Analyst',\n",
       " 'Senior Associate, Data Hierarchy Analyst( MDM)',\n",
       " 'Data Analyst - Python/SQL',\n",
       " 'Data Analyst - EdTech',\n",
       " 'Lead , Data Analyst',\n",
       " 'Product Data Analyst',\n",
       " 'Data Analyst/Sr.Analyst - Bangalore',\n",
       " 'SENIOR MARKETING DATA ANALYST',\n",
       " 'MIS / Data Analyst']"
      ]
     },
     "execution_count": 56,
     "metadata": {},
     "output_type": "execute_result"
    }
   ],
   "source": [
    "job_titles=[]\n",
    "for i in titles_tags:\n",
    "    job_titles.append(i.text)\n",
    "job_titles"
   ]
  },
  {
   "cell_type": "code",
   "execution_count": 57,
   "id": "703f203a",
   "metadata": {},
   "outputs": [
    {
     "data": {
      "text/plain": [
       "20"
      ]
     },
     "execution_count": 57,
     "metadata": {},
     "output_type": "execute_result"
    }
   ],
   "source": [
    "len(job_titles)"
   ]
  },
  {
   "cell_type": "code",
   "execution_count": 62,
   "id": "60eff780",
   "metadata": {},
   "outputs": [
    {
     "data": {
      "text/plain": [
       "[<selenium.webdriver.remote.webelement.WebElement (session=\"dcb4df54ab12fae6270102efc1a33995\", element=\"22d2b71d-90b3-472a-9ea7-09e3696a19a7\")>,\n",
       " <selenium.webdriver.remote.webelement.WebElement (session=\"dcb4df54ab12fae6270102efc1a33995\", element=\"41a122d1-20c4-49e4-8198-60673ee0b622\")>,\n",
       " <selenium.webdriver.remote.webelement.WebElement (session=\"dcb4df54ab12fae6270102efc1a33995\", element=\"3c9b8493-1235-4d1b-b761-35aa31313a2d\")>,\n",
       " <selenium.webdriver.remote.webelement.WebElement (session=\"dcb4df54ab12fae6270102efc1a33995\", element=\"0a1abb19-0357-42f2-94c1-6b3b8a593c46\")>,\n",
       " <selenium.webdriver.remote.webelement.WebElement (session=\"dcb4df54ab12fae6270102efc1a33995\", element=\"baab7aa9-a56e-43ae-b579-ce81a2d92493\")>,\n",
       " <selenium.webdriver.remote.webelement.WebElement (session=\"dcb4df54ab12fae6270102efc1a33995\", element=\"7820faeb-8f25-4387-8259-46a2a90d0ba9\")>,\n",
       " <selenium.webdriver.remote.webelement.WebElement (session=\"dcb4df54ab12fae6270102efc1a33995\", element=\"47b6a5c6-6fb8-4fe3-b1a1-5d92e3c97185\")>,\n",
       " <selenium.webdriver.remote.webelement.WebElement (session=\"dcb4df54ab12fae6270102efc1a33995\", element=\"f5f62972-59b1-4e43-bced-6ca83a0237f6\")>,\n",
       " <selenium.webdriver.remote.webelement.WebElement (session=\"dcb4df54ab12fae6270102efc1a33995\", element=\"ba1c42ff-d4c4-47b0-82c1-4bb002d5be54\")>,\n",
       " <selenium.webdriver.remote.webelement.WebElement (session=\"dcb4df54ab12fae6270102efc1a33995\", element=\"20924042-32b6-46f4-ac6b-2aa5bd5af8ec\")>,\n",
       " <selenium.webdriver.remote.webelement.WebElement (session=\"dcb4df54ab12fae6270102efc1a33995\", element=\"e5a5ebaa-5ea3-41c2-9dd1-5029fee39fc4\")>,\n",
       " <selenium.webdriver.remote.webelement.WebElement (session=\"dcb4df54ab12fae6270102efc1a33995\", element=\"d2cf2314-3203-4702-b7a5-ee8b2f9165b3\")>,\n",
       " <selenium.webdriver.remote.webelement.WebElement (session=\"dcb4df54ab12fae6270102efc1a33995\", element=\"32643aba-b979-418f-a6dd-5045ed4aa493\")>,\n",
       " <selenium.webdriver.remote.webelement.WebElement (session=\"dcb4df54ab12fae6270102efc1a33995\", element=\"a1f49b4e-2823-4931-8879-cdd3975817d7\")>,\n",
       " <selenium.webdriver.remote.webelement.WebElement (session=\"dcb4df54ab12fae6270102efc1a33995\", element=\"f1157087-8e47-4b40-aa6c-31c1878e43d9\")>,\n",
       " <selenium.webdriver.remote.webelement.WebElement (session=\"dcb4df54ab12fae6270102efc1a33995\", element=\"550f679a-102b-4607-8401-cdc272056ecc\")>,\n",
       " <selenium.webdriver.remote.webelement.WebElement (session=\"dcb4df54ab12fae6270102efc1a33995\", element=\"6f4830f2-96b6-4a00-85f0-55cd22da156b\")>,\n",
       " <selenium.webdriver.remote.webelement.WebElement (session=\"dcb4df54ab12fae6270102efc1a33995\", element=\"12c3a145-a05b-406f-9a6e-994c2290f18a\")>,\n",
       " <selenium.webdriver.remote.webelement.WebElement (session=\"dcb4df54ab12fae6270102efc1a33995\", element=\"f2d444d3-2dda-489b-ac5d-68729ad425f1\")>,\n",
       " <selenium.webdriver.remote.webelement.WebElement (session=\"dcb4df54ab12fae6270102efc1a33995\", element=\"f62e9cf0-d881-4636-94d2-e00f3e5a3687\")>]"
      ]
     },
     "execution_count": 62,
     "metadata": {},
     "output_type": "execute_result"
    }
   ],
   "source": [
    "company_tags=driver.find_elements_by_xpath('//a[@class=\"subTitle ellipsis fleft\"]')\n",
    "company_tags"
   ]
  },
  {
   "cell_type": "code",
   "execution_count": 63,
   "id": "5e9e0113",
   "metadata": {},
   "outputs": [
    {
     "data": {
      "text/plain": [
       "['AVE-Promagne',\n",
       " 'Trigent Software',\n",
       " 'Trigent Software',\n",
       " 'Gokaldas Exports Ltd',\n",
       " 'Virtusa Consulting Services Pvt Ltd',\n",
       " 'Philips India Limited',\n",
       " 'IBM India Pvt. Limited',\n",
       " 'Allegis Services India Pvt. Ltd.',\n",
       " 'Allegis Services India Pvt. Ltd.',\n",
       " 'INTERTRUST GROUP',\n",
       " 'Flipkart',\n",
       " 'Flipkart',\n",
       " 'GENPACT India Private Limited',\n",
       " 'Affine',\n",
       " 'TalentStack',\n",
       " 'Near Pte. Ltd.',\n",
       " 'Trifacta',\n",
       " 'Cocentrus',\n",
       " 'McAfee Software (India) Pvt. Ltd',\n",
       " 'MediBuddy']"
      ]
     },
     "execution_count": 63,
     "metadata": {},
     "output_type": "execute_result"
    }
   ],
   "source": [
    "company_name=[]\n",
    "for i in company_tags:\n",
    "    company_name.append(i.text)\n",
    "company_name"
   ]
  },
  {
   "cell_type": "code",
   "execution_count": 65,
   "id": "20a39fb5",
   "metadata": {},
   "outputs": [
    {
     "data": {
      "text/plain": [
       "20"
      ]
     },
     "execution_count": 65,
     "metadata": {},
     "output_type": "execute_result"
    }
   ],
   "source": [
    "len(company_name)"
   ]
  },
  {
   "cell_type": "code",
   "execution_count": 66,
   "id": "38f5019b",
   "metadata": {},
   "outputs": [
    {
     "data": {
      "text/plain": [
       "[<selenium.webdriver.remote.webelement.WebElement (session=\"dcb4df54ab12fae6270102efc1a33995\", element=\"39c33722-a7f9-40c6-bd68-9b2a7ed2d2cd\")>,\n",
       " <selenium.webdriver.remote.webelement.WebElement (session=\"dcb4df54ab12fae6270102efc1a33995\", element=\"264355b9-ab2d-4ff0-84a8-4182b6234be7\")>,\n",
       " <selenium.webdriver.remote.webelement.WebElement (session=\"dcb4df54ab12fae6270102efc1a33995\", element=\"a9a2a76c-579e-4a94-8df2-e7b8197e4ab5\")>,\n",
       " <selenium.webdriver.remote.webelement.WebElement (session=\"dcb4df54ab12fae6270102efc1a33995\", element=\"851efedf-f315-4b25-a54a-e0529e760211\")>,\n",
       " <selenium.webdriver.remote.webelement.WebElement (session=\"dcb4df54ab12fae6270102efc1a33995\", element=\"ee449117-faf0-49c3-86bc-ca72ff9238b9\")>,\n",
       " <selenium.webdriver.remote.webelement.WebElement (session=\"dcb4df54ab12fae6270102efc1a33995\", element=\"d5260bb3-b0a6-4124-8bad-3096ff9b3bb3\")>,\n",
       " <selenium.webdriver.remote.webelement.WebElement (session=\"dcb4df54ab12fae6270102efc1a33995\", element=\"4b616dc9-b1ba-41e8-9b6e-898d818e81a2\")>,\n",
       " <selenium.webdriver.remote.webelement.WebElement (session=\"dcb4df54ab12fae6270102efc1a33995\", element=\"d5d72cce-8126-4589-b332-7a0ce8299776\")>,\n",
       " <selenium.webdriver.remote.webelement.WebElement (session=\"dcb4df54ab12fae6270102efc1a33995\", element=\"ae53d42d-1b75-4128-8e83-5ccd55b17de0\")>,\n",
       " <selenium.webdriver.remote.webelement.WebElement (session=\"dcb4df54ab12fae6270102efc1a33995\", element=\"943d9acd-28ac-41ca-8ea6-f3212fc4dbe5\")>,\n",
       " <selenium.webdriver.remote.webelement.WebElement (session=\"dcb4df54ab12fae6270102efc1a33995\", element=\"a6af0ed5-7b2a-4fe8-a2c8-ec67be37119f\")>,\n",
       " <selenium.webdriver.remote.webelement.WebElement (session=\"dcb4df54ab12fae6270102efc1a33995\", element=\"71cc9056-21b9-43ce-9c65-9b4987f2861d\")>,\n",
       " <selenium.webdriver.remote.webelement.WebElement (session=\"dcb4df54ab12fae6270102efc1a33995\", element=\"c812851e-0c16-42f7-98d1-be92609cd7ed\")>,\n",
       " <selenium.webdriver.remote.webelement.WebElement (session=\"dcb4df54ab12fae6270102efc1a33995\", element=\"bb8f0867-9cfa-46fc-a0ed-4aeb1123c242\")>,\n",
       " <selenium.webdriver.remote.webelement.WebElement (session=\"dcb4df54ab12fae6270102efc1a33995\", element=\"0ebbe443-e732-4141-9936-1cb64f7568f1\")>,\n",
       " <selenium.webdriver.remote.webelement.WebElement (session=\"dcb4df54ab12fae6270102efc1a33995\", element=\"d87a32d8-0487-4041-9362-9535672b9b77\")>,\n",
       " <selenium.webdriver.remote.webelement.WebElement (session=\"dcb4df54ab12fae6270102efc1a33995\", element=\"adaf8431-d8d9-485a-880d-4533c71d1426\")>,\n",
       " <selenium.webdriver.remote.webelement.WebElement (session=\"dcb4df54ab12fae6270102efc1a33995\", element=\"931d5159-ca34-462a-94c5-e93bc8a14cb4\")>,\n",
       " <selenium.webdriver.remote.webelement.WebElement (session=\"dcb4df54ab12fae6270102efc1a33995\", element=\"8fb0fdc2-9ace-42cd-a90f-f08ed772ad92\")>,\n",
       " <selenium.webdriver.remote.webelement.WebElement (session=\"dcb4df54ab12fae6270102efc1a33995\", element=\"69eed8c8-1ea2-44db-b7eb-a1e9718d3900\")>]"
      ]
     },
     "execution_count": 66,
     "metadata": {},
     "output_type": "execute_result"
    }
   ],
   "source": [
    "experience_tags=driver.find_elements_by_xpath('//li[@class=\"fleft grey-text br2 placeHolderLi experience\"]')\n",
    "experience_tags"
   ]
  },
  {
   "cell_type": "code",
   "execution_count": 67,
   "id": "d30ac499",
   "metadata": {},
   "outputs": [
    {
     "data": {
      "text/plain": [
       "['3-8 Yrs',\n",
       " '5-10 Yrs',\n",
       " '5-10 Yrs',\n",
       " '0-3 Yrs',\n",
       " '8-12 Yrs',\n",
       " '3-6 Yrs',\n",
       " '1-4 Yrs',\n",
       " '1-6 Yrs',\n",
       " '1-6 Yrs',\n",
       " '3-8 Yrs',\n",
       " '2-3 Yrs',\n",
       " '3-8 Yrs',\n",
       " '1-3 Yrs',\n",
       " '3-5 Yrs',\n",
       " '2-6 Yrs',\n",
       " '6-11 Yrs',\n",
       " '2-5 Yrs',\n",
       " '5-10 Yrs',\n",
       " '3-7 Yrs',\n",
       " '1-3 Yrs']"
      ]
     },
     "execution_count": 67,
     "metadata": {},
     "output_type": "execute_result"
    }
   ],
   "source": [
    "experience_list=[]\n",
    "for i in experience_tags:\n",
    "    experience_list.append(i.text)\n",
    "experience_list"
   ]
  },
  {
   "cell_type": "code",
   "execution_count": 68,
   "id": "c89c4941",
   "metadata": {},
   "outputs": [
    {
     "data": {
      "text/plain": [
       "20"
      ]
     },
     "execution_count": 68,
     "metadata": {},
     "output_type": "execute_result"
    }
   ],
   "source": [
    "len(experience_list)"
   ]
  },
  {
   "cell_type": "code",
   "execution_count": 72,
   "id": "203d0294",
   "metadata": {},
   "outputs": [
    {
     "data": {
      "text/plain": [
       "[<selenium.webdriver.remote.webelement.WebElement (session=\"dcb4df54ab12fae6270102efc1a33995\", element=\"599aea95-b80b-4a5f-aa40-d7e78f8947e8\")>,\n",
       " <selenium.webdriver.remote.webelement.WebElement (session=\"dcb4df54ab12fae6270102efc1a33995\", element=\"7b9d4084-3dbb-4932-9413-27291aa5f8d0\")>,\n",
       " <selenium.webdriver.remote.webelement.WebElement (session=\"dcb4df54ab12fae6270102efc1a33995\", element=\"f2e05a0f-e113-440a-a027-3365e7c89057\")>,\n",
       " <selenium.webdriver.remote.webelement.WebElement (session=\"dcb4df54ab12fae6270102efc1a33995\", element=\"5fb7ca6d-b029-415a-a7ef-a67e021a2bd1\")>,\n",
       " <selenium.webdriver.remote.webelement.WebElement (session=\"dcb4df54ab12fae6270102efc1a33995\", element=\"1aa5d5ed-bc79-4fee-bf92-4f9df4d70cf1\")>,\n",
       " <selenium.webdriver.remote.webelement.WebElement (session=\"dcb4df54ab12fae6270102efc1a33995\", element=\"9f802200-42c2-406b-8203-a9a28afac44b\")>,\n",
       " <selenium.webdriver.remote.webelement.WebElement (session=\"dcb4df54ab12fae6270102efc1a33995\", element=\"e169462b-d1fb-4587-9a7b-c7375a07aa09\")>,\n",
       " <selenium.webdriver.remote.webelement.WebElement (session=\"dcb4df54ab12fae6270102efc1a33995\", element=\"949383ed-bcc6-42f7-9635-c683fb82f6ae\")>,\n",
       " <selenium.webdriver.remote.webelement.WebElement (session=\"dcb4df54ab12fae6270102efc1a33995\", element=\"fffe8a63-bafd-4972-9204-34fb149d0f51\")>,\n",
       " <selenium.webdriver.remote.webelement.WebElement (session=\"dcb4df54ab12fae6270102efc1a33995\", element=\"2e8cad70-9216-4fba-b828-47204518ddfb\")>,\n",
       " <selenium.webdriver.remote.webelement.WebElement (session=\"dcb4df54ab12fae6270102efc1a33995\", element=\"d0be6c56-3412-4443-9bf2-7b7264e23d31\")>,\n",
       " <selenium.webdriver.remote.webelement.WebElement (session=\"dcb4df54ab12fae6270102efc1a33995\", element=\"c0e14624-a577-49d5-88ed-cd7a9534727f\")>,\n",
       " <selenium.webdriver.remote.webelement.WebElement (session=\"dcb4df54ab12fae6270102efc1a33995\", element=\"ac2cf02f-5877-418d-92e3-58455b4933ea\")>,\n",
       " <selenium.webdriver.remote.webelement.WebElement (session=\"dcb4df54ab12fae6270102efc1a33995\", element=\"f6df5a1e-7af2-4515-b432-184f396b08a5\")>,\n",
       " <selenium.webdriver.remote.webelement.WebElement (session=\"dcb4df54ab12fae6270102efc1a33995\", element=\"47ac21d3-bbec-4386-beb4-e805eff88950\")>,\n",
       " <selenium.webdriver.remote.webelement.WebElement (session=\"dcb4df54ab12fae6270102efc1a33995\", element=\"5ad4da1b-50e9-453a-981a-82a2785f321c\")>,\n",
       " <selenium.webdriver.remote.webelement.WebElement (session=\"dcb4df54ab12fae6270102efc1a33995\", element=\"fd8e7ceb-e888-4991-a318-9994f35fcacf\")>,\n",
       " <selenium.webdriver.remote.webelement.WebElement (session=\"dcb4df54ab12fae6270102efc1a33995\", element=\"fcba05c3-52e6-4291-aa89-83cb6d51f0bd\")>,\n",
       " <selenium.webdriver.remote.webelement.WebElement (session=\"dcb4df54ab12fae6270102efc1a33995\", element=\"63c83744-f395-4739-8bae-5cf8aa03f594\")>,\n",
       " <selenium.webdriver.remote.webelement.WebElement (session=\"dcb4df54ab12fae6270102efc1a33995\", element=\"7abc463c-3d6d-4bc3-bf08-40956adb853a\")>]"
      ]
     },
     "execution_count": 72,
     "metadata": {},
     "output_type": "execute_result"
    }
   ],
   "source": [
    "location_tags=driver.find_elements_by_xpath('//li[@class=\"fleft grey-text br2 placeHolderLi location\"]')\n",
    "location_tags"
   ]
  },
  {
   "cell_type": "code",
   "execution_count": 73,
   "id": "e5046a2c",
   "metadata": {},
   "outputs": [
    {
     "data": {
      "text/plain": [
       "['Bangalore/Bengaluru',\n",
       " 'Bangalore/Bengaluru',\n",
       " 'Bangalore/Bengaluru',\n",
       " 'Bangalore/Bengaluru',\n",
       " 'Hyderabad/Secunderabad, Pune, Gurgaon/Gurugram, Chennai, Bangalore/Bengaluru, Mumbai (All Areas)\\n(WFH during Covid)',\n",
       " 'Bangalore/Bengaluru',\n",
       " 'Bengaluru/Bangalore',\n",
       " 'Bangalore/Bengaluru(Bellandur)\\n(WFH during Covid)',\n",
       " 'Bangalore/Bengaluru(Bellandur)\\n(WFH during Covid)',\n",
       " 'Mumbai, Bangalore/Bengaluru',\n",
       " 'Bangalore/Bengaluru',\n",
       " 'Bangalore/Bengaluru',\n",
       " 'Bangalore/Bengaluru',\n",
       " 'Bangalore/Bengaluru',\n",
       " 'Bangalore/Bengaluru',\n",
       " 'Bangalore/Bengaluru',\n",
       " 'Bangalore/Bengaluru',\n",
       " 'Bangalore/Bengaluru',\n",
       " 'Bangalore/Bengaluru',\n",
       " 'Bangalore/Bengaluru']"
      ]
     },
     "execution_count": 73,
     "metadata": {},
     "output_type": "execute_result"
    }
   ],
   "source": [
    "location_list=[]\n",
    "for i in location_tags:\n",
    "    location_list.append(i.text)\n",
    "location_list"
   ]
  },
  {
   "cell_type": "code",
   "execution_count": 74,
   "id": "3989d3ff",
   "metadata": {},
   "outputs": [
    {
     "data": {
      "text/plain": [
       "20"
      ]
     },
     "execution_count": 74,
     "metadata": {},
     "output_type": "execute_result"
    }
   ],
   "source": [
    "len(location_list)"
   ]
  },
  {
   "cell_type": "code",
   "execution_count": 75,
   "id": "a456e3db",
   "metadata": {},
   "outputs": [
    {
     "data": {
      "text/html": [
       "<div>\n",
       "<style scoped>\n",
       "    .dataframe tbody tr th:only-of-type {\n",
       "        vertical-align: middle;\n",
       "    }\n",
       "\n",
       "    .dataframe tbody tr th {\n",
       "        vertical-align: top;\n",
       "    }\n",
       "\n",
       "    .dataframe thead th {\n",
       "        text-align: right;\n",
       "    }\n",
       "</style>\n",
       "<table border=\"1\" class=\"dataframe\">\n",
       "  <thead>\n",
       "    <tr style=\"text-align: right;\">\n",
       "      <th></th>\n",
       "      <th>job_titles</th>\n",
       "      <th>company_name</th>\n",
       "      <th>experience_required</th>\n",
       "      <th>location</th>\n",
       "    </tr>\n",
       "  </thead>\n",
       "  <tbody>\n",
       "    <tr>\n",
       "      <th>0</th>\n",
       "      <td>Business Data Analyst - Google Data Studio &amp; SQL</td>\n",
       "      <td>AVE-Promagne</td>\n",
       "      <td>3-8 Yrs</td>\n",
       "      <td>Bangalore/Bengaluru</td>\n",
       "    </tr>\n",
       "    <tr>\n",
       "      <th>1</th>\n",
       "      <td>Business Data Analyst</td>\n",
       "      <td>Trigent Software</td>\n",
       "      <td>5-10 Yrs</td>\n",
       "      <td>Bangalore/Bengaluru</td>\n",
       "    </tr>\n",
       "    <tr>\n",
       "      <th>2</th>\n",
       "      <td>Business Data Analyst</td>\n",
       "      <td>Trigent Software</td>\n",
       "      <td>5-10 Yrs</td>\n",
       "      <td>Bangalore/Bengaluru</td>\n",
       "    </tr>\n",
       "    <tr>\n",
       "      <th>3</th>\n",
       "      <td>Executive Data Analyst</td>\n",
       "      <td>Gokaldas Exports Ltd</td>\n",
       "      <td>0-3 Yrs</td>\n",
       "      <td>Bangalore/Bengaluru</td>\n",
       "    </tr>\n",
       "    <tr>\n",
       "      <th>4</th>\n",
       "      <td>Senior Data Analyst</td>\n",
       "      <td>Virtusa Consulting Services Pvt Ltd</td>\n",
       "      <td>8-12 Yrs</td>\n",
       "      <td>Hyderabad/Secunderabad, Pune, Gurgaon/Gurugram...</td>\n",
       "    </tr>\n",
       "    <tr>\n",
       "      <th>5</th>\n",
       "      <td>Data Analyst - I/II</td>\n",
       "      <td>Philips India Limited</td>\n",
       "      <td>3-6 Yrs</td>\n",
       "      <td>Bangalore/Bengaluru</td>\n",
       "    </tr>\n",
       "    <tr>\n",
       "      <th>6</th>\n",
       "      <td>Data Analyst</td>\n",
       "      <td>IBM India Pvt. Limited</td>\n",
       "      <td>1-4 Yrs</td>\n",
       "      <td>Bengaluru/Bangalore</td>\n",
       "    </tr>\n",
       "    <tr>\n",
       "      <th>7</th>\n",
       "      <td>Hiring For the role - DATA Analyst (Flipkart)</td>\n",
       "      <td>Allegis Services India Pvt. Ltd.</td>\n",
       "      <td>1-6 Yrs</td>\n",
       "      <td>Bangalore/Bengaluru(Bellandur)\\n(WFH during Co...</td>\n",
       "    </tr>\n",
       "    <tr>\n",
       "      <th>8</th>\n",
       "      <td>Hiring For the role - DATA Analyst (Flipkart)</td>\n",
       "      <td>Allegis Services India Pvt. Ltd.</td>\n",
       "      <td>1-6 Yrs</td>\n",
       "      <td>Bangalore/Bengaluru(Bellandur)\\n(WFH during Co...</td>\n",
       "    </tr>\n",
       "    <tr>\n",
       "      <th>9</th>\n",
       "      <td>Business Data Analyst - MIS &amp; Reporting</td>\n",
       "      <td>INTERTRUST GROUP</td>\n",
       "      <td>3-8 Yrs</td>\n",
       "      <td>Mumbai, Bangalore/Bengaluru</td>\n",
       "    </tr>\n",
       "  </tbody>\n",
       "</table>\n",
       "</div>"
      ],
      "text/plain": [
       "                                         job_titles  \\\n",
       "0  Business Data Analyst - Google Data Studio & SQL   \n",
       "1                             Business Data Analyst   \n",
       "2                             Business Data Analyst   \n",
       "3                            Executive Data Analyst   \n",
       "4                               Senior Data Analyst   \n",
       "5                               Data Analyst - I/II   \n",
       "6                                      Data Analyst   \n",
       "7     Hiring For the role - DATA Analyst (Flipkart)   \n",
       "8     Hiring For the role - DATA Analyst (Flipkart)   \n",
       "9           Business Data Analyst - MIS & Reporting   \n",
       "\n",
       "                          company_name experience_required  \\\n",
       "0                         AVE-Promagne             3-8 Yrs   \n",
       "1                     Trigent Software            5-10 Yrs   \n",
       "2                     Trigent Software            5-10 Yrs   \n",
       "3                 Gokaldas Exports Ltd             0-3 Yrs   \n",
       "4  Virtusa Consulting Services Pvt Ltd            8-12 Yrs   \n",
       "5                Philips India Limited             3-6 Yrs   \n",
       "6               IBM India Pvt. Limited             1-4 Yrs   \n",
       "7     Allegis Services India Pvt. Ltd.             1-6 Yrs   \n",
       "8     Allegis Services India Pvt. Ltd.             1-6 Yrs   \n",
       "9                     INTERTRUST GROUP             3-8 Yrs   \n",
       "\n",
       "                                            location  \n",
       "0                                Bangalore/Bengaluru  \n",
       "1                                Bangalore/Bengaluru  \n",
       "2                                Bangalore/Bengaluru  \n",
       "3                                Bangalore/Bengaluru  \n",
       "4  Hyderabad/Secunderabad, Pune, Gurgaon/Gurugram...  \n",
       "5                                Bangalore/Bengaluru  \n",
       "6                                Bengaluru/Bangalore  \n",
       "7  Bangalore/Bengaluru(Bellandur)\\n(WFH during Co...  \n",
       "8  Bangalore/Bengaluru(Bellandur)\\n(WFH during Co...  \n",
       "9                        Mumbai, Bangalore/Bengaluru  "
      ]
     },
     "execution_count": 75,
     "metadata": {},
     "output_type": "execute_result"
    }
   ],
   "source": [
    "jobs=pd.DataFrame({})\n",
    "jobs[\"job_titles\"]=job_titles[:10]\n",
    "jobs[\"company_name\"]=company_name[:10]\n",
    "jobs[\"experience_required\"]=experience_list[:10]\n",
    "jobs[\"location\"]=location_list[:10]\n",
    "jobs"
   ]
  },
  {
   "cell_type": "markdown",
   "id": "2bdf7e50",
   "metadata": {},
   "source": [
    "Q2: Write a python program to scrape data for “Data Scientist” Job position in \n",
    "“Bangalore” location. You have to scrape the job-title, job-location,\n",
    "company_name, full job-description. You have to scrape first 10 jobs data.\n"
   ]
  },
  {
   "cell_type": "markdown",
   "id": "59d7c6cb",
   "metadata": {},
   "source": [
    "# This task will be done in following steps:\n",
    "    1. first get the webpage https://www.naukri.com/\n",
    "    2. Enter “Data Scientist” in “Skill,Designations,Companies” field and enter “Bangalore” in “enter the location” field.\n",
    "    3. Then click the search button.\n",
    "    4. Then scrape the data for the first 10 jobs results you get.\n",
    "    5. Finally create a dataframe of the scraped data.\n",
    "    Note- 1. All of the above steps have to be done in code. No step is to be done manually.\n",
    " \n"
   ]
  },
  {
   "cell_type": "code",
   "execution_count": 296,
   "id": "f4905f8c",
   "metadata": {},
   "outputs": [],
   "source": [
    "#lets first connect to the web driver\n",
    "driver=webdriver.Edge(\"msedgedriver.exe\")"
   ]
  },
  {
   "cell_type": "code",
   "execution_count": 297,
   "id": "1893212c",
   "metadata": {},
   "outputs": [],
   "source": [
    "url='https://www.naukri.com/'\n",
    "driver.get(url)"
   ]
  },
  {
   "cell_type": "code",
   "execution_count": 298,
   "id": "bb66e0f0",
   "metadata": {},
   "outputs": [
    {
     "data": {
      "text/plain": [
       "<selenium.webdriver.remote.webelement.WebElement (session=\"da2ae711b701b163b4f5917bc450409f\", element=\"00299de1-511b-4b89-b623-acea94b01836\")>"
      ]
     },
     "execution_count": 298,
     "metadata": {},
     "output_type": "execute_result"
    }
   ],
   "source": [
    "search_job=driver.find_element_by_xpath('//input[@class=\"sugInp\"]')\n",
    "search_job"
   ]
  },
  {
   "cell_type": "code",
   "execution_count": 299,
   "id": "f890c4e4",
   "metadata": {},
   "outputs": [],
   "source": [
    "#write on search bar\n",
    "search_job.send_keys(\"Data Scientist\")"
   ]
  },
  {
   "cell_type": "code",
   "execution_count": 300,
   "id": "ab625ef0",
   "metadata": {},
   "outputs": [],
   "source": [
    "#finding the element for job location\n",
    "search_loc=driver.find_element_by_id(\"qsb-location-sugg\")\n",
    "search_loc.send_keys(\"Bangalore\")"
   ]
  },
  {
   "cell_type": "code",
   "execution_count": 301,
   "id": "c727ef7e",
   "metadata": {},
   "outputs": [],
   "source": [
    "search_btn=driver.find_element_by_xpath('//button[@class=\"btn\"]')\n",
    "search_btn.click()"
   ]
  },
  {
   "cell_type": "code",
   "execution_count": 308,
   "id": "e6163ea2",
   "metadata": {},
   "outputs": [
    {
     "data": {
      "text/plain": [
       "[]"
      ]
     },
     "execution_count": 308,
     "metadata": {},
     "output_type": "execute_result"
    }
   ],
   "source": [
    "#so lets extaract all the tags having the job titles\n",
    "titles_tags=driver.find_elements_by_xpath('//a[@class=\"title fw500 ellipsis\"]')\n",
    "titles_tags"
   ]
  },
  {
   "cell_type": "code",
   "execution_count": 37,
   "id": "e5d2381c",
   "metadata": {},
   "outputs": [
    {
     "data": {
      "text/plain": [
       "['Lead Data Scientist BFSI',\n",
       " 'Data Scientist: Advanced Analytics',\n",
       " 'Senior Data Scientist',\n",
       " 'SENIOR DATA SCIENTIST',\n",
       " 'Hiring For Data Scientist / Statistical Analyst',\n",
       " 'Associate Data Scientist',\n",
       " 'Data Scientist',\n",
       " 'Data Scientist',\n",
       " 'Requirement For Data Scientist - Mumbai & Bangalore',\n",
       " 'Data Scientist',\n",
       " 'Data Scientist',\n",
       " 'Data Scientist',\n",
       " 'Cognitive Data Scientist',\n",
       " 'Data Scientist + Python + Big DATA',\n",
       " 'Senior Data Scientist, Payments compliance',\n",
       " 'Senior Data Scientist',\n",
       " 'Sr Data Scientist',\n",
       " 'Sr Data Scientist',\n",
       " 'Senior Data Scientist',\n",
       " 'Data Scientist (Python & SQL)']"
      ]
     },
     "execution_count": 37,
     "metadata": {},
     "output_type": "execute_result"
    }
   ],
   "source": [
    "job_titles=[]\n",
    "for i in titles_tags:\n",
    "    job_titles.append(i.text)\n",
    "job_titles"
   ]
  },
  {
   "cell_type": "code",
   "execution_count": 38,
   "id": "b7916fa1",
   "metadata": {},
   "outputs": [
    {
     "data": {
      "text/plain": [
       "20"
      ]
     },
     "execution_count": 38,
     "metadata": {},
     "output_type": "execute_result"
    }
   ],
   "source": [
    "len(job_titles)"
   ]
  },
  {
   "cell_type": "code",
   "execution_count": 39,
   "id": "0906023c",
   "metadata": {},
   "outputs": [
    {
     "data": {
      "text/plain": [
       "[<selenium.webdriver.remote.webelement.WebElement (session=\"89dc7170aca31ae9ec6242e676bc4ccd\", element=\"2a806f4d-3c5b-4619-866d-51051f8ca796\")>,\n",
       " <selenium.webdriver.remote.webelement.WebElement (session=\"89dc7170aca31ae9ec6242e676bc4ccd\", element=\"ec10bf4a-2f87-41b2-9731-3713bf6033f4\")>,\n",
       " <selenium.webdriver.remote.webelement.WebElement (session=\"89dc7170aca31ae9ec6242e676bc4ccd\", element=\"1d4296cd-6315-4d05-87b8-38a05cdf9fab\")>,\n",
       " <selenium.webdriver.remote.webelement.WebElement (session=\"89dc7170aca31ae9ec6242e676bc4ccd\", element=\"f7ddd7be-2913-4577-a346-4de007a960b7\")>,\n",
       " <selenium.webdriver.remote.webelement.WebElement (session=\"89dc7170aca31ae9ec6242e676bc4ccd\", element=\"7732ba92-4aba-4ce5-9bfb-9ee351cb3e9f\")>,\n",
       " <selenium.webdriver.remote.webelement.WebElement (session=\"89dc7170aca31ae9ec6242e676bc4ccd\", element=\"dc8d0ccd-bab0-475a-ab37-7bc5a3a684f2\")>,\n",
       " <selenium.webdriver.remote.webelement.WebElement (session=\"89dc7170aca31ae9ec6242e676bc4ccd\", element=\"7b518c54-0f38-454a-8102-7b9d7be1ce54\")>,\n",
       " <selenium.webdriver.remote.webelement.WebElement (session=\"89dc7170aca31ae9ec6242e676bc4ccd\", element=\"e1b5c9d6-8778-4e75-b856-429c7fdc6fe7\")>,\n",
       " <selenium.webdriver.remote.webelement.WebElement (session=\"89dc7170aca31ae9ec6242e676bc4ccd\", element=\"c416c532-9586-4793-add6-0d80849dfca6\")>,\n",
       " <selenium.webdriver.remote.webelement.WebElement (session=\"89dc7170aca31ae9ec6242e676bc4ccd\", element=\"83afc20b-f200-44b2-9d4c-28c9caac1812\")>,\n",
       " <selenium.webdriver.remote.webelement.WebElement (session=\"89dc7170aca31ae9ec6242e676bc4ccd\", element=\"2422292f-4b05-444c-98ea-e75dc687a743\")>,\n",
       " <selenium.webdriver.remote.webelement.WebElement (session=\"89dc7170aca31ae9ec6242e676bc4ccd\", element=\"1d8bee36-703f-4840-821b-076ae8cade81\")>,\n",
       " <selenium.webdriver.remote.webelement.WebElement (session=\"89dc7170aca31ae9ec6242e676bc4ccd\", element=\"538c6d14-a655-400e-8cdc-963a03bcf993\")>,\n",
       " <selenium.webdriver.remote.webelement.WebElement (session=\"89dc7170aca31ae9ec6242e676bc4ccd\", element=\"4354867a-38cd-4a61-ac48-e5e08178b272\")>,\n",
       " <selenium.webdriver.remote.webelement.WebElement (session=\"89dc7170aca31ae9ec6242e676bc4ccd\", element=\"8aeef4f8-ac40-4ea5-a9e3-e1ae2989b3ee\")>,\n",
       " <selenium.webdriver.remote.webelement.WebElement (session=\"89dc7170aca31ae9ec6242e676bc4ccd\", element=\"3b0a3598-c31c-4434-b8f0-76dc9d3e7cdf\")>,\n",
       " <selenium.webdriver.remote.webelement.WebElement (session=\"89dc7170aca31ae9ec6242e676bc4ccd\", element=\"bfef244f-b3da-4dc5-8ce9-57d56a479c9e\")>,\n",
       " <selenium.webdriver.remote.webelement.WebElement (session=\"89dc7170aca31ae9ec6242e676bc4ccd\", element=\"e90fdeab-d439-47a6-8389-731e71465b42\")>,\n",
       " <selenium.webdriver.remote.webelement.WebElement (session=\"89dc7170aca31ae9ec6242e676bc4ccd\", element=\"1958f787-24f0-453e-a888-da18855d0007\")>,\n",
       " <selenium.webdriver.remote.webelement.WebElement (session=\"89dc7170aca31ae9ec6242e676bc4ccd\", element=\"d9ec1d38-9a79-47c6-b401-a2e918bbbf2d\")>]"
      ]
     },
     "execution_count": 39,
     "metadata": {},
     "output_type": "execute_result"
    }
   ],
   "source": [
    "company_tags=driver.find_elements_by_xpath('//a[@class=\"subTitle ellipsis fleft\"]')\n",
    "company_tags"
   ]
  },
  {
   "cell_type": "code",
   "execution_count": 40,
   "id": "ffea7f49",
   "metadata": {},
   "outputs": [
    {
     "data": {
      "text/plain": [
       "['IBM India Pvt. Limited',\n",
       " 'IBM India Pvt. Limited',\n",
       " 'Airbnb',\n",
       " 'Happiest Minds Technologies Pvt.Ltd',\n",
       " 'ManpowerGroup Services India Private Limited',\n",
       " 'Philips India Limited',\n",
       " 'NeenOpal Intelligent Solutions Private Limited',\n",
       " 'PRESCIENCE DECISION SOLUTIONS PRIVATE LIMITED',\n",
       " 'CRISIL LIMITED',\n",
       " 'ELPIS IT SOLUTIONS PVT LTD',\n",
       " 'ELPIS IT SOLUTIONS PVT LTD',\n",
       " 'Oracle India Pvt. Ltd.',\n",
       " 'IBM India Pvt. Limited',\n",
       " 'Capgemini Technology Services India Limited',\n",
       " 'AIRBNB GLOBAL CAPABILITY CENTER PRIVATE LIMITED',\n",
       " 'ANT work',\n",
       " 'IBM India Pvt. Limited',\n",
       " 'IBM India Pvt. Limited',\n",
       " 'Philips India Limited',\n",
       " 'AVE-Promagne']"
      ]
     },
     "execution_count": 40,
     "metadata": {},
     "output_type": "execute_result"
    }
   ],
   "source": [
    "company_name=[]\n",
    "for i in company_tags:\n",
    "    company_name.append(i.text)\n",
    "company_name"
   ]
  },
  {
   "cell_type": "code",
   "execution_count": 41,
   "id": "f8077c32",
   "metadata": {},
   "outputs": [
    {
     "data": {
      "text/plain": [
       "20"
      ]
     },
     "execution_count": 41,
     "metadata": {},
     "output_type": "execute_result"
    }
   ],
   "source": [
    "len(company_name)"
   ]
  },
  {
   "cell_type": "code",
   "execution_count": 42,
   "id": "e3a8a687",
   "metadata": {},
   "outputs": [
    {
     "data": {
      "text/plain": [
       "[<selenium.webdriver.remote.webelement.WebElement (session=\"89dc7170aca31ae9ec6242e676bc4ccd\", element=\"34ed1d74-6221-4adb-b38b-4a1b03d6b9d2\")>,\n",
       " <selenium.webdriver.remote.webelement.WebElement (session=\"89dc7170aca31ae9ec6242e676bc4ccd\", element=\"930207f6-b8ec-497b-9c06-64fa180bd944\")>,\n",
       " <selenium.webdriver.remote.webelement.WebElement (session=\"89dc7170aca31ae9ec6242e676bc4ccd\", element=\"71874e24-b7bd-4298-aaaa-aadcd48eb9dc\")>,\n",
       " <selenium.webdriver.remote.webelement.WebElement (session=\"89dc7170aca31ae9ec6242e676bc4ccd\", element=\"247838d9-b25d-48d1-b75f-6d379ea14452\")>,\n",
       " <selenium.webdriver.remote.webelement.WebElement (session=\"89dc7170aca31ae9ec6242e676bc4ccd\", element=\"134452a4-ae9e-4734-96c1-b4e30343adf8\")>,\n",
       " <selenium.webdriver.remote.webelement.WebElement (session=\"89dc7170aca31ae9ec6242e676bc4ccd\", element=\"a593d161-d9c0-4482-914f-78256b57ab24\")>,\n",
       " <selenium.webdriver.remote.webelement.WebElement (session=\"89dc7170aca31ae9ec6242e676bc4ccd\", element=\"542c2dd3-0060-4774-92b5-7283d2d877b3\")>,\n",
       " <selenium.webdriver.remote.webelement.WebElement (session=\"89dc7170aca31ae9ec6242e676bc4ccd\", element=\"64dca747-a126-42dc-ae6d-9c667d994fdd\")>,\n",
       " <selenium.webdriver.remote.webelement.WebElement (session=\"89dc7170aca31ae9ec6242e676bc4ccd\", element=\"46939999-c606-46ac-a633-997dfdbf1615\")>,\n",
       " <selenium.webdriver.remote.webelement.WebElement (session=\"89dc7170aca31ae9ec6242e676bc4ccd\", element=\"fd8036eb-34f0-4370-8bf4-ae10a19ecf61\")>,\n",
       " <selenium.webdriver.remote.webelement.WebElement (session=\"89dc7170aca31ae9ec6242e676bc4ccd\", element=\"8fe19417-0182-4a1f-a2c5-6f4e7cfcc7fe\")>,\n",
       " <selenium.webdriver.remote.webelement.WebElement (session=\"89dc7170aca31ae9ec6242e676bc4ccd\", element=\"deb5b34b-4aa4-4860-a808-08878d4e07f9\")>,\n",
       " <selenium.webdriver.remote.webelement.WebElement (session=\"89dc7170aca31ae9ec6242e676bc4ccd\", element=\"dc74985f-812a-4f33-9d36-0cdbc3d532dc\")>,\n",
       " <selenium.webdriver.remote.webelement.WebElement (session=\"89dc7170aca31ae9ec6242e676bc4ccd\", element=\"782d5940-ce2a-47db-a2bd-666a29c441ba\")>,\n",
       " <selenium.webdriver.remote.webelement.WebElement (session=\"89dc7170aca31ae9ec6242e676bc4ccd\", element=\"b38c2359-def3-4ec6-b758-9c99ab94f9fb\")>,\n",
       " <selenium.webdriver.remote.webelement.WebElement (session=\"89dc7170aca31ae9ec6242e676bc4ccd\", element=\"f15c2703-4b75-4fef-8afa-752d994e19cf\")>,\n",
       " <selenium.webdriver.remote.webelement.WebElement (session=\"89dc7170aca31ae9ec6242e676bc4ccd\", element=\"41c88f31-e908-4188-ab49-c8e3374c0966\")>,\n",
       " <selenium.webdriver.remote.webelement.WebElement (session=\"89dc7170aca31ae9ec6242e676bc4ccd\", element=\"5b58de4e-bd39-4034-aa77-bdeb39f48bdf\")>,\n",
       " <selenium.webdriver.remote.webelement.WebElement (session=\"89dc7170aca31ae9ec6242e676bc4ccd\", element=\"1495e78c-4663-492d-99de-c8c57b672b43\")>,\n",
       " <selenium.webdriver.remote.webelement.WebElement (session=\"89dc7170aca31ae9ec6242e676bc4ccd\", element=\"08523d97-7a33-454d-8b77-72af89a7b9ff\")>]"
      ]
     },
     "execution_count": 42,
     "metadata": {},
     "output_type": "execute_result"
    }
   ],
   "source": [
    "location_tags=driver.find_elements_by_xpath('//li[@class=\"fleft grey-text br2 placeHolderLi location\"]')\n",
    "location_tags"
   ]
  },
  {
   "cell_type": "code",
   "execution_count": 43,
   "id": "ffb89d92",
   "metadata": {},
   "outputs": [
    {
     "data": {
      "text/plain": [
       "['Bengaluru/Bangalore',\n",
       " 'Bengaluru/Bangalore',\n",
       " 'Bangalore/Bengaluru',\n",
       " 'Bangalore/Bengaluru',\n",
       " 'Bangalore/Bengaluru',\n",
       " 'Bangalore/Bengaluru',\n",
       " 'Bangalore/Bengaluru\\n(WFH during Covid)',\n",
       " 'Bangalore/Bengaluru\\n(WFH during Covid)',\n",
       " 'Bangalore/Bengaluru, Mumbai (All Areas)',\n",
       " 'Bangalore/Bengaluru',\n",
       " 'Bangalore/Bengaluru',\n",
       " 'Noida, Bangalore/Bengaluru',\n",
       " 'Bengaluru/Bangalore',\n",
       " 'Hyderabad/Secunderabad, Chennai, Bangalore/Bengaluru',\n",
       " 'Bangalore/Bengaluru',\n",
       " 'Bangalore/Bengaluru',\n",
       " 'Bengaluru/Bangalore',\n",
       " 'Bangalore/Bengaluru',\n",
       " 'Bangalore/Bengaluru',\n",
       " 'Hyderabad/Secunderabad, Chennai, Bangalore/Bengaluru']"
      ]
     },
     "execution_count": 43,
     "metadata": {},
     "output_type": "execute_result"
    }
   ],
   "source": [
    "location_list=[]\n",
    "for i in location_tags:\n",
    "    location_list.append(i.text)\n",
    "location_list"
   ]
  },
  {
   "cell_type": "code",
   "execution_count": 44,
   "id": "0d672d04",
   "metadata": {},
   "outputs": [
    {
     "data": {
      "text/plain": [
       "20"
      ]
     },
     "execution_count": 44,
     "metadata": {},
     "output_type": "execute_result"
    }
   ],
   "source": [
    "len(location_list)"
   ]
  },
  {
   "cell_type": "code",
   "execution_count": 45,
   "id": "63350c94",
   "metadata": {},
   "outputs": [
    {
     "data": {
      "text/plain": [
       "['https://www.naukri.com/job-listings-lead-data-scientist-bfsi-ibm-india-pvt-limited-bengaluru-bangalore-5-to-9-years-070921901691?src=jobsearchDesk&sid=16311647096151980&xp=1&px=1',\n",
       " 'https://www.naukri.com/job-listings-data-scientist-advanced-analytics-ibm-india-pvt-limited-bengaluru-bangalore-3-to-7-years-070921901677?src=jobsearchDesk&sid=16311647096151980&xp=2&px=1',\n",
       " 'https://www.naukri.com/job-listings-senior-data-scientist-airbnb-bangalore-bengaluru-7-to-12-years-080921500017?src=jobsearchDesk&sid=16311647096151980&xp=3&px=1',\n",
       " 'https://www.naukri.com/job-listings-senior-data-scientist-happiest-minds-technologies-pvt-ltd-bangalore-bengaluru-5-to-10-years-070921501517?src=jobsearchDesk&sid=16311647096151980&xp=4&px=1',\n",
       " 'https://www.naukri.com/job-listings-hiring-for-data-scientist-statistical-analyst-manpowergroup-services-india-private-limited-bangalore-bengaluru-2-to-4-years-080921011029?src=jobsearchDesk&sid=16311647096151980&xp=5&px=1',\n",
       " 'https://www.naukri.com/job-listings-associate-data-scientist-philips-india-limited-bangalore-bengaluru-3-to-5-years-060921501985?src=jobsearchDesk&sid=16311647096151980&xp=6&px=1',\n",
       " 'https://www.naukri.com/job-listings-data-scientist-neenopal-intelligent-solutions-private-limited-bangalore-bengaluru-2-to-5-years-080921006998?src=jobsearchDesk&sid=16311647096151980&xp=7&px=1',\n",
       " 'https://www.naukri.com/job-listings-data-scientist-prescience-decision-solutions-private-limited-bangalore-bengaluru-5-to-10-years-080921005624?src=jobsearchDesk&sid=16311647096151980&xp=8&px=1',\n",
       " 'https://www.naukri.com/job-listings-requirement-for-data-scientist-mumbai-bangalore-crisil-limited-bangalore-bengaluru-mumbai-all-areas-2-to-6-years-080921005523?src=jobsearchDesk&sid=16311647096151980&xp=9&px=1',\n",
       " 'https://www.naukri.com/job-listings-data-scientist-elpis-it-solutions-pvt-ltd-bangalore-bengaluru-3-to-8-years-070921602158?src=jobsearchDesk&sid=16311647096151980&xp=10&px=1',\n",
       " 'https://www.naukri.com/job-listings-data-scientist-elpis-it-solutions-pvt-ltd-bangalore-bengaluru-3-to-8-years-070921002157?src=jobsearchDesk&sid=16311647096151980&xp=11&px=1',\n",
       " 'https://www.naukri.com/job-listings-data-scientist-oracle-india-pvt-ltd-noida-bangalore-bengaluru-5-to-9-years-010621004567?src=jobsearchDesk&sid=16311647096151980&xp=12&px=1',\n",
       " 'https://www.naukri.com/job-listings-cognitive-data-scientist-ibm-india-pvt-limited-bengaluru-bangalore-3-to-7-years-030921904668?src=jobsearchDesk&sid=16311647096151980&xp=13&px=1',\n",
       " 'https://www.naukri.com/job-listings-data-scientist-python-big-data-capgemini-technology-services-india-limited-hyderabad-secunderabad-chennai-bangalore-bengaluru-6-to-11-years-030921008208?src=jobsearchDesk&sid=16311647096151980&xp=14&px=1',\n",
       " 'https://www.naukri.com/job-listings-senior-data-scientist-payments-compliance-airbnb-global-capability-center-private-limited-bangalore-bengaluru-4-to-9-years-020921903258?src=jobsearchDesk&sid=16311647096151980&xp=15&px=1',\n",
       " 'https://www.naukri.com/job-listings-senior-data-scientist-ant-work-bangalore-bengaluru-9-to-14-years-020921501606?src=jobsearchDesk&sid=16311647096151980&xp=16&px=1',\n",
       " 'https://www.naukri.com/job-listings-sr-data-scientist-ibm-india-pvt-limited-bengaluru-bangalore-6-to-8-years-010921906637?src=jobsearchDesk&sid=16311647096151980&xp=17&px=1',\n",
       " 'https://www.naukri.com/job-listings-sr-data-scientist-ibm-india-pvt-limited-bangalore-bengaluru-6-to-8-years-010921906105?src=jobsearchDesk&sid=16311647096151980&xp=18&px=1',\n",
       " 'https://www.naukri.com/job-listings-senior-data-scientist-philips-india-limited-bangalore-bengaluru-8-to-10-years-250821500891?src=jobsearchDesk&sid=16311647096151980&xp=19&px=1',\n",
       " 'https://www.naukri.com/job-listings-data-scientist-python-sql-ave-promagne-hyderabad-secunderabad-chennai-bangalore-bengaluru-6-to-8-years-060921904967?src=jobsearchDesk&sid=16311647096151980&xp=20&px=1']"
      ]
     },
     "execution_count": 45,
     "metadata": {},
     "output_type": "execute_result"
    }
   ],
   "source": [
    "#Fething the urls\n",
    "urls=[]\n",
    "for i in driver.find_elements_by_xpath('//a[@class=\"title fw500 ellipsis\"]'):\n",
    "    urls.append(i.get_attribute(\"href\"))\n",
    "urls\n"
   ]
  },
  {
   "cell_type": "code",
   "execution_count": 46,
   "id": "d5f1ab2b",
   "metadata": {},
   "outputs": [
    {
     "data": {
      "text/plain": [
       "20"
      ]
     },
     "execution_count": 46,
     "metadata": {},
     "output_type": "execute_result"
    }
   ],
   "source": [
    "len(urls)"
   ]
  },
  {
   "cell_type": "code",
   "execution_count": 47,
   "id": "2dbf1224",
   "metadata": {},
   "outputs": [],
   "source": [
    "job_description=[]"
   ]
  },
  {
   "cell_type": "code",
   "execution_count": 48,
   "id": "10907c8a",
   "metadata": {},
   "outputs": [],
   "source": [
    "import time\n",
    "for i in urls:\n",
    "    driver.get(i)\n",
    "    time.sleep(3)\n",
    "try:\n",
    "    job_desc=driver.find_element_by_xpath('//section[@class=\"job-desc\"]')\n",
    "    job_description.append(job_desc.text)\n",
    "except:\n",
    "    job_description.append('-')"
   ]
  },
  {
   "cell_type": "code",
   "execution_count": 49,
   "id": "e3cd70d2",
   "metadata": {},
   "outputs": [
    {
     "name": "stdout",
     "output_type": "stream",
     "text": [
      "1\n"
     ]
    }
   ],
   "source": [
    "print(len(job_description))"
   ]
  },
  {
   "cell_type": "code",
   "execution_count": 50,
   "id": "1c6fb87b",
   "metadata": {},
   "outputs": [
    {
     "data": {
      "text/plain": [
       "['Job description\\nRequired Technical and Professional Expertise\\n• 6+ years of industry work experience in data scientist projects\\n• Master’s degree or higher in Statistics/Math/Computer Science or related field\\n• Background in applied statistical modeling on large experimental or observational data sets\\n• Experience extracting data from a variety of sources, and a desire to expand those skills (working knowledge SQL is required, Spark is a plus)\\n• Experience with one or more statistical or machine learning software such as R, Python, etc.\\n• Must showcase past work through published articles/GitHub/social media\\n\\nPreferred Technical and Professional Expertise\\n• Knowledge of distributed computing systems, e.g. Cosmos, Spark, Hadoop, and relational database management system\\n• PhD. in Statistics is preferred\\n• You love collaborative environments that use agile methodologies to encourage creative design thinking and find innovative ways to develop with cutting edge technologies\\n• Ambitious individual who can work under their own direction towards agreed targets/goals and with creative approach to work\\n• Intuitive individual with an ability to manage change and proven time management\\n• Proven interpersonal skills while contributing to team effort by accomplishing related results as needed\\nRoleData Analyst\\nIndustry TypeIT Services & Consulting\\nFunctional AreaAnalytics & Business Intelligence\\nEmployment TypeFull Time, Permanent\\nRole CategoryAnalytics & BI\\nEducation\\nUG :B.Sc in Maths, Statistics\\nPG :MS/M.Sc(Science) in Maths, Statistics\\nDoctorate :Doctorate Not Required\\nKey Skills\\nRData scienceData analyticsSQLPython']"
      ]
     },
     "execution_count": 50,
     "metadata": {},
     "output_type": "execute_result"
    }
   ],
   "source": [
    "job_description"
   ]
  },
  {
   "cell_type": "code",
   "execution_count": 51,
   "id": "54f89f31",
   "metadata": {},
   "outputs": [
    {
     "data": {
      "text/html": [
       "<div>\n",
       "<style scoped>\n",
       "    .dataframe tbody tr th:only-of-type {\n",
       "        vertical-align: middle;\n",
       "    }\n",
       "\n",
       "    .dataframe tbody tr th {\n",
       "        vertical-align: top;\n",
       "    }\n",
       "\n",
       "    .dataframe thead th {\n",
       "        text-align: right;\n",
       "    }\n",
       "</style>\n",
       "<table border=\"1\" class=\"dataframe\">\n",
       "  <thead>\n",
       "    <tr style=\"text-align: right;\">\n",
       "      <th></th>\n",
       "      <th>job_titles</th>\n",
       "      <th>company_name</th>\n",
       "      <th>location</th>\n",
       "    </tr>\n",
       "  </thead>\n",
       "  <tbody>\n",
       "    <tr>\n",
       "      <th>0</th>\n",
       "      <td>Lead Data Scientist BFSI</td>\n",
       "      <td>IBM India Pvt. Limited</td>\n",
       "      <td>Bengaluru/Bangalore</td>\n",
       "    </tr>\n",
       "    <tr>\n",
       "      <th>1</th>\n",
       "      <td>Data Scientist: Advanced Analytics</td>\n",
       "      <td>IBM India Pvt. Limited</td>\n",
       "      <td>Bengaluru/Bangalore</td>\n",
       "    </tr>\n",
       "    <tr>\n",
       "      <th>2</th>\n",
       "      <td>Senior Data Scientist</td>\n",
       "      <td>Airbnb</td>\n",
       "      <td>Bangalore/Bengaluru</td>\n",
       "    </tr>\n",
       "    <tr>\n",
       "      <th>3</th>\n",
       "      <td>SENIOR DATA SCIENTIST</td>\n",
       "      <td>Happiest Minds Technologies Pvt.Ltd</td>\n",
       "      <td>Bangalore/Bengaluru</td>\n",
       "    </tr>\n",
       "    <tr>\n",
       "      <th>4</th>\n",
       "      <td>Hiring For Data Scientist / Statistical Analyst</td>\n",
       "      <td>ManpowerGroup Services India Private Limited</td>\n",
       "      <td>Bangalore/Bengaluru</td>\n",
       "    </tr>\n",
       "    <tr>\n",
       "      <th>5</th>\n",
       "      <td>Associate Data Scientist</td>\n",
       "      <td>Philips India Limited</td>\n",
       "      <td>Bangalore/Bengaluru</td>\n",
       "    </tr>\n",
       "    <tr>\n",
       "      <th>6</th>\n",
       "      <td>Data Scientist</td>\n",
       "      <td>NeenOpal Intelligent Solutions Private Limited</td>\n",
       "      <td>Bangalore/Bengaluru\\n(WFH during Covid)</td>\n",
       "    </tr>\n",
       "    <tr>\n",
       "      <th>7</th>\n",
       "      <td>Data Scientist</td>\n",
       "      <td>PRESCIENCE DECISION SOLUTIONS PRIVATE LIMITED</td>\n",
       "      <td>Bangalore/Bengaluru\\n(WFH during Covid)</td>\n",
       "    </tr>\n",
       "    <tr>\n",
       "      <th>8</th>\n",
       "      <td>Requirement For Data Scientist - Mumbai &amp; Bang...</td>\n",
       "      <td>CRISIL LIMITED</td>\n",
       "      <td>Bangalore/Bengaluru, Mumbai (All Areas)</td>\n",
       "    </tr>\n",
       "    <tr>\n",
       "      <th>9</th>\n",
       "      <td>Data Scientist</td>\n",
       "      <td>ELPIS IT SOLUTIONS PVT LTD</td>\n",
       "      <td>Bangalore/Bengaluru</td>\n",
       "    </tr>\n",
       "  </tbody>\n",
       "</table>\n",
       "</div>"
      ],
      "text/plain": [
       "                                          job_titles  \\\n",
       "0                           Lead Data Scientist BFSI   \n",
       "1                 Data Scientist: Advanced Analytics   \n",
       "2                              Senior Data Scientist   \n",
       "3                              SENIOR DATA SCIENTIST   \n",
       "4    Hiring For Data Scientist / Statistical Analyst   \n",
       "5                           Associate Data Scientist   \n",
       "6                                     Data Scientist   \n",
       "7                                     Data Scientist   \n",
       "8  Requirement For Data Scientist - Mumbai & Bang...   \n",
       "9                                     Data Scientist   \n",
       "\n",
       "                                     company_name  \\\n",
       "0                          IBM India Pvt. Limited   \n",
       "1                          IBM India Pvt. Limited   \n",
       "2                                          Airbnb   \n",
       "3             Happiest Minds Technologies Pvt.Ltd   \n",
       "4    ManpowerGroup Services India Private Limited   \n",
       "5                           Philips India Limited   \n",
       "6  NeenOpal Intelligent Solutions Private Limited   \n",
       "7   PRESCIENCE DECISION SOLUTIONS PRIVATE LIMITED   \n",
       "8                                  CRISIL LIMITED   \n",
       "9                      ELPIS IT SOLUTIONS PVT LTD   \n",
       "\n",
       "                                  location  \n",
       "0                      Bengaluru/Bangalore  \n",
       "1                      Bengaluru/Bangalore  \n",
       "2                      Bangalore/Bengaluru  \n",
       "3                      Bangalore/Bengaluru  \n",
       "4                      Bangalore/Bengaluru  \n",
       "5                      Bangalore/Bengaluru  \n",
       "6  Bangalore/Bengaluru\\n(WFH during Covid)  \n",
       "7  Bangalore/Bengaluru\\n(WFH during Covid)  \n",
       "8  Bangalore/Bengaluru, Mumbai (All Areas)  \n",
       "9                      Bangalore/Bengaluru  "
      ]
     },
     "execution_count": 51,
     "metadata": {},
     "output_type": "execute_result"
    }
   ],
   "source": [
    "jobs=pd.DataFrame({})\n",
    "jobs[\"job_titles\"]=job_titles[:10]\n",
    "jobs[\"company_name\"]=company_name[:10]\n",
    "jobs[\"location\"]=location_list[:10]\n",
    "jobs"
   ]
  },
  {
   "cell_type": "raw",
   "id": "5eab2399",
   "metadata": {},
   "source": [
    "Q3: In this question you have to scrape data using the filters available on the webpage as shown below:\n",
    "        .You have to use the location and salary filter.\n",
    "        .You have to scrape data for “Data Scientist” designation for first 10 job results.\n",
    "        .You have to scrape the job-title, job-location, company_name,experience_required.\n",
    "        .The location filter to be used is “Delhi/NCR”\n",
    "        .The salary filter to be used is “3-6” lakhs\n",
    "        .The task will be done as shown in the below steps:\n",
    "        1. first get the webpage https://www.naukri.com/\n",
    "        2. Enter “Data Scientist” in “Skill,Designations,Companies” field .\n",
    "        3. Then click the search button.\n",
    "        4. Then apply the location filter and salary filter by checking the respective boxes\n",
    "        5. Then scrape the data for the first 10 jobs results you get.\n",
    "        6. Finally create a dataframe of the scraped data.\n",
    "        Note- All of the above steps have to be done in code. No step is to be done manually.\n",
    "\n",
    "\n"
   ]
  },
  {
   "cell_type": "code",
   "execution_count": 326,
   "id": "e5b47af4",
   "metadata": {},
   "outputs": [],
   "source": [
    "#lets first connect to the web driver\n",
    "driver=webdriver.Edge(\"msedgedriver.exe\")"
   ]
  },
  {
   "cell_type": "code",
   "execution_count": 327,
   "id": "8d50c5d3",
   "metadata": {},
   "outputs": [],
   "source": [
    "url='https://www.naukri.com/'\n",
    "driver.get(url)"
   ]
  },
  {
   "cell_type": "code",
   "execution_count": 328,
   "id": "b0578e4e",
   "metadata": {},
   "outputs": [
    {
     "data": {
      "text/plain": [
       "<selenium.webdriver.remote.webelement.WebElement (session=\"73dddd4658246264e520afaed77469ab\", element=\"05420ac9-3c59-4517-9089-bd11db917e52\")>"
      ]
     },
     "execution_count": 328,
     "metadata": {},
     "output_type": "execute_result"
    }
   ],
   "source": [
    "search_job=driver.find_element_by_xpath('//input[@class=\"sugInp\"]')\n",
    "search_job"
   ]
  },
  {
   "cell_type": "code",
   "execution_count": 329,
   "id": "aa33ece6",
   "metadata": {},
   "outputs": [],
   "source": [
    "#write on search bar\n",
    "search_job.send_keys(\"Data Scientist\")"
   ]
  },
  {
   "cell_type": "code",
   "execution_count": 330,
   "id": "80bb8091",
   "metadata": {},
   "outputs": [],
   "source": [
    "search_btn=driver.find_element_by_xpath('//button[@class=\"btn\"]')\n",
    "search_btn.click()"
   ]
  },
  {
   "cell_type": "code",
   "execution_count": 331,
   "id": "699f1098",
   "metadata": {},
   "outputs": [
    {
     "data": {
      "text/plain": [
       "[<selenium.webdriver.remote.webelement.WebElement (session=\"73dddd4658246264e520afaed77469ab\", element=\"98d15a22-ccc0-447c-80b7-79b6d419b02a\")>,\n",
       " <selenium.webdriver.remote.webelement.WebElement (session=\"73dddd4658246264e520afaed77469ab\", element=\"6f0cc2a4-6424-42b8-b220-36174090a5cf\")>,\n",
       " <selenium.webdriver.remote.webelement.WebElement (session=\"73dddd4658246264e520afaed77469ab\", element=\"f9f0523c-0229-4c87-b4df-98d727be95c4\")>,\n",
       " <selenium.webdriver.remote.webelement.WebElement (session=\"73dddd4658246264e520afaed77469ab\", element=\"10754e1a-66a2-46dc-8282-389a3fca8d92\")>,\n",
       " <selenium.webdriver.remote.webelement.WebElement (session=\"73dddd4658246264e520afaed77469ab\", element=\"662d92a7-e60a-449b-ae07-f8e5bf07e5bd\")>,\n",
       " <selenium.webdriver.remote.webelement.WebElement (session=\"73dddd4658246264e520afaed77469ab\", element=\"53b11f2a-6457-4811-9d6c-c855b2876bcb\")>,\n",
       " <selenium.webdriver.remote.webelement.WebElement (session=\"73dddd4658246264e520afaed77469ab\", element=\"2e6205a5-9db2-4df1-a24d-13a8b546dc0d\")>,\n",
       " <selenium.webdriver.remote.webelement.WebElement (session=\"73dddd4658246264e520afaed77469ab\", element=\"e1bf046d-9e0e-4a0d-9d43-6518ba71babb\")>,\n",
       " <selenium.webdriver.remote.webelement.WebElement (session=\"73dddd4658246264e520afaed77469ab\", element=\"06c7e3dd-5392-4080-b9f6-ac9895b6f704\")>,\n",
       " <selenium.webdriver.remote.webelement.WebElement (session=\"73dddd4658246264e520afaed77469ab\", element=\"5a6bd43f-5995-408a-87c7-296135606390\")>,\n",
       " <selenium.webdriver.remote.webelement.WebElement (session=\"73dddd4658246264e520afaed77469ab\", element=\"4e8c9924-b18c-4b5a-8d05-09cd1663605e\")>,\n",
       " <selenium.webdriver.remote.webelement.WebElement (session=\"73dddd4658246264e520afaed77469ab\", element=\"e1a7b29a-693c-4172-a6da-93b978a89491\")>,\n",
       " <selenium.webdriver.remote.webelement.WebElement (session=\"73dddd4658246264e520afaed77469ab\", element=\"4fe44919-ae61-49cc-8e22-8714dec20a90\")>,\n",
       " <selenium.webdriver.remote.webelement.WebElement (session=\"73dddd4658246264e520afaed77469ab\", element=\"b5671513-31b4-49f5-8dbd-1b2419c05ce4\")>,\n",
       " <selenium.webdriver.remote.webelement.WebElement (session=\"73dddd4658246264e520afaed77469ab\", element=\"3cb72f6a-15be-457f-b48d-22c0bde2f253\")>,\n",
       " <selenium.webdriver.remote.webelement.WebElement (session=\"73dddd4658246264e520afaed77469ab\", element=\"53565640-5733-4b67-bdc9-5b731bb1b2b8\")>,\n",
       " <selenium.webdriver.remote.webelement.WebElement (session=\"73dddd4658246264e520afaed77469ab\", element=\"3b3b0bad-b7cd-45b8-8b40-93f5656a0ae5\")>,\n",
       " <selenium.webdriver.remote.webelement.WebElement (session=\"73dddd4658246264e520afaed77469ab\", element=\"d3a1318f-863c-4cfc-9d0b-2c2f9952a221\")>,\n",
       " <selenium.webdriver.remote.webelement.WebElement (session=\"73dddd4658246264e520afaed77469ab\", element=\"ddbf772d-3782-4b7e-9985-a2ad58f77907\")>,\n",
       " <selenium.webdriver.remote.webelement.WebElement (session=\"73dddd4658246264e520afaed77469ab\", element=\"88a2411e-2138-4f34-88bf-371d994e6ab0\")>]"
      ]
     },
     "execution_count": 331,
     "metadata": {},
     "output_type": "execute_result"
    }
   ],
   "source": [
    "#so lets extaract all the tags having the job titles\n",
    "titles_tags=driver.find_elements_by_xpath('//a[@class=\"title fw500 ellipsis\"]')\n",
    "titles_tags"
   ]
  },
  {
   "cell_type": "code",
   "execution_count": 332,
   "id": "4cebe3fc",
   "metadata": {},
   "outputs": [
    {
     "data": {
      "text/plain": [
       "['Only Fresher / Data Scientist / Data Analyst / Analytics - MNC Jobs',\n",
       " 'Data Scientist / Data Analyst',\n",
       " 'Data Analyst/Data Scientist',\n",
       " 'Data Scientist',\n",
       " 'Data Scientist/ Machine Learning Engineer',\n",
       " 'Data Scientist / Data Analyst / Business Analytics - MNC Jobs Freshers',\n",
       " 'Data Scientist',\n",
       " 'Data Scientist - WFH - MIND Infotech',\n",
       " 'Immediate Openings For Data Scientist For Wipro C2H',\n",
       " 'Data Scientist',\n",
       " 'Data Scientist-immediate Joiners',\n",
       " 'Data Scientist - Machine Learning/ NLP',\n",
       " 'Junior Data Scientists & Engineers',\n",
       " 'Data Scientist',\n",
       " 'Data Scientist Internship',\n",
       " 'Data Scientist',\n",
       " 'Senior Data Scientist',\n",
       " 'Senior Data Scientist',\n",
       " 'Hiring Data Scientist Develope || IDS Infotech LTD || (Permanent WFH)',\n",
       " 'Data Scientist']"
      ]
     },
     "execution_count": 332,
     "metadata": {},
     "output_type": "execute_result"
    }
   ],
   "source": [
    "job_titles=[]\n",
    "for i in titles_tags:\n",
    "    job_titles.append(i.text)\n",
    "job_titles"
   ]
  },
  {
   "cell_type": "code",
   "execution_count": 333,
   "id": "41712b57",
   "metadata": {},
   "outputs": [
    {
     "data": {
      "text/plain": [
       "20"
      ]
     },
     "execution_count": 333,
     "metadata": {},
     "output_type": "execute_result"
    }
   ],
   "source": [
    "len(job_titles)"
   ]
  },
  {
   "cell_type": "code",
   "execution_count": 334,
   "id": "d008c052",
   "metadata": {},
   "outputs": [
    {
     "data": {
      "text/plain": [
       "[<selenium.webdriver.remote.webelement.WebElement (session=\"73dddd4658246264e520afaed77469ab\", element=\"461c8665-4032-4a71-bcf3-24c93ec6557b\")>,\n",
       " <selenium.webdriver.remote.webelement.WebElement (session=\"73dddd4658246264e520afaed77469ab\", element=\"3b207bcc-ebee-408c-b2e0-77c5de9e0d8d\")>,\n",
       " <selenium.webdriver.remote.webelement.WebElement (session=\"73dddd4658246264e520afaed77469ab\", element=\"9f32d3cd-1e8f-49a0-9012-a9a193a27cc5\")>,\n",
       " <selenium.webdriver.remote.webelement.WebElement (session=\"73dddd4658246264e520afaed77469ab\", element=\"a9514eae-eee8-4e1a-aaeb-05fbe083bdcd\")>,\n",
       " <selenium.webdriver.remote.webelement.WebElement (session=\"73dddd4658246264e520afaed77469ab\", element=\"89be4618-17e8-4317-a947-8967a12cd23c\")>,\n",
       " <selenium.webdriver.remote.webelement.WebElement (session=\"73dddd4658246264e520afaed77469ab\", element=\"86f061de-3c32-4b5f-b5f0-541da70e90d3\")>,\n",
       " <selenium.webdriver.remote.webelement.WebElement (session=\"73dddd4658246264e520afaed77469ab\", element=\"54d0f6e0-ebf3-425a-8480-1cd2453499e3\")>,\n",
       " <selenium.webdriver.remote.webelement.WebElement (session=\"73dddd4658246264e520afaed77469ab\", element=\"1d04fdfd-a88a-415c-bc9b-82e9621622cb\")>,\n",
       " <selenium.webdriver.remote.webelement.WebElement (session=\"73dddd4658246264e520afaed77469ab\", element=\"dd8b4ef5-d151-40a9-bc3e-c2e054094ca4\")>,\n",
       " <selenium.webdriver.remote.webelement.WebElement (session=\"73dddd4658246264e520afaed77469ab\", element=\"6200d6dc-125d-43f9-8d46-12e67c85979a\")>,\n",
       " <selenium.webdriver.remote.webelement.WebElement (session=\"73dddd4658246264e520afaed77469ab\", element=\"212ea81a-fbf4-4368-bdf5-82d1a4e3fde3\")>,\n",
       " <selenium.webdriver.remote.webelement.WebElement (session=\"73dddd4658246264e520afaed77469ab\", element=\"efdae46a-7bb9-4637-859b-277c7fe3e248\")>,\n",
       " <selenium.webdriver.remote.webelement.WebElement (session=\"73dddd4658246264e520afaed77469ab\", element=\"77da4d27-f5ea-453c-9a21-876c8244e05a\")>,\n",
       " <selenium.webdriver.remote.webelement.WebElement (session=\"73dddd4658246264e520afaed77469ab\", element=\"644493c0-22fa-4b30-8ee0-1047764367bf\")>,\n",
       " <selenium.webdriver.remote.webelement.WebElement (session=\"73dddd4658246264e520afaed77469ab\", element=\"ee364d68-1cef-45f2-aa10-52a57495caa4\")>,\n",
       " <selenium.webdriver.remote.webelement.WebElement (session=\"73dddd4658246264e520afaed77469ab\", element=\"3a4970ec-4542-4bc5-ae19-cf8d77e284ad\")>,\n",
       " <selenium.webdriver.remote.webelement.WebElement (session=\"73dddd4658246264e520afaed77469ab\", element=\"ddfb370f-91f8-4760-8af4-c2409598f7e4\")>,\n",
       " <selenium.webdriver.remote.webelement.WebElement (session=\"73dddd4658246264e520afaed77469ab\", element=\"21e2c98b-ce36-4beb-b0f3-0d6ae8bbded8\")>,\n",
       " <selenium.webdriver.remote.webelement.WebElement (session=\"73dddd4658246264e520afaed77469ab\", element=\"f1c0f359-88e4-4451-a70b-ad7e214e56dd\")>,\n",
       " <selenium.webdriver.remote.webelement.WebElement (session=\"73dddd4658246264e520afaed77469ab\", element=\"8752dd52-6546-48ae-ae2c-768004a28759\")>]"
      ]
     },
     "execution_count": 334,
     "metadata": {},
     "output_type": "execute_result"
    }
   ],
   "source": [
    "company_tags=driver.find_elements_by_xpath('//a[@class=\"subTitle ellipsis fleft\"]')\n",
    "company_tags"
   ]
  },
  {
   "cell_type": "code",
   "execution_count": 335,
   "id": "b7269803",
   "metadata": {},
   "outputs": [
    {
     "data": {
      "text/plain": [
       "['GABA Consultancy services',\n",
       " 'CARS24',\n",
       " 'Skillenable Fintech Private Limited',\n",
       " 'PROCESS NINE TECHNOLOGIES PVT.LTD.',\n",
       " 'Creative Hands HR Consultancy',\n",
       " 'GABA Consultancy services',\n",
       " 'R Systems International Ltd.',\n",
       " 'MOTHERSONSUMI INFOTECH & DESIGNS LIMITED',\n",
       " 'IDESLABS PRIVATE LIMITED',\n",
       " 'Kusum Healthcare Pvt. Ltd.',\n",
       " 'Quikruit Consulting LLP',\n",
       " 'TalPro',\n",
       " 'PY Consultancy',\n",
       " 'Country Veggie',\n",
       " 'iHackers Inc',\n",
       " 'Fractal Analytics',\n",
       " 'inVentiv International Pharma Services Pvt. Ltd.',\n",
       " 'iNICU',\n",
       " 'IDS Infotech Ltd.',\n",
       " 'Sentieo']"
      ]
     },
     "execution_count": 335,
     "metadata": {},
     "output_type": "execute_result"
    }
   ],
   "source": [
    "company_name=[]\n",
    "for i in company_tags:\n",
    "    company_name.append(i.text)\n",
    "company_name"
   ]
  },
  {
   "cell_type": "code",
   "execution_count": 336,
   "id": "c422b789",
   "metadata": {},
   "outputs": [
    {
     "data": {
      "text/plain": [
       "20"
      ]
     },
     "execution_count": 336,
     "metadata": {},
     "output_type": "execute_result"
    }
   ],
   "source": [
    "len(company_name)"
   ]
  },
  {
   "cell_type": "code",
   "execution_count": 337,
   "id": "3f663704",
   "metadata": {},
   "outputs": [
    {
     "data": {
      "text/plain": [
       "[<selenium.webdriver.remote.webelement.WebElement (session=\"73dddd4658246264e520afaed77469ab\", element=\"c41a5b38-44bc-4616-acd2-24bae3edb2fc\")>,\n",
       " <selenium.webdriver.remote.webelement.WebElement (session=\"73dddd4658246264e520afaed77469ab\", element=\"992e8574-e55e-4472-b2c7-8ed4e6933685\")>,\n",
       " <selenium.webdriver.remote.webelement.WebElement (session=\"73dddd4658246264e520afaed77469ab\", element=\"45dff136-c023-4861-a664-409f3ce020b9\")>,\n",
       " <selenium.webdriver.remote.webelement.WebElement (session=\"73dddd4658246264e520afaed77469ab\", element=\"df76dabf-ccfe-4639-9c05-582b71fa15b3\")>,\n",
       " <selenium.webdriver.remote.webelement.WebElement (session=\"73dddd4658246264e520afaed77469ab\", element=\"02c7291f-eae1-4ae4-b237-aa44158bd37f\")>,\n",
       " <selenium.webdriver.remote.webelement.WebElement (session=\"73dddd4658246264e520afaed77469ab\", element=\"26769e15-f952-4b6a-95bd-ba3620698e0f\")>,\n",
       " <selenium.webdriver.remote.webelement.WebElement (session=\"73dddd4658246264e520afaed77469ab\", element=\"d4611e89-edd5-4732-8ef5-fc7a82e1c663\")>,\n",
       " <selenium.webdriver.remote.webelement.WebElement (session=\"73dddd4658246264e520afaed77469ab\", element=\"bfdf7247-7294-4190-84f1-8513b14ae40c\")>,\n",
       " <selenium.webdriver.remote.webelement.WebElement (session=\"73dddd4658246264e520afaed77469ab\", element=\"952f0f80-8be8-4bc8-9725-c439b25d1199\")>,\n",
       " <selenium.webdriver.remote.webelement.WebElement (session=\"73dddd4658246264e520afaed77469ab\", element=\"8e924eb1-918c-46ab-b907-8f0c918293dd\")>,\n",
       " <selenium.webdriver.remote.webelement.WebElement (session=\"73dddd4658246264e520afaed77469ab\", element=\"7bbc845c-ef34-436d-80e0-e01aa64a672f\")>,\n",
       " <selenium.webdriver.remote.webelement.WebElement (session=\"73dddd4658246264e520afaed77469ab\", element=\"36bfb627-3d39-4c22-bb18-accc618195d5\")>,\n",
       " <selenium.webdriver.remote.webelement.WebElement (session=\"73dddd4658246264e520afaed77469ab\", element=\"681b4f6c-b3e1-4cc0-8170-4e2183d58a9f\")>,\n",
       " <selenium.webdriver.remote.webelement.WebElement (session=\"73dddd4658246264e520afaed77469ab\", element=\"0f6b9603-b646-4efd-a08b-bef300575dc9\")>,\n",
       " <selenium.webdriver.remote.webelement.WebElement (session=\"73dddd4658246264e520afaed77469ab\", element=\"ae9ed540-1ba8-4780-8bc5-25a2e81983b6\")>,\n",
       " <selenium.webdriver.remote.webelement.WebElement (session=\"73dddd4658246264e520afaed77469ab\", element=\"288f78a4-3f1e-4eaa-92e4-cdccb237a233\")>,\n",
       " <selenium.webdriver.remote.webelement.WebElement (session=\"73dddd4658246264e520afaed77469ab\", element=\"4a8ff43f-6d26-4b6c-ad5d-e986500138d1\")>,\n",
       " <selenium.webdriver.remote.webelement.WebElement (session=\"73dddd4658246264e520afaed77469ab\", element=\"33ed57c3-978c-4dcf-bdce-b5126170c00b\")>,\n",
       " <selenium.webdriver.remote.webelement.WebElement (session=\"73dddd4658246264e520afaed77469ab\", element=\"dd5dc495-4272-409c-8cb8-e4e4a48d2cdf\")>,\n",
       " <selenium.webdriver.remote.webelement.WebElement (session=\"73dddd4658246264e520afaed77469ab\", element=\"06e116e9-0418-4a81-88a7-4e37a2cb3fe2\")>]"
      ]
     },
     "execution_count": 337,
     "metadata": {},
     "output_type": "execute_result"
    }
   ],
   "source": [
    "experience_tags=driver.find_elements_by_xpath('//li[@class=\"fleft grey-text br2 placeHolderLi experience\"]')\n",
    "experience_tags"
   ]
  },
  {
   "cell_type": "code",
   "execution_count": 338,
   "id": "499d10f8",
   "metadata": {},
   "outputs": [
    {
     "data": {
      "text/plain": [
       "['0-0 Yrs',\n",
       " '1-5 Yrs',\n",
       " '2-5 Yrs',\n",
       " '1-3 Yrs',\n",
       " '0-0 Yrs',\n",
       " '0-0 Yrs',\n",
       " '3-6 Yrs',\n",
       " '3-7 Yrs',\n",
       " '5-10 Yrs',\n",
       " '4-6 Yrs',\n",
       " '2-5 Yrs',\n",
       " '2-6 Yrs',\n",
       " '0-3 Yrs',\n",
       " '1-3 Yrs',\n",
       " '0-1 Yrs',\n",
       " '3-7 Yrs',\n",
       " '3-6 Yrs',\n",
       " '1-5 Yrs',\n",
       " '5-10 Yrs',\n",
       " '2-7 Yrs']"
      ]
     },
     "execution_count": 338,
     "metadata": {},
     "output_type": "execute_result"
    }
   ],
   "source": [
    "experience_list=[]\n",
    "for i in experience_tags:\n",
    "    experience_list.append(i.text)\n",
    "experience_list"
   ]
  },
  {
   "cell_type": "code",
   "execution_count": 339,
   "id": "26ed7ab5",
   "metadata": {},
   "outputs": [
    {
     "data": {
      "text/plain": [
       "20"
      ]
     },
     "execution_count": 339,
     "metadata": {},
     "output_type": "execute_result"
    }
   ],
   "source": [
    "len(experience_list)"
   ]
  },
  {
   "cell_type": "code",
   "execution_count": 340,
   "id": "4f56d99c",
   "metadata": {},
   "outputs": [
    {
     "data": {
      "text/plain": [
       "[<selenium.webdriver.remote.webelement.WebElement (session=\"73dddd4658246264e520afaed77469ab\", element=\"5b7f4762-5d07-4296-89a1-acb0eda1a9b6\")>,\n",
       " <selenium.webdriver.remote.webelement.WebElement (session=\"73dddd4658246264e520afaed77469ab\", element=\"9b0dfe3b-6ffd-4189-b942-879cc3ef6c81\")>,\n",
       " <selenium.webdriver.remote.webelement.WebElement (session=\"73dddd4658246264e520afaed77469ab\", element=\"d910d652-3179-4691-99c2-fd90d93b7fae\")>,\n",
       " <selenium.webdriver.remote.webelement.WebElement (session=\"73dddd4658246264e520afaed77469ab\", element=\"1420b5dd-04a2-4e7c-9f6d-8a4c191022c0\")>,\n",
       " <selenium.webdriver.remote.webelement.WebElement (session=\"73dddd4658246264e520afaed77469ab\", element=\"53ef267d-efb6-4c1c-8805-4363fc15e7df\")>,\n",
       " <selenium.webdriver.remote.webelement.WebElement (session=\"73dddd4658246264e520afaed77469ab\", element=\"ea42b22b-dca9-4d3e-96bd-c956a653a4d0\")>,\n",
       " <selenium.webdriver.remote.webelement.WebElement (session=\"73dddd4658246264e520afaed77469ab\", element=\"399ec97b-d46b-45f4-938e-d63fe75f813c\")>,\n",
       " <selenium.webdriver.remote.webelement.WebElement (session=\"73dddd4658246264e520afaed77469ab\", element=\"b5d335e5-a55e-4d07-aca8-af3c28209224\")>,\n",
       " <selenium.webdriver.remote.webelement.WebElement (session=\"73dddd4658246264e520afaed77469ab\", element=\"07bad4b3-d7c9-4d48-a638-197ae63d2458\")>,\n",
       " <selenium.webdriver.remote.webelement.WebElement (session=\"73dddd4658246264e520afaed77469ab\", element=\"7775d18e-ca1c-4fa9-9d7b-2f3062f35a3f\")>,\n",
       " <selenium.webdriver.remote.webelement.WebElement (session=\"73dddd4658246264e520afaed77469ab\", element=\"bc9ba961-e879-42a3-8b11-c49b9ae98332\")>,\n",
       " <selenium.webdriver.remote.webelement.WebElement (session=\"73dddd4658246264e520afaed77469ab\", element=\"a5b23575-2808-4377-9831-a4e30b5e2716\")>,\n",
       " <selenium.webdriver.remote.webelement.WebElement (session=\"73dddd4658246264e520afaed77469ab\", element=\"54214db0-c599-46ee-85d0-1601a4171ad6\")>,\n",
       " <selenium.webdriver.remote.webelement.WebElement (session=\"73dddd4658246264e520afaed77469ab\", element=\"6ec7d89d-fdcb-4770-b320-6e3fb8968829\")>,\n",
       " <selenium.webdriver.remote.webelement.WebElement (session=\"73dddd4658246264e520afaed77469ab\", element=\"d9e63847-e9a0-48b1-ad2d-c29042d38d34\")>,\n",
       " <selenium.webdriver.remote.webelement.WebElement (session=\"73dddd4658246264e520afaed77469ab\", element=\"24036a22-e21c-43a6-aa77-b517853aa722\")>,\n",
       " <selenium.webdriver.remote.webelement.WebElement (session=\"73dddd4658246264e520afaed77469ab\", element=\"2d2f7ff2-6c2d-4d47-af5b-746c88868e65\")>,\n",
       " <selenium.webdriver.remote.webelement.WebElement (session=\"73dddd4658246264e520afaed77469ab\", element=\"4febd99d-2835-40d8-a6d4-c6e767cd68b6\")>,\n",
       " <selenium.webdriver.remote.webelement.WebElement (session=\"73dddd4658246264e520afaed77469ab\", element=\"893ce5d9-d17f-4c1c-86de-630bc8b73b05\")>,\n",
       " <selenium.webdriver.remote.webelement.WebElement (session=\"73dddd4658246264e520afaed77469ab\", element=\"446863e4-d4f8-4572-b5ef-443f07c32d71\")>]"
      ]
     },
     "execution_count": 340,
     "metadata": {},
     "output_type": "execute_result"
    }
   ],
   "source": [
    "location_tags=driver.find_elements_by_xpath('//li[@class=\"fleft grey-text br2 placeHolderLi location\"]')\n",
    "location_tags"
   ]
  },
  {
   "cell_type": "code",
   "execution_count": 341,
   "id": "a8a09fac",
   "metadata": {},
   "outputs": [
    {
     "data": {
      "text/plain": [
       "['Noida, Gurgaon/Gurugram, Delhi / NCR',\n",
       " 'Gurgaon/Gurugram',\n",
       " 'Bangalore/Bengaluru, Delhi / NCR, Mumbai (All Areas)',\n",
       " 'Gurgaon/Gurugram\\n(WFH during Covid)',\n",
       " 'Mohali/SAS Nagar, Hyderabad/Secunderabad, Ahmedabad, Gurgaon/Gurugram, Chennai, Bangalore/Bengaluru',\n",
       " 'Noida, New Delhi, Gurgaon/Gurugram',\n",
       " 'Noida\\n(WFH during Covid)',\n",
       " 'Pune, Chennai, Bangalore/Bengaluru, Delhi / NCR, Mumbai (All Areas)',\n",
       " 'Gurgaon/Gurugram',\n",
       " 'Delhi / NCR(Okhla)',\n",
       " 'Noida',\n",
       " 'Gurgaon/Gurugram',\n",
       " 'New Delhi, Delhi / NCR',\n",
       " 'Bharuch, Jaipur, Bhopal, Mumbai, Jhansi, Nagpur, Ghaziabad, Jaunpur, Kanpur, Delhi, Lucknow, Agra, Gurgaon, Rajkot, Bengaluru',\n",
       " 'New Delhi',\n",
       " 'Mumbai, Gurgaon/Gurugram, Bangalore/Bengaluru',\n",
       " 'Hyderabad/Secunderabad, Gurgaon/Gurugram, Bangalore/Bengaluru',\n",
       " 'Delhi',\n",
       " 'Chandigarh, Hyderabad/Secunderabad, Chennai, Bangalore/Bengaluru, Delhi / NCR',\n",
       " 'Delhi']"
      ]
     },
     "execution_count": 341,
     "metadata": {},
     "output_type": "execute_result"
    }
   ],
   "source": [
    "location_list=[]\n",
    "for i in location_tags:\n",
    "    location_list.append(i.text)\n",
    "location_list"
   ]
  },
  {
   "cell_type": "code",
   "execution_count": 342,
   "id": "1254d533",
   "metadata": {},
   "outputs": [
    {
     "data": {
      "text/plain": [
       "20"
      ]
     },
     "execution_count": 342,
     "metadata": {},
     "output_type": "execute_result"
    }
   ],
   "source": [
    "len(location_list)"
   ]
  },
  {
   "cell_type": "code",
   "execution_count": 343,
   "id": "4e652a16",
   "metadata": {},
   "outputs": [
    {
     "data": {
      "text/html": [
       "<div>\n",
       "<style scoped>\n",
       "    .dataframe tbody tr th:only-of-type {\n",
       "        vertical-align: middle;\n",
       "    }\n",
       "\n",
       "    .dataframe tbody tr th {\n",
       "        vertical-align: top;\n",
       "    }\n",
       "\n",
       "    .dataframe thead th {\n",
       "        text-align: right;\n",
       "    }\n",
       "</style>\n",
       "<table border=\"1\" class=\"dataframe\">\n",
       "  <thead>\n",
       "    <tr style=\"text-align: right;\">\n",
       "      <th></th>\n",
       "      <th>job_titles</th>\n",
       "      <th>company_name</th>\n",
       "      <th>experience_required</th>\n",
       "      <th>location</th>\n",
       "    </tr>\n",
       "  </thead>\n",
       "  <tbody>\n",
       "    <tr>\n",
       "      <th>0</th>\n",
       "      <td>Only Fresher / Data Scientist / Data Analyst /...</td>\n",
       "      <td>GABA Consultancy services</td>\n",
       "      <td>0-0 Yrs</td>\n",
       "      <td>Noida, Gurgaon/Gurugram, Delhi / NCR</td>\n",
       "    </tr>\n",
       "    <tr>\n",
       "      <th>1</th>\n",
       "      <td>Data Scientist / Data Analyst</td>\n",
       "      <td>CARS24</td>\n",
       "      <td>1-5 Yrs</td>\n",
       "      <td>Gurgaon/Gurugram</td>\n",
       "    </tr>\n",
       "    <tr>\n",
       "      <th>2</th>\n",
       "      <td>Data Analyst/Data Scientist</td>\n",
       "      <td>Skillenable Fintech Private Limited</td>\n",
       "      <td>2-5 Yrs</td>\n",
       "      <td>Bangalore/Bengaluru, Delhi / NCR, Mumbai (All ...</td>\n",
       "    </tr>\n",
       "    <tr>\n",
       "      <th>3</th>\n",
       "      <td>Data Scientist</td>\n",
       "      <td>PROCESS NINE TECHNOLOGIES PVT.LTD.</td>\n",
       "      <td>1-3 Yrs</td>\n",
       "      <td>Gurgaon/Gurugram\\n(WFH during Covid)</td>\n",
       "    </tr>\n",
       "    <tr>\n",
       "      <th>4</th>\n",
       "      <td>Data Scientist/ Machine Learning Engineer</td>\n",
       "      <td>Creative Hands HR Consultancy</td>\n",
       "      <td>0-0 Yrs</td>\n",
       "      <td>Mohali/SAS Nagar, Hyderabad/Secunderabad, Ahme...</td>\n",
       "    </tr>\n",
       "    <tr>\n",
       "      <th>5</th>\n",
       "      <td>Data Scientist / Data Analyst / Business Analy...</td>\n",
       "      <td>GABA Consultancy services</td>\n",
       "      <td>0-0 Yrs</td>\n",
       "      <td>Noida, New Delhi, Gurgaon/Gurugram</td>\n",
       "    </tr>\n",
       "    <tr>\n",
       "      <th>6</th>\n",
       "      <td>Data Scientist</td>\n",
       "      <td>R Systems International Ltd.</td>\n",
       "      <td>3-6 Yrs</td>\n",
       "      <td>Noida\\n(WFH during Covid)</td>\n",
       "    </tr>\n",
       "    <tr>\n",
       "      <th>7</th>\n",
       "      <td>Data Scientist - WFH - MIND Infotech</td>\n",
       "      <td>MOTHERSONSUMI INFOTECH &amp; DESIGNS LIMITED</td>\n",
       "      <td>3-7 Yrs</td>\n",
       "      <td>Pune, Chennai, Bangalore/Bengaluru, Delhi / NC...</td>\n",
       "    </tr>\n",
       "    <tr>\n",
       "      <th>8</th>\n",
       "      <td>Immediate Openings For Data Scientist For Wipr...</td>\n",
       "      <td>IDESLABS PRIVATE LIMITED</td>\n",
       "      <td>5-10 Yrs</td>\n",
       "      <td>Gurgaon/Gurugram</td>\n",
       "    </tr>\n",
       "    <tr>\n",
       "      <th>9</th>\n",
       "      <td>Data Scientist</td>\n",
       "      <td>Kusum Healthcare Pvt. Ltd.</td>\n",
       "      <td>4-6 Yrs</td>\n",
       "      <td>Delhi / NCR(Okhla)</td>\n",
       "    </tr>\n",
       "  </tbody>\n",
       "</table>\n",
       "</div>"
      ],
      "text/plain": [
       "                                          job_titles  \\\n",
       "0  Only Fresher / Data Scientist / Data Analyst /...   \n",
       "1                      Data Scientist / Data Analyst   \n",
       "2                        Data Analyst/Data Scientist   \n",
       "3                                     Data Scientist   \n",
       "4          Data Scientist/ Machine Learning Engineer   \n",
       "5  Data Scientist / Data Analyst / Business Analy...   \n",
       "6                                     Data Scientist   \n",
       "7               Data Scientist - WFH - MIND Infotech   \n",
       "8  Immediate Openings For Data Scientist For Wipr...   \n",
       "9                                     Data Scientist   \n",
       "\n",
       "                               company_name experience_required  \\\n",
       "0                 GABA Consultancy services             0-0 Yrs   \n",
       "1                                    CARS24             1-5 Yrs   \n",
       "2       Skillenable Fintech Private Limited             2-5 Yrs   \n",
       "3        PROCESS NINE TECHNOLOGIES PVT.LTD.             1-3 Yrs   \n",
       "4             Creative Hands HR Consultancy             0-0 Yrs   \n",
       "5                 GABA Consultancy services             0-0 Yrs   \n",
       "6              R Systems International Ltd.             3-6 Yrs   \n",
       "7  MOTHERSONSUMI INFOTECH & DESIGNS LIMITED             3-7 Yrs   \n",
       "8                  IDESLABS PRIVATE LIMITED            5-10 Yrs   \n",
       "9                Kusum Healthcare Pvt. Ltd.             4-6 Yrs   \n",
       "\n",
       "                                            location  \n",
       "0               Noida, Gurgaon/Gurugram, Delhi / NCR  \n",
       "1                                   Gurgaon/Gurugram  \n",
       "2  Bangalore/Bengaluru, Delhi / NCR, Mumbai (All ...  \n",
       "3               Gurgaon/Gurugram\\n(WFH during Covid)  \n",
       "4  Mohali/SAS Nagar, Hyderabad/Secunderabad, Ahme...  \n",
       "5                 Noida, New Delhi, Gurgaon/Gurugram  \n",
       "6                          Noida\\n(WFH during Covid)  \n",
       "7  Pune, Chennai, Bangalore/Bengaluru, Delhi / NC...  \n",
       "8                                   Gurgaon/Gurugram  \n",
       "9                                 Delhi / NCR(Okhla)  "
      ]
     },
     "execution_count": 343,
     "metadata": {},
     "output_type": "execute_result"
    }
   ],
   "source": [
    "jobs=pd.DataFrame({})\n",
    "jobs[\"job_titles\"]=job_titles[:10]\n",
    "jobs[\"company_name\"]=company_name[:10]\n",
    "jobs[\"experience_required\"]=experience_list[:10]\n",
    "jobs[\"location\"]=location_list[:10]\n",
    "jobs"
   ]
  },
  {
   "cell_type": "markdown",
   "id": "48495fb7",
   "metadata": {},
   "source": [
    "Q4: Write a python program to scrape data for first 10 job results for Data scientist Designation in Noida location. You have to scrape company_name, No. of days \n",
    "ago when job was posted, Rating of the company.\n",
    "\n"
   ]
  },
  {
   "cell_type": "markdown",
   "id": "e3ef9de0",
   "metadata": {},
   "source": [
    "# This task will be done in following steps:\n",
    "    1. first get the webpage https://www.glassdoor.co.in/index.htm\n",
    "    2. Enter “Data Scientist” in “Job Title,Keyword,Company” field and enter “Noida” in “location” field.\n",
    "    3. Then click the search button. You will land up in the below page:\n",
    "    4. Then scrape the data for the first 10 jobs results you get in the above shown page.\n",
    "    5. Finally create a dataframe of the scraped data.\n",
    "    Note- All of the above steps have to be done in code. No step is to be done manually.\n",
    "\n",
    "\n",
    "\n"
   ]
  },
  {
   "cell_type": "code",
   "execution_count": 157,
   "id": "ec53f543",
   "metadata": {},
   "outputs": [],
   "source": [
    "#lets first connect to the web driver\n",
    "driver=webdriver.Edge(\"msedgedriver.exe\")"
   ]
  },
  {
   "cell_type": "code",
   "execution_count": 160,
   "id": "4ddcee68",
   "metadata": {},
   "outputs": [],
   "source": [
    "url='https://www.glassdoor.co.in/index.htm'\n",
    "driver.get(url)"
   ]
  },
  {
   "cell_type": "code",
   "execution_count": 162,
   "id": "7bf9a9ad",
   "metadata": {},
   "outputs": [],
   "source": [
    "search_job=driver.find_element_by_xpath('//div[@class=\"d-flex d-lg-none pr-std\"]')\n",
    "search_job.click()"
   ]
  },
  {
   "cell_type": "code",
   "execution_count": 163,
   "id": "25aa82a2",
   "metadata": {},
   "outputs": [
    {
     "data": {
      "text/plain": [
       "<selenium.webdriver.remote.webelement.WebElement (session=\"d35186f8944554c39b607f1f907077ec\", element=\"27de8a2a-c151-4cbd-9ebf-31a0926aaf9f\")>"
      ]
     },
     "execution_count": 163,
     "metadata": {},
     "output_type": "execute_result"
    }
   ],
   "source": [
    "search_job=driver.find_element_by_id(\"scKeyword\")\n",
    "search_job"
   ]
  },
  {
   "cell_type": "code",
   "execution_count": 164,
   "id": "f754572f",
   "metadata": {},
   "outputs": [],
   "source": [
    "#write on search bar\n",
    "search_job.send_keys(\"Data Scientist\")"
   ]
  },
  {
   "cell_type": "code",
   "execution_count": 165,
   "id": "5dcf4d0a",
   "metadata": {},
   "outputs": [],
   "source": [
    "#finding the element for job location\n",
    "search_loc=driver.find_element_by_id(\"scLocation\")\n",
    "search_loc.send_keys(\"Noida\")"
   ]
  },
  {
   "cell_type": "code",
   "execution_count": 166,
   "id": "6c03de71",
   "metadata": {},
   "outputs": [],
   "source": [
    "search_btn=driver.find_element_by_xpath('//button[@class=\"pl-0 pr-xsm search__SearchStyles__searchKeywordSubmit\"]')\n",
    "search_btn.click()"
   ]
  },
  {
   "cell_type": "code",
   "execution_count": 167,
   "id": "0ec51568",
   "metadata": {},
   "outputs": [
    {
     "data": {
      "text/plain": [
       "[<selenium.webdriver.remote.webelement.WebElement (session=\"d35186f8944554c39b607f1f907077ec\", element=\"32d4478e-3590-4647-b5a9-996bd15022e6\")>,\n",
       " <selenium.webdriver.remote.webelement.WebElement (session=\"d35186f8944554c39b607f1f907077ec\", element=\"6f54dc12-b41d-4b3a-a4fe-131f8359afca\")>,\n",
       " <selenium.webdriver.remote.webelement.WebElement (session=\"d35186f8944554c39b607f1f907077ec\", element=\"c89bd271-2d3d-4263-9640-eb71e6b64004\")>,\n",
       " <selenium.webdriver.remote.webelement.WebElement (session=\"d35186f8944554c39b607f1f907077ec\", element=\"bf07a1fe-102d-4b1e-9082-c25ce8eee31d\")>,\n",
       " <selenium.webdriver.remote.webelement.WebElement (session=\"d35186f8944554c39b607f1f907077ec\", element=\"90b22d78-1121-4839-9d5c-dc3194d3cc5f\")>,\n",
       " <selenium.webdriver.remote.webelement.WebElement (session=\"d35186f8944554c39b607f1f907077ec\", element=\"6f6b23c0-c2b5-400a-8f32-83a0f0f38476\")>,\n",
       " <selenium.webdriver.remote.webelement.WebElement (session=\"d35186f8944554c39b607f1f907077ec\", element=\"3ecd0dde-4bc2-4d96-8312-d9fa6b57d016\")>,\n",
       " <selenium.webdriver.remote.webelement.WebElement (session=\"d35186f8944554c39b607f1f907077ec\", element=\"cc0a3512-0458-4de1-94ba-64461e15876d\")>,\n",
       " <selenium.webdriver.remote.webelement.WebElement (session=\"d35186f8944554c39b607f1f907077ec\", element=\"62a6def6-8bc3-48f7-97a5-c625f2849916\")>,\n",
       " <selenium.webdriver.remote.webelement.WebElement (session=\"d35186f8944554c39b607f1f907077ec\", element=\"e3be26ec-ea6c-4e0c-857a-5e65fe6aabe6\")>,\n",
       " <selenium.webdriver.remote.webelement.WebElement (session=\"d35186f8944554c39b607f1f907077ec\", element=\"4a0ee7dd-bea6-4f14-b5ec-b52834e784af\")>,\n",
       " <selenium.webdriver.remote.webelement.WebElement (session=\"d35186f8944554c39b607f1f907077ec\", element=\"ce1aea93-a160-4070-8241-fd6e345e1c90\")>,\n",
       " <selenium.webdriver.remote.webelement.WebElement (session=\"d35186f8944554c39b607f1f907077ec\", element=\"dfcd5017-ad4d-4cab-ae24-bf7ffec9539e\")>,\n",
       " <selenium.webdriver.remote.webelement.WebElement (session=\"d35186f8944554c39b607f1f907077ec\", element=\"1d05867b-4345-475c-92c8-c1335bcb0d0a\")>,\n",
       " <selenium.webdriver.remote.webelement.WebElement (session=\"d35186f8944554c39b607f1f907077ec\", element=\"ced90c16-c1a6-4c50-aafc-28eb81b56209\")>,\n",
       " <selenium.webdriver.remote.webelement.WebElement (session=\"d35186f8944554c39b607f1f907077ec\", element=\"0c39a1e2-0ba9-4082-b110-ace520044c9b\")>,\n",
       " <selenium.webdriver.remote.webelement.WebElement (session=\"d35186f8944554c39b607f1f907077ec\", element=\"74e43762-9205-47bb-a5f3-e2c41f306861\")>,\n",
       " <selenium.webdriver.remote.webelement.WebElement (session=\"d35186f8944554c39b607f1f907077ec\", element=\"996948c2-e0d3-4184-947e-30a03e923dee\")>,\n",
       " <selenium.webdriver.remote.webelement.WebElement (session=\"d35186f8944554c39b607f1f907077ec\", element=\"86bb3af7-45f8-4f25-bde7-cbd452072ab5\")>,\n",
       " <selenium.webdriver.remote.webelement.WebElement (session=\"d35186f8944554c39b607f1f907077ec\", element=\"0c8bb5e7-14dc-49be-9b0a-72b1d20d3a90\")>,\n",
       " <selenium.webdriver.remote.webelement.WebElement (session=\"d35186f8944554c39b607f1f907077ec\", element=\"cb4072ec-d43b-4432-b2b4-965a7eadf3b2\")>,\n",
       " <selenium.webdriver.remote.webelement.WebElement (session=\"d35186f8944554c39b607f1f907077ec\", element=\"e50e46d5-3fe8-42a7-9048-ac7422a9deaf\")>,\n",
       " <selenium.webdriver.remote.webelement.WebElement (session=\"d35186f8944554c39b607f1f907077ec\", element=\"95fbe938-4819-4309-aca1-6a34e4d86a88\")>,\n",
       " <selenium.webdriver.remote.webelement.WebElement (session=\"d35186f8944554c39b607f1f907077ec\", element=\"70ace4d5-9242-4968-a362-1388b0819842\")>,\n",
       " <selenium.webdriver.remote.webelement.WebElement (session=\"d35186f8944554c39b607f1f907077ec\", element=\"a441fb1a-3174-4af4-800f-e9fcfa7eb74a\")>,\n",
       " <selenium.webdriver.remote.webelement.WebElement (session=\"d35186f8944554c39b607f1f907077ec\", element=\"0ddbfaeb-f74c-496d-9bad-45836d7cb865\")>,\n",
       " <selenium.webdriver.remote.webelement.WebElement (session=\"d35186f8944554c39b607f1f907077ec\", element=\"f882685b-a453-49de-9073-0659ef54f970\")>,\n",
       " <selenium.webdriver.remote.webelement.WebElement (session=\"d35186f8944554c39b607f1f907077ec\", element=\"36262db3-0208-47e0-91a2-372bde932af8\")>,\n",
       " <selenium.webdriver.remote.webelement.WebElement (session=\"d35186f8944554c39b607f1f907077ec\", element=\"d622874c-6e03-4d23-af19-5939bb94aa2d\")>,\n",
       " <selenium.webdriver.remote.webelement.WebElement (session=\"d35186f8944554c39b607f1f907077ec\", element=\"2cdebdf8-50b2-4b21-96cc-09f1b8d92e64\")>]"
      ]
     },
     "execution_count": 167,
     "metadata": {},
     "output_type": "execute_result"
    }
   ],
   "source": [
    "company_tags=driver.find_elements_by_xpath('//a[@class=\" job-search-key-l2wjgv e1n63ojh0 jobLink\"]')\n",
    "company_tags"
   ]
  },
  {
   "cell_type": "code",
   "execution_count": 168,
   "id": "e2ae4dc4",
   "metadata": {},
   "outputs": [
    {
     "data": {
      "text/plain": [
       "['Liberin Technologies Private Limited',\n",
       " 'Noisy Lion',\n",
       " 'AlgoScale Technologies Private Limited',\n",
       " 'Grail Insights',\n",
       " 'Grail Insights',\n",
       " 'Innovacer',\n",
       " 'Lenskart',\n",
       " 'Genpact',\n",
       " 'Salasar New Age Technologies',\n",
       " 'Ericsson',\n",
       " 'Newgen Software',\n",
       " 'Techlive',\n",
       " 'IBM',\n",
       " 'Salasar New Age Technologies',\n",
       " 'Crowe',\n",
       " 'Ishatva Management Solutions',\n",
       " 'SearchUrCollege',\n",
       " 'ING',\n",
       " 'OneAssist Consumer Solutions Private Limited',\n",
       " 'Airtel India',\n",
       " 'Crypto Mize',\n",
       " 'Biz2Credit Inc',\n",
       " 'limeroad.com',\n",
       " 'CSTEP',\n",
       " 'NEC Opportunities',\n",
       " 'WishFin',\n",
       " '2COMs',\n",
       " 'CRMNEXT',\n",
       " 'Saishaa Services',\n",
       " 'Adobe']"
      ]
     },
     "execution_count": 168,
     "metadata": {},
     "output_type": "execute_result"
    }
   ],
   "source": [
    "company_name=[]\n",
    "for i in company_tags:\n",
    "    company_name.append(i.text)\n",
    "company_name"
   ]
  },
  {
   "cell_type": "code",
   "execution_count": 169,
   "id": "6e8c6dc6",
   "metadata": {},
   "outputs": [
    {
     "data": {
      "text/plain": [
       "30"
      ]
     },
     "execution_count": 169,
     "metadata": {},
     "output_type": "execute_result"
    }
   ],
   "source": [
    "len(company_name)"
   ]
  },
  {
   "cell_type": "code",
   "execution_count": 170,
   "id": "5fe58887",
   "metadata": {},
   "outputs": [
    {
     "data": {
      "text/plain": [
       "[<selenium.webdriver.remote.webelement.WebElement (session=\"d35186f8944554c39b607f1f907077ec\", element=\"2c577a4f-2902-42a2-9ff0-198d038f1b80\")>,\n",
       " <selenium.webdriver.remote.webelement.WebElement (session=\"d35186f8944554c39b607f1f907077ec\", element=\"57125b9a-3c1e-4253-8ff5-ef077cfa6b4a\")>,\n",
       " <selenium.webdriver.remote.webelement.WebElement (session=\"d35186f8944554c39b607f1f907077ec\", element=\"467978b9-c312-4156-a669-aa7034088807\")>,\n",
       " <selenium.webdriver.remote.webelement.WebElement (session=\"d35186f8944554c39b607f1f907077ec\", element=\"d47a8a71-fd0f-45d7-93e2-d4e6acff6092\")>,\n",
       " <selenium.webdriver.remote.webelement.WebElement (session=\"d35186f8944554c39b607f1f907077ec\", element=\"d9177ce7-5597-4fd3-bd5e-2edda4010495\")>,\n",
       " <selenium.webdriver.remote.webelement.WebElement (session=\"d35186f8944554c39b607f1f907077ec\", element=\"5a5a40f7-4ad8-42a7-b2da-0e1319af4361\")>,\n",
       " <selenium.webdriver.remote.webelement.WebElement (session=\"d35186f8944554c39b607f1f907077ec\", element=\"991727a2-7dd4-47eb-aaa8-7affb4fd2fad\")>,\n",
       " <selenium.webdriver.remote.webelement.WebElement (session=\"d35186f8944554c39b607f1f907077ec\", element=\"3051730e-ea39-4d4f-a652-134f2dfda618\")>,\n",
       " <selenium.webdriver.remote.webelement.WebElement (session=\"d35186f8944554c39b607f1f907077ec\", element=\"9f861063-3e37-42d0-8f20-202e65af19c7\")>,\n",
       " <selenium.webdriver.remote.webelement.WebElement (session=\"d35186f8944554c39b607f1f907077ec\", element=\"c82290fe-fec5-4dd1-b9a7-203aef99d838\")>,\n",
       " <selenium.webdriver.remote.webelement.WebElement (session=\"d35186f8944554c39b607f1f907077ec\", element=\"3823d755-6356-4b8b-b10a-a15584065916\")>,\n",
       " <selenium.webdriver.remote.webelement.WebElement (session=\"d35186f8944554c39b607f1f907077ec\", element=\"da842d74-80c5-4937-8b56-5436cb2c5bb5\")>,\n",
       " <selenium.webdriver.remote.webelement.WebElement (session=\"d35186f8944554c39b607f1f907077ec\", element=\"8ebb295f-8aa0-48f8-b79b-3e10806c52b0\")>,\n",
       " <selenium.webdriver.remote.webelement.WebElement (session=\"d35186f8944554c39b607f1f907077ec\", element=\"dc2cc809-07c5-4c19-a8a9-1ee2c26a7600\")>,\n",
       " <selenium.webdriver.remote.webelement.WebElement (session=\"d35186f8944554c39b607f1f907077ec\", element=\"d7eba7ef-d23b-415b-bbea-790c41edac16\")>,\n",
       " <selenium.webdriver.remote.webelement.WebElement (session=\"d35186f8944554c39b607f1f907077ec\", element=\"2a538f98-2e6a-4b97-b956-6d8422175e09\")>,\n",
       " <selenium.webdriver.remote.webelement.WebElement (session=\"d35186f8944554c39b607f1f907077ec\", element=\"8e7e2762-3faf-4cd3-a6dd-3db623b8fb4e\")>,\n",
       " <selenium.webdriver.remote.webelement.WebElement (session=\"d35186f8944554c39b607f1f907077ec\", element=\"6ba66bed-9fda-4b8c-bcdc-7315aa622482\")>,\n",
       " <selenium.webdriver.remote.webelement.WebElement (session=\"d35186f8944554c39b607f1f907077ec\", element=\"7f21c3de-ab3d-4835-aeed-b09b8fc26ca8\")>,\n",
       " <selenium.webdriver.remote.webelement.WebElement (session=\"d35186f8944554c39b607f1f907077ec\", element=\"70cfcfbc-e14b-448a-bc05-fe0c8954873f\")>,\n",
       " <selenium.webdriver.remote.webelement.WebElement (session=\"d35186f8944554c39b607f1f907077ec\", element=\"513273f9-e37c-4cde-aedf-c36fa7213f27\")>,\n",
       " <selenium.webdriver.remote.webelement.WebElement (session=\"d35186f8944554c39b607f1f907077ec\", element=\"eb64f514-abfc-4925-9103-2513696eebba\")>,\n",
       " <selenium.webdriver.remote.webelement.WebElement (session=\"d35186f8944554c39b607f1f907077ec\", element=\"ed03e54f-5667-4b61-8c51-28a903ddd3dd\")>,\n",
       " <selenium.webdriver.remote.webelement.WebElement (session=\"d35186f8944554c39b607f1f907077ec\", element=\"d94abfa9-c1c4-4153-98d2-3a98a82f9233\")>,\n",
       " <selenium.webdriver.remote.webelement.WebElement (session=\"d35186f8944554c39b607f1f907077ec\", element=\"5f2293af-62eb-4584-b4f5-af35b50e1722\")>,\n",
       " <selenium.webdriver.remote.webelement.WebElement (session=\"d35186f8944554c39b607f1f907077ec\", element=\"b569e20e-c3ad-4e4e-ab49-53f0dd06306d\")>,\n",
       " <selenium.webdriver.remote.webelement.WebElement (session=\"d35186f8944554c39b607f1f907077ec\", element=\"c61d38f9-32f9-4e5f-8df1-082531366253\")>,\n",
       " <selenium.webdriver.remote.webelement.WebElement (session=\"d35186f8944554c39b607f1f907077ec\", element=\"a8d37642-d0ce-4e70-ba5d-f0c406b69f39\")>,\n",
       " <selenium.webdriver.remote.webelement.WebElement (session=\"d35186f8944554c39b607f1f907077ec\", element=\"ff611a32-499e-473a-a245-7e9568acd345\")>,\n",
       " <selenium.webdriver.remote.webelement.WebElement (session=\"d35186f8944554c39b607f1f907077ec\", element=\"06341997-1787-418e-858f-796936993ffd\")>]"
      ]
     },
     "execution_count": 170,
     "metadata": {},
     "output_type": "execute_result"
    }
   ],
   "source": [
    "jobs_posted_tags=driver.find_elements_by_xpath('//div[@class=\"d-flex align-items-end pl-std css-17n8uzw\"]')\n",
    "jobs_posted_tags"
   ]
  },
  {
   "cell_type": "code",
   "execution_count": 171,
   "id": "2f5c2e6d",
   "metadata": {},
   "outputs": [
    {
     "data": {
      "text/plain": [
       "['30d+',\n",
       " '24h',\n",
       " '14d',\n",
       " '24h',\n",
       " '24h',\n",
       " '30d+',\n",
       " '2d',\n",
       " '2d',\n",
       " '30d+',\n",
       " '7d',\n",
       " '30d+',\n",
       " '30d+',\n",
       " '19d',\n",
       " '30d+',\n",
       " '30d+',\n",
       " '10d',\n",
       " '30d+',\n",
       " '6d',\n",
       " '24h',\n",
       " '20d',\n",
       " '22d',\n",
       " '30d+',\n",
       " '14d',\n",
       " '30d+',\n",
       " '21d',\n",
       " '30d+',\n",
       " '16d',\n",
       " '29d',\n",
       " '16d',\n",
       " '5d']"
      ]
     },
     "execution_count": 171,
     "metadata": {},
     "output_type": "execute_result"
    }
   ],
   "source": [
    "jobs_posted=[]\n",
    "for i in jobs_posted_tags:\n",
    "    jobs_posted.append(i.text)\n",
    "jobs_posted"
   ]
  },
  {
   "cell_type": "code",
   "execution_count": 172,
   "id": "b68aa55c",
   "metadata": {},
   "outputs": [
    {
     "data": {
      "text/plain": [
       "30"
      ]
     },
     "execution_count": 172,
     "metadata": {},
     "output_type": "execute_result"
    }
   ],
   "source": [
    "len(jobs_posted)"
   ]
  },
  {
   "cell_type": "code",
   "execution_count": 174,
   "id": "c78517d7",
   "metadata": {},
   "outputs": [
    {
     "data": {
      "text/plain": [
       "[<selenium.webdriver.remote.webelement.WebElement (session=\"d35186f8944554c39b607f1f907077ec\", element=\"775bb54f-8276-4d55-a5e6-1b998ffc0c0c\")>,\n",
       " <selenium.webdriver.remote.webelement.WebElement (session=\"d35186f8944554c39b607f1f907077ec\", element=\"358291e0-5527-4d08-b4eb-b519168fd790\")>,\n",
       " <selenium.webdriver.remote.webelement.WebElement (session=\"d35186f8944554c39b607f1f907077ec\", element=\"c837af37-4dd2-4e03-9c6a-3754cfbc4ee4\")>,\n",
       " <selenium.webdriver.remote.webelement.WebElement (session=\"d35186f8944554c39b607f1f907077ec\", element=\"9cdaf6a0-f44e-48da-bd65-de1efe0ea669\")>,\n",
       " <selenium.webdriver.remote.webelement.WebElement (session=\"d35186f8944554c39b607f1f907077ec\", element=\"6a27ca94-ae04-4c89-893e-e38517f1012e\")>,\n",
       " <selenium.webdriver.remote.webelement.WebElement (session=\"d35186f8944554c39b607f1f907077ec\", element=\"3a2d8148-68cd-4625-90b8-bb72ef2536a1\")>,\n",
       " <selenium.webdriver.remote.webelement.WebElement (session=\"d35186f8944554c39b607f1f907077ec\", element=\"7dc8cc8c-eece-499e-9465-3191a6828b95\")>,\n",
       " <selenium.webdriver.remote.webelement.WebElement (session=\"d35186f8944554c39b607f1f907077ec\", element=\"385657b1-2218-4616-98db-0c9459d9100d\")>,\n",
       " <selenium.webdriver.remote.webelement.WebElement (session=\"d35186f8944554c39b607f1f907077ec\", element=\"b1ee814a-3036-4d28-a3e0-7ceef68bc660\")>,\n",
       " <selenium.webdriver.remote.webelement.WebElement (session=\"d35186f8944554c39b607f1f907077ec\", element=\"0e9e728f-84d2-4256-b700-fa15b57b2e7a\")>,\n",
       " <selenium.webdriver.remote.webelement.WebElement (session=\"d35186f8944554c39b607f1f907077ec\", element=\"52bc753d-184f-47bc-ab40-376e5adb3987\")>,\n",
       " <selenium.webdriver.remote.webelement.WebElement (session=\"d35186f8944554c39b607f1f907077ec\", element=\"c4b0a93b-ff3b-431c-94b4-53d4f9e254e6\")>,\n",
       " <selenium.webdriver.remote.webelement.WebElement (session=\"d35186f8944554c39b607f1f907077ec\", element=\"598cbc2e-c379-42fc-b60d-a9941734b72b\")>,\n",
       " <selenium.webdriver.remote.webelement.WebElement (session=\"d35186f8944554c39b607f1f907077ec\", element=\"acb1dea6-ab9d-4fd2-890f-bfacaded5514\")>,\n",
       " <selenium.webdriver.remote.webelement.WebElement (session=\"d35186f8944554c39b607f1f907077ec\", element=\"321a4979-0a8e-4892-ae10-7e11d54cacc5\")>,\n",
       " <selenium.webdriver.remote.webelement.WebElement (session=\"d35186f8944554c39b607f1f907077ec\", element=\"b3f074a6-933b-4313-aceb-3f27f1c4f0fc\")>,\n",
       " <selenium.webdriver.remote.webelement.WebElement (session=\"d35186f8944554c39b607f1f907077ec\", element=\"b3610fe0-4bab-4dd1-a4b4-ad914e7b1153\")>,\n",
       " <selenium.webdriver.remote.webelement.WebElement (session=\"d35186f8944554c39b607f1f907077ec\", element=\"cd9b51a1-31d9-4782-b466-27e5e7d177e0\")>,\n",
       " <selenium.webdriver.remote.webelement.WebElement (session=\"d35186f8944554c39b607f1f907077ec\", element=\"669f946d-bd38-4118-9e33-3a27843d9c14\")>,\n",
       " <selenium.webdriver.remote.webelement.WebElement (session=\"d35186f8944554c39b607f1f907077ec\", element=\"95d11cb8-dffb-4db5-a95d-de6091d6c8d9\")>]"
      ]
     },
     "execution_count": 174,
     "metadata": {},
     "output_type": "execute_result"
    }
   ],
   "source": [
    "ratings_tags=driver.find_elements_by_xpath('//span[@class=\" job-search-key-srfzj0 e1cjmv6j0\"]')\n",
    "ratings_tags"
   ]
  },
  {
   "cell_type": "code",
   "execution_count": 175,
   "id": "294abc73",
   "metadata": {},
   "outputs": [
    {
     "data": {
      "text/plain": [
       "['3.9',\n",
       " '3.5',\n",
       " '3.5',\n",
       " '3.8',\n",
       " '3.6',\n",
       " '3.8',\n",
       " '4.1',\n",
       " '3.3',\n",
       " '3.9',\n",
       " '3.8',\n",
       " '4.0',\n",
       " '3.6',\n",
       " '3.8',\n",
       " '5.0',\n",
       " '4.2',\n",
       " '3.2',\n",
       " '3.8',\n",
       " '3.8',\n",
       " '3.7',\n",
       " '4.4']"
      ]
     },
     "execution_count": 175,
     "metadata": {},
     "output_type": "execute_result"
    }
   ],
   "source": [
    "ratings_company=[]\n",
    "for i in ratings_tags:\n",
    "    ratings_company.append(i.text)\n",
    "ratings_company"
   ]
  },
  {
   "cell_type": "code",
   "execution_count": 176,
   "id": "9f8da512",
   "metadata": {},
   "outputs": [
    {
     "data": {
      "text/plain": [
       "20"
      ]
     },
     "execution_count": 176,
     "metadata": {},
     "output_type": "execute_result"
    }
   ],
   "source": [
    "len(ratings_company)"
   ]
  },
  {
   "cell_type": "code",
   "execution_count": 179,
   "id": "55b14a5a",
   "metadata": {},
   "outputs": [
    {
     "data": {
      "text/html": [
       "<div>\n",
       "<style scoped>\n",
       "    .dataframe tbody tr th:only-of-type {\n",
       "        vertical-align: middle;\n",
       "    }\n",
       "\n",
       "    .dataframe tbody tr th {\n",
       "        vertical-align: top;\n",
       "    }\n",
       "\n",
       "    .dataframe thead th {\n",
       "        text-align: right;\n",
       "    }\n",
       "</style>\n",
       "<table border=\"1\" class=\"dataframe\">\n",
       "  <thead>\n",
       "    <tr style=\"text-align: right;\">\n",
       "      <th></th>\n",
       "      <th>company_name</th>\n",
       "      <th>jobs_posted</th>\n",
       "      <th>ratings_company</th>\n",
       "    </tr>\n",
       "  </thead>\n",
       "  <tbody>\n",
       "    <tr>\n",
       "      <th>0</th>\n",
       "      <td>Liberin Technologies Private Limited</td>\n",
       "      <td>30d+</td>\n",
       "      <td>3.9</td>\n",
       "    </tr>\n",
       "    <tr>\n",
       "      <th>1</th>\n",
       "      <td>Noisy Lion</td>\n",
       "      <td>24h</td>\n",
       "      <td>3.5</td>\n",
       "    </tr>\n",
       "    <tr>\n",
       "      <th>2</th>\n",
       "      <td>AlgoScale Technologies Private Limited</td>\n",
       "      <td>14d</td>\n",
       "      <td>3.5</td>\n",
       "    </tr>\n",
       "    <tr>\n",
       "      <th>3</th>\n",
       "      <td>Grail Insights</td>\n",
       "      <td>24h</td>\n",
       "      <td>3.8</td>\n",
       "    </tr>\n",
       "    <tr>\n",
       "      <th>4</th>\n",
       "      <td>Grail Insights</td>\n",
       "      <td>24h</td>\n",
       "      <td>3.6</td>\n",
       "    </tr>\n",
       "    <tr>\n",
       "      <th>5</th>\n",
       "      <td>Innovacer</td>\n",
       "      <td>30d+</td>\n",
       "      <td>3.8</td>\n",
       "    </tr>\n",
       "    <tr>\n",
       "      <th>6</th>\n",
       "      <td>Lenskart</td>\n",
       "      <td>2d</td>\n",
       "      <td>4.1</td>\n",
       "    </tr>\n",
       "    <tr>\n",
       "      <th>7</th>\n",
       "      <td>Genpact</td>\n",
       "      <td>2d</td>\n",
       "      <td>3.3</td>\n",
       "    </tr>\n",
       "    <tr>\n",
       "      <th>8</th>\n",
       "      <td>Salasar New Age Technologies</td>\n",
       "      <td>30d+</td>\n",
       "      <td>3.9</td>\n",
       "    </tr>\n",
       "    <tr>\n",
       "      <th>9</th>\n",
       "      <td>Ericsson</td>\n",
       "      <td>7d</td>\n",
       "      <td>3.8</td>\n",
       "    </tr>\n",
       "  </tbody>\n",
       "</table>\n",
       "</div>"
      ],
      "text/plain": [
       "                             company_name jobs_posted ratings_company\n",
       "0    Liberin Technologies Private Limited        30d+             3.9\n",
       "1                              Noisy Lion         24h             3.5\n",
       "2  AlgoScale Technologies Private Limited         14d             3.5\n",
       "3                          Grail Insights         24h             3.8\n",
       "4                          Grail Insights         24h             3.6\n",
       "5                               Innovacer        30d+             3.8\n",
       "6                                Lenskart          2d             4.1\n",
       "7                                 Genpact          2d             3.3\n",
       "8            Salasar New Age Technologies        30d+             3.9\n",
       "9                                Ericsson          7d             3.8"
      ]
     },
     "execution_count": 179,
     "metadata": {},
     "output_type": "execute_result"
    }
   ],
   "source": [
    "jobs=pd.DataFrame({})\n",
    "jobs[\"company_name\"]=company_name[:10]\n",
    "jobs[\"jobs_posted\"]=jobs_posted[:10]\n",
    "jobs['ratings_company']=ratings_company[:10]\n",
    "jobs"
   ]
  },
  {
   "cell_type": "code",
   "execution_count": null,
   "id": "4fb1b839",
   "metadata": {},
   "outputs": [],
   "source": []
  },
  {
   "cell_type": "markdown",
   "id": "2c1b5f16",
   "metadata": {},
   "source": [
    "Q5: Write a python program to scrape the salary data for Data Scientist designation in Noida location.\n",
    "You have to scrape Company name, Number of salaries, Average salary, Min salary, Max Salary.\n",
    "\n",
    "\n"
   ]
  },
  {
   "cell_type": "markdown",
   "id": "561f975a",
   "metadata": {},
   "source": [
    "# The above task will be, done as shown in the below steps:\n",
    "    1. first get the webpage https://www.glassdoor.co.in/Salaries/index.htm\n",
    "    2. Enter “Data Scientist” in Job title field and “Noida” in location field.\n",
    "    3. Click the search button.\n",
    "    4. After that you will land on the below page You have to scrape whole data from this webpage\n",
    "    5. Scrape data for first 10 companies. Scrape the min salary, max salary, company name, Average salary and rating of the company.\n",
    "    6.Store the data in a dataframe.Note that all of the above steps have to be done by coding only and not manually.\n",
    " \n",
    "\n",
    "\n"
   ]
  },
  {
   "cell_type": "code",
   "execution_count": 217,
   "id": "cc9dc0ad",
   "metadata": {},
   "outputs": [],
   "source": [
    "#lets first connect to the web driver\n",
    "driver=webdriver.Edge(\"msedgedriver.exe\")"
   ]
  },
  {
   "cell_type": "code",
   "execution_count": 218,
   "id": "87fced62",
   "metadata": {},
   "outputs": [],
   "source": [
    "url='https://www.glassdoor.co.in/Salaries/index.htm'\n",
    "driver.get(url)"
   ]
  },
  {
   "cell_type": "code",
   "execution_count": 219,
   "id": "2093788c",
   "metadata": {},
   "outputs": [
    {
     "data": {
      "text/plain": [
       "<selenium.webdriver.remote.webelement.WebElement (session=\"ee1cf38741319c7d07f4ae0e8f644bb5\", element=\"704deb21-377a-4b84-9f7c-a54e68d0262c\")>"
      ]
     },
     "execution_count": 219,
     "metadata": {},
     "output_type": "execute_result"
    }
   ],
   "source": [
    "search_job=driver.find_element_by_id(\"KeywordSearch\")\n",
    "search_job"
   ]
  },
  {
   "cell_type": "code",
   "execution_count": 220,
   "id": "99d45146",
   "metadata": {},
   "outputs": [],
   "source": [
    "#write on search bar\n",
    "search_job.send_keys(\"Data Scientist\")"
   ]
  },
  {
   "cell_type": "code",
   "execution_count": 221,
   "id": "7e90ad91",
   "metadata": {},
   "outputs": [],
   "source": [
    "#finding the element for job location\n",
    "search_loc=driver.find_element_by_id(\"LocationSearch\")\n",
    "search_loc.send_keys(\"Noida\")"
   ]
  },
  {
   "cell_type": "code",
   "execution_count": 222,
   "id": "d79fc6a7",
   "metadata": {},
   "outputs": [],
   "source": [
    "search_btn=driver.find_element_by_xpath('//button[@class=\"gd-btn-mkt\"]')\n",
    "search_btn.click()"
   ]
  },
  {
   "cell_type": "code",
   "execution_count": 223,
   "id": "6ed9fe3b",
   "metadata": {},
   "outputs": [
    {
     "data": {
      "text/plain": [
       "[<selenium.webdriver.remote.webelement.WebElement (session=\"ee1cf38741319c7d07f4ae0e8f644bb5\", element=\"5e192325-d7af-4117-a4d2-03a46616a67f\")>,\n",
       " <selenium.webdriver.remote.webelement.WebElement (session=\"ee1cf38741319c7d07f4ae0e8f644bb5\", element=\"7ee46950-1b54-4566-b086-086a12a640cc\")>,\n",
       " <selenium.webdriver.remote.webelement.WebElement (session=\"ee1cf38741319c7d07f4ae0e8f644bb5\", element=\"95f9faae-39d1-4a08-a5c6-57952e4d3b11\")>,\n",
       " <selenium.webdriver.remote.webelement.WebElement (session=\"ee1cf38741319c7d07f4ae0e8f644bb5\", element=\"6a74da02-c429-4c50-a875-c753bebe44f1\")>,\n",
       " <selenium.webdriver.remote.webelement.WebElement (session=\"ee1cf38741319c7d07f4ae0e8f644bb5\", element=\"762d729a-8a2c-4e9d-983d-87df2397ef5c\")>,\n",
       " <selenium.webdriver.remote.webelement.WebElement (session=\"ee1cf38741319c7d07f4ae0e8f644bb5\", element=\"31047eee-10bc-4bf3-8d28-8cffd15182f2\")>,\n",
       " <selenium.webdriver.remote.webelement.WebElement (session=\"ee1cf38741319c7d07f4ae0e8f644bb5\", element=\"7ab3ad74-f23b-4715-bd84-75d1910c36fa\")>,\n",
       " <selenium.webdriver.remote.webelement.WebElement (session=\"ee1cf38741319c7d07f4ae0e8f644bb5\", element=\"e66037ed-9509-4c70-8f6f-3ee2640bbb11\")>,\n",
       " <selenium.webdriver.remote.webelement.WebElement (session=\"ee1cf38741319c7d07f4ae0e8f644bb5\", element=\"b7f8cfc1-2359-4ba8-aca8-b0c0c4362ae2\")>,\n",
       " <selenium.webdriver.remote.webelement.WebElement (session=\"ee1cf38741319c7d07f4ae0e8f644bb5\", element=\"f827720f-367b-4b24-8a6a-b7033746960b\")>,\n",
       " <selenium.webdriver.remote.webelement.WebElement (session=\"ee1cf38741319c7d07f4ae0e8f644bb5\", element=\"249dd6f0-eaa8-4923-ba07-ee1233758d9d\")>,\n",
       " <selenium.webdriver.remote.webelement.WebElement (session=\"ee1cf38741319c7d07f4ae0e8f644bb5\", element=\"5d90d7b9-ec81-472c-8543-6c2e946f1100\")>,\n",
       " <selenium.webdriver.remote.webelement.WebElement (session=\"ee1cf38741319c7d07f4ae0e8f644bb5\", element=\"0f5953cb-a140-45e5-8f11-25fc8c959f69\")>,\n",
       " <selenium.webdriver.remote.webelement.WebElement (session=\"ee1cf38741319c7d07f4ae0e8f644bb5\", element=\"26be7ab4-d89b-4244-b4e3-668a52e7ac37\")>,\n",
       " <selenium.webdriver.remote.webelement.WebElement (session=\"ee1cf38741319c7d07f4ae0e8f644bb5\", element=\"aada643e-a05e-4fdf-8f3b-6969075371ac\")>,\n",
       " <selenium.webdriver.remote.webelement.WebElement (session=\"ee1cf38741319c7d07f4ae0e8f644bb5\", element=\"d61665ae-f9b2-4b3c-a23d-4a03c4d3409b\")>,\n",
       " <selenium.webdriver.remote.webelement.WebElement (session=\"ee1cf38741319c7d07f4ae0e8f644bb5\", element=\"1fb6e5d8-b4fb-4d48-83a6-e3c8cc49b481\")>,\n",
       " <selenium.webdriver.remote.webelement.WebElement (session=\"ee1cf38741319c7d07f4ae0e8f644bb5\", element=\"47a5ab6a-8cea-46f3-972c-5f9887dfc8f7\")>,\n",
       " <selenium.webdriver.remote.webelement.WebElement (session=\"ee1cf38741319c7d07f4ae0e8f644bb5\", element=\"47e920a9-2479-4048-8086-4ba000ab1ab5\")>,\n",
       " <selenium.webdriver.remote.webelement.WebElement (session=\"ee1cf38741319c7d07f4ae0e8f644bb5\", element=\"f4c204a9-3bc6-4b42-90bb-7c75bedcd013\")>]"
      ]
     },
     "execution_count": 223,
     "metadata": {},
     "output_type": "execute_result"
    }
   ],
   "source": [
    "company_tags=driver.find_elements_by_xpath('//a[@class=\"css-f3vw95 e1aj7ssy3\"]')\n",
    "company_tags"
   ]
  },
  {
   "cell_type": "code",
   "execution_count": 224,
   "id": "2245a3be",
   "metadata": {},
   "outputs": [
    {
     "data": {
      "text/plain": [
       "['Tata Consultancy Services',\n",
       " 'IBM',\n",
       " 'Accenture',\n",
       " 'Delhivery',\n",
       " 'Ericsson-Worldwide',\n",
       " 'UnitedHealth Group',\n",
       " 'Optum',\n",
       " 'Optum Global Solutions',\n",
       " 'Valiance Solutions',\n",
       " 'EXL Service',\n",
       " 'Cognizant Technology Solutions',\n",
       " 'ZS Associates',\n",
       " 'Nagarro',\n",
       " 'Innovaccer',\n",
       " 'OYO',\n",
       " 'dunnhumby',\n",
       " 'Amazon',\n",
       " 'CARS24.com',\n",
       " 'Vidooly Media Tech',\n",
       " 'ParallelDots']"
      ]
     },
     "execution_count": 224,
     "metadata": {},
     "output_type": "execute_result"
    }
   ],
   "source": [
    "company_name=[]\n",
    "for i in company_tags:\n",
    "    company_name.append(i.text)\n",
    "company_name"
   ]
  },
  {
   "cell_type": "code",
   "execution_count": 225,
   "id": "cd93d8fb",
   "metadata": {},
   "outputs": [
    {
     "data": {
      "text/plain": [
       "20"
      ]
     },
     "execution_count": 225,
     "metadata": {},
     "output_type": "execute_result"
    }
   ],
   "source": [
    "len(company_name)"
   ]
  },
  {
   "cell_type": "code",
   "execution_count": 226,
   "id": "30b90095",
   "metadata": {},
   "outputs": [
    {
     "data": {
      "text/plain": [
       "[<selenium.webdriver.remote.webelement.WebElement (session=\"ee1cf38741319c7d07f4ae0e8f644bb5\", element=\"e3ea1993-07f3-48aa-b160-c5e65158272e\")>,\n",
       " <selenium.webdriver.remote.webelement.WebElement (session=\"ee1cf38741319c7d07f4ae0e8f644bb5\", element=\"5c545c57-bb14-493d-a310-59ee05e7a498\")>,\n",
       " <selenium.webdriver.remote.webelement.WebElement (session=\"ee1cf38741319c7d07f4ae0e8f644bb5\", element=\"302d7b24-d30b-4ed3-9fee-88889f2fa24b\")>,\n",
       " <selenium.webdriver.remote.webelement.WebElement (session=\"ee1cf38741319c7d07f4ae0e8f644bb5\", element=\"9ec92a05-be0c-4e3f-b0cb-bf553b93bebc\")>,\n",
       " <selenium.webdriver.remote.webelement.WebElement (session=\"ee1cf38741319c7d07f4ae0e8f644bb5\", element=\"302310cd-a677-4c32-a385-632a1d5202e3\")>,\n",
       " <selenium.webdriver.remote.webelement.WebElement (session=\"ee1cf38741319c7d07f4ae0e8f644bb5\", element=\"2638a931-a5fd-4dae-875c-2415eaea3789\")>,\n",
       " <selenium.webdriver.remote.webelement.WebElement (session=\"ee1cf38741319c7d07f4ae0e8f644bb5\", element=\"9aed4420-0314-4161-bf1a-af3d1cbcf248\")>,\n",
       " <selenium.webdriver.remote.webelement.WebElement (session=\"ee1cf38741319c7d07f4ae0e8f644bb5\", element=\"2135b0ed-fe7d-4658-9a25-bf5d333b8a9e\")>,\n",
       " <selenium.webdriver.remote.webelement.WebElement (session=\"ee1cf38741319c7d07f4ae0e8f644bb5\", element=\"eca1b0af-8234-496e-831a-00efaccc1cdd\")>,\n",
       " <selenium.webdriver.remote.webelement.WebElement (session=\"ee1cf38741319c7d07f4ae0e8f644bb5\", element=\"4add8147-f4dd-4b19-8732-d69399448b9d\")>,\n",
       " <selenium.webdriver.remote.webelement.WebElement (session=\"ee1cf38741319c7d07f4ae0e8f644bb5\", element=\"19fb099f-9cce-4e69-803c-27ed1cb1afee\")>,\n",
       " <selenium.webdriver.remote.webelement.WebElement (session=\"ee1cf38741319c7d07f4ae0e8f644bb5\", element=\"3a5e48f3-2a62-47f2-b956-cfe847540880\")>,\n",
       " <selenium.webdriver.remote.webelement.WebElement (session=\"ee1cf38741319c7d07f4ae0e8f644bb5\", element=\"d4731816-fd10-489d-afaf-60b3f417774e\")>,\n",
       " <selenium.webdriver.remote.webelement.WebElement (session=\"ee1cf38741319c7d07f4ae0e8f644bb5\", element=\"91c39168-af3f-4708-9ce1-e8f898aea025\")>,\n",
       " <selenium.webdriver.remote.webelement.WebElement (session=\"ee1cf38741319c7d07f4ae0e8f644bb5\", element=\"8f721204-e770-4113-b5fe-7c5b677d6664\")>,\n",
       " <selenium.webdriver.remote.webelement.WebElement (session=\"ee1cf38741319c7d07f4ae0e8f644bb5\", element=\"41806937-ba81-4d63-9b2d-2b725274ba6b\")>,\n",
       " <selenium.webdriver.remote.webelement.WebElement (session=\"ee1cf38741319c7d07f4ae0e8f644bb5\", element=\"9e444b44-9e08-484b-8e4b-cbab3ef93b85\")>,\n",
       " <selenium.webdriver.remote.webelement.WebElement (session=\"ee1cf38741319c7d07f4ae0e8f644bb5\", element=\"ba40d8c3-54ae-496d-b340-6dccad4f2299\")>,\n",
       " <selenium.webdriver.remote.webelement.WebElement (session=\"ee1cf38741319c7d07f4ae0e8f644bb5\", element=\"ea016ee6-9972-4b0c-86f3-6eb7bfcc8a33\")>,\n",
       " <selenium.webdriver.remote.webelement.WebElement (session=\"ee1cf38741319c7d07f4ae0e8f644bb5\", element=\"e35b4b37-6255-4dee-83a3-7c766dd1f662\")>]"
      ]
     },
     "execution_count": 226,
     "metadata": {},
     "output_type": "execute_result"
    }
   ],
   "source": [
    "min_salary_tags=driver.find_elements_by_xpath('//span[@class=\"d-block d-lg-none m-0 css-1b6bxoo\"]')\n",
    "min_salary_tags"
   ]
  },
  {
   "cell_type": "code",
   "execution_count": 240,
   "id": "982bb031",
   "metadata": {},
   "outputs": [
    {
     "data": {
      "text/plain": [
       "['Range: ₹4L - ₹13L',\n",
       " 'Range: ₹1L - ₹28L',\n",
       " 'Range: ₹6L - ₹22L',\n",
       " 'Range: ₹5L - ₹1Cr',\n",
       " 'Range: ₹4L - ₹16L',\n",
       " 'Range: ₹8L - ₹15L',\n",
       " 'Range: ₹8L - ₹20L',\n",
       " 'Range: ₹10L - ₹17L',\n",
       " 'Range: ₹5L - ₹15L',\n",
       " 'Range: ₹6L - ₹15L',\n",
       " 'Range: ₹4L - ₹13L',\n",
       " 'Range: ₹2L - ₹18L',\n",
       " 'Range: ₹4L - ₹21L',\n",
       " 'Range: ₹6L - ₹17L',\n",
       " 'Range: ₹10L - ₹21L',\n",
       " 'Range: ₹8L - ₹20L',\n",
       " 'Range: ₹10L - ₹30L',\n",
       " 'Range: ₹9L - ₹15L',\n",
       " 'Range: ₹12T - ₹63T',\n",
       " 'Range: ₹5L - ₹72L']"
      ]
     },
     "execution_count": 240,
     "metadata": {},
     "output_type": "execute_result"
    }
   ],
   "source": [
    "minimum_salary =[]\n",
    "for i in min_salary_tags:\n",
    "    minimum_salary.append(i.text)\n",
    "minimum_salary"
   ]
  },
  {
   "cell_type": "code",
   "execution_count": 228,
   "id": "21e5dd1a",
   "metadata": {},
   "outputs": [
    {
     "data": {
      "text/plain": [
       "20"
      ]
     },
     "execution_count": 228,
     "metadata": {},
     "output_type": "execute_result"
    }
   ],
   "source": [
    "len(minimum_salary)"
   ]
  },
  {
   "cell_type": "code",
   "execution_count": 244,
   "id": "863dd376",
   "metadata": {},
   "outputs": [
    {
     "data": {
      "text/plain": [
       "['₹4L',\n",
       " '₹1L',\n",
       " '₹6L',\n",
       " '₹5L',\n",
       " '₹4L',\n",
       " '₹8L',\n",
       " '₹8L',\n",
       " '₹10',\n",
       " '₹5L',\n",
       " '₹6L',\n",
       " '₹4L',\n",
       " '₹2L',\n",
       " '₹4L',\n",
       " '₹6L',\n",
       " '₹10',\n",
       " '₹8L',\n",
       " '₹10',\n",
       " '₹9L',\n",
       " '₹12',\n",
       " '₹5L']"
      ]
     },
     "execution_count": 244,
     "metadata": {},
     "output_type": "execute_result"
    }
   ],
   "source": [
    "minimum_salary =[]\n",
    "for i in min_salary_tags:\n",
    "    minimum_salary.append(i.text[7:10])\n",
    "minimum_salary"
   ]
  },
  {
   "cell_type": "code",
   "execution_count": 245,
   "id": "6ab3b7aa",
   "metadata": {},
   "outputs": [
    {
     "data": {
      "text/plain": [
       "20"
      ]
     },
     "execution_count": 245,
     "metadata": {},
     "output_type": "execute_result"
    }
   ],
   "source": [
    "len(minimum_salary)"
   ]
  },
  {
   "cell_type": "code",
   "execution_count": 248,
   "id": "1df9d8e6",
   "metadata": {},
   "outputs": [
    {
     "data": {
      "text/plain": [
       "[<selenium.webdriver.remote.webelement.WebElement (session=\"ee1cf38741319c7d07f4ae0e8f644bb5\", element=\"e3ea1993-07f3-48aa-b160-c5e65158272e\")>,\n",
       " <selenium.webdriver.remote.webelement.WebElement (session=\"ee1cf38741319c7d07f4ae0e8f644bb5\", element=\"5c545c57-bb14-493d-a310-59ee05e7a498\")>,\n",
       " <selenium.webdriver.remote.webelement.WebElement (session=\"ee1cf38741319c7d07f4ae0e8f644bb5\", element=\"302d7b24-d30b-4ed3-9fee-88889f2fa24b\")>,\n",
       " <selenium.webdriver.remote.webelement.WebElement (session=\"ee1cf38741319c7d07f4ae0e8f644bb5\", element=\"9ec92a05-be0c-4e3f-b0cb-bf553b93bebc\")>,\n",
       " <selenium.webdriver.remote.webelement.WebElement (session=\"ee1cf38741319c7d07f4ae0e8f644bb5\", element=\"302310cd-a677-4c32-a385-632a1d5202e3\")>,\n",
       " <selenium.webdriver.remote.webelement.WebElement (session=\"ee1cf38741319c7d07f4ae0e8f644bb5\", element=\"2638a931-a5fd-4dae-875c-2415eaea3789\")>,\n",
       " <selenium.webdriver.remote.webelement.WebElement (session=\"ee1cf38741319c7d07f4ae0e8f644bb5\", element=\"9aed4420-0314-4161-bf1a-af3d1cbcf248\")>,\n",
       " <selenium.webdriver.remote.webelement.WebElement (session=\"ee1cf38741319c7d07f4ae0e8f644bb5\", element=\"2135b0ed-fe7d-4658-9a25-bf5d333b8a9e\")>,\n",
       " <selenium.webdriver.remote.webelement.WebElement (session=\"ee1cf38741319c7d07f4ae0e8f644bb5\", element=\"eca1b0af-8234-496e-831a-00efaccc1cdd\")>,\n",
       " <selenium.webdriver.remote.webelement.WebElement (session=\"ee1cf38741319c7d07f4ae0e8f644bb5\", element=\"4add8147-f4dd-4b19-8732-d69399448b9d\")>,\n",
       " <selenium.webdriver.remote.webelement.WebElement (session=\"ee1cf38741319c7d07f4ae0e8f644bb5\", element=\"19fb099f-9cce-4e69-803c-27ed1cb1afee\")>,\n",
       " <selenium.webdriver.remote.webelement.WebElement (session=\"ee1cf38741319c7d07f4ae0e8f644bb5\", element=\"3a5e48f3-2a62-47f2-b956-cfe847540880\")>,\n",
       " <selenium.webdriver.remote.webelement.WebElement (session=\"ee1cf38741319c7d07f4ae0e8f644bb5\", element=\"d4731816-fd10-489d-afaf-60b3f417774e\")>,\n",
       " <selenium.webdriver.remote.webelement.WebElement (session=\"ee1cf38741319c7d07f4ae0e8f644bb5\", element=\"91c39168-af3f-4708-9ce1-e8f898aea025\")>,\n",
       " <selenium.webdriver.remote.webelement.WebElement (session=\"ee1cf38741319c7d07f4ae0e8f644bb5\", element=\"8f721204-e770-4113-b5fe-7c5b677d6664\")>,\n",
       " <selenium.webdriver.remote.webelement.WebElement (session=\"ee1cf38741319c7d07f4ae0e8f644bb5\", element=\"41806937-ba81-4d63-9b2d-2b725274ba6b\")>,\n",
       " <selenium.webdriver.remote.webelement.WebElement (session=\"ee1cf38741319c7d07f4ae0e8f644bb5\", element=\"9e444b44-9e08-484b-8e4b-cbab3ef93b85\")>,\n",
       " <selenium.webdriver.remote.webelement.WebElement (session=\"ee1cf38741319c7d07f4ae0e8f644bb5\", element=\"ba40d8c3-54ae-496d-b340-6dccad4f2299\")>,\n",
       " <selenium.webdriver.remote.webelement.WebElement (session=\"ee1cf38741319c7d07f4ae0e8f644bb5\", element=\"ea016ee6-9972-4b0c-86f3-6eb7bfcc8a33\")>,\n",
       " <selenium.webdriver.remote.webelement.WebElement (session=\"ee1cf38741319c7d07f4ae0e8f644bb5\", element=\"e35b4b37-6255-4dee-83a3-7c766dd1f662\")>]"
      ]
     },
     "execution_count": 248,
     "metadata": {},
     "output_type": "execute_result"
    }
   ],
   "source": [
    "max_salary_tags=driver.find_elements_by_xpath('//span[@class=\"d-block d-lg-none m-0 css-1b6bxoo\"]')\n",
    "max_salary_tags"
   ]
  },
  {
   "cell_type": "code",
   "execution_count": 255,
   "id": "4021f2c1",
   "metadata": {},
   "outputs": [
    {
     "data": {
      "text/plain": [
       "['₹13L',\n",
       " '₹28L',\n",
       " '₹22L',\n",
       " '₹1Cr',\n",
       " '₹16L',\n",
       " '₹15L',\n",
       " '₹20L',\n",
       " ' ₹17',\n",
       " '₹15L',\n",
       " '₹15L',\n",
       " '₹13L',\n",
       " '₹18L',\n",
       " '₹21L',\n",
       " '₹17L',\n",
       " ' ₹21',\n",
       " '₹20L',\n",
       " ' ₹30',\n",
       " '₹15L',\n",
       " ' ₹63',\n",
       " '₹72L']"
      ]
     },
     "execution_count": 255,
     "metadata": {},
     "output_type": "execute_result"
    }
   ],
   "source": [
    "maximum_salary =[]\n",
    "for i in max_salary_tags:\n",
    "    maximum_salary.append(i.text[13:17])\n",
    "maximum_salary"
   ]
  },
  {
   "cell_type": "code",
   "execution_count": 256,
   "id": "0b8bf54e",
   "metadata": {},
   "outputs": [
    {
     "data": {
      "text/plain": [
       "20"
      ]
     },
     "execution_count": 256,
     "metadata": {},
     "output_type": "execute_result"
    }
   ],
   "source": [
    "len(maximum_salary)"
   ]
  },
  {
   "cell_type": "code",
   "execution_count": 258,
   "id": "01cd349e",
   "metadata": {},
   "outputs": [
    {
     "data": {
      "text/plain": [
       "[<selenium.webdriver.remote.webelement.WebElement (session=\"ee1cf38741319c7d07f4ae0e8f644bb5\", element=\"1d5a1a6b-cdb2-49ec-9258-27c2574c5996\")>,\n",
       " <selenium.webdriver.remote.webelement.WebElement (session=\"ee1cf38741319c7d07f4ae0e8f644bb5\", element=\"f205b758-6fed-4d40-b28b-339c3b9b58bf\")>,\n",
       " <selenium.webdriver.remote.webelement.WebElement (session=\"ee1cf38741319c7d07f4ae0e8f644bb5\", element=\"2f9d59b3-0173-4735-9016-f10fcb76b9a4\")>,\n",
       " <selenium.webdriver.remote.webelement.WebElement (session=\"ee1cf38741319c7d07f4ae0e8f644bb5\", element=\"5fdd6996-2e6a-46f9-9425-158dec67bb32\")>,\n",
       " <selenium.webdriver.remote.webelement.WebElement (session=\"ee1cf38741319c7d07f4ae0e8f644bb5\", element=\"aa388c48-0911-4f84-a159-63540ec1ca6a\")>,\n",
       " <selenium.webdriver.remote.webelement.WebElement (session=\"ee1cf38741319c7d07f4ae0e8f644bb5\", element=\"b57686d8-fbcd-4db0-8ea5-7552f089499e\")>,\n",
       " <selenium.webdriver.remote.webelement.WebElement (session=\"ee1cf38741319c7d07f4ae0e8f644bb5\", element=\"3ca8354d-b022-4fb4-98c9-3fe2b59120f5\")>,\n",
       " <selenium.webdriver.remote.webelement.WebElement (session=\"ee1cf38741319c7d07f4ae0e8f644bb5\", element=\"dedda8c1-7e80-4e8d-9a63-c37abf809df0\")>,\n",
       " <selenium.webdriver.remote.webelement.WebElement (session=\"ee1cf38741319c7d07f4ae0e8f644bb5\", element=\"2e9dad82-628c-4478-88f0-61e7c46e95a7\")>,\n",
       " <selenium.webdriver.remote.webelement.WebElement (session=\"ee1cf38741319c7d07f4ae0e8f644bb5\", element=\"e9a9a278-1ef9-4675-af0a-b408892a5feb\")>,\n",
       " <selenium.webdriver.remote.webelement.WebElement (session=\"ee1cf38741319c7d07f4ae0e8f644bb5\", element=\"9e4d945d-1793-435a-af54-9502c122123f\")>,\n",
       " <selenium.webdriver.remote.webelement.WebElement (session=\"ee1cf38741319c7d07f4ae0e8f644bb5\", element=\"de451bb7-7121-4c04-858f-c7276308e8d1\")>,\n",
       " <selenium.webdriver.remote.webelement.WebElement (session=\"ee1cf38741319c7d07f4ae0e8f644bb5\", element=\"e1d4001c-0d62-4d3a-bc4c-e70d99192257\")>,\n",
       " <selenium.webdriver.remote.webelement.WebElement (session=\"ee1cf38741319c7d07f4ae0e8f644bb5\", element=\"c74b8c66-e616-4817-b37a-79ad01d8e495\")>,\n",
       " <selenium.webdriver.remote.webelement.WebElement (session=\"ee1cf38741319c7d07f4ae0e8f644bb5\", element=\"8d88f126-0b42-43c0-be9e-e88775199f96\")>,\n",
       " <selenium.webdriver.remote.webelement.WebElement (session=\"ee1cf38741319c7d07f4ae0e8f644bb5\", element=\"31f83b02-e772-4c8d-a0a8-abad96e8be0a\")>,\n",
       " <selenium.webdriver.remote.webelement.WebElement (session=\"ee1cf38741319c7d07f4ae0e8f644bb5\", element=\"57d91fff-efe9-4ec7-a90e-49e579180e39\")>,\n",
       " <selenium.webdriver.remote.webelement.WebElement (session=\"ee1cf38741319c7d07f4ae0e8f644bb5\", element=\"78ef714a-611d-4327-9761-fce7c284b1bd\")>,\n",
       " <selenium.webdriver.remote.webelement.WebElement (session=\"ee1cf38741319c7d07f4ae0e8f644bb5\", element=\"932cd7cb-41e6-4367-96ad-92b8c9f35292\")>,\n",
       " <selenium.webdriver.remote.webelement.WebElement (session=\"ee1cf38741319c7d07f4ae0e8f644bb5\", element=\"c9202fa1-33d4-469a-8712-af86f10ae71b\")>]"
      ]
     },
     "execution_count": 258,
     "metadata": {},
     "output_type": "execute_result"
    }
   ],
   "source": [
    "avg_salary_tags=driver.find_elements_by_xpath('//div[@class=\"col-12 col-lg-4 px-lg-0 d-flex align-items-baseline\"]')\n",
    "avg_salary_tags"
   ]
  },
  {
   "cell_type": "code",
   "execution_count": 260,
   "id": "c1469d93",
   "metadata": {},
   "outputs": [
    {
     "data": {
      "text/plain": [
       "['₹6,19,349 /yr',\n",
       " '₹9,00,000 /yr',\n",
       " '₹11,71,012 /yr',\n",
       " '₹12,26,283 /yr',\n",
       " '₹7,44,116 /yr',\n",
       " '₹12,80,000 /yr',\n",
       " '₹13,29,677 /yr',\n",
       " '₹14,28,139 /yr',\n",
       " '₹8,69,449 /yr',\n",
       " '₹11,10,000 /yr',\n",
       " '₹9,53,560 /yr',\n",
       " '₹11,49,894 /yr',\n",
       " '₹10,81,155 /yr',\n",
       " '₹12,17,018 /yr',\n",
       " '₹14,24,677 /yr',\n",
       " '₹11,09,179 /yr',\n",
       " '₹20,25,084 /yr',\n",
       " '₹10,60,462 /yr',\n",
       " '₹34,383 /mo',\n",
       " '₹8,32,315 /yr']"
      ]
     },
     "execution_count": 260,
     "metadata": {},
     "output_type": "execute_result"
    }
   ],
   "source": [
    "average_salary =[]\n",
    "for i in avg_salary_tags:\n",
    "    average_salary.append(i.text.replace(\"\\n\",\"\"))\n",
    "average_salary"
   ]
  },
  {
   "cell_type": "code",
   "execution_count": 261,
   "id": "45eb693e",
   "metadata": {},
   "outputs": [
    {
     "data": {
      "text/plain": [
       "20"
      ]
     },
     "execution_count": 261,
     "metadata": {},
     "output_type": "execute_result"
    }
   ],
   "source": [
    "len(average_salary)"
   ]
  },
  {
   "cell_type": "code",
   "execution_count": 263,
   "id": "ea4fea63",
   "metadata": {},
   "outputs": [
    {
     "data": {
      "text/plain": [
       "[<selenium.webdriver.remote.webelement.WebElement (session=\"ee1cf38741319c7d07f4ae0e8f644bb5\", element=\"c01d1e3d-2df2-4a33-af24-8e1e5de1153f\")>,\n",
       " <selenium.webdriver.remote.webelement.WebElement (session=\"ee1cf38741319c7d07f4ae0e8f644bb5\", element=\"86edb7a0-bcca-4f0d-aa22-b50494b4b61b\")>,\n",
       " <selenium.webdriver.remote.webelement.WebElement (session=\"ee1cf38741319c7d07f4ae0e8f644bb5\", element=\"9b60f3ef-b765-44a1-937d-8f8de3db56f1\")>,\n",
       " <selenium.webdriver.remote.webelement.WebElement (session=\"ee1cf38741319c7d07f4ae0e8f644bb5\", element=\"688846f5-6079-4838-b47a-7c66fb08d6e5\")>,\n",
       " <selenium.webdriver.remote.webelement.WebElement (session=\"ee1cf38741319c7d07f4ae0e8f644bb5\", element=\"025db426-87cd-4764-9475-93544830d822\")>,\n",
       " <selenium.webdriver.remote.webelement.WebElement (session=\"ee1cf38741319c7d07f4ae0e8f644bb5\", element=\"0414ea46-30d7-476f-921b-dd25cf9631df\")>,\n",
       " <selenium.webdriver.remote.webelement.WebElement (session=\"ee1cf38741319c7d07f4ae0e8f644bb5\", element=\"31aa09eb-7c3c-4c63-9fd4-a47c95f4ef3f\")>,\n",
       " <selenium.webdriver.remote.webelement.WebElement (session=\"ee1cf38741319c7d07f4ae0e8f644bb5\", element=\"1152247f-92f9-4e72-9291-0c2b96a3841d\")>,\n",
       " <selenium.webdriver.remote.webelement.WebElement (session=\"ee1cf38741319c7d07f4ae0e8f644bb5\", element=\"65fb23b8-cd01-4426-a60c-5e114ba262a4\")>,\n",
       " <selenium.webdriver.remote.webelement.WebElement (session=\"ee1cf38741319c7d07f4ae0e8f644bb5\", element=\"416da165-d331-4452-a783-554533c6ec28\")>,\n",
       " <selenium.webdriver.remote.webelement.WebElement (session=\"ee1cf38741319c7d07f4ae0e8f644bb5\", element=\"c92082dd-c158-4212-868e-7170b1d8252d\")>,\n",
       " <selenium.webdriver.remote.webelement.WebElement (session=\"ee1cf38741319c7d07f4ae0e8f644bb5\", element=\"482352a7-7bbf-4c66-87c7-a3b8d5d12501\")>,\n",
       " <selenium.webdriver.remote.webelement.WebElement (session=\"ee1cf38741319c7d07f4ae0e8f644bb5\", element=\"89c98926-0864-40fa-83fe-49ecafd74cde\")>,\n",
       " <selenium.webdriver.remote.webelement.WebElement (session=\"ee1cf38741319c7d07f4ae0e8f644bb5\", element=\"2f18ca1d-e852-4e0a-b356-1d10a56781dc\")>,\n",
       " <selenium.webdriver.remote.webelement.WebElement (session=\"ee1cf38741319c7d07f4ae0e8f644bb5\", element=\"59a0077f-41e6-47fa-80ab-debd76c6b199\")>,\n",
       " <selenium.webdriver.remote.webelement.WebElement (session=\"ee1cf38741319c7d07f4ae0e8f644bb5\", element=\"0b5bc947-ea39-4255-b7f2-5255a2bd49ba\")>,\n",
       " <selenium.webdriver.remote.webelement.WebElement (session=\"ee1cf38741319c7d07f4ae0e8f644bb5\", element=\"f96158c7-1e05-496e-8ebf-a12e2bb1bb5f\")>,\n",
       " <selenium.webdriver.remote.webelement.WebElement (session=\"ee1cf38741319c7d07f4ae0e8f644bb5\", element=\"632163d7-2fd1-4f8b-a187-592fb7f8baf2\")>,\n",
       " <selenium.webdriver.remote.webelement.WebElement (session=\"ee1cf38741319c7d07f4ae0e8f644bb5\", element=\"e2d5140d-e655-4a98-a4b0-17feff12ddd8\")>,\n",
       " <selenium.webdriver.remote.webelement.WebElement (session=\"ee1cf38741319c7d07f4ae0e8f644bb5\", element=\"4dfb694b-1787-4e66-ba74-0f2af89d8e3c\")>]"
      ]
     },
     "execution_count": 263,
     "metadata": {},
     "output_type": "execute_result"
    }
   ],
   "source": [
    "ratings_tags=driver.find_elements_by_xpath('//div[@class=\"d-flex align-items-center mt-xxsm\"]')\n",
    "ratings_tags"
   ]
  },
  {
   "cell_type": "code",
   "execution_count": 266,
   "id": "39bff99a",
   "metadata": {},
   "outputs": [
    {
     "data": {
      "text/plain": [
       "['3.9★',\n",
       " '3.9★',\n",
       " '4.1★',\n",
       " '3.8★',\n",
       " '4★',\n",
       " '3.7★',\n",
       " '3.7★',\n",
       " '3.9★',\n",
       " '4.2★',\n",
       " '3.6★',\n",
       " '3.8★',\n",
       " '4★',\n",
       " '4★',\n",
       " '3.8★',\n",
       " '3.3★',\n",
       " '4.1★',\n",
       " '3.8★',\n",
       " '4.1★',\n",
       " '3.8★',\n",
       " '3.8★']"
      ]
     },
     "execution_count": 266,
     "metadata": {},
     "output_type": "execute_result"
    }
   ],
   "source": [
    "ratings_company=[]\n",
    "for i in ratings_tags:\n",
    "    ratings_company.append(i.text.replace(\"\\n\",\"\"))\n",
    "ratings_company"
   ]
  },
  {
   "cell_type": "code",
   "execution_count": 267,
   "id": "368833b5",
   "metadata": {},
   "outputs": [
    {
     "data": {
      "text/plain": [
       "20"
      ]
     },
     "execution_count": 267,
     "metadata": {},
     "output_type": "execute_result"
    }
   ],
   "source": [
    "len(ratings_company)"
   ]
  },
  {
   "cell_type": "code",
   "execution_count": 269,
   "id": "95ab14ef",
   "metadata": {},
   "outputs": [
    {
     "data": {
      "text/html": [
       "<div>\n",
       "<style scoped>\n",
       "    .dataframe tbody tr th:only-of-type {\n",
       "        vertical-align: middle;\n",
       "    }\n",
       "\n",
       "    .dataframe tbody tr th {\n",
       "        vertical-align: top;\n",
       "    }\n",
       "\n",
       "    .dataframe thead th {\n",
       "        text-align: right;\n",
       "    }\n",
       "</style>\n",
       "<table border=\"1\" class=\"dataframe\">\n",
       "  <thead>\n",
       "    <tr style=\"text-align: right;\">\n",
       "      <th></th>\n",
       "      <th>company_name</th>\n",
       "      <th>minimum_salary</th>\n",
       "      <th>maximum_salary</th>\n",
       "      <th>average_salary</th>\n",
       "      <th>ratings_company</th>\n",
       "    </tr>\n",
       "  </thead>\n",
       "  <tbody>\n",
       "    <tr>\n",
       "      <th>0</th>\n",
       "      <td>Tata Consultancy Services</td>\n",
       "      <td>₹4L</td>\n",
       "      <td>₹13L</td>\n",
       "      <td>₹6,19,349 /yr</td>\n",
       "      <td>3.9★</td>\n",
       "    </tr>\n",
       "    <tr>\n",
       "      <th>1</th>\n",
       "      <td>IBM</td>\n",
       "      <td>₹1L</td>\n",
       "      <td>₹28L</td>\n",
       "      <td>₹9,00,000 /yr</td>\n",
       "      <td>3.9★</td>\n",
       "    </tr>\n",
       "    <tr>\n",
       "      <th>2</th>\n",
       "      <td>Accenture</td>\n",
       "      <td>₹6L</td>\n",
       "      <td>₹22L</td>\n",
       "      <td>₹11,71,012 /yr</td>\n",
       "      <td>4.1★</td>\n",
       "    </tr>\n",
       "    <tr>\n",
       "      <th>3</th>\n",
       "      <td>Delhivery</td>\n",
       "      <td>₹5L</td>\n",
       "      <td>₹1Cr</td>\n",
       "      <td>₹12,26,283 /yr</td>\n",
       "      <td>3.8★</td>\n",
       "    </tr>\n",
       "    <tr>\n",
       "      <th>4</th>\n",
       "      <td>Ericsson-Worldwide</td>\n",
       "      <td>₹4L</td>\n",
       "      <td>₹16L</td>\n",
       "      <td>₹7,44,116 /yr</td>\n",
       "      <td>4★</td>\n",
       "    </tr>\n",
       "    <tr>\n",
       "      <th>5</th>\n",
       "      <td>UnitedHealth Group</td>\n",
       "      <td>₹8L</td>\n",
       "      <td>₹15L</td>\n",
       "      <td>₹12,80,000 /yr</td>\n",
       "      <td>3.7★</td>\n",
       "    </tr>\n",
       "    <tr>\n",
       "      <th>6</th>\n",
       "      <td>Optum</td>\n",
       "      <td>₹8L</td>\n",
       "      <td>₹20L</td>\n",
       "      <td>₹13,29,677 /yr</td>\n",
       "      <td>3.7★</td>\n",
       "    </tr>\n",
       "    <tr>\n",
       "      <th>7</th>\n",
       "      <td>Optum Global Solutions</td>\n",
       "      <td>₹10</td>\n",
       "      <td>₹17</td>\n",
       "      <td>₹14,28,139 /yr</td>\n",
       "      <td>3.9★</td>\n",
       "    </tr>\n",
       "    <tr>\n",
       "      <th>8</th>\n",
       "      <td>Valiance Solutions</td>\n",
       "      <td>₹5L</td>\n",
       "      <td>₹15L</td>\n",
       "      <td>₹8,69,449 /yr</td>\n",
       "      <td>4.2★</td>\n",
       "    </tr>\n",
       "    <tr>\n",
       "      <th>9</th>\n",
       "      <td>EXL Service</td>\n",
       "      <td>₹6L</td>\n",
       "      <td>₹15L</td>\n",
       "      <td>₹11,10,000 /yr</td>\n",
       "      <td>3.6★</td>\n",
       "    </tr>\n",
       "  </tbody>\n",
       "</table>\n",
       "</div>"
      ],
      "text/plain": [
       "                company_name minimum_salary maximum_salary  average_salary  \\\n",
       "0  Tata Consultancy Services            ₹4L           ₹13L   ₹6,19,349 /yr   \n",
       "1                        IBM            ₹1L           ₹28L   ₹9,00,000 /yr   \n",
       "2                  Accenture            ₹6L           ₹22L  ₹11,71,012 /yr   \n",
       "3                  Delhivery            ₹5L           ₹1Cr  ₹12,26,283 /yr   \n",
       "4         Ericsson-Worldwide            ₹4L           ₹16L   ₹7,44,116 /yr   \n",
       "5         UnitedHealth Group            ₹8L           ₹15L  ₹12,80,000 /yr   \n",
       "6                      Optum            ₹8L           ₹20L  ₹13,29,677 /yr   \n",
       "7     Optum Global Solutions            ₹10            ₹17  ₹14,28,139 /yr   \n",
       "8         Valiance Solutions            ₹5L           ₹15L   ₹8,69,449 /yr   \n",
       "9                EXL Service            ₹6L           ₹15L  ₹11,10,000 /yr   \n",
       "\n",
       "  ratings_company  \n",
       "0            3.9★  \n",
       "1            3.9★  \n",
       "2            4.1★  \n",
       "3            3.8★  \n",
       "4              4★  \n",
       "5            3.7★  \n",
       "6            3.7★  \n",
       "7            3.9★  \n",
       "8            4.2★  \n",
       "9            3.6★  "
      ]
     },
     "execution_count": 269,
     "metadata": {},
     "output_type": "execute_result"
    }
   ],
   "source": [
    "jobs=pd.DataFrame({})\n",
    "jobs[\"company_name\"]=company_name[:10]\n",
    "jobs[\"minimum_salary\"]=minimum_salary[:10]\n",
    "jobs[\"maximum_salary\"]=maximum_salary[:10]\n",
    "jobs[\"average_salary\"]=average_salary[:10]\n",
    "jobs[\"ratings_company\"]=ratings_company[:10]\n",
    "jobs"
   ]
  },
  {
   "cell_type": "code",
   "execution_count": null,
   "id": "eb75bc11",
   "metadata": {},
   "outputs": [],
   "source": []
  },
  {
   "cell_type": "markdown",
   "id": "12cfccca",
   "metadata": {},
   "source": [
    "Q6 : Scrape data of first 100 sunglasses listings on flipkart.com. You have to scrape four attributes:\n",
    "    1. Brand\n",
    "    2. Product Description\n",
    "    3. Price\n",
    "    4. Discount %\n",
    "The attributes which you have to scrape is ticked marked in the below image.\n",
    "\n"
   ]
  },
  {
   "cell_type": "markdown",
   "id": "ab01e452",
   "metadata": {},
   "source": [
    "# To scrape the data you have to go through following steps:\n",
    "    1. Go to flipkart webpage by url https://www.flipkart.com/\n",
    "    2. Enter “sunglasses” in the search field where “search for products, brands and more” is written and click the search icon\n",
    "    3. after that you will reach to a webpage having a lot of sunglasses. From this page you can scrap the required data as usual.\n",
    "    4. after scraping data from the first page, go to the “Next” Button at the bottom of the page , then click on it \n",
    "    5. Now scrape data from this page as usual\n",
    "    6. repeat this until you get data for 100 sunglasses.\n",
    "    Note that all of the above steps have to be done by coding only and not manually.\n",
    "\n",
    "\n"
   ]
  },
  {
   "cell_type": "code",
   "execution_count": 35,
   "id": "ab19ed53",
   "metadata": {},
   "outputs": [],
   "source": [
    "#lets first connect to the web driver\n",
    "driver=webdriver.Edge(\"msedgedriver.exe\")"
   ]
  },
  {
   "cell_type": "code",
   "execution_count": 36,
   "id": "83360288",
   "metadata": {},
   "outputs": [],
   "source": [
    "url='https://www.flipkart.com/'\n",
    "driver.get(url)"
   ]
  },
  {
   "cell_type": "code",
   "execution_count": 37,
   "id": "ff1eca0a",
   "metadata": {},
   "outputs": [
    {
     "data": {
      "text/plain": [
       "<selenium.webdriver.remote.webelement.WebElement (session=\"ee4b1fc5fa21fba246a3b1bd4ddee43f\", element=\"f1578a49-01bf-4fc9-97a1-60e44b70fc49\")>"
      ]
     },
     "execution_count": 37,
     "metadata": {},
     "output_type": "execute_result"
    }
   ],
   "source": [
    "search_sunglass=driver.find_element_by_xpath('//input[@class=\"_3704LK\"]')\n",
    "search_sunglass"
   ]
  },
  {
   "cell_type": "code",
   "execution_count": 38,
   "id": "283929c8",
   "metadata": {},
   "outputs": [],
   "source": [
    "#write on search bar\n",
    "search_sunglass.send_keys(\"sunglasses_men_fastrack\")"
   ]
  },
  {
   "cell_type": "code",
   "execution_count": 40,
   "id": "dd8a438b",
   "metadata": {},
   "outputs": [],
   "source": [
    "search_btn=driver.find_element_by_xpath('//button[@class=\"L0Z3Pu\"]')\n",
    "search_btn.click()"
   ]
  },
  {
   "cell_type": "code",
   "execution_count": 48,
   "id": "f227e1fd",
   "metadata": {},
   "outputs": [],
   "source": [
    "brand_name=[]\n",
    "\n",
    "for page in range(1,4):\n",
    "    page_url='https://www.flipkart.com/search?q=sunglasses_men_fastrack&otracker=search&otracker1=search&marketplace=FLIPKART&as-show=on&as=off'\n",
    "    \n",
    "    driver.get(page_url)\n",
    "    \n",
    "    brand=driver.find_elements_by_xpath('//div[@class=\"_2WkVRV\"]')\n",
    "    for i in range(len(brand)):\n",
    "        brand_name.append(brand[i].text)\n",
    "\n",
    "\n",
    "\n"
   ]
  },
  {
   "cell_type": "code",
   "execution_count": 49,
   "id": "3784b99f",
   "metadata": {},
   "outputs": [
    {
     "data": {
      "text/plain": [
       "120"
      ]
     },
     "execution_count": 49,
     "metadata": {},
     "output_type": "execute_result"
    }
   ],
   "source": [
    "len(brand_name)"
   ]
  },
  {
   "cell_type": "code",
   "execution_count": 42,
   "id": "7e6d0e61",
   "metadata": {},
   "outputs": [],
   "source": [
    "\n",
    "product_description=[]\n",
    "\n",
    "for page in range(1,4):\n",
    "    page_url='https://www.flipkart.com/search?q=sunglasses_men_fastrack&otracker=search&otracker1=search&marketplace=FLIPKART&as-show=on&as=off'\n",
    "    \n",
    "    driver.get(page_url)\n",
    "    product_desc=driver.find_elements_by_xpath('//a[@class=\"IRpwTa\"]')\n",
    "    for i in range(len(product_desc)):\n",
    "        product_description.append(product_desc[i].text)\n",
    "\n",
    "\n",
    "\n"
   ]
  },
  {
   "cell_type": "code",
   "execution_count": 43,
   "id": "8c20b200",
   "metadata": {},
   "outputs": [
    {
     "name": "stdout",
     "output_type": "stream",
     "text": [
      "111\n"
     ]
    }
   ],
   "source": [
    "print(len(product_description ))"
   ]
  },
  {
   "cell_type": "code",
   "execution_count": 50,
   "id": "68795295",
   "metadata": {},
   "outputs": [],
   "source": [
    "\n",
    "price_sunglasses=[]\n",
    "\n",
    "for page in range(1,4):\n",
    "    page_url='https://www.flipkart.com/search?q=sunglasses_men_fastrack&otracker=search&otracker1=search&marketplace=FLIPKART&as-show=on&as=off'\n",
    "    \n",
    "    driver.get(page_url)\n",
    "    price=driver.find_elements_by_xpath('//div[@class=\"_30jeq3\"]')\n",
    "    for i in range(len(price)):\n",
    "        price_sunglasses.append(price[i].text)\n",
    "\n",
    "\n",
    "\n"
   ]
  },
  {
   "cell_type": "code",
   "execution_count": 51,
   "id": "6991af1f",
   "metadata": {},
   "outputs": [
    {
     "data": {
      "text/plain": [
       "120"
      ]
     },
     "execution_count": 51,
     "metadata": {},
     "output_type": "execute_result"
    }
   ],
   "source": [
    "len(price_sunglasses )"
   ]
  },
  {
   "cell_type": "code",
   "execution_count": 52,
   "id": "ff5c56bc",
   "metadata": {},
   "outputs": [],
   "source": [
    "\n",
    "discount_sunglasses=[]\n",
    "\n",
    "for page in range(1,4):\n",
    "    page_url='https://www.flipkart.com/search?q=sunglasses_men_fastrack&otracker=search&otracker1=search&marketplace=FLIPKART&as-show=on&as=off'\n",
    "    \n",
    "    driver.get(page_url)\n",
    "    discount=driver.find_elements_by_xpath('//div[@class=\"_3Ay6Sb\"]')\n",
    "    for i in range(len(discount)):\n",
    "        discount_sunglasses.append(discount[i].text)\n",
    "\n",
    "\n",
    "\n"
   ]
  },
  {
   "cell_type": "code",
   "execution_count": 54,
   "id": "3c643768",
   "metadata": {},
   "outputs": [
    {
     "data": {
      "text/plain": [
       "120"
      ]
     },
     "execution_count": 54,
     "metadata": {},
     "output_type": "execute_result"
    }
   ],
   "source": [
    "len(discount_sunglasses )"
   ]
  },
  {
   "cell_type": "code",
   "execution_count": 56,
   "id": "1afb6acb",
   "metadata": {},
   "outputs": [
    {
     "data": {
      "text/html": [
       "<div>\n",
       "<style scoped>\n",
       "    .dataframe tbody tr th:only-of-type {\n",
       "        vertical-align: middle;\n",
       "    }\n",
       "\n",
       "    .dataframe tbody tr th {\n",
       "        vertical-align: top;\n",
       "    }\n",
       "\n",
       "    .dataframe thead th {\n",
       "        text-align: right;\n",
       "    }\n",
       "</style>\n",
       "<table border=\"1\" class=\"dataframe\">\n",
       "  <thead>\n",
       "    <tr style=\"text-align: right;\">\n",
       "      <th></th>\n",
       "      <th>brand_name</th>\n",
       "      <th>product_description</th>\n",
       "      <th>price_sunglasses</th>\n",
       "      <th>discount_sunglasses</th>\n",
       "    </tr>\n",
       "  </thead>\n",
       "  <tbody>\n",
       "    <tr>\n",
       "      <th>0</th>\n",
       "      <td>Fastrack</td>\n",
       "      <td>Gradient, UV Protection Wayfarer Sunglasses (F...</td>\n",
       "      <td>₹509</td>\n",
       "      <td>36% off</td>\n",
       "    </tr>\n",
       "    <tr>\n",
       "      <th>1</th>\n",
       "      <td>Fastrack</td>\n",
       "      <td>UV Protection Wayfarer Sunglasses (Free Size)</td>\n",
       "      <td>₹859</td>\n",
       "      <td>4% off</td>\n",
       "    </tr>\n",
       "    <tr>\n",
       "      <th>2</th>\n",
       "      <td>Fastrack</td>\n",
       "      <td>UV Protection Aviator Sunglasses (Free Size)</td>\n",
       "      <td>₹520</td>\n",
       "      <td>34% off</td>\n",
       "    </tr>\n",
       "    <tr>\n",
       "      <th>3</th>\n",
       "      <td>Fastrack</td>\n",
       "      <td>UV Protection Wayfarer Sunglasses (57)</td>\n",
       "      <td>₹499</td>\n",
       "      <td>37% off</td>\n",
       "    </tr>\n",
       "    <tr>\n",
       "      <th>4</th>\n",
       "      <td>Fastrack</td>\n",
       "      <td>UV Protection Wayfarer Sunglasses (56)</td>\n",
       "      <td>₹369</td>\n",
       "      <td>58% off</td>\n",
       "    </tr>\n",
       "    <tr>\n",
       "      <th>...</th>\n",
       "      <td>...</td>\n",
       "      <td>...</td>\n",
       "      <td>...</td>\n",
       "      <td>...</td>\n",
       "    </tr>\n",
       "    <tr>\n",
       "      <th>95</th>\n",
       "      <td>Fastrack</td>\n",
       "      <td>UV Protection Wayfarer Sunglasses (56)</td>\n",
       "      <td>₹859</td>\n",
       "      <td>4% off</td>\n",
       "    </tr>\n",
       "    <tr>\n",
       "      <th>96</th>\n",
       "      <td>Fastrack</td>\n",
       "      <td>UV Protection Wayfarer Sunglasses (Free Size)</td>\n",
       "      <td>₹1,989</td>\n",
       "      <td>13% off</td>\n",
       "    </tr>\n",
       "    <tr>\n",
       "      <th>97</th>\n",
       "      <td>Fastrack</td>\n",
       "      <td>Gradient Aviator Sunglasses (Free Size)</td>\n",
       "      <td>₹379</td>\n",
       "      <td>57% off</td>\n",
       "    </tr>\n",
       "    <tr>\n",
       "      <th>98</th>\n",
       "      <td>Fastrack</td>\n",
       "      <td>UV Protection Wayfarer Sunglasses (Free Size)</td>\n",
       "      <td>₹859</td>\n",
       "      <td>4% off</td>\n",
       "    </tr>\n",
       "    <tr>\n",
       "      <th>99</th>\n",
       "      <td>Fastrack</td>\n",
       "      <td>UV Protection Shield Sunglasses (Free Size)</td>\n",
       "      <td>₹769</td>\n",
       "      <td>3% off</td>\n",
       "    </tr>\n",
       "  </tbody>\n",
       "</table>\n",
       "<p>100 rows × 4 columns</p>\n",
       "</div>"
      ],
      "text/plain": [
       "   brand_name                               product_description   \\\n",
       "0    Fastrack  Gradient, UV Protection Wayfarer Sunglasses (F...   \n",
       "1    Fastrack      UV Protection Wayfarer Sunglasses (Free Size)   \n",
       "2    Fastrack       UV Protection Aviator Sunglasses (Free Size)   \n",
       "3    Fastrack             UV Protection Wayfarer Sunglasses (57)   \n",
       "4    Fastrack             UV Protection Wayfarer Sunglasses (56)   \n",
       "..        ...                                                ...   \n",
       "95   Fastrack             UV Protection Wayfarer Sunglasses (56)   \n",
       "96   Fastrack      UV Protection Wayfarer Sunglasses (Free Size)   \n",
       "97   Fastrack            Gradient Aviator Sunglasses (Free Size)   \n",
       "98   Fastrack      UV Protection Wayfarer Sunglasses (Free Size)   \n",
       "99   Fastrack        UV Protection Shield Sunglasses (Free Size)   \n",
       "\n",
       "   price_sunglasses  discount_sunglasses   \n",
       "0               ₹509              36% off  \n",
       "1               ₹859               4% off  \n",
       "2               ₹520              34% off  \n",
       "3               ₹499              37% off  \n",
       "4               ₹369              58% off  \n",
       "..               ...                  ...  \n",
       "95              ₹859               4% off  \n",
       "96            ₹1,989              13% off  \n",
       "97              ₹379              57% off  \n",
       "98              ₹859               4% off  \n",
       "99              ₹769               3% off  \n",
       "\n",
       "[100 rows x 4 columns]"
      ]
     },
     "execution_count": 56,
     "metadata": {},
     "output_type": "execute_result"
    }
   ],
   "source": [
    "import pandas as pd\n",
    "details_sunglasses=pd.DataFrame({})\n",
    "details_sunglasses[\"brand_name\"]=brand_name[:100]\n",
    "details_sunglasses[\"product_description \"]=product_description[:100] \n",
    "details_sunglasses [\"price_sunglasses \"]=price_sunglasses[:100] \n",
    "details_sunglasses [\"discount_sunglasses \"]=discount_sunglasses[:100]\n",
    "details_sunglasses"
   ]
  },
  {
   "cell_type": "code",
   "execution_count": null,
   "id": "e79de50a",
   "metadata": {},
   "outputs": [],
   "source": []
  },
  {
   "cell_type": "code",
   "execution_count": null,
   "id": "3152ca66",
   "metadata": {},
   "outputs": [],
   "source": []
  },
  {
   "cell_type": "markdown",
   "id": "1c3902eb",
   "metadata": {},
   "source": [
    "Q7: Scrape 100 reviews data from flipkart.com for iphone11 phone. You have to \n",
    "go the link: https://www.flipkart.com/apple-iphone-11-black-64-gb-includes-earpods-power-adapter/p/itm0f37c2240b217?pid=MOBFKCTSVZAXUHGR&lid=LSTMOBFKCTSVZAXUHGREPBFGI&marketplace. When you will open the above link you will reach to the below shown webpage.\n"
   ]
  },
  {
   "cell_type": "markdown",
   "id": "8d4ba08b",
   "metadata": {},
   "source": [
    "As shown in the above page you have to scrape the tick marked attributes.These are \n",
    "1. Rating \n",
    "2. Review_summary \n",
    "3. Full review\n",
    "You have to scrape this data for first 100 reviews.\n"
   ]
  },
  {
   "cell_type": "code",
   "execution_count": 2,
   "id": "7d70674d",
   "metadata": {},
   "outputs": [],
   "source": [
    "#lets first connect to the web driver\n",
    "driver=webdriver.Edge(\"msedgedriver.exe\")"
   ]
  },
  {
   "cell_type": "code",
   "execution_count": 3,
   "id": "ec858f0b",
   "metadata": {},
   "outputs": [],
   "source": [
    "url='https://www.flipkart.com/apple-iphone-11-black-64-gb-includes-earpods-power-adapter/p/itm0f37c2240b217?pid=MOBFKCTSVZAXUHGR&lid=LSTMOBFKCTSVZAXUHGREPBFGI&marketplace.'\n",
    "driver.get(url)"
   ]
  },
  {
   "cell_type": "code",
   "execution_count": null,
   "id": "4291dae4",
   "metadata": {},
   "outputs": [],
   "source": [
    "search_iphone11=driver.find_element_by_xpath()\n",
    "search_iphone11"
   ]
  },
  {
   "cell_type": "code",
   "execution_count": null,
   "id": "5eb3453f",
   "metadata": {},
   "outputs": [],
   "source": [
    "#write on search bar\n",
    "search_iphone11.send_keys(\"\")"
   ]
  },
  {
   "cell_type": "code",
   "execution_count": null,
   "id": "8959411a",
   "metadata": {},
   "outputs": [],
   "source": [
    "search_btn=driver.find_element_by_xpath()\n",
    "search_btn.click()"
   ]
  },
  {
   "cell_type": "code",
   "execution_count": 11,
   "id": "983edc83",
   "metadata": {},
   "outputs": [],
   "source": [
    "import pandas as pd"
   ]
  },
  {
   "cell_type": "code",
   "execution_count": 27,
   "id": "063db67a",
   "metadata": {},
   "outputs": [],
   "source": [
    "ratings_iphone11=[]\n",
    "summary_iphone11=[]\n",
    "reviews_iphone11=[]\n",
    "\n",
    "for page in range(1,15):\n",
    "    \n",
    "    page_url='https://www.flipkart.com/apple-iphone-11-black-64-gb-includes-earpods-power-adapter/product-reviews/itm0f37c2240b217?pid=MOBFKCTSVZAXUHGR&lid=LSTMOBFKCTSVZAXUHGREPBFGI&marketplace=FLIPKART'\n",
    "\n",
    "    driver.get(page_url)\n",
    "    ratings=driver.find_elements_by_xpath('//div[@class=\"_3LWZlK _1BLPMq\"]')\n",
    "    summary=driver.find_elements_by_xpath('//p[@class=\"_2-N8zT\"]')\n",
    "    reviews=driver.find_elements_by_xpath('//div[@class=\"t-ZTKy\"]')\n",
    "    for i in range(len(ratings)):\n",
    "        ratings_iphone11.append(ratings[i].text)\n",
    "        summary_iphone11.append(summary[i].text)\n",
    "        reviews_iphone11.append(reviews[i].text)\n",
    "        \n"
   ]
  },
  {
   "cell_type": "code",
   "execution_count": 30,
   "id": "02521ef3",
   "metadata": {},
   "outputs": [
    {
     "name": "stdout",
     "output_type": "stream",
     "text": [
      "['5', '5', '5', '5', '5', '5', '5', '4', '5', '5', '5', '5', '5', '5', '5', '5', '5', '4', '5', '5', '5', '5', '5', '5', '5', '5', '5', '4', '5', '5', '5', '5', '5', '5', '5', '5', '5', '4', '5', '5', '5', '5', '5', '5', '5', '5', '5', '4', '5', '5', '5', '5', '5', '5', '5', '5', '5', '4', '5', '5', '5', '5', '5', '5', '5', '5', '5', '4', '5', '5', '5', '5', '5', '5', '5', '5', '5', '4', '5', '5', '5', '5', '5', '5', '5', '5', '5', '4', '5', '5', '5', '5', '5', '5', '5', '5', '5', '4', '5', '5', '5', '5', '5', '5', '5', '5', '5', '4', '5', '5', '5', '5', '5', '5', '5', '5', '5', '4', '5', '5', '5', '5', '5', '5', '5', '5', '5', '4', '5', '5', '5', '5', '5', '5', '5', '5', '5', '4', '5', '5']\n",
      "140\n"
     ]
    }
   ],
   "source": [
    "print(ratings_iphone11)\n",
    "print(len(ratings_iphone11))"
   ]
  },
  {
   "cell_type": "code",
   "execution_count": 29,
   "id": "5de9536e",
   "metadata": {},
   "outputs": [
    {
     "data": {
      "text/plain": [
       "['Brilliant',\n",
       " 'Simply awesome',\n",
       " 'Best in the market!',\n",
       " 'Perfect product!',\n",
       " 'Fabulous!',\n",
       " 'Worth every penny',\n",
       " 'Great product',\n",
       " 'Good choice',\n",
       " 'Worth every penny',\n",
       " 'Highly recommended',\n",
       " 'Brilliant',\n",
       " 'Simply awesome',\n",
       " 'Best in the market!',\n",
       " 'Perfect product!',\n",
       " 'Fabulous!',\n",
       " 'Worth every penny',\n",
       " 'Great product',\n",
       " 'Good choice',\n",
       " 'Worth every penny',\n",
       " 'Highly recommended',\n",
       " 'Brilliant',\n",
       " 'Simply awesome',\n",
       " 'Best in the market!',\n",
       " 'Perfect product!',\n",
       " 'Fabulous!',\n",
       " 'Worth every penny',\n",
       " 'Great product',\n",
       " 'Good choice',\n",
       " 'Worth every penny',\n",
       " 'Highly recommended',\n",
       " 'Brilliant',\n",
       " 'Simply awesome',\n",
       " 'Best in the market!',\n",
       " 'Perfect product!',\n",
       " 'Fabulous!',\n",
       " 'Worth every penny',\n",
       " 'Great product',\n",
       " 'Good choice',\n",
       " 'Worth every penny',\n",
       " 'Highly recommended',\n",
       " 'Brilliant',\n",
       " 'Simply awesome',\n",
       " 'Best in the market!',\n",
       " 'Perfect product!',\n",
       " 'Fabulous!',\n",
       " 'Worth every penny',\n",
       " 'Great product',\n",
       " 'Good choice',\n",
       " 'Worth every penny',\n",
       " 'Highly recommended',\n",
       " 'Brilliant',\n",
       " 'Simply awesome',\n",
       " 'Best in the market!',\n",
       " 'Perfect product!',\n",
       " 'Fabulous!',\n",
       " 'Worth every penny',\n",
       " 'Great product',\n",
       " 'Good choice',\n",
       " 'Worth every penny',\n",
       " 'Highly recommended',\n",
       " 'Brilliant',\n",
       " 'Simply awesome',\n",
       " 'Best in the market!',\n",
       " 'Perfect product!',\n",
       " 'Fabulous!',\n",
       " 'Worth every penny',\n",
       " 'Great product',\n",
       " 'Good choice',\n",
       " 'Worth every penny',\n",
       " 'Highly recommended',\n",
       " 'Brilliant',\n",
       " 'Simply awesome',\n",
       " 'Best in the market!',\n",
       " 'Perfect product!',\n",
       " 'Fabulous!',\n",
       " 'Worth every penny',\n",
       " 'Great product',\n",
       " 'Good choice',\n",
       " 'Worth every penny',\n",
       " 'Highly recommended',\n",
       " 'Brilliant',\n",
       " 'Simply awesome',\n",
       " 'Best in the market!',\n",
       " 'Perfect product!',\n",
       " 'Fabulous!',\n",
       " 'Worth every penny',\n",
       " 'Great product',\n",
       " 'Good choice',\n",
       " 'Worth every penny',\n",
       " 'Highly recommended',\n",
       " 'Brilliant',\n",
       " 'Simply awesome',\n",
       " 'Best in the market!',\n",
       " 'Perfect product!',\n",
       " 'Fabulous!',\n",
       " 'Worth every penny',\n",
       " 'Great product',\n",
       " 'Good choice',\n",
       " 'Worth every penny',\n",
       " 'Highly recommended',\n",
       " 'Brilliant',\n",
       " 'Simply awesome',\n",
       " 'Best in the market!',\n",
       " 'Perfect product!',\n",
       " 'Fabulous!',\n",
       " 'Worth every penny',\n",
       " 'Great product',\n",
       " 'Good choice',\n",
       " 'Worth every penny',\n",
       " 'Highly recommended',\n",
       " 'Brilliant',\n",
       " 'Simply awesome',\n",
       " 'Best in the market!',\n",
       " 'Perfect product!',\n",
       " 'Fabulous!',\n",
       " 'Worth every penny',\n",
       " 'Great product',\n",
       " 'Good choice',\n",
       " 'Worth every penny',\n",
       " 'Highly recommended',\n",
       " 'Brilliant',\n",
       " 'Simply awesome',\n",
       " 'Best in the market!',\n",
       " 'Perfect product!',\n",
       " 'Fabulous!',\n",
       " 'Worth every penny',\n",
       " 'Great product',\n",
       " 'Good choice',\n",
       " 'Worth every penny',\n",
       " 'Highly recommended',\n",
       " 'Brilliant',\n",
       " 'Simply awesome',\n",
       " 'Best in the market!',\n",
       " 'Perfect product!',\n",
       " 'Fabulous!',\n",
       " 'Worth every penny',\n",
       " 'Great product',\n",
       " 'Good choice',\n",
       " 'Worth every penny',\n",
       " 'Highly recommended']"
      ]
     },
     "execution_count": 29,
     "metadata": {},
     "output_type": "execute_result"
    }
   ],
   "source": [
    "summary_iphone11"
   ]
  },
  {
   "cell_type": "code",
   "execution_count": 32,
   "id": "9a9ddf6a",
   "metadata": {},
   "outputs": [
    {
     "name": "stdout",
     "output_type": "stream",
     "text": [
      "140\n"
     ]
    }
   ],
   "source": [
    "print(len(reviews_iphone11))"
   ]
  },
  {
   "cell_type": "code",
   "execution_count": 34,
   "id": "fc2b671f",
   "metadata": {},
   "outputs": [
    {
     "data": {
      "text/html": [
       "<div>\n",
       "<style scoped>\n",
       "    .dataframe tbody tr th:only-of-type {\n",
       "        vertical-align: middle;\n",
       "    }\n",
       "\n",
       "    .dataframe tbody tr th {\n",
       "        vertical-align: top;\n",
       "    }\n",
       "\n",
       "    .dataframe thead th {\n",
       "        text-align: right;\n",
       "    }\n",
       "</style>\n",
       "<table border=\"1\" class=\"dataframe\">\n",
       "  <thead>\n",
       "    <tr style=\"text-align: right;\">\n",
       "      <th></th>\n",
       "      <th>ratings_iphone11</th>\n",
       "      <th>summary_iphone11</th>\n",
       "      <th>reviews_iphone11</th>\n",
       "    </tr>\n",
       "  </thead>\n",
       "  <tbody>\n",
       "    <tr>\n",
       "      <th>0</th>\n",
       "      <td>5</td>\n",
       "      <td>Brilliant</td>\n",
       "      <td>The Best Phone for the Money\\n\\nThe iPhone 11 ...</td>\n",
       "    </tr>\n",
       "    <tr>\n",
       "      <th>1</th>\n",
       "      <td>5</td>\n",
       "      <td>Simply awesome</td>\n",
       "      <td>Really satisfied with the Product I received.....</td>\n",
       "    </tr>\n",
       "    <tr>\n",
       "      <th>2</th>\n",
       "      <td>5</td>\n",
       "      <td>Best in the market!</td>\n",
       "      <td>Great iPhone very snappy experience as apple k...</td>\n",
       "    </tr>\n",
       "    <tr>\n",
       "      <th>3</th>\n",
       "      <td>5</td>\n",
       "      <td>Perfect product!</td>\n",
       "      <td>Amazing phone with great cameras and better ba...</td>\n",
       "    </tr>\n",
       "    <tr>\n",
       "      <th>4</th>\n",
       "      <td>5</td>\n",
       "      <td>Fabulous!</td>\n",
       "      <td>This is my first iOS phone. I am very happy wi...</td>\n",
       "    </tr>\n",
       "    <tr>\n",
       "      <th>...</th>\n",
       "      <td>...</td>\n",
       "      <td>...</td>\n",
       "      <td>...</td>\n",
       "    </tr>\n",
       "    <tr>\n",
       "      <th>95</th>\n",
       "      <td>5</td>\n",
       "      <td>Worth every penny</td>\n",
       "      <td>Previously I was using one plus 3t it was a gr...</td>\n",
       "    </tr>\n",
       "    <tr>\n",
       "      <th>96</th>\n",
       "      <td>5</td>\n",
       "      <td>Great product</td>\n",
       "      <td>Amazing Powerful and Durable Gadget.\\n\\nI’m am...</td>\n",
       "    </tr>\n",
       "    <tr>\n",
       "      <th>97</th>\n",
       "      <td>4</td>\n",
       "      <td>Good choice</td>\n",
       "      <td>So far it’s been an AMAZING experience coming ...</td>\n",
       "    </tr>\n",
       "    <tr>\n",
       "      <th>98</th>\n",
       "      <td>5</td>\n",
       "      <td>Worth every penny</td>\n",
       "      <td>i11 is worthy to buy, too much happy with the ...</td>\n",
       "    </tr>\n",
       "    <tr>\n",
       "      <th>99</th>\n",
       "      <td>5</td>\n",
       "      <td>Highly recommended</td>\n",
       "      <td>iphone 11 is a very good phone to buy only if ...</td>\n",
       "    </tr>\n",
       "  </tbody>\n",
       "</table>\n",
       "<p>100 rows × 3 columns</p>\n",
       "</div>"
      ],
      "text/plain": [
       "   ratings_iphone11     summary_iphone11  \\\n",
       "0                 5            Brilliant   \n",
       "1                 5       Simply awesome   \n",
       "2                 5  Best in the market!   \n",
       "3                 5     Perfect product!   \n",
       "4                 5            Fabulous!   \n",
       "..              ...                  ...   \n",
       "95                5    Worth every penny   \n",
       "96                5        Great product   \n",
       "97                4          Good choice   \n",
       "98                5    Worth every penny   \n",
       "99                5   Highly recommended   \n",
       "\n",
       "                                     reviews_iphone11  \n",
       "0   The Best Phone for the Money\\n\\nThe iPhone 11 ...  \n",
       "1   Really satisfied with the Product I received.....  \n",
       "2   Great iPhone very snappy experience as apple k...  \n",
       "3   Amazing phone with great cameras and better ba...  \n",
       "4   This is my first iOS phone. I am very happy wi...  \n",
       "..                                                ...  \n",
       "95  Previously I was using one plus 3t it was a gr...  \n",
       "96  Amazing Powerful and Durable Gadget.\\n\\nI’m am...  \n",
       "97  So far it’s been an AMAZING experience coming ...  \n",
       "98  i11 is worthy to buy, too much happy with the ...  \n",
       "99  iphone 11 is a very good phone to buy only if ...  \n",
       "\n",
       "[100 rows x 3 columns]"
      ]
     },
     "execution_count": 34,
     "metadata": {},
     "output_type": "execute_result"
    }
   ],
   "source": [
    "details_iphone11=pd.DataFrame({})\n",
    "details_iphone11[\"ratings_iphone11\"]=ratings_iphone11[:100]\n",
    "details_iphone11[\"summary_iphone11\"]=summary_iphone11[:100]\n",
    "details_iphone11[\"reviews_iphone11\"]=reviews_iphone11[:100]\n",
    "details_iphone11"
   ]
  },
  {
   "cell_type": "markdown",
   "id": "bdde487f",
   "metadata": {},
   "source": [
    "Q8: Scrape data for first 100 sneakers you find when you visit flipkart.com and search for “sneakers” in the search field.\n",
    "You have to scrape 4 attributes of each sneaker :\n",
    "1. Brand\n",
    "2. Product Description\n",
    "3. Price\n",
    "4. discount %\n",
    " .As shown in the below image, you have to scrape the tick marked attributes.\n",
    "\n"
   ]
  },
  {
   "cell_type": "markdown",
   "id": "df3ff1d7",
   "metadata": {},
   "source": [
    "Also note that all the steps required during scraping should be done through code \n",
    "only and not manually.\n"
   ]
  },
  {
   "cell_type": "code",
   "execution_count": 82,
   "id": "ca1dd37c",
   "metadata": {},
   "outputs": [],
   "source": [
    "#lets first connect to the web driver\n",
    "driver=webdriver.Edge(\"msedgedriver.exe\")"
   ]
  },
  {
   "cell_type": "code",
   "execution_count": 83,
   "id": "e4152dc8",
   "metadata": {},
   "outputs": [],
   "source": [
    "url='https://www.flipkart.com/'\n",
    "driver.get(url)"
   ]
  },
  {
   "cell_type": "code",
   "execution_count": 84,
   "id": "10d4edce",
   "metadata": {},
   "outputs": [
    {
     "data": {
      "text/plain": [
       "<selenium.webdriver.remote.webelement.WebElement (session=\"1ef67322e33d52eca569032310bf85ef\", element=\"0fa26ac2-a3df-4797-a19c-a96669a80a1f\")>"
      ]
     },
     "execution_count": 84,
     "metadata": {},
     "output_type": "execute_result"
    }
   ],
   "source": [
    "search_sneakers=driver.find_element_by_xpath('//input[@class=\"_3704LK\"]')\n",
    "search_sneakers"
   ]
  },
  {
   "cell_type": "code",
   "execution_count": 85,
   "id": "dfbdefe6",
   "metadata": {},
   "outputs": [],
   "source": [
    "#write on search bar\n",
    "search_sneakers.send_keys(\"sneakers\")"
   ]
  },
  {
   "cell_type": "code",
   "execution_count": 86,
   "id": "59307925",
   "metadata": {},
   "outputs": [],
   "source": [
    "search_btn=driver.find_element_by_xpath('//button[@class=\"L0Z3Pu\"]')\n",
    "search_btn.click()"
   ]
  },
  {
   "cell_type": "code",
   "execution_count": 90,
   "id": "6ba8c973",
   "metadata": {},
   "outputs": [],
   "source": [
    "brand_name=[]\n",
    "\n",
    "for page in range(1,4):\n",
    "    page_url='https://www.flipkart.com/search?q=sneakers&otracker=search&otracker1=search&marketplace=FLIPKART&as-show=on&as=off'\n",
    "    \n",
    "    driver.get(page_url)\n",
    "    brand=driver.find_elements_by_xpath('//div[@class=\"_2WkVRV\"]')\n",
    "    for i in range(len(brand)):\n",
    "        brand_name.append(brand[i].text)"
   ]
  },
  {
   "cell_type": "code",
   "execution_count": 91,
   "id": "283e9868",
   "metadata": {},
   "outputs": [
    {
     "data": {
      "text/plain": [
       "120"
      ]
     },
     "execution_count": 91,
     "metadata": {},
     "output_type": "execute_result"
    }
   ],
   "source": [
    "len(brand_name)"
   ]
  },
  {
   "cell_type": "code",
   "execution_count": 104,
   "id": "1fc7cab9",
   "metadata": {},
   "outputs": [],
   "source": [
    "\n",
    "product_description=[]\n",
    "\n",
    "for page in range(1,5):\n",
    "    page_url='https://www.flipkart.com/search?q=sneakers&otracker=search&otracker1=search&marketplace=FLIPKART&as-show=on&as=off'\n",
    "    \n",
    "    driver.get(page_url)\n",
    "    product_desc=driver.find_elements_by_xpath('//a[@class=\"IRpwTa\"]')\n",
    "    for i in range(len(product_desc)):\n",
    "        product_description.append(product_desc[i].text)"
   ]
  },
  {
   "cell_type": "code",
   "execution_count": 105,
   "id": "e739f3f2",
   "metadata": {},
   "outputs": [
    {
     "data": {
      "text/plain": [
       "130"
      ]
     },
     "execution_count": 105,
     "metadata": {},
     "output_type": "execute_result"
    }
   ],
   "source": [
    "len(product_description)"
   ]
  },
  {
   "cell_type": "code",
   "execution_count": 108,
   "id": "f981f961",
   "metadata": {},
   "outputs": [],
   "source": [
    "\n",
    "price_sneakers=[]\n",
    "\n",
    "for page in range(1,4):\n",
    "    page_url='https://www.flipkart.com/search?q=sneakers&otracker=search&otracker1=search&marketplace=FLIPKART&as-show=on&as=off'\n",
    "    \n",
    "    driver.get(page_url)\n",
    "    price=driver.find_elements_by_xpath('//div[@class=\"_30jeq3\"]')\n",
    "    for i in range(len(price)):\n",
    "        price_sneakers.append(price[i].text)"
   ]
  },
  {
   "cell_type": "code",
   "execution_count": 109,
   "id": "15425d12",
   "metadata": {},
   "outputs": [
    {
     "data": {
      "text/plain": [
       "120"
      ]
     },
     "execution_count": 109,
     "metadata": {},
     "output_type": "execute_result"
    }
   ],
   "source": [
    "len(price_sneakers)"
   ]
  },
  {
   "cell_type": "code",
   "execution_count": 110,
   "id": "6f9612b3",
   "metadata": {},
   "outputs": [],
   "source": [
    "\n",
    "discount_sneakers=[]\n",
    "\n",
    "for page in range(1,4):\n",
    "    page_url='https://www.flipkart.com/search?q=sneakers&otracker=search&otracker1=search&marketplace=FLIPKART&as-show=on&as=off'\n",
    "    \n",
    "    driver.get(page_url)\n",
    "    discount=driver.find_elements_by_xpath('//div[@class=\"_3Ay6Sb\"]')\n",
    "    for i in range(len(discount)):\n",
    "        discount_sneakers.append(discount[i].text)"
   ]
  },
  {
   "cell_type": "code",
   "execution_count": 111,
   "id": "34297fd9",
   "metadata": {},
   "outputs": [
    {
     "data": {
      "text/plain": [
       "120"
      ]
     },
     "execution_count": 111,
     "metadata": {},
     "output_type": "execute_result"
    }
   ],
   "source": [
    "len(discount_sneakers)"
   ]
  },
  {
   "cell_type": "code",
   "execution_count": 112,
   "id": "ce58c3c4",
   "metadata": {},
   "outputs": [
    {
     "data": {
      "text/html": [
       "<div>\n",
       "<style scoped>\n",
       "    .dataframe tbody tr th:only-of-type {\n",
       "        vertical-align: middle;\n",
       "    }\n",
       "\n",
       "    .dataframe tbody tr th {\n",
       "        vertical-align: top;\n",
       "    }\n",
       "\n",
       "    .dataframe thead th {\n",
       "        text-align: right;\n",
       "    }\n",
       "</style>\n",
       "<table border=\"1\" class=\"dataframe\">\n",
       "  <thead>\n",
       "    <tr style=\"text-align: right;\">\n",
       "      <th></th>\n",
       "      <th>brand_name</th>\n",
       "      <th>product_description</th>\n",
       "      <th>price_sneakers</th>\n",
       "      <th>discount_sneakers</th>\n",
       "    </tr>\n",
       "  </thead>\n",
       "  <tbody>\n",
       "    <tr>\n",
       "      <th>0</th>\n",
       "      <td>woati</td>\n",
       "      <td>Sneakers For Men</td>\n",
       "      <td>₹499</td>\n",
       "      <td>50% off</td>\n",
       "    </tr>\n",
       "    <tr>\n",
       "      <th>1</th>\n",
       "      <td>VIPSJAZZY</td>\n",
       "      <td>Sneakers For Men</td>\n",
       "      <td>₹1,199</td>\n",
       "      <td>57% off</td>\n",
       "    </tr>\n",
       "    <tr>\n",
       "      <th>2</th>\n",
       "      <td>Magnolia</td>\n",
       "      <td>Perfect &amp; Affordable Combo Pack of 02 Pairs Sn...</td>\n",
       "      <td>₹356</td>\n",
       "      <td>64% off</td>\n",
       "    </tr>\n",
       "    <tr>\n",
       "      <th>3</th>\n",
       "      <td>Chevit</td>\n",
       "      <td>Combo Pack Of 4 Casual Shoes Loafer Shoes Snea...</td>\n",
       "      <td>₹599</td>\n",
       "      <td>66% off</td>\n",
       "    </tr>\n",
       "    <tr>\n",
       "      <th>4</th>\n",
       "      <td>BRUTON</td>\n",
       "      <td>Original Luxury Branded Fashionable Men's Casu...</td>\n",
       "      <td>₹474</td>\n",
       "      <td>86% off</td>\n",
       "    </tr>\n",
       "    <tr>\n",
       "      <th>...</th>\n",
       "      <td>...</td>\n",
       "      <td>...</td>\n",
       "      <td>...</td>\n",
       "      <td>...</td>\n",
       "    </tr>\n",
       "    <tr>\n",
       "      <th>95</th>\n",
       "      <td>HRX by Hrithik Roshan</td>\n",
       "      <td>Sneakers For Men</td>\n",
       "      <td>₹599</td>\n",
       "      <td>60% off</td>\n",
       "    </tr>\n",
       "    <tr>\n",
       "      <th>96</th>\n",
       "      <td>Numenzo</td>\n",
       "      <td>Luxury Fashionable Breathable Casual Sneakers ...</td>\n",
       "      <td>₹449</td>\n",
       "      <td>77% off</td>\n",
       "    </tr>\n",
       "    <tr>\n",
       "      <th>97</th>\n",
       "      <td>Absolute comfort</td>\n",
       "      <td>luxury fashionable casual shoes Sneakers For Men</td>\n",
       "      <td>₹198</td>\n",
       "      <td>60% off</td>\n",
       "    </tr>\n",
       "    <tr>\n",
       "      <th>98</th>\n",
       "      <td>Shoes Bank</td>\n",
       "      <td>Sneakers For Men</td>\n",
       "      <td>₹349</td>\n",
       "      <td>65% off</td>\n",
       "    </tr>\n",
       "    <tr>\n",
       "      <th>99</th>\n",
       "      <td>Bonexy</td>\n",
       "      <td>Sneakers For Men</td>\n",
       "      <td>₹635</td>\n",
       "      <td>36% off</td>\n",
       "    </tr>\n",
       "  </tbody>\n",
       "</table>\n",
       "<p>100 rows × 4 columns</p>\n",
       "</div>"
      ],
      "text/plain": [
       "               brand_name                               product_description   \\\n",
       "0                   woati                                   Sneakers For Men   \n",
       "1               VIPSJAZZY                                   Sneakers For Men   \n",
       "2                Magnolia  Perfect & Affordable Combo Pack of 02 Pairs Sn...   \n",
       "3                  Chevit  Combo Pack Of 4 Casual Shoes Loafer Shoes Snea...   \n",
       "4                  BRUTON  Original Luxury Branded Fashionable Men's Casu...   \n",
       "..                    ...                                                ...   \n",
       "95  HRX by Hrithik Roshan                                   Sneakers For Men   \n",
       "96                Numenzo  Luxury Fashionable Breathable Casual Sneakers ...   \n",
       "97       Absolute comfort   luxury fashionable casual shoes Sneakers For Men   \n",
       "98             Shoes Bank                                   Sneakers For Men   \n",
       "99                 Bonexy                                   Sneakers For Men   \n",
       "\n",
       "   price_sneakers discount_sneakers  \n",
       "0            ₹499           50% off  \n",
       "1          ₹1,199           57% off  \n",
       "2            ₹356           64% off  \n",
       "3            ₹599           66% off  \n",
       "4            ₹474           86% off  \n",
       "..            ...               ...  \n",
       "95           ₹599           60% off  \n",
       "96           ₹449           77% off  \n",
       "97           ₹198           60% off  \n",
       "98           ₹349           65% off  \n",
       "99           ₹635           36% off  \n",
       "\n",
       "[100 rows x 4 columns]"
      ]
     },
     "execution_count": 112,
     "metadata": {},
     "output_type": "execute_result"
    }
   ],
   "source": [
    "sneakers_details=pd.DataFrame({})\n",
    "sneakers_details[\"brand_name\"]=brand_name[:100]\n",
    "sneakers_details[\"product_description \"]=product_description[:100] \n",
    "sneakers_details[\"price_sneakers\"]=price_sneakers[:100]\n",
    "sneakers_details[\"discount_sneakers\"]=discount_sneakers[:100]\n",
    "sneakers_details"
   ]
  },
  {
   "cell_type": "code",
   "execution_count": null,
   "id": "b7e59fab",
   "metadata": {},
   "outputs": [],
   "source": []
  },
  {
   "cell_type": "code",
   "execution_count": null,
   "id": "f5fc8899",
   "metadata": {},
   "outputs": [],
   "source": []
  },
  {
   "cell_type": "markdown",
   "id": "f6d9711c",
   "metadata": {},
   "source": [
    "Q9: Go to the link - https://www.myntra.com/shoes Set Price filter to “Rs. 6649 to Rs. 13099” , Color filter to “Black”, as shown in \n",
    "the below image And then scrape First 100 shoes data you get. The data should include “Brand” of \n",
    "the shoes , Short Shoe description, price of the shoe as shown in the below image.\n",
    "Please note that applying the filter and scraping the data , everything should be done through code only and there should not be any manual step.\n",
    "\n",
    "\n"
   ]
  },
  {
   "cell_type": "code",
   "execution_count": 113,
   "id": "7e538c6a",
   "metadata": {},
   "outputs": [],
   "source": [
    "#lets first connect to the web driver\n",
    "driver=webdriver.Edge(\"msedgedriver.exe\")"
   ]
  },
  {
   "cell_type": "code",
   "execution_count": 114,
   "id": "bd19ecde",
   "metadata": {},
   "outputs": [],
   "source": [
    "url='https://www.myntra.com/shoes'\n",
    "driver.get(url)"
   ]
  },
  {
   "cell_type": "code",
   "execution_count": null,
   "id": "63703d1c",
   "metadata": {},
   "outputs": [],
   "source": [
    "search_shoes=driver.find_element_by_xpath()\n",
    "search_shoes"
   ]
  },
  {
   "cell_type": "code",
   "execution_count": null,
   "id": "591d2d8a",
   "metadata": {},
   "outputs": [],
   "source": [
    "#write on search bar\n",
    "search_shoes.send_keys(\"\")"
   ]
  },
  {
   "cell_type": "code",
   "execution_count": null,
   "id": "ac4c375a",
   "metadata": {},
   "outputs": [],
   "source": [
    "search_btn=driver.find_element_by_xpath()\n",
    "search_btn.click()"
   ]
  },
  {
   "cell_type": "code",
   "execution_count": 115,
   "id": "c555c419",
   "metadata": {},
   "outputs": [],
   "source": [
    "brand_name=[]\n",
    "product_description=[]\n",
    "price_shoes=[] \n",
    "for page in range(1,3):  \n",
    "    page_url='https://www.myntra.com/shoes?f=Color%3ABlack_36454f&plaEnabled=false&rf=Price%3A6897.0_13595.0_6897.0%20TO%2013595.0%2C6935.0_13621.0_6935.0%20TO%2013621.0'\n",
    "    driver.get(page_url)\n",
    "    brand=driver.find_elements_by_xpath('//h3[@class=\"product-brand\"]')\n",
    "    product_desc=driver.find_elements_by_xpath('//h4[@class=\"product-product\"]')\n",
    "    price=driver.find_elements_by_xpath('//div[@class=\"product-price\"]')\n",
    "    for i in range(len(brand)):\n",
    "        brand_name.append(brand[i].text)\n",
    "        product_description.append(product_desc[i].text)\n",
    "        price_shoes.append(price[i].text)\n",
    "    "
   ]
  },
  {
   "cell_type": "code",
   "execution_count": 116,
   "id": "e5451a51",
   "metadata": {},
   "outputs": [
    {
     "data": {
      "text/plain": [
       "100"
      ]
     },
     "execution_count": 116,
     "metadata": {},
     "output_type": "execute_result"
    }
   ],
   "source": [
    "len(brand_name)"
   ]
  },
  {
   "cell_type": "code",
   "execution_count": 117,
   "id": "6740bc07",
   "metadata": {},
   "outputs": [
    {
     "data": {
      "text/plain": [
       "100"
      ]
     },
     "execution_count": 117,
     "metadata": {},
     "output_type": "execute_result"
    }
   ],
   "source": [
    "len(price_shoes)"
   ]
  },
  {
   "cell_type": "code",
   "execution_count": 118,
   "id": "3acb4761",
   "metadata": {},
   "outputs": [
    {
     "data": {
      "text/html": [
       "<div>\n",
       "<style scoped>\n",
       "    .dataframe tbody tr th:only-of-type {\n",
       "        vertical-align: middle;\n",
       "    }\n",
       "\n",
       "    .dataframe tbody tr th {\n",
       "        vertical-align: top;\n",
       "    }\n",
       "\n",
       "    .dataframe thead th {\n",
       "        text-align: right;\n",
       "    }\n",
       "</style>\n",
       "<table border=\"1\" class=\"dataframe\">\n",
       "  <thead>\n",
       "    <tr style=\"text-align: right;\">\n",
       "      <th></th>\n",
       "      <th>brand_name</th>\n",
       "      <th>product_description</th>\n",
       "      <th>price_shoes</th>\n",
       "    </tr>\n",
       "  </thead>\n",
       "  <tbody>\n",
       "    <tr>\n",
       "      <th>0</th>\n",
       "      <td>Puma</td>\n",
       "      <td>Men Cell Fraction Fade Running</td>\n",
       "      <td>Rs. 6999</td>\n",
       "    </tr>\n",
       "    <tr>\n",
       "      <th>1</th>\n",
       "      <td>Puma</td>\n",
       "      <td>Men FUSE Training Shoes</td>\n",
       "      <td>Rs. 7999</td>\n",
       "    </tr>\n",
       "    <tr>\n",
       "      <th>2</th>\n",
       "      <td>Puma</td>\n",
       "      <td>Men BlackTraining or Gym Shoes</td>\n",
       "      <td>Rs. 6999</td>\n",
       "    </tr>\n",
       "    <tr>\n",
       "      <th>3</th>\n",
       "      <td>Puma</td>\n",
       "      <td>Mesh Hybrid Fuego Running</td>\n",
       "      <td>Rs. 6999</td>\n",
       "    </tr>\n",
       "    <tr>\n",
       "      <th>4</th>\n",
       "      <td>UNDER ARMOUR</td>\n",
       "      <td>Men HOVR Sonic STRT Tech Shoes</td>\n",
       "      <td>Rs. 9999</td>\n",
       "    </tr>\n",
       "    <tr>\n",
       "      <th>...</th>\n",
       "      <td>...</td>\n",
       "      <td>...</td>\n",
       "      <td>...</td>\n",
       "    </tr>\n",
       "    <tr>\n",
       "      <th>95</th>\n",
       "      <td>Hush Puppies</td>\n",
       "      <td>Men Solid Leather Formal Slip-Ons</td>\n",
       "      <td>Rs. 8999Rs. 9999(10% OFF)</td>\n",
       "    </tr>\n",
       "    <tr>\n",
       "      <th>96</th>\n",
       "      <td>ROSSO BRUNELLO</td>\n",
       "      <td>Men Solid Leather Formal Monk Shoes</td>\n",
       "      <td>Rs. 12999</td>\n",
       "    </tr>\n",
       "    <tr>\n",
       "      <th>97</th>\n",
       "      <td>Saint G</td>\n",
       "      <td>Leather Block Sandals</td>\n",
       "      <td>Rs. 10355Rs. 10900(5% OFF)</td>\n",
       "    </tr>\n",
       "    <tr>\n",
       "      <th>98</th>\n",
       "      <td>ASICS</td>\n",
       "      <td>Women GlideRide Running Shoes</td>\n",
       "      <td>Rs. 11199Rs. 13999(20% OFF)</td>\n",
       "    </tr>\n",
       "    <tr>\n",
       "      <th>99</th>\n",
       "      <td>J.FONTINI</td>\n",
       "      <td>Men Solid Leather Formal Derbys</td>\n",
       "      <td>Rs. 6990</td>\n",
       "    </tr>\n",
       "  </tbody>\n",
       "</table>\n",
       "<p>100 rows × 3 columns</p>\n",
       "</div>"
      ],
      "text/plain": [
       "        brand_name                 product_description   \\\n",
       "0             Puma       Men Cell Fraction Fade Running   \n",
       "1             Puma              Men FUSE Training Shoes   \n",
       "2             Puma       Men BlackTraining or Gym Shoes   \n",
       "3             Puma            Mesh Hybrid Fuego Running   \n",
       "4     UNDER ARMOUR       Men HOVR Sonic STRT Tech Shoes   \n",
       "..             ...                                  ...   \n",
       "95    Hush Puppies    Men Solid Leather Formal Slip-Ons   \n",
       "96  ROSSO BRUNELLO  Men Solid Leather Formal Monk Shoes   \n",
       "97         Saint G                Leather Block Sandals   \n",
       "98           ASICS        Women GlideRide Running Shoes   \n",
       "99       J.FONTINI      Men Solid Leather Formal Derbys   \n",
       "\n",
       "                    price_shoes  \n",
       "0                      Rs. 6999  \n",
       "1                      Rs. 7999  \n",
       "2                      Rs. 6999  \n",
       "3                      Rs. 6999  \n",
       "4                      Rs. 9999  \n",
       "..                          ...  \n",
       "95    Rs. 8999Rs. 9999(10% OFF)  \n",
       "96                    Rs. 12999  \n",
       "97   Rs. 10355Rs. 10900(5% OFF)  \n",
       "98  Rs. 11199Rs. 13999(20% OFF)  \n",
       "99                     Rs. 6990  \n",
       "\n",
       "[100 rows x 3 columns]"
      ]
     },
     "execution_count": 118,
     "metadata": {},
     "output_type": "execute_result"
    }
   ],
   "source": [
    "shoes_details=pd.DataFrame({})\n",
    "shoes_details[\"brand_name\"]=brand_name\n",
    "shoes_details[\"product_description \"]=product_description \n",
    "shoes_details[\"price_shoes\"]=price_shoes\n",
    "shoes_details"
   ]
  },
  {
   "cell_type": "code",
   "execution_count": null,
   "id": "9842a240",
   "metadata": {},
   "outputs": [],
   "source": []
  },
  {
   "cell_type": "markdown",
   "id": "65c317c1",
   "metadata": {},
   "source": [
    "Q10: Go to webpage https://www.amazon.in/  Enter “Laptop” in the search field and then click the search icon.\n",
    "    Then set CPU Type filter to “Intel Core i7” and “Intel Core i9” as shown in the below image:\n",
    "\n"
   ]
  },
  {
   "cell_type": "markdown",
   "id": "03885935",
   "metadata": {},
   "source": [
    "After setting the filters scrape first 10 laptops data. You have to scrape 3 attributes for each laptop:\n",
    "1. title\n",
    "2. Ratings\n",
    "3. Price\n",
    "As shown in the below image as the tick marked attributes.\n"
   ]
  },
  {
   "cell_type": "code",
   "execution_count": 276,
   "id": "a9efd428",
   "metadata": {},
   "outputs": [],
   "source": [
    "#lets first connect to the web driver\n",
    "driver=webdriver.Edge(\"msedgedriver.exe\")"
   ]
  },
  {
   "cell_type": "code",
   "execution_count": 277,
   "id": "cf452156",
   "metadata": {},
   "outputs": [],
   "source": [
    "url='https://www.amazon.in/'\n",
    "driver.get(url)"
   ]
  },
  {
   "cell_type": "code",
   "execution_count": 278,
   "id": "518e5464",
   "metadata": {},
   "outputs": [
    {
     "data": {
      "text/plain": [
       "<selenium.webdriver.remote.webelement.WebElement (session=\"ebae68ea309b6160bfebf9836388c3e3\", element=\"47d9799c-d17f-4626-8498-979239c53e54\")>"
      ]
     },
     "execution_count": 278,
     "metadata": {},
     "output_type": "execute_result"
    }
   ],
   "source": [
    "search_laptop=driver.find_element_by_id(\"twotabsearchtextbox\")\n",
    "search_laptop"
   ]
  },
  {
   "cell_type": "code",
   "execution_count": 279,
   "id": "454b96bb",
   "metadata": {},
   "outputs": [],
   "source": [
    "#write on search bar\n",
    "search_laptop.send_keys(\"laptop\")"
   ]
  },
  {
   "cell_type": "code",
   "execution_count": 280,
   "id": "960244fc",
   "metadata": {},
   "outputs": [],
   "source": [
    "search_btn=driver.find_element_by_id(\"nav-search-submit-button\")\n",
    "search_btn.click()"
   ]
  },
  {
   "cell_type": "code",
   "execution_count": null,
   "id": "fe8fd854",
   "metadata": {},
   "outputs": [],
   "source": []
  },
  {
   "cell_type": "code",
   "execution_count": 284,
   "id": "451f4de4",
   "metadata": {},
   "outputs": [
    {
     "data": {
      "text/plain": [
       "[<selenium.webdriver.remote.webelement.WebElement (session=\"ebae68ea309b6160bfebf9836388c3e3\", element=\"a9720ada-dad5-4ba5-a17e-d09f71a4eb00\")>,\n",
       " <selenium.webdriver.remote.webelement.WebElement (session=\"ebae68ea309b6160bfebf9836388c3e3\", element=\"9911491a-418f-44c4-b4f5-c6ac3cd5c1cc\")>,\n",
       " <selenium.webdriver.remote.webelement.WebElement (session=\"ebae68ea309b6160bfebf9836388c3e3\", element=\"17227b8d-be2a-48c7-aae1-1492b03b55d1\")>,\n",
       " <selenium.webdriver.remote.webelement.WebElement (session=\"ebae68ea309b6160bfebf9836388c3e3\", element=\"e71bfb6b-f297-483c-ae88-2232fbb7aaf0\")>,\n",
       " <selenium.webdriver.remote.webelement.WebElement (session=\"ebae68ea309b6160bfebf9836388c3e3\", element=\"d8242671-f82e-4a18-888a-928afd34c80a\")>,\n",
       " <selenium.webdriver.remote.webelement.WebElement (session=\"ebae68ea309b6160bfebf9836388c3e3\", element=\"47cd658c-6a0a-474f-a7d7-1b54940614d9\")>,\n",
       " <selenium.webdriver.remote.webelement.WebElement (session=\"ebae68ea309b6160bfebf9836388c3e3\", element=\"e9e54a92-6ecd-4d04-9741-d79af71e5903\")>,\n",
       " <selenium.webdriver.remote.webelement.WebElement (session=\"ebae68ea309b6160bfebf9836388c3e3\", element=\"4a89f062-da46-4732-b082-060ec474c48b\")>,\n",
       " <selenium.webdriver.remote.webelement.WebElement (session=\"ebae68ea309b6160bfebf9836388c3e3\", element=\"bdea5a0e-c191-42e3-8a57-27fa90a06140\")>,\n",
       " <selenium.webdriver.remote.webelement.WebElement (session=\"ebae68ea309b6160bfebf9836388c3e3\", element=\"c0e23efa-202e-49c8-8c9b-ecdf9adafdb0\")>,\n",
       " <selenium.webdriver.remote.webelement.WebElement (session=\"ebae68ea309b6160bfebf9836388c3e3\", element=\"c93acf87-7c66-4e77-a9bc-ba021ec37387\")>,\n",
       " <selenium.webdriver.remote.webelement.WebElement (session=\"ebae68ea309b6160bfebf9836388c3e3\", element=\"9d7b4910-1c35-4975-a44a-9c2023aa8fd0\")>,\n",
       " <selenium.webdriver.remote.webelement.WebElement (session=\"ebae68ea309b6160bfebf9836388c3e3\", element=\"3d33a6c2-1cfa-4b08-ae34-984ee12a412e\")>,\n",
       " <selenium.webdriver.remote.webelement.WebElement (session=\"ebae68ea309b6160bfebf9836388c3e3\", element=\"f5a32af7-c606-4414-91da-bab4460966cb\")>,\n",
       " <selenium.webdriver.remote.webelement.WebElement (session=\"ebae68ea309b6160bfebf9836388c3e3\", element=\"35b7c5f8-662b-4f26-a518-780cdedc9e9a\")>,\n",
       " <selenium.webdriver.remote.webelement.WebElement (session=\"ebae68ea309b6160bfebf9836388c3e3\", element=\"c6b5180a-1e47-4c19-8464-c10d54b1907c\")>,\n",
       " <selenium.webdriver.remote.webelement.WebElement (session=\"ebae68ea309b6160bfebf9836388c3e3\", element=\"92777206-084a-4733-884a-69507d66981a\")>,\n",
       " <selenium.webdriver.remote.webelement.WebElement (session=\"ebae68ea309b6160bfebf9836388c3e3\", element=\"31bc5972-26f8-438a-8de5-5f1624099f01\")>,\n",
       " <selenium.webdriver.remote.webelement.WebElement (session=\"ebae68ea309b6160bfebf9836388c3e3\", element=\"db5a305a-2578-4f51-9eca-883d5ec4fcbc\")>,\n",
       " <selenium.webdriver.remote.webelement.WebElement (session=\"ebae68ea309b6160bfebf9836388c3e3\", element=\"890e1dab-daf2-436e-938a-8a08b161f14d\")>,\n",
       " <selenium.webdriver.remote.webelement.WebElement (session=\"ebae68ea309b6160bfebf9836388c3e3\", element=\"17221513-5a7e-439a-a5a4-b14dea5d1e18\")>,\n",
       " <selenium.webdriver.remote.webelement.WebElement (session=\"ebae68ea309b6160bfebf9836388c3e3\", element=\"9c7d6d4d-96c8-4062-b3dc-5c45e9c0824e\")>,\n",
       " <selenium.webdriver.remote.webelement.WebElement (session=\"ebae68ea309b6160bfebf9836388c3e3\", element=\"48680f85-ca06-4cbb-8281-3093d87a64ab\")>,\n",
       " <selenium.webdriver.remote.webelement.WebElement (session=\"ebae68ea309b6160bfebf9836388c3e3\", element=\"8ee2257e-1ba4-45b0-9bd1-e0c490dd2f75\")>,\n",
       " <selenium.webdriver.remote.webelement.WebElement (session=\"ebae68ea309b6160bfebf9836388c3e3\", element=\"93d767be-feec-4bec-b5b4-9c7fcc6ddc87\")>,\n",
       " <selenium.webdriver.remote.webelement.WebElement (session=\"ebae68ea309b6160bfebf9836388c3e3\", element=\"0b462c48-100b-401c-88c4-7c91fcd8dc20\")>,\n",
       " <selenium.webdriver.remote.webelement.WebElement (session=\"ebae68ea309b6160bfebf9836388c3e3\", element=\"42321543-9043-47b1-9a98-4840b01ea8b4\")>,\n",
       " <selenium.webdriver.remote.webelement.WebElement (session=\"ebae68ea309b6160bfebf9836388c3e3\", element=\"7eb98c4c-7d66-45ac-8e77-08e4ff4fec2b\")>]"
      ]
     },
     "execution_count": 284,
     "metadata": {},
     "output_type": "execute_result"
    }
   ],
   "source": [
    "titles_tags=driver.find_elements_by_xpath('//h2[@class=\"a-size-mini a-spacing-none a-color-base s-line-clamp-2\"]')\n",
    "titles_tags"
   ]
  },
  {
   "cell_type": "code",
   "execution_count": 285,
   "id": "f5bab151",
   "metadata": {},
   "outputs": [
    {
     "data": {
      "text/plain": [
       "['Dell XPS 9370 13.3-inch FHD Display Thin & Light Laptop (8th Gen i7-8550U/16GB/512GB SSD/Win 10 + MS Office/Integrated Graphics), Gold',\n",
       " 'HP Envy 11th Gen Core i7 Processor 13.3-inch (33.78 cms) FHD Touchscreen Laptop (16GB/1TB SSD/Win 10/NVIDIA MX450 2GB/Natural Silver/1.3 kg), 13-ba1018TX',\n",
       " 'Mi Notebook Horizon Edition 14 Intel Core i7-10510U 10th Gen Thin and Light Laptop(8GB/512GB SSD/Windows 10/Nvidia MX350 2GB Graphics/Grey/1.35Kg)(Without Webcam) XMA1904-AF',\n",
       " 'Lenovo IdeaPad S540 11th Gen Intel Core i7 13.3\" QHD IPS Thin & Light Laptop (16GB/512GB SSD/Windows 10/MS Office 2019/Intel Iris Xe Graphics/Iron Grey/1.28Kg), 82H1002CIN',\n",
       " 'ASUS TUF Dash F15 (2021) 15.6\" (39.62 cm) FHD 240Hz/3ms, Intel Core i7-11370H, GeForce RTX 3060 6GB Graphics, Gaming Laptop (16GB RAM/1TB SSD/Office 2019/Windows 10 Home/Gray/2 Kg) FX516PM-AZ153TS',\n",
       " 'Mi Notebook Pro QHD+ IPS Anti Glare Display Intel Core i7-11370H 11th Gen 14-inch(35.56 cms) Thin and Light Laptop (16GB/512GB SSD/Iris Xe Graphics/Win 10/Backlit KB/Fingerprint Sensor/1.4 Kg)',\n",
       " 'HP Pavilion Gaming 11th Gen Intel Core i7 15.6-inch(39.6 cm) FHD Gaming Laptop (16GB RAM/512GB SSD/144Hz/GTX 1650 4GB Graphics/Win 10/MS Office/Shadow Black/2.28 Kg), 15-dk2075tx',\n",
       " 'HP Pavilion 13(2021) 11th Gen Intel Core i7 Laptop, 16GB RAM, 1TB SSD, 13.3-inch(33.8 cm) FHD Screen, Win 10, MS Office, Ceramic White, 1.24 Kg (13-bb0078TU)',\n",
       " 'MSI GF75 Thin, Intel i7-10750H, 17.3\" (43.9 cm) FHD IPS-Level 144Hz Panel Laptop (8GB/512GB NVMe SSD/Windows 10 Home/Nvidia GTX1650 4GB GDDR6/Black/2.2Kg), 10SCXR-654IN',\n",
       " 'Fujitsu UH-X 11th Gen Intel Core i7 13.3” (33.78cm) FHD IPS 400Nits 2-in1 Touch Convertible Laptop (16GB/1TB SSD/Win10/Office/Iris Xe Graphics/Backlit Kb/Black/997gms), 4ZR1D71993',\n",
       " 'Lenovo Yoga 7 11th Gen Intel Core i7 14\" Full HD IPS 2-in-1 Touchscreen Laptop (16GB/512GB SSD/Windows 10/MS Office 2019/Lenovo Digital Pen/Slate Grey/Aluminium Surface/1.43Kg), 82BH00E0IN',\n",
       " 'Lenovo IdeaPad Gaming 3 Intel Core i7 10th Gen 15.6\" FHD IPS 250Nits Gaming Laptop (8GB/512GB SSD/Win10/NVIDIA GTX 1650 4GB GDDR6 Graphics/120Hz/Onyx Black/2.2Kg), 81Y4019EIN',\n",
       " 'ASUS TUF Dash F15 (2021), 15.6-inch (39.62 cms) FHD 144Hz, Intel Core i7-11370H 11th Gen, RTX 3050 4GB Graphics Gaming Laptop (16GB RAM/512GB SSD/Windows 10/White/2 kg), FX516PC-HN062T',\n",
       " 'ASUS TUF Gaming F17 (2021), 17.3-inch (43.94 cms) FHD 144Hz, Intel Core i7-11800H 11th Gen, GeForce RTX 3050 Ti 4GB Graphics, Gaming Laptop (16GB/1TB SSD/Windows 10/Eclipse Gray/2.6 Kg) FX766HE-HX022T',\n",
       " 'ASUS TUF Dash F15 (2021), 15.6\" (39.62 cms) FHD 144Hz, Intel Core i7-11370H 11th Gen, RTX 3050 Ti 4GB Graphics, Gaming Laptop (16GB/1TB SSD/Office 2019/Windows 10/Eclipse Gray/2 kg), FX516PE-HN088TS',\n",
       " 'Acer Swift 5 14\" (35.56cms) Full HD IPS Display with Touchscreen Ultra Thin and Light Notebook (Intel i7 - 11th Gen/16GB RAM/1TB SSD/Win10/Intel Iris Xe Graphics/1.05 Kg/Mist Green), SF514-55TA',\n",
       " 'Lenovo IdeaPad Gaming 3 11th Gen Intel Core i7-11370H 15.6\" (39.63cm) FHD IPS Gaming Laptop (8GB/512GB SSD/Windows 10/NVIDIA RTX 3050 4GB/120Hz Refresh Display/Shadow Black/2.25Kg), 82K1004EIN',\n",
       " 'NEXSTGO Primus NX101 NP14N1IN008P 14-inch Laptop (Core i7-8550U/16GB/512SSD/Windows 10 Pro/Full HD+ IR/Finger Print/Integrated Graphics/Thin & Light/1.3KG), Silver',\n",
       " '(Renewed) Hp Intel 4th Gen Core i7 15.6-inch (39.56 Cms) 1920 x 1080 Laptop (32GB RAM /1TB SSD/Windows 10 Pro/MS Office/NVIDIA Graphics/ Gray/2.5kg) HP ZBook 15 Mobile Workstation',\n",
       " 'ASUS TUF Gaming F15 (2021), 15.6-inch (39.62 cms) FHD 144Hz, Intel Core i7-11800H 11th Gen, GeForce RTX 3050 4GB Graphics, Gaming Laptop (8GB/512GB SSD/Windows 10/Eclipse Gray/2.3 Kg), FX566HC-HN093T',\n",
       " 'Acer Nitro 5 Intel Core i7-11th Gen 15.6-inch (39.62 cms) 144 Hz Refresh Rate Gaming Laptop (8GB RAM/RTX 3050 Graphics/1TB HDD + 256GB SSD/Windows 10 HS/Black/2.4 Kgs), AN515-57',\n",
       " 'ASUS ZenBook 14 (2020) Intel Core i7-1165G7 11th Gen 14-inch (35.56 cms) FHD Thin & Light Laptop (16GB/512GB SSD/Office 2019/Windows 10/Intel Iris Xᵉ Graphics/Pine Grey/1.17 kg), UX425EA-KI701TS',\n",
       " '(Renewed) HP Pavilion Gaming(2021) 10th Gen Intel Core i7 15.6-inch(39.6 cm) FHD IPS 144Hz Gaming Laptop (16GB/512GB SSD + 32GB Intel Optane/NVIDIA GTX 1650Ti 4GB/Win 10/MS Office/Shadow Black), 15-DK1511TX',\n",
       " 'ASUS VivoBook S S15 (2021), 15.6-inch (39.62 cms) FHD Intel Core i7-1165G7 11th Gen, Thin and Light Laptop (8GB/512GB SSD/Office 2019/Windows 10/2GB NVIDIA MX350 Graphics/Silver/1.8 kg) S532EQ-BQ702TS',\n",
       " 'Life Digital Laptop 15.6-inch (39.62 cms) (Intel Core i7, 8GB RAM, 512GB SSD, Windows 10), ZED AIR CX7',\n",
       " 'Dell G3 3579 15.6-inch FHD Gaming Laptop (8th Gen Core i7-8750H/8GB/1TB + 128GB SSD/Windows 10 + Ms Office/4GB Graphics), Black',\n",
       " 'ASUS TUF Dash F15 (2021) 15.6-inch (39.62 cms) FHD 144Hz, Intel Core i7-11370H 11th Gen, RTX 3060 6GB Graphics, Gaming Laptop (16GB/512GB SSD/Office 2019/Windows 10/Gray/2 Kg), FX516PM-HN175TS',\n",
       " 'Acer Nitro 5 Core i5 11th Gen 15.6\" (39.62cms) Full HD IPS Gaming Laptop (8 GB/512GB SSD/Win 10/4 GB Graphics/NVIDIA GeForce GTX 1650/144 Hz, Shale Black, 2.2 kg) AN515-57']"
      ]
     },
     "execution_count": 285,
     "metadata": {},
     "output_type": "execute_result"
    }
   ],
   "source": [
    "titles_laptop=[]\n",
    "for i in titles_tags:\n",
    "    titles_laptop.append(i.text)\n",
    "titles_laptop"
   ]
  },
  {
   "cell_type": "code",
   "execution_count": 286,
   "id": "bfcd41bd",
   "metadata": {},
   "outputs": [
    {
     "data": {
      "text/plain": [
       "28"
      ]
     },
     "execution_count": 286,
     "metadata": {},
     "output_type": "execute_result"
    }
   ],
   "source": [
    "len(titles_laptop)"
   ]
  },
  {
   "cell_type": "code",
   "execution_count": 290,
   "id": "7aeb4b05",
   "metadata": {},
   "outputs": [],
   "source": [
    "laptop_ratings=[]\n",
    "for page in range(1,3):\n",
    "    page_url='https://www.amazon.in/s?k=laptop&i=computers&rh=n%3A1375424031%2Cp_n_feature_thirteen_browse-bin%3A12598163031%7C16757432031&dc&qid=1631495695&rnid=12598141031&ref=sr_nr_p_n_feature_thirteen_browse-bin_27'\n",
    "    driver.get(page_url)\n",
    "    ratings=driver.find_elements_by_xpath('//i[@class=\"a-icon a-icon-star-small a-star-small-4 aok-align-bottom\"]')\n",
    "    for i in range(len(ratings)):\n",
    "        laptop_ratings.append(ratings[i].text)"
   ]
  },
  {
   "cell_type": "code",
   "execution_count": 291,
   "id": "34f48709",
   "metadata": {},
   "outputs": [
    {
     "data": {
      "text/plain": [
       "['', '', '', '', '', '', '', '', '', '', '', '', '', '']"
      ]
     },
     "execution_count": 291,
     "metadata": {},
     "output_type": "execute_result"
    }
   ],
   "source": [
    "laptop_ratings"
   ]
  },
  {
   "cell_type": "code",
   "execution_count": 292,
   "id": "1b0f18b5",
   "metadata": {},
   "outputs": [
    {
     "data": {
      "text/plain": [
       "[<selenium.webdriver.remote.webelement.WebElement (session=\"ebae68ea309b6160bfebf9836388c3e3\", element=\"2bcdddb2-2e55-4716-a063-c23a0ec6b4a4\")>,\n",
       " <selenium.webdriver.remote.webelement.WebElement (session=\"ebae68ea309b6160bfebf9836388c3e3\", element=\"12881657-1574-418d-9ad7-be20c0601e66\")>,\n",
       " <selenium.webdriver.remote.webelement.WebElement (session=\"ebae68ea309b6160bfebf9836388c3e3\", element=\"18c77d1e-2060-4a15-8ff8-a3717c488390\")>,\n",
       " <selenium.webdriver.remote.webelement.WebElement (session=\"ebae68ea309b6160bfebf9836388c3e3\", element=\"ddd59f36-5ffe-4920-9a2a-9fa869133a0f\")>,\n",
       " <selenium.webdriver.remote.webelement.WebElement (session=\"ebae68ea309b6160bfebf9836388c3e3\", element=\"7ff52a90-d336-43ab-95b7-deaf45890129\")>,\n",
       " <selenium.webdriver.remote.webelement.WebElement (session=\"ebae68ea309b6160bfebf9836388c3e3\", element=\"f02ee942-b73a-42ed-8500-4b1b4e8abaa1\")>,\n",
       " <selenium.webdriver.remote.webelement.WebElement (session=\"ebae68ea309b6160bfebf9836388c3e3\", element=\"7c9f3d56-d511-471c-b33a-0236e8685a97\")>,\n",
       " <selenium.webdriver.remote.webelement.WebElement (session=\"ebae68ea309b6160bfebf9836388c3e3\", element=\"81553c1f-5e15-4e4a-b594-64a9f036d985\")>,\n",
       " <selenium.webdriver.remote.webelement.WebElement (session=\"ebae68ea309b6160bfebf9836388c3e3\", element=\"21cf6196-b883-4d05-b9d0-2539bef25c32\")>,\n",
       " <selenium.webdriver.remote.webelement.WebElement (session=\"ebae68ea309b6160bfebf9836388c3e3\", element=\"c490fcd9-0ab0-4cb5-a231-a5830ccaafff\")>,\n",
       " <selenium.webdriver.remote.webelement.WebElement (session=\"ebae68ea309b6160bfebf9836388c3e3\", element=\"ca70168b-a36d-493e-b6f7-f0eb027cd455\")>,\n",
       " <selenium.webdriver.remote.webelement.WebElement (session=\"ebae68ea309b6160bfebf9836388c3e3\", element=\"4474ddee-99d3-46eb-8d72-0a136eb9dbc0\")>,\n",
       " <selenium.webdriver.remote.webelement.WebElement (session=\"ebae68ea309b6160bfebf9836388c3e3\", element=\"e395cf20-f256-4733-a213-c2f3b86ead6e\")>,\n",
       " <selenium.webdriver.remote.webelement.WebElement (session=\"ebae68ea309b6160bfebf9836388c3e3\", element=\"a52ea2d3-aed3-4eda-8764-a410c6d10fa9\")>,\n",
       " <selenium.webdriver.remote.webelement.WebElement (session=\"ebae68ea309b6160bfebf9836388c3e3\", element=\"38306d58-e68b-4520-8951-347a4e065935\")>,\n",
       " <selenium.webdriver.remote.webelement.WebElement (session=\"ebae68ea309b6160bfebf9836388c3e3\", element=\"d67c095b-a653-4063-be4d-720dc2d3cad3\")>,\n",
       " <selenium.webdriver.remote.webelement.WebElement (session=\"ebae68ea309b6160bfebf9836388c3e3\", element=\"858f54e8-7410-437b-99ab-88392d48a3dc\")>,\n",
       " <selenium.webdriver.remote.webelement.WebElement (session=\"ebae68ea309b6160bfebf9836388c3e3\", element=\"652bc474-9b8e-499c-8ff0-1464a1f953a9\")>,\n",
       " <selenium.webdriver.remote.webelement.WebElement (session=\"ebae68ea309b6160bfebf9836388c3e3\", element=\"bc25dcc1-48a0-4181-8533-dd88eb6e2f5e\")>,\n",
       " <selenium.webdriver.remote.webelement.WebElement (session=\"ebae68ea309b6160bfebf9836388c3e3\", element=\"c3eace77-be58-40ee-bfa5-1e34ccc85cd3\")>,\n",
       " <selenium.webdriver.remote.webelement.WebElement (session=\"ebae68ea309b6160bfebf9836388c3e3\", element=\"2a2f4388-cabb-43c9-a5a6-07f3bf5a5250\")>,\n",
       " <selenium.webdriver.remote.webelement.WebElement (session=\"ebae68ea309b6160bfebf9836388c3e3\", element=\"ccff56cf-9147-469b-9947-c42580ef6689\")>,\n",
       " <selenium.webdriver.remote.webelement.WebElement (session=\"ebae68ea309b6160bfebf9836388c3e3\", element=\"d9a7dd62-0cdb-4126-b5a0-752e3d94955f\")>,\n",
       " <selenium.webdriver.remote.webelement.WebElement (session=\"ebae68ea309b6160bfebf9836388c3e3\", element=\"94eaa098-da5c-4872-8051-38929e89ea5d\")>,\n",
       " <selenium.webdriver.remote.webelement.WebElement (session=\"ebae68ea309b6160bfebf9836388c3e3\", element=\"a1359e20-e7fc-4c56-905a-b6a64f5120d4\")>,\n",
       " <selenium.webdriver.remote.webelement.WebElement (session=\"ebae68ea309b6160bfebf9836388c3e3\", element=\"d494aadb-d9c3-476c-8c8a-9d42f7ba2b77\")>,\n",
       " <selenium.webdriver.remote.webelement.WebElement (session=\"ebae68ea309b6160bfebf9836388c3e3\", element=\"63ee7833-0e91-4957-8197-d7b42c4af4d1\")>,\n",
       " <selenium.webdriver.remote.webelement.WebElement (session=\"ebae68ea309b6160bfebf9836388c3e3\", element=\"bd39999f-b260-4b0c-a4f9-de6b1477fedb\")>]"
      ]
     },
     "execution_count": 292,
     "metadata": {},
     "output_type": "execute_result"
    }
   ],
   "source": [
    "price=driver.find_elements_by_xpath('//span[@class=\"a-price-whole\"]')\n",
    "price"
   ]
  },
  {
   "cell_type": "code",
   "execution_count": 293,
   "id": "8ba258e2",
   "metadata": {},
   "outputs": [
    {
     "data": {
      "text/plain": [
       "['1,14,990',\n",
       " '1,23,350',\n",
       " '57,990',\n",
       " '77,990',\n",
       " '1,09,990',\n",
       " '89,990',\n",
       " '92,990',\n",
       " '92,990',\n",
       " '74,990',\n",
       " '1,07,990',\n",
       " '97,989',\n",
       " '73,990',\n",
       " '85,990',\n",
       " '1,13,990',\n",
       " '94,999',\n",
       " '84,990',\n",
       " '1,07,841',\n",
       " '53,999',\n",
       " '96,990',\n",
       " '89,999',\n",
       " '96,867',\n",
       " '79,990',\n",
       " '84,667',\n",
       " '39,990',\n",
       " '88,599',\n",
       " '1,23,359',\n",
       " '71,490',\n",
       " '95,990']"
      ]
     },
     "execution_count": 293,
     "metadata": {},
     "output_type": "execute_result"
    }
   ],
   "source": [
    "price_laptop=[]\n",
    "for i in price:\n",
    "    price_laptop.append(i.text)\n",
    "price_laptop"
   ]
  },
  {
   "cell_type": "code",
   "execution_count": 294,
   "id": "76ebe3ea",
   "metadata": {},
   "outputs": [
    {
     "data": {
      "text/plain": [
       "28"
      ]
     },
     "execution_count": 294,
     "metadata": {},
     "output_type": "execute_result"
    }
   ],
   "source": [
    "len(price_laptop)"
   ]
  },
  {
   "cell_type": "code",
   "execution_count": 295,
   "id": "f6577779",
   "metadata": {},
   "outputs": [
    {
     "data": {
      "text/html": [
       "<div>\n",
       "<style scoped>\n",
       "    .dataframe tbody tr th:only-of-type {\n",
       "        vertical-align: middle;\n",
       "    }\n",
       "\n",
       "    .dataframe tbody tr th {\n",
       "        vertical-align: top;\n",
       "    }\n",
       "\n",
       "    .dataframe thead th {\n",
       "        text-align: right;\n",
       "    }\n",
       "</style>\n",
       "<table border=\"1\" class=\"dataframe\">\n",
       "  <thead>\n",
       "    <tr style=\"text-align: right;\">\n",
       "      <th></th>\n",
       "      <th>titles_laptop</th>\n",
       "      <th>laptop_ratings</th>\n",
       "      <th>price_laptop</th>\n",
       "    </tr>\n",
       "  </thead>\n",
       "  <tbody>\n",
       "    <tr>\n",
       "      <th>0</th>\n",
       "      <td>Dell XPS 9370 13.3-inch FHD Display Thin &amp; Lig...</td>\n",
       "      <td></td>\n",
       "      <td>1,14,990</td>\n",
       "    </tr>\n",
       "    <tr>\n",
       "      <th>1</th>\n",
       "      <td>HP Envy 11th Gen Core i7 Processor 13.3-inch (...</td>\n",
       "      <td></td>\n",
       "      <td>1,23,350</td>\n",
       "    </tr>\n",
       "    <tr>\n",
       "      <th>2</th>\n",
       "      <td>Mi Notebook Horizon Edition 14 Intel Core i7-1...</td>\n",
       "      <td></td>\n",
       "      <td>57,990</td>\n",
       "    </tr>\n",
       "    <tr>\n",
       "      <th>3</th>\n",
       "      <td>Lenovo IdeaPad S540 11th Gen Intel Core i7 13....</td>\n",
       "      <td></td>\n",
       "      <td>77,990</td>\n",
       "    </tr>\n",
       "    <tr>\n",
       "      <th>4</th>\n",
       "      <td>ASUS TUF Dash F15 (2021) 15.6\" (39.62 cm) FHD ...</td>\n",
       "      <td></td>\n",
       "      <td>1,09,990</td>\n",
       "    </tr>\n",
       "    <tr>\n",
       "      <th>5</th>\n",
       "      <td>Mi Notebook Pro QHD+ IPS Anti Glare Display In...</td>\n",
       "      <td></td>\n",
       "      <td>89,990</td>\n",
       "    </tr>\n",
       "    <tr>\n",
       "      <th>6</th>\n",
       "      <td>HP Pavilion Gaming 11th Gen Intel Core i7 15.6...</td>\n",
       "      <td></td>\n",
       "      <td>92,990</td>\n",
       "    </tr>\n",
       "    <tr>\n",
       "      <th>7</th>\n",
       "      <td>HP Pavilion 13(2021) 11th Gen Intel Core i7 La...</td>\n",
       "      <td></td>\n",
       "      <td>92,990</td>\n",
       "    </tr>\n",
       "    <tr>\n",
       "      <th>8</th>\n",
       "      <td>MSI GF75 Thin, Intel i7-10750H, 17.3\" (43.9 cm...</td>\n",
       "      <td></td>\n",
       "      <td>74,990</td>\n",
       "    </tr>\n",
       "    <tr>\n",
       "      <th>9</th>\n",
       "      <td>Fujitsu UH-X 11th Gen Intel Core i7 13.3” (33....</td>\n",
       "      <td></td>\n",
       "      <td>1,07,990</td>\n",
       "    </tr>\n",
       "  </tbody>\n",
       "</table>\n",
       "</div>"
      ],
      "text/plain": [
       "                                       titles_laptop laptop_ratings  \\\n",
       "0  Dell XPS 9370 13.3-inch FHD Display Thin & Lig...                  \n",
       "1  HP Envy 11th Gen Core i7 Processor 13.3-inch (...                  \n",
       "2  Mi Notebook Horizon Edition 14 Intel Core i7-1...                  \n",
       "3  Lenovo IdeaPad S540 11th Gen Intel Core i7 13....                  \n",
       "4  ASUS TUF Dash F15 (2021) 15.6\" (39.62 cm) FHD ...                  \n",
       "5  Mi Notebook Pro QHD+ IPS Anti Glare Display In...                  \n",
       "6  HP Pavilion Gaming 11th Gen Intel Core i7 15.6...                  \n",
       "7  HP Pavilion 13(2021) 11th Gen Intel Core i7 La...                  \n",
       "8  MSI GF75 Thin, Intel i7-10750H, 17.3\" (43.9 cm...                  \n",
       "9  Fujitsu UH-X 11th Gen Intel Core i7 13.3” (33....                  \n",
       "\n",
       "  price_laptop  \n",
       "0     1,14,990  \n",
       "1     1,23,350  \n",
       "2       57,990  \n",
       "3       77,990  \n",
       "4     1,09,990  \n",
       "5       89,990  \n",
       "6       92,990  \n",
       "7       92,990  \n",
       "8       74,990  \n",
       "9     1,07,990  "
      ]
     },
     "execution_count": 295,
     "metadata": {},
     "output_type": "execute_result"
    }
   ],
   "source": [
    "laptop_details=pd.DataFrame({})\n",
    "laptop_details[\"titles_laptop\"]=titles_laptop[:10]\n",
    "laptop_details[\"laptop_ratings\"]=laptop_ratings[:10]\n",
    "laptop_details[\"price_laptop\"]=price_laptop[:10]\n",
    "laptop_details"
   ]
  },
  {
   "cell_type": "code",
   "execution_count": null,
   "id": "7c34e151",
   "metadata": {},
   "outputs": [],
   "source": []
  },
  {
   "cell_type": "code",
   "execution_count": null,
   "id": "8f0d573f",
   "metadata": {},
   "outputs": [],
   "source": []
  }
 ],
 "metadata": {
  "kernelspec": {
   "display_name": "Python 3",
   "language": "python",
   "name": "python3"
  },
  "language_info": {
   "codemirror_mode": {
    "name": "ipython",
    "version": 3
   },
   "file_extension": ".py",
   "mimetype": "text/x-python",
   "name": "python",
   "nbconvert_exporter": "python",
   "pygments_lexer": "ipython3",
   "version": "3.8.10"
  }
 },
 "nbformat": 4,
 "nbformat_minor": 5
}
