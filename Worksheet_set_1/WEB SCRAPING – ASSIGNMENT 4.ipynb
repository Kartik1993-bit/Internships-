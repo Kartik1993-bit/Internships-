{
 "cells": [
  {
   "cell_type": "markdown",
   "id": "3e30db6f",
   "metadata": {},
   "source": [
    "# WEB SCRAPING – ASSIGNMENT 4\n"
   ]
  },
  {
   "cell_type": "markdown",
   "id": "4bb308aa",
   "metadata": {},
   "source": [
    "1. Scrape the details of most viewed videos on YouTube from Wikipedia:\n"
   ]
  },
  {
   "cell_type": "markdown",
   "id": "34ecaefb",
   "metadata": {},
   "source": [
    "# You need to find following details:\n",
    "A) Rank\n",
    "B) Name\n",
    "C) Artist\n",
    "D) Upload date\n",
    "E) Views"
   ]
  },
  {
   "cell_type": "code",
   "execution_count": 1,
   "id": "2a3d2608",
   "metadata": {},
   "outputs": [],
   "source": [
    "#lets now import all required libraries\n",
    "import selenium\n",
    "import pandas as pd\n",
    "import time\n",
    "from selenium import webdriver"
   ]
  },
  {
   "cell_type": "code",
   "execution_count": 2,
   "id": "659085eb",
   "metadata": {},
   "outputs": [],
   "source": [
    "# Importing required Exceptions which needs to handled\n",
    "from selenium.common.exceptions import StaleElementReferenceException,NoSuchElementException\n",
    "#Importing requests\n",
    "import requests\n",
    "# importing regex\n",
    "import re\n",
    "import csv"
   ]
  },
  {
   "cell_type": "code",
   "execution_count": 307,
   "id": "26e77ae3",
   "metadata": {},
   "outputs": [],
   "source": [
    "#lets first connect to the web driver\n",
    "driver=webdriver.Edge(\"msedgedriver.exe\")"
   ]
  },
  {
   "cell_type": "code",
   "execution_count": 308,
   "id": "1b5d23a3",
   "metadata": {},
   "outputs": [],
   "source": [
    "url = \"https://en.wikipedia.org/wiki/List_of_most-viewed_YouTube_videos/\"\n",
    "driver.get(url)"
   ]
  },
  {
   "cell_type": "code",
   "execution_count": 309,
   "id": "840182f6",
   "metadata": {},
   "outputs": [],
   "source": [
    "search_btn=driver.find_element_by_xpath('//a[@class=\"external text\"]')\n",
    "search_btn.click()"
   ]
  },
  {
   "cell_type": "code",
   "execution_count": 311,
   "id": "f8893549",
   "metadata": {},
   "outputs": [],
   "source": [
    "search_btn=driver.find_element_by_xpath('//div[@class=\"mw-search-result-heading\"]')\n",
    "search_btn.click()"
   ]
  },
  {
   "cell_type": "code",
   "execution_count": 312,
   "id": "607814c8",
   "metadata": {},
   "outputs": [],
   "source": [
    "#making a empty list\n",
    "Rank=[]\n",
    "Name=[]\n",
    "Artist=[]\n",
    "Upload_date=[]\n",
    "View=[]"
   ]
  },
  {
   "cell_type": "code",
   "execution_count": 61,
   "id": "be2e40f6",
   "metadata": {},
   "outputs": [],
   "source": [
    "titles = driver.find_elements_by_class_name('headerSort')\n"
   ]
  },
  {
   "cell_type": "code",
   "execution_count": 62,
   "id": "a17b98d1",
   "metadata": {},
   "outputs": [
    {
     "name": "stdout",
     "output_type": "stream",
     "text": [
      "No.\n",
      "Video name\n",
      "Uploader\n",
      "Views (billions)\n",
      "Upload date\n",
      "Video name\n",
      "Uploader\n",
      "Views*\n",
      "Upload date\n",
      "Date achieved\n",
      "Days held\n"
     ]
    }
   ],
   "source": [
    "for t in titles:\n",
    "    print(t.text)"
   ]
  },
  {
   "cell_type": "code",
   "execution_count": 86,
   "id": "1f6b3b9e",
   "metadata": {},
   "outputs": [
    {
     "data": {
      "text/html": [
       "<div>\n",
       "<style scoped>\n",
       "    .dataframe tbody tr th:only-of-type {\n",
       "        vertical-align: middle;\n",
       "    }\n",
       "\n",
       "    .dataframe tbody tr th {\n",
       "        vertical-align: top;\n",
       "    }\n",
       "\n",
       "    .dataframe thead th {\n",
       "        text-align: right;\n",
       "    }\n",
       "</style>\n",
       "<table border=\"1\" class=\"dataframe\">\n",
       "  <thead>\n",
       "    <tr style=\"text-align: right;\">\n",
       "      <th></th>\n",
       "      <th>No.</th>\n",
       "      <th>Video name</th>\n",
       "      <th>Uploader</th>\n",
       "      <th>Views (billions)</th>\n",
       "      <th>Upload date</th>\n",
       "    </tr>\n",
       "  </thead>\n",
       "  <tbody>\n",
       "  </tbody>\n",
       "</table>\n",
       "</div>"
      ],
      "text/plain": [
       "Empty DataFrame\n",
       "Columns: [No., Video name, Uploader, Views (billions), Upload date]\n",
       "Index: []"
      ]
     },
     "execution_count": 86,
     "metadata": {},
     "output_type": "execute_result"
    }
   ],
   "source": [
    "df = pd.DataFrame(columns=[t.text for t in titles])\n",
    "df.head()"
   ]
  },
  {
   "cell_type": "code",
   "execution_count": 257,
   "id": "0b5b5038",
   "metadata": {},
   "outputs": [],
   "source": [
    "table = driver.find_elements_by_xpath('//table[@class=\"wikitable sortable jquery-tablesorter\"]/tbody/tr/th')\n"
   ]
  },
  {
   "cell_type": "code",
   "execution_count": null,
   "id": "77e01c20",
   "metadata": {},
   "outputs": [],
   "source": [
    "for idx,s in enumerate(table):\n",
    "    print('row {}:'.format(idx))\n",
    "    print('{}'.format(s.text))"
   ]
  },
  {
   "cell_type": "code",
   "execution_count": 258,
   "id": "db031968",
   "metadata": {},
   "outputs": [],
   "source": [
    "col0 = driver.find_elements_by_xpath('//table[@class=\"wikitable sortable jquery-tablesorter\"]/tbody/tr/td[1]')\n",
    "\n"
   ]
  },
  {
   "cell_type": "code",
   "execution_count": 259,
   "id": "025d6323",
   "metadata": {},
   "outputs": [],
   "source": [
    "col1 = driver.find_elements_by_xpath('//table[@class=\"wikitable sortable jquery-tablesorter\"]/tbody/tr/td[2]')\n"
   ]
  },
  {
   "cell_type": "code",
   "execution_count": 260,
   "id": "0c55de0d",
   "metadata": {},
   "outputs": [],
   "source": [
    "col2 = driver.find_elements_by_xpath('//table[@class=\"wikitable sortable jquery-tablesorter\"]/tbody/tr/td[3]')\n"
   ]
  },
  {
   "cell_type": "code",
   "execution_count": 261,
   "id": "663eaa25",
   "metadata": {},
   "outputs": [],
   "source": [
    "col3 = driver.find_elements_by_xpath('//table[@class=\"wikitable sortable jquery-tablesorter\"]/tbody/tr/td[4]')\n"
   ]
  },
  {
   "cell_type": "code",
   "execution_count": 262,
   "id": "e4caa02f",
   "metadata": {},
   "outputs": [],
   "source": [
    "col4 = driver.find_elements_by_xpath('//table[@class=\"wikitable sortable jquery-tablesorter\"]/tbody/tr/td[5]')\n"
   ]
  },
  {
   "cell_type": "code",
   "execution_count": 263,
   "id": "e45ba774",
   "metadata": {},
   "outputs": [],
   "source": [
    "df[df.columns[0]] = [s.text for s in col0]\n",
    "df[df.columns[1]] = [s.text for s in col1]\n",
    "df[df.columns[2]] = [s.text for s in col2]\n",
    "df[df.columns[3]] = [s.text for s in col3]\n",
    "df[df.columns[4]] = [s.text for s in col4]\n",
    "\n"
   ]
  },
  {
   "cell_type": "code",
   "execution_count": 264,
   "id": "fad26868",
   "metadata": {},
   "outputs": [
    {
     "data": {
      "text/html": [
       "<div>\n",
       "<style scoped>\n",
       "    .dataframe tbody tr th:only-of-type {\n",
       "        vertical-align: middle;\n",
       "    }\n",
       "\n",
       "    .dataframe tbody tr th {\n",
       "        vertical-align: top;\n",
       "    }\n",
       "\n",
       "    .dataframe thead th {\n",
       "        text-align: right;\n",
       "    }\n",
       "</style>\n",
       "<table border=\"1\" class=\"dataframe\">\n",
       "  <thead>\n",
       "    <tr style=\"text-align: right;\">\n",
       "      <th></th>\n",
       "      <th>No.</th>\n",
       "      <th>Video name</th>\n",
       "      <th>Uploader</th>\n",
       "      <th>Views (billions)</th>\n",
       "      <th>Upload date</th>\n",
       "    </tr>\n",
       "  </thead>\n",
       "  <tbody>\n",
       "    <tr>\n",
       "      <th>0</th>\n",
       "      <td>1.</td>\n",
       "      <td>\"Baby Shark Dance\"[23]</td>\n",
       "      <td>Pinkfong Baby Shark - Kids' Songs &amp; Stories</td>\n",
       "      <td>9.46</td>\n",
       "      <td>June 17, 2016</td>\n",
       "    </tr>\n",
       "    <tr>\n",
       "      <th>1</th>\n",
       "      <td>2.</td>\n",
       "      <td>\"Despacito\"[25]</td>\n",
       "      <td>Luis Fonsi</td>\n",
       "      <td>7.57</td>\n",
       "      <td>January 12, 2017</td>\n",
       "    </tr>\n",
       "    <tr>\n",
       "      <th>2</th>\n",
       "      <td>3.</td>\n",
       "      <td>\"Johny Johny Yes Papa\"[26]</td>\n",
       "      <td>LooLoo Kids</td>\n",
       "      <td>5.78</td>\n",
       "      <td>October 8, 2016</td>\n",
       "    </tr>\n",
       "    <tr>\n",
       "      <th>3</th>\n",
       "      <td>4.</td>\n",
       "      <td>\"Shape of You\"[27]</td>\n",
       "      <td>Ed Sheeran</td>\n",
       "      <td>5.48</td>\n",
       "      <td>January 30, 2017</td>\n",
       "    </tr>\n",
       "    <tr>\n",
       "      <th>4</th>\n",
       "      <td>5.</td>\n",
       "      <td>\"See You Again\"[28]</td>\n",
       "      <td>Wiz Khalifa</td>\n",
       "      <td>5.29</td>\n",
       "      <td>April 6, 2015</td>\n",
       "    </tr>\n",
       "  </tbody>\n",
       "</table>\n",
       "</div>"
      ],
      "text/plain": [
       "  No.                  Video name  \\\n",
       "0  1.      \"Baby Shark Dance\"[23]   \n",
       "1  2.             \"Despacito\"[25]   \n",
       "2  3.  \"Johny Johny Yes Papa\"[26]   \n",
       "3  4.          \"Shape of You\"[27]   \n",
       "4  5.         \"See You Again\"[28]   \n",
       "\n",
       "                                      Uploader Views (billions)  \\\n",
       "0  Pinkfong Baby Shark - Kids' Songs & Stories             9.46   \n",
       "1                                   Luis Fonsi             7.57   \n",
       "2                                  LooLoo Kids             5.78   \n",
       "3                                   Ed Sheeran             5.48   \n",
       "4                                  Wiz Khalifa             5.29   \n",
       "\n",
       "        Upload date  \n",
       "0     June 17, 2016  \n",
       "1  January 12, 2017  \n",
       "2   October 8, 2016  \n",
       "3  January 30, 2017  \n",
       "4     April 6, 2015  "
      ]
     },
     "execution_count": 264,
     "metadata": {},
     "output_type": "execute_result"
    }
   ],
   "source": [
    "df.head()\n"
   ]
  },
  {
   "cell_type": "markdown",
   "id": "06acbb30",
   "metadata": {},
   "source": [
    "2. Scrape the details team India’s international fixtures from bcci.tv."
   ]
  },
  {
   "cell_type": "markdown",
   "id": "d7ed8921",
   "metadata": {},
   "source": [
    "You need to find following details:\n",
    "A) Match title (I.e. 1st ODI)\n",
    "B) Series\n",
    "C) Place\n",
    "D) Date\n",
    "E) Time"
   ]
  },
  {
   "cell_type": "code",
   "execution_count": 60,
   "id": "97bc85ee",
   "metadata": {},
   "outputs": [],
   "source": [
    "#lets first connect to the web driver\n",
    "driver=webdriver.Edge(\"msedgedriver.exe\")"
   ]
  },
  {
   "cell_type": "code",
   "execution_count": 61,
   "id": "c9f19669",
   "metadata": {},
   "outputs": [],
   "source": [
    "url =\"https://www.bcci.tv/.\"\n",
    "driver.get(url)"
   ]
  },
  {
   "cell_type": "code",
   "execution_count": 77,
   "id": "83778eb6",
   "metadata": {},
   "outputs": [],
   "source": [
    "search_btn=driver.find_element_by_xpath('//div[@class=\"navigation__drop-down drop-down drop-down--reveal-on-hover\"]')\n",
    "search_btn.click()"
   ]
  },
  {
   "cell_type": "code",
   "execution_count": 78,
   "id": "0b05248e",
   "metadata": {},
   "outputs": [],
   "source": [
    "search_btn=driver.find_element_by_xpath('//a[@class=\"footer-navigation__link\"]')\n",
    "search_btn.click()"
   ]
  },
  {
   "cell_type": "code",
   "execution_count": 139,
   "id": "2155ff68",
   "metadata": {},
   "outputs": [],
   "source": [
    "#making a empty list\n",
    "Match_title=[]\n",
    "Series=[]\n",
    "Place=[]\n",
    "Date=[]\n",
    "Time=[]"
   ]
  },
  {
   "cell_type": "code",
   "execution_count": 176,
   "id": "f2a26fb3",
   "metadata": {},
   "outputs": [],
   "source": [
    "\n",
    "#scraping match title\n",
    "match_t=driver.find_elements_by_xpath(\"//strong[@class='fixture__name fixture__name--with-margin']\")\n",
    "for i in match_t:\n",
    "    Match_title.append(i.text)"
   ]
  },
  {
   "cell_type": "code",
   "execution_count": 177,
   "id": "fc6cd0ac",
   "metadata": {},
   "outputs": [
    {
     "data": {
      "text/plain": [
       "20"
      ]
     },
     "execution_count": 177,
     "metadata": {},
     "output_type": "execute_result"
    }
   ],
   "source": [
    "len(Match_title)"
   ]
  },
  {
   "cell_type": "code",
   "execution_count": 178,
   "id": "5ee5f27c",
   "metadata": {},
   "outputs": [],
   "source": [
    "\n",
    "#scraping series\n",
    "series=driver.find_elements_by_xpath(\"//span[@class='u-unskewed-text fixture__tournament-label u-truncated']\")\n",
    "for i in series:\n",
    "    Series.append(i.text)"
   ]
  },
  {
   "cell_type": "code",
   "execution_count": 179,
   "id": "3f0bea08",
   "metadata": {},
   "outputs": [
    {
     "data": {
      "text/plain": [
       "20"
      ]
     },
     "execution_count": 179,
     "metadata": {},
     "output_type": "execute_result"
    }
   ],
   "source": [
    "len(Series)"
   ]
  },
  {
   "cell_type": "code",
   "execution_count": 180,
   "id": "c6e30c8a",
   "metadata": {},
   "outputs": [],
   "source": [
    "#scrape place\n",
    "place = driver.find_elements_by_xpath(\"//p[@class='fixture__additional-info']/span\")\n",
    "for i in range(len(place)):\n",
    "    Place.append(place[i].text.replace(\"\\n\",''))\n",
    "\n",
    "\n"
   ]
  },
  {
   "cell_type": "code",
   "execution_count": 181,
   "id": "2a055c81",
   "metadata": {},
   "outputs": [
    {
     "data": {
      "text/plain": [
       "20"
      ]
     },
     "execution_count": 181,
     "metadata": {},
     "output_type": "execute_result"
    }
   ],
   "source": [
    "len(Place)"
   ]
  },
  {
   "cell_type": "code",
   "execution_count": 182,
   "id": "a3151fe6",
   "metadata": {},
   "outputs": [],
   "source": [
    "#scrape Date\n",
    "date = driver.find_elements_by_xpath(\"//div[@class='fixture__full-date']\")\n",
    "for i in range(len(date)):\n",
    "    Date.append(date[i].text.replace(\"\\n\",''))\n",
    "\n",
    "\n"
   ]
  },
  {
   "cell_type": "code",
   "execution_count": 183,
   "id": "fe09f344",
   "metadata": {},
   "outputs": [
    {
     "data": {
      "text/plain": [
       "20"
      ]
     },
     "execution_count": 183,
     "metadata": {},
     "output_type": "execute_result"
    }
   ],
   "source": [
    "len(Date)"
   ]
  },
  {
   "cell_type": "code",
   "execution_count": 184,
   "id": "5f5709d9",
   "metadata": {},
   "outputs": [],
   "source": [
    "#scrape time\n",
    "time = driver.find_elements_by_xpath(\"//div[@class='fixture__date-details']/span[2]\")\n",
    "for i in range(len(time)):\n",
    "    Time.append(time[i].text.replace(\"\\n\",''))\n",
    "\n",
    "\n"
   ]
  },
  {
   "cell_type": "code",
   "execution_count": 185,
   "id": "d782462e",
   "metadata": {},
   "outputs": [
    {
     "data": {
      "text/plain": [
       "20"
      ]
     },
     "execution_count": 185,
     "metadata": {},
     "output_type": "execute_result"
    }
   ],
   "source": [
    "len(Time)"
   ]
  },
  {
   "cell_type": "code",
   "execution_count": 186,
   "id": "471ef8e5",
   "metadata": {},
   "outputs": [
    {
     "data": {
      "text/html": [
       "<div>\n",
       "<style scoped>\n",
       "    .dataframe tbody tr th:only-of-type {\n",
       "        vertical-align: middle;\n",
       "    }\n",
       "\n",
       "    .dataframe tbody tr th {\n",
       "        vertical-align: top;\n",
       "    }\n",
       "\n",
       "    .dataframe thead th {\n",
       "        text-align: right;\n",
       "    }\n",
       "</style>\n",
       "<table border=\"1\" class=\"dataframe\">\n",
       "  <thead>\n",
       "    <tr style=\"text-align: right;\">\n",
       "      <th></th>\n",
       "      <th>Match_title</th>\n",
       "      <th>Series</th>\n",
       "      <th>Place</th>\n",
       "      <th>Date</th>\n",
       "      <th>Time</th>\n",
       "    </tr>\n",
       "  </thead>\n",
       "  <tbody>\n",
       "    <tr>\n",
       "      <th>0</th>\n",
       "      <td>Match 16</td>\n",
       "      <td>2021 ICC MEN'S T20 WORLD CUP</td>\n",
       "      <td>Dubai International Stadium, Dubai</td>\n",
       "      <td>24OCTOBER19:30 IST</td>\n",
       "      <td>19:30 IST</td>\n",
       "    </tr>\n",
       "    <tr>\n",
       "      <th>1</th>\n",
       "      <td>Match 28</td>\n",
       "      <td>2021 ICC MEN'S T20 WORLD CUP</td>\n",
       "      <td>Dubai International Stadium, Dubai</td>\n",
       "      <td>31OCTOBER19:30 IST</td>\n",
       "      <td>19:30 IST</td>\n",
       "    </tr>\n",
       "    <tr>\n",
       "      <th>2</th>\n",
       "      <td>Match 33</td>\n",
       "      <td>2021 ICC MEN'S T20 WORLD CUP</td>\n",
       "      <td>Zayed Cricket Stadium, Abu Dhabi</td>\n",
       "      <td>03NOVEMBER19:30 IST</td>\n",
       "      <td>19:30 IST</td>\n",
       "    </tr>\n",
       "    <tr>\n",
       "      <th>3</th>\n",
       "      <td>Match 37</td>\n",
       "      <td>2021 ICC MEN'S T20 WORLD CUP</td>\n",
       "      <td>Dubai International Stadium, Dubai</td>\n",
       "      <td>05NOVEMBER19:30 IST</td>\n",
       "      <td>19:30 IST</td>\n",
       "    </tr>\n",
       "    <tr>\n",
       "      <th>4</th>\n",
       "      <td>Match 42</td>\n",
       "      <td>2021 ICC MEN'S T20 WORLD CUP</td>\n",
       "      <td>Dubai International Stadium, Dubai</td>\n",
       "      <td>08NOVEMBER19:30 IST</td>\n",
       "      <td>19:30 IST</td>\n",
       "    </tr>\n",
       "    <tr>\n",
       "      <th>5</th>\n",
       "      <td>1st T20I</td>\n",
       "      <td>INDIA V NEW ZEALAND 2021</td>\n",
       "      <td>Sawai Mansingh Stadium, Jaipur</td>\n",
       "      <td>17NOVEMBER19:00 IST</td>\n",
       "      <td>19:00 IST</td>\n",
       "    </tr>\n",
       "    <tr>\n",
       "      <th>6</th>\n",
       "      <td>2nd T20I</td>\n",
       "      <td>INDIA V NEW ZEALAND 2021</td>\n",
       "      <td>JSCA International Stadium Complex, Ranchi</td>\n",
       "      <td>19NOVEMBER19:00 IST</td>\n",
       "      <td>19:00 IST</td>\n",
       "    </tr>\n",
       "    <tr>\n",
       "      <th>7</th>\n",
       "      <td>3rd T20I</td>\n",
       "      <td>INDIA V NEW ZEALAND 2021</td>\n",
       "      <td>Eden Gardens, Kolkata</td>\n",
       "      <td>21NOVEMBER19:00 IST</td>\n",
       "      <td>19:00 IST</td>\n",
       "    </tr>\n",
       "    <tr>\n",
       "      <th>8</th>\n",
       "      <td>1st Test</td>\n",
       "      <td>INDIA V NEW ZEALAND 2021</td>\n",
       "      <td>Green Park, Kanpur</td>\n",
       "      <td>25NOVEMBER09:30 IST</td>\n",
       "      <td>09:30 IST</td>\n",
       "    </tr>\n",
       "    <tr>\n",
       "      <th>9</th>\n",
       "      <td>2nd Test</td>\n",
       "      <td>INDIA V NEW ZEALAND 2021</td>\n",
       "      <td>Wankhede Stadium, Mumbai</td>\n",
       "      <td>03DECEMBER09:30 IST</td>\n",
       "      <td>09:30 IST</td>\n",
       "    </tr>\n",
       "    <tr>\n",
       "      <th>10</th>\n",
       "      <td>1st Test</td>\n",
       "      <td>SOUTH AFRICA V INDIA 2021/2022</td>\n",
       "      <td>New Wanderers Stadium, Johannesburg</td>\n",
       "      <td>17DECEMBER13:30 IST</td>\n",
       "      <td>13:30 IST</td>\n",
       "    </tr>\n",
       "    <tr>\n",
       "      <th>11</th>\n",
       "      <td>2nd Test</td>\n",
       "      <td>SOUTH AFRICA V INDIA 2021/2022</td>\n",
       "      <td>Supersport Park, Centurion</td>\n",
       "      <td>26DECEMBER13:30 IST</td>\n",
       "      <td>13:30 IST</td>\n",
       "    </tr>\n",
       "    <tr>\n",
       "      <th>12</th>\n",
       "      <td>3rd Test</td>\n",
       "      <td>SOUTH AFRICA V INDIA 2021/2022</td>\n",
       "      <td>New Wanderers Stadium, Johannesburg</td>\n",
       "      <td>03JANUARY13:30 IST</td>\n",
       "      <td>13:30 IST</td>\n",
       "    </tr>\n",
       "    <tr>\n",
       "      <th>13</th>\n",
       "      <td>1st ODI</td>\n",
       "      <td>SOUTH AFRICA V INDIA 2021/2022</td>\n",
       "      <td>Boland Park, Paarl</td>\n",
       "      <td>11JANUARY14:00 IST</td>\n",
       "      <td>14:00 IST</td>\n",
       "    </tr>\n",
       "    <tr>\n",
       "      <th>14</th>\n",
       "      <td>2nd ODI</td>\n",
       "      <td>SOUTH AFRICA V INDIA 2021/2022</td>\n",
       "      <td>Newlands, Cape Town</td>\n",
       "      <td>14JANUARY14:00 IST</td>\n",
       "      <td>14:00 IST</td>\n",
       "    </tr>\n",
       "    <tr>\n",
       "      <th>15</th>\n",
       "      <td>3rd ODI</td>\n",
       "      <td>SOUTH AFRICA V INDIA 2021/2022</td>\n",
       "      <td>Newlands, Cape Town</td>\n",
       "      <td>16JANUARY14:00 IST</td>\n",
       "      <td>14:00 IST</td>\n",
       "    </tr>\n",
       "    <tr>\n",
       "      <th>16</th>\n",
       "      <td>1st T20I</td>\n",
       "      <td>SOUTH AFRICA V INDIA 2021/2022</td>\n",
       "      <td>Newlands, Cape Town</td>\n",
       "      <td>19JANUARY19:30 IST</td>\n",
       "      <td>19:30 IST</td>\n",
       "    </tr>\n",
       "    <tr>\n",
       "      <th>17</th>\n",
       "      <td>2nd T20I</td>\n",
       "      <td>SOUTH AFRICA V INDIA 2021/2022</td>\n",
       "      <td>Newlands, Cape Town</td>\n",
       "      <td>21JANUARY19:30 IST</td>\n",
       "      <td>19:30 IST</td>\n",
       "    </tr>\n",
       "    <tr>\n",
       "      <th>18</th>\n",
       "      <td>3rd T20I</td>\n",
       "      <td>SOUTH AFRICA V INDIA 2021/2022</td>\n",
       "      <td>Boland Park, Paarl</td>\n",
       "      <td>23JANUARY19:30 IST</td>\n",
       "      <td>19:30 IST</td>\n",
       "    </tr>\n",
       "    <tr>\n",
       "      <th>19</th>\n",
       "      <td>4th T20I</td>\n",
       "      <td>SOUTH AFRICA V INDIA 2021/2022</td>\n",
       "      <td>Boland Park, Paarl</td>\n",
       "      <td>26JANUARY19:30 IST</td>\n",
       "      <td>19:30 IST</td>\n",
       "    </tr>\n",
       "  </tbody>\n",
       "</table>\n",
       "</div>"
      ],
      "text/plain": [
       "   Match_title                          Series  \\\n",
       "0     Match 16    2021 ICC MEN'S T20 WORLD CUP   \n",
       "1     Match 28    2021 ICC MEN'S T20 WORLD CUP   \n",
       "2     Match 33    2021 ICC MEN'S T20 WORLD CUP   \n",
       "3     Match 37    2021 ICC MEN'S T20 WORLD CUP   \n",
       "4     Match 42    2021 ICC MEN'S T20 WORLD CUP   \n",
       "5     1st T20I        INDIA V NEW ZEALAND 2021   \n",
       "6     2nd T20I        INDIA V NEW ZEALAND 2021   \n",
       "7     3rd T20I        INDIA V NEW ZEALAND 2021   \n",
       "8     1st Test        INDIA V NEW ZEALAND 2021   \n",
       "9     2nd Test        INDIA V NEW ZEALAND 2021   \n",
       "10    1st Test  SOUTH AFRICA V INDIA 2021/2022   \n",
       "11    2nd Test  SOUTH AFRICA V INDIA 2021/2022   \n",
       "12    3rd Test  SOUTH AFRICA V INDIA 2021/2022   \n",
       "13     1st ODI  SOUTH AFRICA V INDIA 2021/2022   \n",
       "14     2nd ODI  SOUTH AFRICA V INDIA 2021/2022   \n",
       "15     3rd ODI  SOUTH AFRICA V INDIA 2021/2022   \n",
       "16    1st T20I  SOUTH AFRICA V INDIA 2021/2022   \n",
       "17    2nd T20I  SOUTH AFRICA V INDIA 2021/2022   \n",
       "18    3rd T20I  SOUTH AFRICA V INDIA 2021/2022   \n",
       "19    4th T20I  SOUTH AFRICA V INDIA 2021/2022   \n",
       "\n",
       "                                         Place                 Date       Time  \n",
       "0           Dubai International Stadium, Dubai   24OCTOBER19:30 IST  19:30 IST  \n",
       "1           Dubai International Stadium, Dubai   31OCTOBER19:30 IST  19:30 IST  \n",
       "2             Zayed Cricket Stadium, Abu Dhabi  03NOVEMBER19:30 IST  19:30 IST  \n",
       "3           Dubai International Stadium, Dubai  05NOVEMBER19:30 IST  19:30 IST  \n",
       "4           Dubai International Stadium, Dubai  08NOVEMBER19:30 IST  19:30 IST  \n",
       "5               Sawai Mansingh Stadium, Jaipur  17NOVEMBER19:00 IST  19:00 IST  \n",
       "6   JSCA International Stadium Complex, Ranchi  19NOVEMBER19:00 IST  19:00 IST  \n",
       "7                        Eden Gardens, Kolkata  21NOVEMBER19:00 IST  19:00 IST  \n",
       "8                           Green Park, Kanpur  25NOVEMBER09:30 IST  09:30 IST  \n",
       "9                     Wankhede Stadium, Mumbai  03DECEMBER09:30 IST  09:30 IST  \n",
       "10         New Wanderers Stadium, Johannesburg  17DECEMBER13:30 IST  13:30 IST  \n",
       "11                  Supersport Park, Centurion  26DECEMBER13:30 IST  13:30 IST  \n",
       "12         New Wanderers Stadium, Johannesburg   03JANUARY13:30 IST  13:30 IST  \n",
       "13                          Boland Park, Paarl   11JANUARY14:00 IST  14:00 IST  \n",
       "14                         Newlands, Cape Town   14JANUARY14:00 IST  14:00 IST  \n",
       "15                         Newlands, Cape Town   16JANUARY14:00 IST  14:00 IST  \n",
       "16                         Newlands, Cape Town   19JANUARY19:30 IST  19:30 IST  \n",
       "17                         Newlands, Cape Town   21JANUARY19:30 IST  19:30 IST  \n",
       "18                          Boland Park, Paarl   23JANUARY19:30 IST  19:30 IST  \n",
       "19                          Boland Park, Paarl   26JANUARY19:30 IST  19:30 IST  "
      ]
     },
     "execution_count": 186,
     "metadata": {},
     "output_type": "execute_result"
    }
   ],
   "source": [
    "match_details=pd.DataFrame({})\n",
    "match_details[\"Match_title\"]=Match_title\n",
    "match_details[\"Series\"]=Series\n",
    "match_details[\"Place\"]=Place\n",
    "match_details[\"Date\"]=Date\n",
    "match_details[\"Time\"]=Time\n",
    "match_details"
   ]
  },
  {
   "cell_type": "markdown",
   "id": "3a36d009",
   "metadata": {},
   "source": [
    "3. Scrape the details of selenium exception from guru99.com."
   ]
  },
  {
   "cell_type": "markdown",
   "id": "a62a288f",
   "metadata": {},
   "source": [
    "You need to find following details:\n",
    "A) Name\n",
    "B) Description\n",
    "Note: - From guru99 home page you have to reach to selenium exception handling page through code."
   ]
  },
  {
   "cell_type": "code",
   "execution_count": 314,
   "id": "2f7afde2",
   "metadata": {},
   "outputs": [],
   "source": [
    " #lets first connect to the web driver\n",
    "driver=webdriver.Edge(\"msedgedriver.exe\")"
   ]
  },
  {
   "cell_type": "code",
   "execution_count": 315,
   "id": "ab0f6885",
   "metadata": {},
   "outputs": [],
   "source": [
    "url =\"https://www.guru99.com/\"\n",
    "driver.get(url)"
   ]
  },
  {
   "cell_type": "code",
   "execution_count": 317,
   "id": "44044bde",
   "metadata": {},
   "outputs": [],
   "source": [
    "#find the serch bar elements by id\n",
    "search_bar = driver.find_element_by_id(\"gsc-i-id1\") \n"
   ]
  },
  {
   "cell_type": "code",
   "execution_count": 318,
   "id": "c4dc6414",
   "metadata": {},
   "outputs": [],
   "source": [
    "search_bar.clear()"
   ]
  },
  {
   "cell_type": "code",
   "execution_count": 319,
   "id": "80dc03de",
   "metadata": {},
   "outputs": [],
   "source": [
    "#write on search bar\n",
    "search_bar.send_keys(\"selenium exception handling\")"
   ]
  },
  {
   "cell_type": "code",
   "execution_count": 320,
   "id": "6844b0f2",
   "metadata": {},
   "outputs": [],
   "source": [
    "search_btn=driver.find_element_by_xpath('//button[@class=\"gsc-search-button gsc-search-button-v2\"]')\n",
    "search_btn.click()"
   ]
  },
  {
   "cell_type": "code",
   "execution_count": 321,
   "id": "2ee20dc1",
   "metadata": {},
   "outputs": [],
   "source": [
    "search_btn=driver.find_element_by_xpath('//a[@class=\"gs-title\"]')\n",
    "search_btn.click()"
   ]
  },
  {
   "cell_type": "code",
   "execution_count": 54,
   "id": "650ab929",
   "metadata": {},
   "outputs": [],
   "source": [
    "from bs4 import BeautifulSoup\n",
    "import pandas as pd"
   ]
  },
  {
   "cell_type": "code",
   "execution_count": 323,
   "id": "3da4ce0f",
   "metadata": {},
   "outputs": [],
   "source": [
    "driver.get('https://www.guru99.com/exception-handling-selenium.html')\n",
    "driver.implicitly_wait(5)"
   ]
  },
  {
   "cell_type": "code",
   "execution_count": 340,
   "id": "60ecb4a8",
   "metadata": {},
   "outputs": [],
   "source": [
    "soup = BeautifulSoup(driver.page_source, 'lxml')"
   ]
  },
  {
   "cell_type": "code",
   "execution_count": 341,
   "id": "df25a707",
   "metadata": {},
   "outputs": [
    {
     "name": "stdout",
     "output_type": "stream",
     "text": [
      "Total tables: 1\n",
      "                         Exception name  \\\n",
      "0            ElementNotVisibleException   \n",
      "1         ElementNotSelectableException   \n",
      "2                NoSuchElementException   \n",
      "3                  NoSuchFrameException   \n",
      "4               NoAlertPresentException   \n",
      "5                 NoSuchWindowException   \n",
      "6        StaleElementReferenceException   \n",
      "7              SessionNotFoundException   \n",
      "8                      TimeoutException   \n",
      "9                    WebDriverException   \n",
      "10            ConnectionClosedException   \n",
      "11     ElementClickInterceptedException   \n",
      "12      ElementNotInteractableException   \n",
      "13             ErrorInResponseException   \n",
      "14  ErrorHandler.UnknownServerException   \n",
      "15         ImeActivationFailedException   \n",
      "16             ImeNotAvailableException   \n",
      "17         InsecureCertificateException   \n",
      "18             InvalidArgumentException   \n",
      "19         InvalidCookieDomainException   \n",
      "20          InvalidCoordinatesException   \n",
      "21          InvalidElementStateExceptio   \n",
      "22            InvalidSessionIdException   \n",
      "23       InvalidSwitchToTargetException   \n",
      "24                  JavascriptException   \n",
      "25                        JsonException   \n",
      "26             NoSuchAttributeException   \n",
      "27       MoveTargetOutOfBoundsException   \n",
      "28               NoSuchContextException   \n",
      "29                NoSuchCookieException   \n",
      "30                    NotFoundException   \n",
      "31          RemoteDriverServerException   \n",
      "32                  ScreenshotException   \n",
      "33           SessionNotCreatedException   \n",
      "34           UnableToSetCookieException   \n",
      "35           UnexpectedTagNameException   \n",
      "36              UnhandledAlertException   \n",
      "37      UnexpectedAlertPresentException   \n",
      "38               UnknownMethodException   \n",
      "39          UnreachableBrowserException   \n",
      "40          UnsupportedCommandException   \n",
      "\n",
      "                                          Description  \n",
      "0   This type of Selenium exception occurs when an...  \n",
      "1   This Selenium exception occurs when an element...  \n",
      "2   This Exception occurs if an element could not ...  \n",
      "3   This Exception occurs if the frame target to b...  \n",
      "4   This Exception occurs when you switch to no pr...  \n",
      "5   This Exception occurs if the window target to ...  \n",
      "6   This Selenium exception occurs happens when th...  \n",
      "7   The WebDriver is acting after you quit the bro...  \n",
      "8   Thrown when there is not enough time for a com...  \n",
      "9   This Exception takes place when the WebDriver ...  \n",
      "10  This type of Exception takes place when there ...  \n",
      "11  The command may not be completed as the elemen...  \n",
      "12  This Selenium exception is thrown when any ele...  \n",
      "13  This happens while interacting with the Firefo...  \n",
      "14  Exception is used as a placeholder in case if ...  \n",
      "15  This expectation will occur when IME engine ac...  \n",
      "16    It takes place when IME support is unavailable.  \n",
      "17  Navigation made the user agent to hit a certif...  \n",
      "18  It occurs when an argument does not belong to ...  \n",
      "19  This happens when you try to add a cookie unde...  \n",
      "20  This type of Exception matches an interacting ...  \n",
      "21  It occurs when command can’t be finished when ...  \n",
      "22  This Exception took place when the given sessi...  \n",
      "23  This occurs when the frame or window target to...  \n",
      "24  This issue occurs while executing JavaScript g...  \n",
      "25  It occurs when you afford to get the session w...  \n",
      "26  This kind of Exception occurs when the attribu...  \n",
      "27  It takes place if the target provided to the A...  \n",
      "28           ContextAware does mobile device testing.  \n",
      "29  This Exception occurs when no cookie matching ...  \n",
      "30  This Exception is a subclass of WebDriverExcep...  \n",
      "31  This Selenium exception is thrown when the ser...  \n",
      "32            It is not possible to capture a screen.  \n",
      "33  It happens when a new session could not be suc...  \n",
      "34  This occurs if a driver is unable to set a coo...  \n",
      "35  Happens if a support class did not get a web e...  \n",
      "36  This expectation occurs when there is an alert...  \n",
      "37  It occurs when there is the appearance of an u...  \n",
      "38  This Exception happens when the requested comm...  \n",
      "39  This Exception occurs only when the browser is...  \n",
      "40  This occurs when remote WebDriver does n’t sen...  \n"
     ]
    }
   ],
   "source": [
    "tables = soup.find_all('table')\n",
    "\n",
    "# Step 3: Read tables with Pandas read_html()\n",
    "dfs = pd.read_html(str(tables))\n",
    "\n",
    "print(f'Total tables: {len(dfs)}')\n",
    "print(dfs[0])\n"
   ]
  },
  {
   "cell_type": "code",
   "execution_count": 343,
   "id": "f03c648b",
   "metadata": {},
   "outputs": [
    {
     "data": {
      "text/html": [
       "<div>\n",
       "<style scoped>\n",
       "    .dataframe tbody tr th:only-of-type {\n",
       "        vertical-align: middle;\n",
       "    }\n",
       "\n",
       "    .dataframe tbody tr th {\n",
       "        vertical-align: top;\n",
       "    }\n",
       "\n",
       "    .dataframe thead th {\n",
       "        text-align: right;\n",
       "    }\n",
       "</style>\n",
       "<table border=\"1\" class=\"dataframe\">\n",
       "  <thead>\n",
       "    <tr style=\"text-align: right;\">\n",
       "      <th></th>\n",
       "      <th>Exception name</th>\n",
       "      <th>Description</th>\n",
       "    </tr>\n",
       "  </thead>\n",
       "  <tbody>\n",
       "    <tr>\n",
       "      <th>0</th>\n",
       "      <td>ElementNotVisibleException</td>\n",
       "      <td>This type of Selenium exception occurs when an...</td>\n",
       "    </tr>\n",
       "    <tr>\n",
       "      <th>1</th>\n",
       "      <td>ElementNotSelectableException</td>\n",
       "      <td>This Selenium exception occurs when an element...</td>\n",
       "    </tr>\n",
       "    <tr>\n",
       "      <th>2</th>\n",
       "      <td>NoSuchElementException</td>\n",
       "      <td>This Exception occurs if an element could not ...</td>\n",
       "    </tr>\n",
       "    <tr>\n",
       "      <th>3</th>\n",
       "      <td>NoSuchFrameException</td>\n",
       "      <td>This Exception occurs if the frame target to b...</td>\n",
       "    </tr>\n",
       "    <tr>\n",
       "      <th>4</th>\n",
       "      <td>NoAlertPresentException</td>\n",
       "      <td>This Exception occurs when you switch to no pr...</td>\n",
       "    </tr>\n",
       "  </tbody>\n",
       "</table>\n",
       "</div>"
      ],
      "text/plain": [
       "                  Exception name  \\\n",
       "0     ElementNotVisibleException   \n",
       "1  ElementNotSelectableException   \n",
       "2         NoSuchElementException   \n",
       "3           NoSuchFrameException   \n",
       "4        NoAlertPresentException   \n",
       "\n",
       "                                         Description  \n",
       "0  This type of Selenium exception occurs when an...  \n",
       "1  This Selenium exception occurs when an element...  \n",
       "2  This Exception occurs if an element could not ...  \n",
       "3  This Exception occurs if the frame target to b...  \n",
       "4  This Exception occurs when you switch to no pr...  "
      ]
     },
     "execution_count": 343,
     "metadata": {},
     "output_type": "execute_result"
    }
   ],
   "source": [
    "df=pd.DataFrame(dfs[0])\n",
    "df.head()"
   ]
  },
  {
   "cell_type": "code",
   "execution_count": 31,
   "id": "4ec40be6",
   "metadata": {},
   "outputs": [],
   "source": [
    "driver.close()"
   ]
  },
  {
   "cell_type": "markdown",
   "id": "5f7c6616",
   "metadata": {},
   "source": [
    "4. Scrape the details of State-wise GDP of India from statisticstime.com"
   ]
  },
  {
   "cell_type": "markdown",
   "id": "0e8d23fd",
   "metadata": {},
   "source": [
    "You have to find following details:\n",
    "A) Rank\n",
    "B) State\n",
    "C) GSDP at current price (19-20)\n",
    "D) GSDP at current price (18-19)\n",
    "E) Share(18-19)\n",
    "F) GDP($ billion)\n",
    "Note: - From statisticstimes home page you have to reach to economy page through code."
   ]
  },
  {
   "cell_type": "code",
   "execution_count": 348,
   "id": "f1a72f76",
   "metadata": {},
   "outputs": [],
   "source": [
    " #lets first connect to the web driver\n",
    "driver=webdriver.Edge(\"msedgedriver.exe\")"
   ]
  },
  {
   "cell_type": "code",
   "execution_count": 349,
   "id": "b7b726b4",
   "metadata": {},
   "outputs": [],
   "source": [
    "url = \"http://statisticstimes.com/\"\n",
    "driver.get(url)"
   ]
  },
  {
   "cell_type": "code",
   "execution_count": 395,
   "id": "5bbdcbbe",
   "metadata": {},
   "outputs": [],
   "source": [
    "search_btn=driver.find_element_by_xpath('//div[@class=\"dropdown\"][2]')\n",
    "search_btn.click()"
   ]
  },
  {
   "cell_type": "code",
   "execution_count": 413,
   "id": "5776d6ec",
   "metadata": {},
   "outputs": [],
   "source": [
    "search_btn=driver.find_element_by_xpath('//a[@class=\"ec\"]')\n",
    "search_btn.click()"
   ]
  },
  {
   "cell_type": "code",
   "execution_count": 3,
   "id": "289b2412",
   "metadata": {},
   "outputs": [],
   "source": [
    "from bs4 import BeautifulSoup\n",
    "import pandas as pd"
   ]
  },
  {
   "cell_type": "code",
   "execution_count": 415,
   "id": "d5b54830",
   "metadata": {},
   "outputs": [],
   "source": [
    "driver.get('https://statisticstimes.com/economy/india/indian-states-gdp.php')\n",
    "driver.implicitly_wait(5)"
   ]
  },
  {
   "cell_type": "code",
   "execution_count": 418,
   "id": "d4eb56c6",
   "metadata": {},
   "outputs": [],
   "source": [
    "soup = BeautifulSoup(driver.page_source, 'lxml')"
   ]
  },
  {
   "cell_type": "code",
   "execution_count": 420,
   "id": "705b2c16",
   "metadata": {},
   "outputs": [
    {
     "name": "stdout",
     "output_type": "stream",
     "text": [
      "Total tables: 3\n",
      "    Rank                      State GSDP (Cr INR at Current prices)            \\\n",
      "    Rank                      State                           19-20     18-19   \n",
      "0    1.0                Maharashtra                               -   2632792   \n",
      "1    2.0                 Tamil Nadu                         1845853   1630208   \n",
      "2    3.0              Uttar Pradesh                         1687818   1584764   \n",
      "3    4.0                    Gujarat                               -   1502899   \n",
      "4    5.0                  Karnataka                         1631977   1493127   \n",
      "5    6.0                West Bengal                         1253832   1089898   \n",
      "6    7.0                  Rajasthan                         1020989    942586   \n",
      "7    8.0             Andhra Pradesh                          972782    862957   \n",
      "8    9.0                  Telangana                          969604    861031   \n",
      "9   10.0             Madhya Pradesh                          906672    809592   \n",
      "10  11.0                     Kerala                               -    781653   \n",
      "11  12.0                      Delhi                          856112    774870   \n",
      "12  13.0                    Haryana                          831610    734163   \n",
      "13  14.0                      Bihar                          611804    530363   \n",
      "14  15.0                     Punjab                          574760    526376   \n",
      "15  16.0                     Odisha                          521275    487805   \n",
      "16  17.0                      Assam                               -    315881   \n",
      "17  18.0               Chhattisgarh                          329180    304063   \n",
      "18  19.0                  Jharkhand                          328598    297204   \n",
      "19  20.0                Uttarakhand                               -    245895   \n",
      "20  21.0            Jammu & Kashmir                               -    155956   \n",
      "21  22.0           Himachal Pradesh                          165472    153845   \n",
      "22  23.0                        Goa                           80449     73170   \n",
      "23  24.0                    Tripura                           55984     49845   \n",
      "24  25.0                 Chandigarh                               -     42114   \n",
      "25  26.0                 Puducherry                           38253     34433   \n",
      "26  27.0                  Meghalaya                           36572     33481   \n",
      "27  28.0                     Sikkim                           32496     28723   \n",
      "28  29.0                    Manipur                           31790     27870   \n",
      "29  30.0                   Nagaland                               -     27283   \n",
      "30  31.0          Arunachal Pradesh                               -     24603   \n",
      "31  32.0                    Mizoram                           26503     22287   \n",
      "32  33.0  Andaman & Nicobar Islands                               -         -   \n",
      "33   NaN                      India                        20351013  18886957   \n",
      "\n",
      "     Share GDP ($billion) GSDP (Cr INR at 2011-12 prices)            \n",
      "     18-19           2019                           19-20     18-19  \n",
      "0   13.94%        399.921                               -   2039074  \n",
      "1    8.63%        247.629                         1312929   1215307  \n",
      "2    8.39%        240.726                         1166817   1123982  \n",
      "3    7.96%        228.290                               -   1186379  \n",
      "4    7.91%        226.806                         1156039   1091077  \n",
      "5    5.77%        165.556                          793223    739525  \n",
      "6    4.99%        143.179                          711627    677428  \n",
      "7    4.57%        131.083                          672018    621301  \n",
      "8    4.56%        130.791                          663258    612828  \n",
      "9    4.29%        122.977                          561801    522009  \n",
      "10   4.14%        118.733                               -    559412  \n",
      "11   4.10%        117.703                          634408    590569  \n",
      "12   3.89%        111.519                          572240    531085  \n",
      "13   2.81%         80.562                          414977    375651  \n",
      "14   2.79%         79.957                          418868    397669  \n",
      "15   2.58%         74.098                          396499    376877  \n",
      "16   1.67%         47.982                               -    234048  \n",
      "17   1.61%         46.187                          243477    231182  \n",
      "18   1.57%         45.145                          240036    224986  \n",
      "19   1.30%         37.351                               -    193273  \n",
      "20   0.83%         23.690                               -    112755  \n",
      "21   0.81%         23.369                          124403    117851  \n",
      "22   0.39%         11.115                           63408     57787  \n",
      "23   0.26%          7.571                           40583     36963  \n",
      "24   0.22%          6.397                               -     31192  \n",
      "25   0.18%          5.230                           25093     23013  \n",
      "26   0.18%          5.086                           26695     24682  \n",
      "27   0.15%          4.363                           20017     18722  \n",
      "28   0.15%          4.233                           20673     19300  \n",
      "29   0.14%          4.144                               -     17647  \n",
      "30   0.13%          3.737                               -     16676  \n",
      "31   0.12%          3.385                           18797     16478  \n",
      "32       -              -                               -         -  \n",
      "33     NaN           2869                        14569268  14003316  \n"
     ]
    }
   ],
   "source": [
    "tables = soup.find_all('table')\n",
    "\n",
    "# Step 3: Read tables with Pandas read_html()\n",
    "dfs = pd.read_html(str(tables))\n",
    "\n",
    "print(f'Total tables: {len(dfs)}')\n",
    "print(dfs[1])\n"
   ]
  },
  {
   "cell_type": "code",
   "execution_count": 421,
   "id": "f0d864eb",
   "metadata": {},
   "outputs": [
    {
     "data": {
      "text/html": [
       "<div>\n",
       "<style scoped>\n",
       "    .dataframe tbody tr th:only-of-type {\n",
       "        vertical-align: middle;\n",
       "    }\n",
       "\n",
       "    .dataframe tbody tr th {\n",
       "        vertical-align: top;\n",
       "    }\n",
       "\n",
       "    .dataframe thead tr th {\n",
       "        text-align: left;\n",
       "    }\n",
       "</style>\n",
       "<table border=\"1\" class=\"dataframe\">\n",
       "  <thead>\n",
       "    <tr>\n",
       "      <th></th>\n",
       "      <th>Rank</th>\n",
       "      <th>State</th>\n",
       "      <th colspan=\"2\" halign=\"left\">GSDP (Cr INR at Current prices)</th>\n",
       "      <th>Share</th>\n",
       "      <th>GDP ($billion)</th>\n",
       "      <th colspan=\"2\" halign=\"left\">GSDP (Cr INR at 2011-12 prices)</th>\n",
       "    </tr>\n",
       "    <tr>\n",
       "      <th></th>\n",
       "      <th>Rank</th>\n",
       "      <th>State</th>\n",
       "      <th>19-20</th>\n",
       "      <th>18-19</th>\n",
       "      <th>18-19</th>\n",
       "      <th>2019</th>\n",
       "      <th>19-20</th>\n",
       "      <th>18-19</th>\n",
       "    </tr>\n",
       "  </thead>\n",
       "  <tbody>\n",
       "    <tr>\n",
       "      <th>0</th>\n",
       "      <td>1.0</td>\n",
       "      <td>Maharashtra</td>\n",
       "      <td>-</td>\n",
       "      <td>2632792</td>\n",
       "      <td>13.94%</td>\n",
       "      <td>399.921</td>\n",
       "      <td>-</td>\n",
       "      <td>2039074</td>\n",
       "    </tr>\n",
       "    <tr>\n",
       "      <th>1</th>\n",
       "      <td>2.0</td>\n",
       "      <td>Tamil Nadu</td>\n",
       "      <td>1845853</td>\n",
       "      <td>1630208</td>\n",
       "      <td>8.63%</td>\n",
       "      <td>247.629</td>\n",
       "      <td>1312929</td>\n",
       "      <td>1215307</td>\n",
       "    </tr>\n",
       "    <tr>\n",
       "      <th>2</th>\n",
       "      <td>3.0</td>\n",
       "      <td>Uttar Pradesh</td>\n",
       "      <td>1687818</td>\n",
       "      <td>1584764</td>\n",
       "      <td>8.39%</td>\n",
       "      <td>240.726</td>\n",
       "      <td>1166817</td>\n",
       "      <td>1123982</td>\n",
       "    </tr>\n",
       "    <tr>\n",
       "      <th>3</th>\n",
       "      <td>4.0</td>\n",
       "      <td>Gujarat</td>\n",
       "      <td>-</td>\n",
       "      <td>1502899</td>\n",
       "      <td>7.96%</td>\n",
       "      <td>228.290</td>\n",
       "      <td>-</td>\n",
       "      <td>1186379</td>\n",
       "    </tr>\n",
       "    <tr>\n",
       "      <th>4</th>\n",
       "      <td>5.0</td>\n",
       "      <td>Karnataka</td>\n",
       "      <td>1631977</td>\n",
       "      <td>1493127</td>\n",
       "      <td>7.91%</td>\n",
       "      <td>226.806</td>\n",
       "      <td>1156039</td>\n",
       "      <td>1091077</td>\n",
       "    </tr>\n",
       "  </tbody>\n",
       "</table>\n",
       "</div>"
      ],
      "text/plain": [
       "  Rank          State GSDP (Cr INR at Current prices)            Share  \\\n",
       "  Rank          State                           19-20    18-19   18-19   \n",
       "0  1.0    Maharashtra                               -  2632792  13.94%   \n",
       "1  2.0     Tamil Nadu                         1845853  1630208   8.63%   \n",
       "2  3.0  Uttar Pradesh                         1687818  1584764   8.39%   \n",
       "3  4.0        Gujarat                               -  1502899   7.96%   \n",
       "4  5.0      Karnataka                         1631977  1493127   7.91%   \n",
       "\n",
       "  GDP ($billion) GSDP (Cr INR at 2011-12 prices)           \n",
       "            2019                           19-20    18-19  \n",
       "0        399.921                               -  2039074  \n",
       "1        247.629                         1312929  1215307  \n",
       "2        240.726                         1166817  1123982  \n",
       "3        228.290                               -  1186379  \n",
       "4        226.806                         1156039  1091077  "
      ]
     },
     "execution_count": 421,
     "metadata": {},
     "output_type": "execute_result"
    }
   ],
   "source": [
    "df=pd.DataFrame(dfs[1])\n",
    "df.head()"
   ]
  },
  {
   "cell_type": "code",
   "execution_count": 422,
   "id": "9bfcd1bd",
   "metadata": {},
   "outputs": [
    {
     "name": "stdout",
     "output_type": "stream",
     "text": [
      "    Rank                      State NSDP (Cr INR at Current prices)            \\\n",
      "    Rank                      State                           19-20     18-19   \n",
      "0    1.0                Maharashtra                               -   2332992   \n",
      "1    2.0                 Tamil Nadu                         1659210   1465361   \n",
      "2    3.0              Uttar Pradesh                         1495758   1404761   \n",
      "3    4.0                  Karnataka                         1476983   1351553   \n",
      "4    5.0                    Gujarat                               -   1322936   \n",
      "5    6.0                West Bengal                         1150711    995502   \n",
      "6    7.0                  Rajasthan                          916014    845247   \n",
      "7    8.0                  Telangana                          881873    782370   \n",
      "8    9.0             Andhra Pradesh                          875429    776140   \n",
      "9   10.0             Madhya Pradesh                          827019    737156   \n",
      "10  11.0                     Kerala                               -    707542   \n",
      "11  12.0                      Delhi                          779647    704529   \n",
      "12  13.0                    Haryana                          755790    666075   \n",
      "13  14.0                      Bihar                          562710    486776   \n",
      "14  15.0                     Punjab                          517521    472506   \n",
      "15  16.0                     Odisha                          457757    428031   \n",
      "16  17.0                      Assam                               -    282782   \n",
      "17  18.0                  Jharkhand                          301242    271990   \n",
      "18  19.0               Chhattisgarh                          288041    266537   \n",
      "19  20.0                Uttarakhand                               -    221871   \n",
      "20  21.0           Himachal Pradesh                          143063    133303   \n",
      "21  22.0            Jammu & Kashmir                               -    129877   \n",
      "22  23.0                        Goa                           72181     66060   \n",
      "23  24.0                    Tripura                           50227     44835   \n",
      "24  25.0                 Chandigarh                               -     37571   \n",
      "25  26.0                 Puducherry                           34823     31415   \n",
      "26  27.0                  Meghalaya                           32833     29544   \n",
      "27  28.0                    Manipur                           29148     25323   \n",
      "28  29.0                     Sikkim                           28391     25141   \n",
      "29  30.0                   Nagaland                               -     24534   \n",
      "30  31.0          Arunachal Pradesh                               -     22488   \n",
      "31  32.0                    Mizoram                           24424     20947   \n",
      "32  33.0  Andaman & Nicobar Islands                               -         -   \n",
      "33   NaN                      India                        17994301  16704645   \n",
      "\n",
      "     Share NSDP (Cr INR at 2011-12 prices)            \n",
      "     18-19                           19-20     18-19  \n",
      "0   13.97%                               -   1794123  \n",
      "1    8.77%                         1167776   1079894  \n",
      "2    8.41%                         1015735    979159  \n",
      "3    8.09%                         1035131    976948  \n",
      "4    7.92%                               -   1036859  \n",
      "5    5.96%                          713376    662432  \n",
      "6    5.06%                          630693    600433  \n",
      "7    4.68%                          594806    549481  \n",
      "8    4.65%                          595605    550584  \n",
      "9    4.41%                          496798    461903  \n",
      "10   4.24%                               -    513322  \n",
      "11   4.22%                          568265    529739  \n",
      "12   3.99%                          514983    477834  \n",
      "13   2.91%                          377276    340512  \n",
      "14   2.83%                          374015    354830  \n",
      "15   2.56%                          344437    327805  \n",
      "16   1.69%                               -    207193  \n",
      "17   1.63%                          218232    204423  \n",
      "18   1.60%                          210837    200453  \n",
      "19   1.33%                               -    173211  \n",
      "20   0.80%                          107171    101534  \n",
      "21   0.78%                               -     91666  \n",
      "22   0.40%                           56810     51878  \n",
      "23   0.27%                           35980     32830  \n",
      "24   0.22%                               -     27565  \n",
      "25   0.19%                           22291     20534  \n",
      "26   0.18%                           23564     21779  \n",
      "27   0.15%                           18549     17228  \n",
      "28   0.15%                           17060     15972  \n",
      "29   0.15%                               -     15381  \n",
      "30   0.13%                               -     15013  \n",
      "31   0.13%                           17797     15372  \n",
      "32       -                               -         -  \n",
      "33     NaN                        12681246  12240380  \n"
     ]
    }
   ],
   "source": [
    "print(dfs[2])"
   ]
  },
  {
   "cell_type": "code",
   "execution_count": 423,
   "id": "8fb5acb0",
   "metadata": {},
   "outputs": [
    {
     "data": {
      "text/html": [
       "<div>\n",
       "<style scoped>\n",
       "    .dataframe tbody tr th:only-of-type {\n",
       "        vertical-align: middle;\n",
       "    }\n",
       "\n",
       "    .dataframe tbody tr th {\n",
       "        vertical-align: top;\n",
       "    }\n",
       "\n",
       "    .dataframe thead tr th {\n",
       "        text-align: left;\n",
       "    }\n",
       "</style>\n",
       "<table border=\"1\" class=\"dataframe\">\n",
       "  <thead>\n",
       "    <tr>\n",
       "      <th></th>\n",
       "      <th>Rank</th>\n",
       "      <th>State</th>\n",
       "      <th colspan=\"2\" halign=\"left\">NSDP (Cr INR at Current prices)</th>\n",
       "      <th>Share</th>\n",
       "      <th colspan=\"2\" halign=\"left\">NSDP (Cr INR at 2011-12 prices)</th>\n",
       "    </tr>\n",
       "    <tr>\n",
       "      <th></th>\n",
       "      <th>Rank</th>\n",
       "      <th>State</th>\n",
       "      <th>19-20</th>\n",
       "      <th>18-19</th>\n",
       "      <th>18-19</th>\n",
       "      <th>19-20</th>\n",
       "      <th>18-19</th>\n",
       "    </tr>\n",
       "  </thead>\n",
       "  <tbody>\n",
       "    <tr>\n",
       "      <th>0</th>\n",
       "      <td>1.0</td>\n",
       "      <td>Maharashtra</td>\n",
       "      <td>-</td>\n",
       "      <td>2332992</td>\n",
       "      <td>13.97%</td>\n",
       "      <td>-</td>\n",
       "      <td>1794123</td>\n",
       "    </tr>\n",
       "    <tr>\n",
       "      <th>1</th>\n",
       "      <td>2.0</td>\n",
       "      <td>Tamil Nadu</td>\n",
       "      <td>1659210</td>\n",
       "      <td>1465361</td>\n",
       "      <td>8.77%</td>\n",
       "      <td>1167776</td>\n",
       "      <td>1079894</td>\n",
       "    </tr>\n",
       "    <tr>\n",
       "      <th>2</th>\n",
       "      <td>3.0</td>\n",
       "      <td>Uttar Pradesh</td>\n",
       "      <td>1495758</td>\n",
       "      <td>1404761</td>\n",
       "      <td>8.41%</td>\n",
       "      <td>1015735</td>\n",
       "      <td>979159</td>\n",
       "    </tr>\n",
       "    <tr>\n",
       "      <th>3</th>\n",
       "      <td>4.0</td>\n",
       "      <td>Karnataka</td>\n",
       "      <td>1476983</td>\n",
       "      <td>1351553</td>\n",
       "      <td>8.09%</td>\n",
       "      <td>1035131</td>\n",
       "      <td>976948</td>\n",
       "    </tr>\n",
       "    <tr>\n",
       "      <th>4</th>\n",
       "      <td>5.0</td>\n",
       "      <td>Gujarat</td>\n",
       "      <td>-</td>\n",
       "      <td>1322936</td>\n",
       "      <td>7.92%</td>\n",
       "      <td>-</td>\n",
       "      <td>1036859</td>\n",
       "    </tr>\n",
       "  </tbody>\n",
       "</table>\n",
       "</div>"
      ],
      "text/plain": [
       "  Rank          State NSDP (Cr INR at Current prices)            Share  \\\n",
       "  Rank          State                           19-20    18-19   18-19   \n",
       "0  1.0    Maharashtra                               -  2332992  13.97%   \n",
       "1  2.0     Tamil Nadu                         1659210  1465361   8.77%   \n",
       "2  3.0  Uttar Pradesh                         1495758  1404761   8.41%   \n",
       "3  4.0      Karnataka                         1476983  1351553   8.09%   \n",
       "4  5.0        Gujarat                               -  1322936   7.92%   \n",
       "\n",
       "  NSDP (Cr INR at 2011-12 prices)           \n",
       "                            19-20    18-19  \n",
       "0                               -  1794123  \n",
       "1                         1167776  1079894  \n",
       "2                         1015735   979159  \n",
       "3                         1035131   976948  \n",
       "4                               -  1036859  "
      ]
     },
     "execution_count": 423,
     "metadata": {},
     "output_type": "execute_result"
    }
   ],
   "source": [
    "df=pd.DataFrame(dfs[2])\n",
    "df.head()"
   ]
  },
  {
   "cell_type": "markdown",
   "id": "a50acf11",
   "metadata": {},
   "source": [
    "5. Scrape the details of trending repositories on Github.com."
   ]
  },
  {
   "cell_type": "markdown",
   "id": "db30aa1a",
   "metadata": {},
   "source": [
    "You have to find the following details:\n",
    "A) Repository title\n",
    "B) Repository description\n",
    "C) Contributors count\n",
    "D) Language used\n"
   ]
  },
  {
   "cell_type": "code",
   "execution_count": 426,
   "id": "f8240243",
   "metadata": {},
   "outputs": [],
   "source": [
    " #lets first connect to the web driver\n",
    "driver=webdriver.Edge(\"msedgedriver.exe\")"
   ]
  },
  {
   "cell_type": "code",
   "execution_count": 428,
   "id": "3f748ba2",
   "metadata": {},
   "outputs": [],
   "source": [
    "url = \"https://github.com/\"\n",
    "driver.get(url)"
   ]
  },
  {
   "cell_type": "code",
   "execution_count": 435,
   "id": "14f74855",
   "metadata": {},
   "outputs": [],
   "source": [
    "search_btn=driver.find_element_by_xpath('//button[@class=\"js-details-target btn-link d-lg-none mt-1\"]')\n",
    "search_btn.click()"
   ]
  },
  {
   "cell_type": "code",
   "execution_count": 439,
   "id": "691d1798",
   "metadata": {},
   "outputs": [],
   "source": [
    "search_btn=driver.find_element_by_xpath('//details[@class=\"HeaderMenu-details details-overlay details-reset width-full\"]')\n",
    "search_btn.click()"
   ]
  },
  {
   "cell_type": "code",
   "execution_count": 475,
   "id": "c3bffef6",
   "metadata": {},
   "outputs": [],
   "source": [
    "try:\n",
    "    \n",
    "    search_btn=driver.find_element_by_xpath('//li[@class=\"edge-item-fix\"][3]').get_attribute(\"href\")\n",
    "    search_btn.click()\n",
    "except:\n",
    "     NoSuchElementException "
   ]
  },
  {
   "cell_type": "code",
   "execution_count": 503,
   "id": "bc0d7540",
   "metadata": {},
   "outputs": [],
   "source": [
    "#making a empty list\n",
    "Repository_title=[]\n",
    "Repository_description=[]\n",
    "Contributors_count=[]\n",
    "Language_used=[]\n"
   ]
  },
  {
   "cell_type": "code",
   "execution_count": 510,
   "id": "20d5cba6",
   "metadata": {},
   "outputs": [],
   "source": [
    "#scrape repository title\n",
    "title = driver.find_elements_by_xpath('//h1[@class=\"h3 lh-condensed\"]')\n",
    "for i in range(len(title)):\n",
    "    Repository_title.append(title[i].text)\n"
   ]
  },
  {
   "cell_type": "code",
   "execution_count": 511,
   "id": "72430652",
   "metadata": {},
   "outputs": [
    {
     "data": {
      "text/plain": [
       "25"
      ]
     },
     "execution_count": 511,
     "metadata": {},
     "output_type": "execute_result"
    }
   ],
   "source": [
    "len(Repository_title)"
   ]
  },
  {
   "cell_type": "code",
   "execution_count": 512,
   "id": "efc661f2",
   "metadata": {},
   "outputs": [],
   "source": [
    "#scrape repository description \n",
    "description = driver.find_elements_by_xpath('//p[@class=\"col-9 color-text-secondary my-1 pr-4\"]')\n",
    "for i in range(len(description)):\n",
    "    Repository_description.append(description[i].text)\n"
   ]
  },
  {
   "cell_type": "code",
   "execution_count": 513,
   "id": "ed7de832",
   "metadata": {},
   "outputs": [
    {
     "data": {
      "text/plain": [
       "25"
      ]
     },
     "execution_count": 513,
     "metadata": {},
     "output_type": "execute_result"
    }
   ],
   "source": [
    "len(Repository_description)"
   ]
  },
  {
   "cell_type": "code",
   "execution_count": 504,
   "id": "0bd5cdc8",
   "metadata": {},
   "outputs": [],
   "source": [
    "#scrape repository title\n",
    "contributors = driver.find_elements_by_xpath('//a[@class=\"Link--muted d-inline-block mr-3\"][2]')\n",
    "for i in range(len(contributors)):\n",
    "    Contributors_count.append(contributors[i].text)\n"
   ]
  },
  {
   "cell_type": "code",
   "execution_count": 505,
   "id": "706fe805",
   "metadata": {},
   "outputs": [
    {
     "data": {
      "text/plain": [
       "25"
      ]
     },
     "execution_count": 505,
     "metadata": {},
     "output_type": "execute_result"
    }
   ],
   "source": [
    "len(Contributors_count)"
   ]
  },
  {
   "cell_type": "code",
   "execution_count": 507,
   "id": "cacd8c61",
   "metadata": {},
   "outputs": [],
   "source": [
    "#scrape repository title\n",
    "language = driver.find_elements_by_xpath('//span[@class=\"d-inline-block ml-0 mr-3\"]')\n",
    "for i in range(len(language)):\n",
    "    Language_used.append(language[i].text)\n"
   ]
  },
  {
   "cell_type": "code",
   "execution_count": 508,
   "id": "9b0b09a2",
   "metadata": {},
   "outputs": [
    {
     "data": {
      "text/plain": [
       "25"
      ]
     },
     "execution_count": 508,
     "metadata": {},
     "output_type": "execute_result"
    }
   ],
   "source": [
    "len(Language_used)"
   ]
  },
  {
   "cell_type": "code",
   "execution_count": 514,
   "id": "1f06ec97",
   "metadata": {},
   "outputs": [
    {
     "data": {
      "text/html": [
       "<div>\n",
       "<style scoped>\n",
       "    .dataframe tbody tr th:only-of-type {\n",
       "        vertical-align: middle;\n",
       "    }\n",
       "\n",
       "    .dataframe tbody tr th {\n",
       "        vertical-align: top;\n",
       "    }\n",
       "\n",
       "    .dataframe thead th {\n",
       "        text-align: right;\n",
       "    }\n",
       "</style>\n",
       "<table border=\"1\" class=\"dataframe\">\n",
       "  <thead>\n",
       "    <tr style=\"text-align: right;\">\n",
       "      <th></th>\n",
       "      <th>Repository_title</th>\n",
       "      <th>Repository_description</th>\n",
       "      <th>Contributors_count</th>\n",
       "      <th>Language_used</th>\n",
       "    </tr>\n",
       "  </thead>\n",
       "  <tbody>\n",
       "    <tr>\n",
       "      <th>0</th>\n",
       "      <td>Chakazul / Lenia</td>\n",
       "      <td>Lenia - Mathematical Life Forms</td>\n",
       "      <td>155</td>\n",
       "      <td>Python</td>\n",
       "    </tr>\n",
       "    <tr>\n",
       "      <th>1</th>\n",
       "      <td>microsoft / Swin-Transformer</td>\n",
       "      <td>This is an official implementation for \"Swin T...</td>\n",
       "      <td>667</td>\n",
       "      <td>Python</td>\n",
       "    </tr>\n",
       "    <tr>\n",
       "      <th>2</th>\n",
       "      <td>3b1b / videos</td>\n",
       "      <td>Code for the manim-generated scenes used in 3b...</td>\n",
       "      <td>174</td>\n",
       "      <td>Python</td>\n",
       "    </tr>\n",
       "    <tr>\n",
       "      <th>3</th>\n",
       "      <td>xinntao / Real-ESRGAN</td>\n",
       "      <td>Real-ESRGAN aims at developing Practical Algor...</td>\n",
       "      <td>451</td>\n",
       "      <td>Python</td>\n",
       "    </tr>\n",
       "    <tr>\n",
       "      <th>4</th>\n",
       "      <td>facebookresearch / detectron2</td>\n",
       "      <td>Detectron2 is FAIR's next-generation platform ...</td>\n",
       "      <td>4,888</td>\n",
       "      <td>Python</td>\n",
       "    </tr>\n",
       "  </tbody>\n",
       "</table>\n",
       "</div>"
      ],
      "text/plain": [
       "                Repository_title  \\\n",
       "0               Chakazul / Lenia   \n",
       "1   microsoft / Swin-Transformer   \n",
       "2                  3b1b / videos   \n",
       "3          xinntao / Real-ESRGAN   \n",
       "4  facebookresearch / detectron2   \n",
       "\n",
       "                              Repository_description Contributors_count  \\\n",
       "0                    Lenia - Mathematical Life Forms                155   \n",
       "1  This is an official implementation for \"Swin T...                667   \n",
       "2  Code for the manim-generated scenes used in 3b...                174   \n",
       "3  Real-ESRGAN aims at developing Practical Algor...                451   \n",
       "4  Detectron2 is FAIR's next-generation platform ...              4,888   \n",
       "\n",
       "  Language_used  \n",
       "0        Python  \n",
       "1        Python  \n",
       "2        Python  \n",
       "3        Python  \n",
       "4        Python  "
      ]
     },
     "execution_count": 514,
     "metadata": {},
     "output_type": "execute_result"
    }
   ],
   "source": [
    "Repository_details=pd.DataFrame({})\n",
    "Repository_details[\"Repository_title\"]=Repository_title\n",
    "Repository_details[\"Repository_description\"]=Repository_description\n",
    "Repository_details[\"Contributors_count\"]=Contributors_count\n",
    "Repository_details[\"Language_used\"]=Language_used\n",
    "Repository_details.head()"
   ]
  },
  {
   "cell_type": "markdown",
   "id": "77db1878",
   "metadata": {},
   "source": [
    "6. Scrape the details of top 100 songs on billboard.com."
   ]
  },
  {
   "cell_type": "markdown",
   "id": "77c9478d",
   "metadata": {},
   "source": [
    "You have to find the following details:\n",
    "A) Song name\n",
    "B) Artist name\n",
    "C) Last week rank\n",
    "D) Peak rank\n",
    "E) Weeks on board"
   ]
  },
  {
   "cell_type": "code",
   "execution_count": 4,
   "id": "327a6d57",
   "metadata": {},
   "outputs": [],
   "source": [
    " #lets first connect to the web driver\n",
    "driver=webdriver.Edge(\"msedgedriver.exe\")"
   ]
  },
  {
   "cell_type": "code",
   "execution_count": 5,
   "id": "01396900",
   "metadata": {},
   "outputs": [],
   "source": [
    "url = \"https://www.billboard.com/\"\n",
    "driver.get(url)"
   ]
  },
  {
   "cell_type": "code",
   "execution_count": 12,
   "id": "10032b23",
   "metadata": {},
   "outputs": [],
   "source": [
    "search_btn=driver.find_element_by_id(\"toggle-menu-action\")\n",
    "search_btn.click()"
   ]
  },
  {
   "cell_type": "code",
   "execution_count": 13,
   "id": "194d140a",
   "metadata": {},
   "outputs": [],
   "source": [
    "search_btn=driver.find_element_by_xpath('//a[@class=\"header__main-link header__main-link--charts\"]')\n",
    "search_btn.click()"
   ]
  },
  {
   "cell_type": "code",
   "execution_count": 17,
   "id": "8f3db137",
   "metadata": {},
   "outputs": [],
   "source": [
    "search_btn=driver.find_element_by_xpath('//a[@class=\"header__submenu__list__link\"]')\n",
    "search_btn.click()"
   ]
  },
  {
   "cell_type": "code",
   "execution_count": 29,
   "id": "1fcc972a",
   "metadata": {},
   "outputs": [],
   "source": [
    "#make empty list\n",
    "Song_name=[]\n",
    "Artist_name=[]\n",
    "Last_week_rank=[]\n",
    "Peak_rank=[]\n",
    "Weeks_on_board=[]"
   ]
  },
  {
   "cell_type": "code",
   "execution_count": 37,
   "id": "f2c6d4c1",
   "metadata": {},
   "outputs": [],
   "source": [
    "#scrape song name\n",
    "name= driver.find_elements_by_xpath('//span[@class=\"chart-element__information__song text--truncate color--primary\"]')\n",
    "for i in range(len(name)):\n",
    "    Song_name.append(name[i].text)\n"
   ]
  },
  {
   "cell_type": "code",
   "execution_count": 38,
   "id": "657800bc",
   "metadata": {},
   "outputs": [
    {
     "data": {
      "text/plain": [
       "100"
      ]
     },
     "execution_count": 38,
     "metadata": {},
     "output_type": "execute_result"
    }
   ],
   "source": [
    "len(Song_name)"
   ]
  },
  {
   "cell_type": "code",
   "execution_count": 39,
   "id": "2d59aae2",
   "metadata": {},
   "outputs": [],
   "source": [
    "#scrape Artist name\n",
    "name= driver.find_elements_by_xpath('//span[@class=\"chart-element__information__artist text--truncate color--secondary\"]')\n",
    "for i in range(len(name)):\n",
    "     Artist_name.append(name[i].text)\n"
   ]
  },
  {
   "cell_type": "code",
   "execution_count": 40,
   "id": "98ffa79b",
   "metadata": {},
   "outputs": [
    {
     "data": {
      "text/plain": [
       "100"
      ]
     },
     "execution_count": 40,
     "metadata": {},
     "output_type": "execute_result"
    }
   ],
   "source": [
    "len(Artist_name)"
   ]
  },
  {
   "cell_type": "code",
   "execution_count": 30,
   "id": "4be53188",
   "metadata": {},
   "outputs": [],
   "source": [
    "#scrape last week rank\n",
    "rank= driver.find_elements_by_xpath('//div[@class=\"chart-element__meta text--center color--secondary text--last\"]')\n",
    "for i in range(len(rank)):\n",
    "    Last_week_rank.append(rank[i].text)\n"
   ]
  },
  {
   "cell_type": "code",
   "execution_count": 32,
   "id": "7651f508",
   "metadata": {},
   "outputs": [
    {
     "data": {
      "text/plain": [
       "100"
      ]
     },
     "execution_count": 32,
     "metadata": {},
     "output_type": "execute_result"
    }
   ],
   "source": [
    "len(Last_week_rank)"
   ]
  },
  {
   "cell_type": "code",
   "execution_count": 33,
   "id": "3b6bbb40",
   "metadata": {},
   "outputs": [],
   "source": [
    "#scrape weeks_on_board\n",
    "weeks= driver.find_elements_by_xpath('//div[@class=\"chart-element__meta text--center color--secondary text--week\"]')\n",
    "for i in range(len(weeks)):\n",
    "    Weeks_on_board.append(weeks[i].text)\n"
   ]
  },
  {
   "cell_type": "code",
   "execution_count": 35,
   "id": "e2c66fb3",
   "metadata": {},
   "outputs": [
    {
     "data": {
      "text/plain": [
       "100"
      ]
     },
     "execution_count": 35,
     "metadata": {},
     "output_type": "execute_result"
    }
   ],
   "source": [
    " len(Weeks_on_board)"
   ]
  },
  {
   "cell_type": "code",
   "execution_count": 41,
   "id": "89532138",
   "metadata": {},
   "outputs": [
    {
     "data": {
      "text/html": [
       "<div>\n",
       "<style scoped>\n",
       "    .dataframe tbody tr th:only-of-type {\n",
       "        vertical-align: middle;\n",
       "    }\n",
       "\n",
       "    .dataframe tbody tr th {\n",
       "        vertical-align: top;\n",
       "    }\n",
       "\n",
       "    .dataframe thead th {\n",
       "        text-align: right;\n",
       "    }\n",
       "</style>\n",
       "<table border=\"1\" class=\"dataframe\">\n",
       "  <thead>\n",
       "    <tr style=\"text-align: right;\">\n",
       "      <th></th>\n",
       "      <th>Song_name</th>\n",
       "      <th>Artist_name</th>\n",
       "      <th>Last_week_rank</th>\n",
       "      <th>Weeks_on_board</th>\n",
       "    </tr>\n",
       "  </thead>\n",
       "  <tbody>\n",
       "    <tr>\n",
       "      <th>0</th>\n",
       "      <td>Industry Baby</td>\n",
       "      <td>Lil Nas X &amp; Jack Harlow</td>\n",
       "      <td>2</td>\n",
       "      <td>12</td>\n",
       "    </tr>\n",
       "    <tr>\n",
       "      <th>1</th>\n",
       "      <td>Stay</td>\n",
       "      <td>The Kid LAROI &amp; Justin Bieber</td>\n",
       "      <td>1</td>\n",
       "      <td>14</td>\n",
       "    </tr>\n",
       "    <tr>\n",
       "      <th>2</th>\n",
       "      <td>Fancy Like</td>\n",
       "      <td>Walker Hayes</td>\n",
       "      <td>3</td>\n",
       "      <td>17</td>\n",
       "    </tr>\n",
       "    <tr>\n",
       "      <th>3</th>\n",
       "      <td>Bad Habits</td>\n",
       "      <td>Ed Sheeran</td>\n",
       "      <td>5</td>\n",
       "      <td>16</td>\n",
       "    </tr>\n",
       "    <tr>\n",
       "      <th>4</th>\n",
       "      <td>Way 2 Sexy</td>\n",
       "      <td>Drake Featuring Future &amp; Young Thug</td>\n",
       "      <td>4</td>\n",
       "      <td>6</td>\n",
       "    </tr>\n",
       "  </tbody>\n",
       "</table>\n",
       "</div>"
      ],
      "text/plain": [
       "       Song_name                          Artist_name Last_week_rank  \\\n",
       "0  Industry Baby              Lil Nas X & Jack Harlow              2   \n",
       "1           Stay        The Kid LAROI & Justin Bieber              1   \n",
       "2     Fancy Like                         Walker Hayes              3   \n",
       "3     Bad Habits                           Ed Sheeran              5   \n",
       "4     Way 2 Sexy  Drake Featuring Future & Young Thug              4   \n",
       "\n",
       "  Weeks_on_board  \n",
       "0             12  \n",
       "1             14  \n",
       "2             17  \n",
       "3             16  \n",
       "4              6  "
      ]
     },
     "execution_count": 41,
     "metadata": {},
     "output_type": "execute_result"
    }
   ],
   "source": [
    "top_100_songs=pd.DataFrame({})\n",
    "top_100_songs[\"Song_name\"]=Song_name\n",
    "top_100_songs[\"Artist_name\"]=Artist_name\n",
    "top_100_songs[\"Last_week_rank\"]=Last_week_rank\n",
    "top_100_songs[\"Weeks_on_board\"]=Weeks_on_board\n",
    "top_100_songs.head()"
   ]
  },
  {
   "cell_type": "markdown",
   "id": "dd28b139",
   "metadata": {},
   "source": [
    "7. Scrape the details of Data science recruiters from naukri.com"
   ]
  },
  {
   "cell_type": "markdown",
   "id": "26de9688",
   "metadata": {},
   "source": [
    "You have to find the following details:\n",
    "A) Name\n",
    "B) Designation\n",
    "C) Company\n",
    "D) Skills they hire for\n",
    "E) Location\n",
    "Note: - From naukri.com homepage click on the recruiters option and the on the search pane type Data science and \n",
    "click on search. All this should be done through code"
   ]
  },
  {
   "cell_type": "code",
   "execution_count": 3,
   "id": "a973850a",
   "metadata": {},
   "outputs": [],
   "source": [
    " #lets first connect to the web driver\n",
    "driver=webdriver.Edge(\"msedgedriver.exe\")"
   ]
  },
  {
   "cell_type": "code",
   "execution_count": 4,
   "id": "6b1bf885",
   "metadata": {},
   "outputs": [],
   "source": [
    "url = \"https://www.naukri.com/\"\n",
    "driver.get(url)"
   ]
  },
  {
   "cell_type": "code",
   "execution_count": 8,
   "id": "0bdd5522",
   "metadata": {},
   "outputs": [],
   "source": [
    "search_btn=driver.find_element_by_xpath('//ul[@class=\"midSec menu\"]/li[2]')\n",
    "search_btn.click()"
   ]
  },
  {
   "cell_type": "code",
   "execution_count": 9,
   "id": "7d549996",
   "metadata": {},
   "outputs": [],
   "source": [
    "search_job=driver.find_element_by_xpath('//input[@class=\"sugInp\"]')\n"
   ]
  },
  {
   "cell_type": "code",
   "execution_count": 10,
   "id": "76a11dcc",
   "metadata": {},
   "outputs": [],
   "source": [
    "#write on search bar\n",
    "search_job.send_keys(\"Data science\")"
   ]
  },
  {
   "cell_type": "code",
   "execution_count": 11,
   "id": "fe9a9aa5",
   "metadata": {},
   "outputs": [],
   "source": [
    "try:\n",
    "    search_btn=driver.find_element_by_xpath('//button[@class=\"fl qsbSrch blueBtn\"]')\n",
    "    search_btn.click()\n",
    "except:\n",
    "    NoSuchElementException "
   ]
  },
  {
   "cell_type": "code",
   "execution_count": 108,
   "id": "95407dfd",
   "metadata": {},
   "outputs": [],
   "source": [
    "#make empty list\n",
    "Name=[]\n",
    "Designation=[]\n",
    "Company=[]\n",
    "Skills_they_hire_for=[]\n",
    "Location=[]"
   ]
  },
  {
   "cell_type": "code",
   "execution_count": 52,
   "id": "209daaa6",
   "metadata": {},
   "outputs": [
    {
     "data": {
      "text/plain": [
       "<Response [200]>"
      ]
     },
     "execution_count": 52,
     "metadata": {},
     "output_type": "execute_result"
    }
   ],
   "source": [
    "page=requests.get(\"https://www.naukri.com/data-science-recruiters\")\n",
    "page"
   ]
  },
  {
   "cell_type": "code",
   "execution_count": 55,
   "id": "0cb7a9f5",
   "metadata": {},
   "outputs": [],
   "source": [
    "soup=BeautifulSoup(page.content,\"lxml\")"
   ]
  },
  {
   "cell_type": "code",
   "execution_count": 58,
   "id": "a947a30d",
   "metadata": {},
   "outputs": [],
   "source": [
    "title=soup.find_all(\"span\",class_=\"fl ellipsis\")"
   ]
  },
  {
   "cell_type": "code",
   "execution_count": 121,
   "id": "c86faf3d",
   "metadata": {},
   "outputs": [
    {
     "data": {
      "text/plain": [
       "50"
      ]
     },
     "execution_count": 121,
     "metadata": {},
     "output_type": "execute_result"
    }
   ],
   "source": [
    "#scrape recruiter name\n",
    "for i in range(0,len(title)):\n",
    "    Name.append(title[i].get_text().replace(\"\\n\",\" \"))\n",
    "len(Name)"
   ]
  },
  {
   "cell_type": "code",
   "execution_count": 122,
   "id": "91f4612b",
   "metadata": {},
   "outputs": [],
   "source": [
    "d= soup.find_all(\"span\",class_=\"ellipsis clr\")"
   ]
  },
  {
   "cell_type": "code",
   "execution_count": 123,
   "id": "1cec3ad3",
   "metadata": {},
   "outputs": [
    {
     "data": {
      "text/plain": [
       "50"
      ]
     },
     "execution_count": 123,
     "metadata": {},
     "output_type": "execute_result"
    }
   ],
   "source": [
    "#scrape recruiter Designation  \n",
    "for i in range(len(d)): \n",
    "    Designation.append(d[i].get_text().replace(\"\\n\",\" \"))\n",
    "len(Designation)"
   ]
  },
  {
   "cell_type": "code",
   "execution_count": 109,
   "id": "59c186ce",
   "metadata": {},
   "outputs": [],
   "source": [
    "c= soup.find_all(\"a\",class_=\"ellipsis\")"
   ]
  },
  {
   "cell_type": "code",
   "execution_count": 110,
   "id": "5baf22f5",
   "metadata": {},
   "outputs": [
    {
     "data": {
      "text/plain": [
       "50"
      ]
     },
     "execution_count": 110,
     "metadata": {},
     "output_type": "execute_result"
    }
   ],
   "source": [
    "#scrape recruiter company  \n",
    "for i in range(1,len(c),2): \n",
    "    Company.append(c[i].get_text().replace(\"\\n\",\" \"))\n",
    "len(Company)"
   ]
  },
  {
   "cell_type": "code",
   "execution_count": 112,
   "id": "c4848679",
   "metadata": {},
   "outputs": [],
   "source": [
    "s= soup.find_all(\"div\",class_=\"hireSec highlightable\")"
   ]
  },
  {
   "cell_type": "code",
   "execution_count": 113,
   "id": "36e701ab",
   "metadata": {},
   "outputs": [
    {
     "data": {
      "text/plain": [
       "50"
      ]
     },
     "execution_count": 113,
     "metadata": {},
     "output_type": "execute_result"
    }
   ],
   "source": [
    "#scrape recruiter Skills_they_hire_for   \n",
    "for i in range(len(s)): \n",
    "    Skills_they_hire_for.append(s[i].get_text().replace(\"\\n\",\" \"))\n",
    "len(Skills_they_hire_for)"
   ]
  },
  {
   "cell_type": "code",
   "execution_count": 115,
   "id": "d4f0b411",
   "metadata": {},
   "outputs": [],
   "source": [
    "l= soup.find_all(\"small\",class_=\"ellipsis\")"
   ]
  },
  {
   "cell_type": "code",
   "execution_count": 116,
   "id": "39ab20b2",
   "metadata": {},
   "outputs": [
    {
     "data": {
      "text/plain": [
       "48"
      ]
     },
     "execution_count": 116,
     "metadata": {},
     "output_type": "execute_result"
    }
   ],
   "source": [
    "#scrape recruiter Location  \n",
    "for i in range(len(l)): \n",
    "    Location.append(l[i].get_text().replace(\"\\n\",\" \"))\n",
    "len(Location)"
   ]
  },
  {
   "cell_type": "code",
   "execution_count": null,
   "id": "c760cc69",
   "metadata": {},
   "outputs": [],
   "source": [
    "#make empty list\n",
    "Name=[]\n",
    "Designation=[]\n",
    "Company=[]\n",
    "Skills_they_hire_for=[]\n",
    "Location=[]"
   ]
  },
  {
   "cell_type": "code",
   "execution_count": 124,
   "id": "3aef7a2e",
   "metadata": {},
   "outputs": [
    {
     "data": {
      "text/html": [
       "<div>\n",
       "<style scoped>\n",
       "    .dataframe tbody tr th:only-of-type {\n",
       "        vertical-align: middle;\n",
       "    }\n",
       "\n",
       "    .dataframe tbody tr th {\n",
       "        vertical-align: top;\n",
       "    }\n",
       "\n",
       "    .dataframe thead th {\n",
       "        text-align: right;\n",
       "    }\n",
       "</style>\n",
       "<table border=\"1\" class=\"dataframe\">\n",
       "  <thead>\n",
       "    <tr style=\"text-align: right;\">\n",
       "      <th></th>\n",
       "      <th>Name</th>\n",
       "      <th>Designation</th>\n",
       "      <th>Company</th>\n",
       "      <th>Skills_they_hire_for</th>\n",
       "      <th>Location</th>\n",
       "    </tr>\n",
       "  </thead>\n",
       "  <tbody>\n",
       "    <tr>\n",
       "      <th>0</th>\n",
       "      <td>Aakash Harit</td>\n",
       "      <td>HR Manager</td>\n",
       "      <td>Data Science Network</td>\n",
       "      <td>Classic ASP Developer,   Internet Marketin...</td>\n",
       "      <td>Delhi</td>\n",
       "    </tr>\n",
       "    <tr>\n",
       "      <th>1</th>\n",
       "      <td>shravan Kumar Gaddam</td>\n",
       "      <td>Company Recruiter</td>\n",
       "      <td>Shore Infotech India Pvt. Ltd</td>\n",
       "      <td>.Net,   Java,   Data Science,   Linux Admi...</td>\n",
       "      <td>Hyderabad / Secunderabad</td>\n",
       "    </tr>\n",
       "    <tr>\n",
       "      <th>2</th>\n",
       "      <td>MARSIAN Technologies LLP</td>\n",
       "      <td>Company HR</td>\n",
       "      <td>MARSIAN Technologies LLP</td>\n",
       "      <td>Data Science,   Artificial Intelligence,  ...</td>\n",
       "      <td>Pune</td>\n",
       "    </tr>\n",
       "    <tr>\n",
       "      <th>3</th>\n",
       "      <td>Anik Agrawal</td>\n",
       "      <td>Company Recruiter</td>\n",
       "      <td>Enerlytics Software Solutions Pvt Ltd</td>\n",
       "      <td>Mean Stack,   javascript,   angularjs,   m...</td>\n",
       "      <td>Ahmedabad</td>\n",
       "    </tr>\n",
       "    <tr>\n",
       "      <th>4</th>\n",
       "      <td>subhas patel</td>\n",
       "      <td>Founder CEO</td>\n",
       "      <td>LibraryXProject</td>\n",
       "      <td>Hadoop,   Spark,   Digital Strategy,   Dat...</td>\n",
       "      <td>UK - (london)</td>\n",
       "    </tr>\n",
       "  </tbody>\n",
       "</table>\n",
       "</div>"
      ],
      "text/plain": [
       "                       Name        Designation  \\\n",
       "0              Aakash Harit         HR Manager   \n",
       "1      shravan Kumar Gaddam  Company Recruiter   \n",
       "2  MARSIAN Technologies LLP         Company HR   \n",
       "3              Anik Agrawal  Company Recruiter   \n",
       "4              subhas patel        Founder CEO   \n",
       "\n",
       "                                 Company  \\\n",
       "0                   Data Science Network   \n",
       "1          Shore Infotech India Pvt. Ltd   \n",
       "2               MARSIAN Technologies LLP   \n",
       "3  Enerlytics Software Solutions Pvt Ltd   \n",
       "4                        LibraryXProject   \n",
       "\n",
       "                                Skills_they_hire_for                  Location  \n",
       "0      Classic ASP Developer,   Internet Marketin...                     Delhi  \n",
       "1      .Net,   Java,   Data Science,   Linux Admi...  Hyderabad / Secunderabad  \n",
       "2      Data Science,   Artificial Intelligence,  ...                      Pune  \n",
       "3      Mean Stack,   javascript,   angularjs,   m...                 Ahmedabad  \n",
       "4      Hadoop,   Spark,   Digital Strategy,   Dat...             UK - (london)  "
      ]
     },
     "execution_count": 124,
     "metadata": {},
     "output_type": "execute_result"
    }
   ],
   "source": [
    "recruiters_details=pd.DataFrame({})\n",
    "recruiters_details[\"Name\"]=Name[0:48]\n",
    "recruiters_details[\"Designation\"]=Designation[0:48]\n",
    "recruiters_details[\"Company\"]=Company[0:48]\n",
    "recruiters_details[\"Skills_they_hire_for\"]=Skills_they_hire_for[0:48]\n",
    "recruiters_details[\"Location\"]=Location[0:48]\n",
    "recruiters_details.head()"
   ]
  },
  {
   "cell_type": "markdown",
   "id": "6a0c46b7",
   "metadata": {},
   "source": [
    " 8. Scrape the details of Highest selling novels.\n"
   ]
  },
  {
   "cell_type": "markdown",
   "id": "4560c0bd",
   "metadata": {},
   "source": [
    "You have to find the following details:\n",
    "A) Book name\n",
    "B) Author name\n",
    "C) Volumes sold\n",
    "D) Publisher\n",
    "E) Genre"
   ]
  },
  {
   "cell_type": "code",
   "execution_count": 125,
   "id": "11b83073",
   "metadata": {},
   "outputs": [],
   "source": [
    " #lets first connect to the web driver\n",
    "driver=webdriver.Edge(\"msedgedriver.exe\")"
   ]
  },
  {
   "cell_type": "code",
   "execution_count": 126,
   "id": "2c2d40b0",
   "metadata": {},
   "outputs": [],
   "source": [
    "url = \"https://www.theguardian.com/news/datablog/2012/aug/09/best-selling-books-all-time-fifty-shades-grey-compare/\"\n",
    "driver.get(url)"
   ]
  },
  {
   "cell_type": "code",
   "execution_count": 127,
   "id": "0f379ada",
   "metadata": {},
   "outputs": [],
   "source": [
    "soup = BeautifulSoup(driver.page_source, 'lxml')"
   ]
  },
  {
   "cell_type": "code",
   "execution_count": 128,
   "id": "b0a836d2",
   "metadata": {},
   "outputs": [
    {
     "name": "stdout",
     "output_type": "stream",
     "text": [
      "Total tables: 1\n",
      "                          Rank  \\\n",
      "0                            1   \n",
      "1                            2   \n",
      "2                            3   \n",
      "3                            4   \n",
      "4                            5   \n",
      "..                         ...   \n",
      "96                          97   \n",
      "97                          98   \n",
      "98                          99   \n",
      "99                         100   \n",
      "100  SOURCE: NIELSEN BOOK SCAN   \n",
      "\n",
      "                                                 Title  \\\n",
      "0                                    Da Vinci Code,The   \n",
      "1                 Harry Potter and the Deathly Hallows   \n",
      "2             Harry Potter and the Philosopher's Stone   \n",
      "3            Harry Potter and the Order of the Phoenix   \n",
      "4                                 Fifty Shades of Grey   \n",
      "..                                                 ...   \n",
      "96                      Happy Days with the Naked Chef   \n",
      "97               Hunger Games,The:Hunger Games Trilogy   \n",
      "98   Lost Boy,The:A Foster Child's Search for the L...   \n",
      "99   Jamie's Ministry of Food:Anyone Can Learn to C...   \n",
      "100                          SOURCE: NIELSEN BOOK SCAN   \n",
      "\n",
      "                        Author               Volume Sales  \\\n",
      "0                   Brown, Dan                    5094805   \n",
      "1                Rowling, J.K.                    4475152   \n",
      "2                Rowling, J.K.                    4200654   \n",
      "3                Rowling, J.K.                    4179479   \n",
      "4                 James, E. L.                    3758936   \n",
      "..                         ...                        ...   \n",
      "96               Oliver, Jamie                     794201   \n",
      "97            Collins, Suzanne                     792187   \n",
      "98                Pelzer, Dave                     791507   \n",
      "99               Oliver, Jamie                     791095   \n",
      "100  SOURCE: NIELSEN BOOK SCAN  SOURCE: NIELSEN BOOK SCAN   \n",
      "\n",
      "                     Publisher                        Genre  \n",
      "0                   Transworld  Crime, Thriller & Adventure  \n",
      "1                   Bloomsbury           Children's Fiction  \n",
      "2                   Bloomsbury           Children's Fiction  \n",
      "3                   Bloomsbury           Children's Fiction  \n",
      "4                 Random House              Romance & Sagas  \n",
      "..                         ...                          ...  \n",
      "96                     Penguin        Food & Drink: General  \n",
      "97             Scholastic Ltd.          Young Adult Fiction  \n",
      "98                       Orion           Biography: General  \n",
      "99                     Penguin        Food & Drink: General  \n",
      "100  SOURCE: NIELSEN BOOK SCAN    SOURCE: NIELSEN BOOK SCAN  \n",
      "\n",
      "[101 rows x 6 columns]\n"
     ]
    }
   ],
   "source": [
    "tables = soup.find_all('table')\n",
    "\n",
    "# Step 3: Read tables with Pandas read_html()\n",
    "dfs = pd.read_html(str(tables))\n",
    "\n",
    "print(f'Total tables: {len(dfs)}')\n",
    "print(dfs[0])\n"
   ]
  },
  {
   "cell_type": "code",
   "execution_count": 129,
   "id": "d752dcf8",
   "metadata": {},
   "outputs": [
    {
     "data": {
      "text/html": [
       "<div>\n",
       "<style scoped>\n",
       "    .dataframe tbody tr th:only-of-type {\n",
       "        vertical-align: middle;\n",
       "    }\n",
       "\n",
       "    .dataframe tbody tr th {\n",
       "        vertical-align: top;\n",
       "    }\n",
       "\n",
       "    .dataframe thead th {\n",
       "        text-align: right;\n",
       "    }\n",
       "</style>\n",
       "<table border=\"1\" class=\"dataframe\">\n",
       "  <thead>\n",
       "    <tr style=\"text-align: right;\">\n",
       "      <th></th>\n",
       "      <th>Rank</th>\n",
       "      <th>Title</th>\n",
       "      <th>Author</th>\n",
       "      <th>Volume Sales</th>\n",
       "      <th>Publisher</th>\n",
       "      <th>Genre</th>\n",
       "    </tr>\n",
       "  </thead>\n",
       "  <tbody>\n",
       "    <tr>\n",
       "      <th>0</th>\n",
       "      <td>1</td>\n",
       "      <td>Da Vinci Code,The</td>\n",
       "      <td>Brown, Dan</td>\n",
       "      <td>5094805</td>\n",
       "      <td>Transworld</td>\n",
       "      <td>Crime, Thriller &amp; Adventure</td>\n",
       "    </tr>\n",
       "    <tr>\n",
       "      <th>1</th>\n",
       "      <td>2</td>\n",
       "      <td>Harry Potter and the Deathly Hallows</td>\n",
       "      <td>Rowling, J.K.</td>\n",
       "      <td>4475152</td>\n",
       "      <td>Bloomsbury</td>\n",
       "      <td>Children's Fiction</td>\n",
       "    </tr>\n",
       "    <tr>\n",
       "      <th>2</th>\n",
       "      <td>3</td>\n",
       "      <td>Harry Potter and the Philosopher's Stone</td>\n",
       "      <td>Rowling, J.K.</td>\n",
       "      <td>4200654</td>\n",
       "      <td>Bloomsbury</td>\n",
       "      <td>Children's Fiction</td>\n",
       "    </tr>\n",
       "    <tr>\n",
       "      <th>3</th>\n",
       "      <td>4</td>\n",
       "      <td>Harry Potter and the Order of the Phoenix</td>\n",
       "      <td>Rowling, J.K.</td>\n",
       "      <td>4179479</td>\n",
       "      <td>Bloomsbury</td>\n",
       "      <td>Children's Fiction</td>\n",
       "    </tr>\n",
       "    <tr>\n",
       "      <th>4</th>\n",
       "      <td>5</td>\n",
       "      <td>Fifty Shades of Grey</td>\n",
       "      <td>James, E. L.</td>\n",
       "      <td>3758936</td>\n",
       "      <td>Random House</td>\n",
       "      <td>Romance &amp; Sagas</td>\n",
       "    </tr>\n",
       "  </tbody>\n",
       "</table>\n",
       "</div>"
      ],
      "text/plain": [
       "  Rank                                      Title         Author Volume Sales  \\\n",
       "0    1                          Da Vinci Code,The     Brown, Dan      5094805   \n",
       "1    2       Harry Potter and the Deathly Hallows  Rowling, J.K.      4475152   \n",
       "2    3   Harry Potter and the Philosopher's Stone  Rowling, J.K.      4200654   \n",
       "3    4  Harry Potter and the Order of the Phoenix  Rowling, J.K.      4179479   \n",
       "4    5                       Fifty Shades of Grey   James, E. L.      3758936   \n",
       "\n",
       "      Publisher                        Genre  \n",
       "0    Transworld  Crime, Thriller & Adventure  \n",
       "1    Bloomsbury           Children's Fiction  \n",
       "2    Bloomsbury           Children's Fiction  \n",
       "3    Bloomsbury           Children's Fiction  \n",
       "4  Random House              Romance & Sagas  "
      ]
     },
     "execution_count": 129,
     "metadata": {},
     "output_type": "execute_result"
    }
   ],
   "source": [
    "df=pd.DataFrame(dfs[0])\n",
    "df.head()"
   ]
  },
  {
   "cell_type": "markdown",
   "id": "2ed74643",
   "metadata": {},
   "source": [
    "9. Scrape the details most watched tv series of all time from imdb.com."
   ]
  },
  {
   "cell_type": "markdown",
   "id": "3cc655d2",
   "metadata": {},
   "source": [
    "You have to find the following details:\n",
    "A) Name\n",
    "B) Year span\n",
    "C) Genre\n",
    "D) Run time\n",
    "E) Ratings\n",
    "F) Votes"
   ]
  },
  {
   "cell_type": "code",
   "execution_count": 130,
   "id": "b09f19b7",
   "metadata": {},
   "outputs": [],
   "source": [
    " #lets first connect to the web driver\n",
    "driver=webdriver.Edge(\"msedgedriver.exe\")"
   ]
  },
  {
   "cell_type": "code",
   "execution_count": 131,
   "id": "01c4d1a1",
   "metadata": {},
   "outputs": [],
   "source": [
    "url = \"https://www.imdb.com/list/ls095964455/\"\n",
    "driver.get(url)"
   ]
  },
  {
   "cell_type": "code",
   "execution_count": 149,
   "id": "f0ac3289",
   "metadata": {},
   "outputs": [],
   "source": [
    "#make empty list\n",
    "Name=[]\n",
    "Year_span=[]\n",
    "Genre=[]\n",
    "Run_time=[]\n",
    "Ratings=[]\n",
    "Votes=[]\n"
   ]
  },
  {
   "cell_type": "code",
   "execution_count": 157,
   "id": "70162904",
   "metadata": {},
   "outputs": [],
   "source": [
    "#scrape series name\n",
    "name= driver.find_elements_by_xpath('//h3[@class=\"lister-item-header\"]/a')\n",
    "for i in range(len(name)):\n",
    "     Name.append(name[i].text)"
   ]
  },
  {
   "cell_type": "code",
   "execution_count": 158,
   "id": "5f04b58d",
   "metadata": {},
   "outputs": [
    {
     "data": {
      "text/plain": [
       "100"
      ]
     },
     "execution_count": 158,
     "metadata": {},
     "output_type": "execute_result"
    }
   ],
   "source": [
    "len(Name)"
   ]
  },
  {
   "cell_type": "code",
   "execution_count": 159,
   "id": "6dfade2c",
   "metadata": {},
   "outputs": [],
   "source": [
    "#scrape series Year_span\n",
    "year= driver.find_elements_by_xpath('//span[@class=\"lister-item-year text-muted unbold\"]')\n",
    "for i in range(len(year)):\n",
    "     Year_span.append(year[i].text)"
   ]
  },
  {
   "cell_type": "code",
   "execution_count": 160,
   "id": "a7ab21b0",
   "metadata": {},
   "outputs": [
    {
     "data": {
      "text/plain": [
       "100"
      ]
     },
     "execution_count": 160,
     "metadata": {},
     "output_type": "execute_result"
    }
   ],
   "source": [
    "len(Year_span)"
   ]
  },
  {
   "cell_type": "code",
   "execution_count": 161,
   "id": "8894f604",
   "metadata": {},
   "outputs": [],
   "source": [
    "#scrape series Genre\n",
    "g= driver.find_elements_by_xpath('//span[@class=\"genre\"]')\n",
    "for i in range(len(g)):\n",
    "     Genre.append(g[i].text)"
   ]
  },
  {
   "cell_type": "code",
   "execution_count": 162,
   "id": "5f9bd069",
   "metadata": {},
   "outputs": [
    {
     "data": {
      "text/plain": [
       "100"
      ]
     },
     "execution_count": 162,
     "metadata": {},
     "output_type": "execute_result"
    }
   ],
   "source": [
    "len(Genre)"
   ]
  },
  {
   "cell_type": "code",
   "execution_count": 163,
   "id": "5f661666",
   "metadata": {},
   "outputs": [],
   "source": [
    "#scrape series Run_time\n",
    "r= driver.find_elements_by_xpath('//span[@class=\"runtime\"]')\n",
    "for i in range(len(r)):\n",
    "     Run_time.append(r[i].text)"
   ]
  },
  {
   "cell_type": "code",
   "execution_count": 164,
   "id": "4d889d50",
   "metadata": {},
   "outputs": [
    {
     "data": {
      "text/plain": [
       "100"
      ]
     },
     "execution_count": 164,
     "metadata": {},
     "output_type": "execute_result"
    }
   ],
   "source": [
    "len(Run_time)"
   ]
  },
  {
   "cell_type": "code",
   "execution_count": 150,
   "id": "f568aeea",
   "metadata": {},
   "outputs": [],
   "source": [
    "#scrape series Ratings\n",
    "rate= driver.find_elements_by_xpath('//div[@class=\"ipl-rating-star small\"]')\n",
    "for i in range(len(rate)):\n",
    "     Ratings.append(rate[i].text)"
   ]
  },
  {
   "cell_type": "code",
   "execution_count": 152,
   "id": "089a0e65",
   "metadata": {},
   "outputs": [
    {
     "data": {
      "text/plain": [
       "100"
      ]
     },
     "execution_count": 152,
     "metadata": {},
     "output_type": "execute_result"
    }
   ],
   "source": [
    "len(Ratings)"
   ]
  },
  {
   "cell_type": "code",
   "execution_count": 153,
   "id": "4d0fbc5b",
   "metadata": {},
   "outputs": [],
   "source": [
    "#scrape series Votes\n",
    "v= driver.find_elements_by_name(\"nv\")\n",
    "for i in range(len(v)):\n",
    "     Votes.append(v[i].text)"
   ]
  },
  {
   "cell_type": "code",
   "execution_count": 155,
   "id": "7e6c71da",
   "metadata": {},
   "outputs": [
    {
     "data": {
      "text/plain": [
       "100"
      ]
     },
     "execution_count": 155,
     "metadata": {},
     "output_type": "execute_result"
    }
   ],
   "source": [
    "len(Votes)"
   ]
  },
  {
   "cell_type": "code",
   "execution_count": 165,
   "id": "fbf06628",
   "metadata": {},
   "outputs": [
    {
     "data": {
      "text/html": [
       "<div>\n",
       "<style scoped>\n",
       "    .dataframe tbody tr th:only-of-type {\n",
       "        vertical-align: middle;\n",
       "    }\n",
       "\n",
       "    .dataframe tbody tr th {\n",
       "        vertical-align: top;\n",
       "    }\n",
       "\n",
       "    .dataframe thead th {\n",
       "        text-align: right;\n",
       "    }\n",
       "</style>\n",
       "<table border=\"1\" class=\"dataframe\">\n",
       "  <thead>\n",
       "    <tr style=\"text-align: right;\">\n",
       "      <th></th>\n",
       "      <th>Name</th>\n",
       "      <th>Year_span</th>\n",
       "      <th>Genre</th>\n",
       "      <th>Run_time</th>\n",
       "      <th>Ratings</th>\n",
       "      <th>Votes</th>\n",
       "    </tr>\n",
       "  </thead>\n",
       "  <tbody>\n",
       "    <tr>\n",
       "      <th>0</th>\n",
       "      <td>Game of Thrones</td>\n",
       "      <td>(2011–2019)</td>\n",
       "      <td>Action, Adventure, Drama</td>\n",
       "      <td>57 min</td>\n",
       "      <td>9.2</td>\n",
       "      <td>1,886,884</td>\n",
       "    </tr>\n",
       "    <tr>\n",
       "      <th>1</th>\n",
       "      <td>Stranger Things</td>\n",
       "      <td>(2016– )</td>\n",
       "      <td>Drama, Fantasy, Horror</td>\n",
       "      <td>51 min</td>\n",
       "      <td>8.7</td>\n",
       "      <td>919,681</td>\n",
       "    </tr>\n",
       "    <tr>\n",
       "      <th>2</th>\n",
       "      <td>The Walking Dead</td>\n",
       "      <td>(2010–2022)</td>\n",
       "      <td>Drama, Horror, Thriller</td>\n",
       "      <td>44 min</td>\n",
       "      <td>8.2</td>\n",
       "      <td>906,882</td>\n",
       "    </tr>\n",
       "    <tr>\n",
       "      <th>3</th>\n",
       "      <td>13 Reasons Why</td>\n",
       "      <td>(2017–2020)</td>\n",
       "      <td>Drama, Mystery, Thriller</td>\n",
       "      <td>60 min</td>\n",
       "      <td>7.5</td>\n",
       "      <td>271,480</td>\n",
       "    </tr>\n",
       "    <tr>\n",
       "      <th>4</th>\n",
       "      <td>The 100</td>\n",
       "      <td>(2014–2020)</td>\n",
       "      <td>Drama, Mystery, Sci-Fi</td>\n",
       "      <td>43 min</td>\n",
       "      <td>7.6</td>\n",
       "      <td>231,826</td>\n",
       "    </tr>\n",
       "  </tbody>\n",
       "</table>\n",
       "</div>"
      ],
      "text/plain": [
       "               Name    Year_span                     Genre Run_time Ratings  \\\n",
       "0   Game of Thrones  (2011–2019)  Action, Adventure, Drama   57 min     9.2   \n",
       "1   Stranger Things     (2016– )    Drama, Fantasy, Horror   51 min     8.7   \n",
       "2  The Walking Dead  (2010–2022)   Drama, Horror, Thriller   44 min     8.2   \n",
       "3    13 Reasons Why  (2017–2020)  Drama, Mystery, Thriller   60 min     7.5   \n",
       "4           The 100  (2014–2020)    Drama, Mystery, Sci-Fi   43 min     7.6   \n",
       "\n",
       "       Votes  \n",
       "0  1,886,884  \n",
       "1    919,681  \n",
       "2    906,882  \n",
       "3    271,480  \n",
       "4    231,826  "
      ]
     },
     "execution_count": 165,
     "metadata": {},
     "output_type": "execute_result"
    }
   ],
   "source": [
    "imdb_series=pd.DataFrame({})\n",
    "imdb_series[\"Name\"]=Name\n",
    "imdb_series[\"Year_span\"]=Year_span\n",
    "imdb_series[\"Genre\"]=Genre\n",
    "imdb_series[\"Run_time\"]=Run_time\n",
    "imdb_series[\"Ratings\"]=Ratings\n",
    "imdb_series[\"Votes\"]=Votes\n",
    "imdb_series.head()"
   ]
  },
  {
   "cell_type": "markdown",
   "id": "b250c72d",
   "metadata": {},
   "source": [
    "10. Details of Datasets from UCI machine learning repositories."
   ]
  },
  {
   "cell_type": "markdown",
   "id": "8fab1e59",
   "metadata": {},
   "source": [
    "You have to find the following details:\n",
    "A) Dataset name\n",
    "B) Data type\n",
    "C) Task\n",
    "D) Attribute type\n",
    "E) No of instances\n",
    "F) No of attribute\n",
    "G) Year\n",
    "Note: - from the home page you have to go to the Show All Dataset page through code"
   ]
  },
  {
   "cell_type": "code",
   "execution_count": 168,
   "id": "fde07062",
   "metadata": {},
   "outputs": [],
   "source": [
    " #lets first connect to the web driver\n",
    "driver=webdriver.Edge(\"msedgedriver.exe\")"
   ]
  },
  {
   "cell_type": "code",
   "execution_count": 169,
   "id": "05096731",
   "metadata": {},
   "outputs": [],
   "source": [
    "url = \"https://archive.ics.uci.edu/\"\n",
    "driver.get(url)"
   ]
  },
  {
   "cell_type": "code",
   "execution_count": 174,
   "id": "e1bc45a1",
   "metadata": {},
   "outputs": [],
   "source": [
    "search_btn=driver.find_element_by_xpath('//span[@class=\"whitetext\"]/a/font')\n",
    "search_btn.click()"
   ]
  },
  {
   "cell_type": "code",
   "execution_count": 191,
   "id": "98c414f5",
   "metadata": {},
   "outputs": [],
   "source": [
    "driver.get(\"https://archive.ics.uci.edu/ml/datasets.php\")\n",
    "driver.implicitly_wait(5)"
   ]
  },
  {
   "cell_type": "code",
   "execution_count": 192,
   "id": "825327db",
   "metadata": {},
   "outputs": [],
   "source": [
    "soup = BeautifulSoup(driver.page_source, 'lxml')"
   ]
  },
  {
   "cell_type": "code",
   "execution_count": 204,
   "id": "9924107b",
   "metadata": {},
   "outputs": [
    {
     "name": "stdout",
     "output_type": "stream",
     "text": [
      "Total tables: 589\n",
      "                                 0                             1  \\\n",
      "0                             Name                    Data Types   \n",
      "1                          Abalone                  Multivariate   \n",
      "2                              NaN                       Abalone   \n",
      "3                            Adult                  Multivariate   \n",
      "4                              NaN                         Adult   \n",
      "...                            ...                           ...   \n",
      "1172                           NaN     Wikipedia Math Essentials   \n",
      "1173     Wikipedia Math Essentials                   Time-Series   \n",
      "1174                           NaN     Wikipedia Math Essentials   \n",
      "1175  Synchronous Machine Data Set                  Multivariate   \n",
      "1176                           NaN  Synchronous Machine Data Set   \n",
      "\n",
      "                   2                           3            4             5  \\\n",
      "0       Default Task             Attribute Types  # Instances  # Attributes   \n",
      "1     Classification  Categorical, Integer, Real         4177             8   \n",
      "2                NaN                         NaN          NaN           NaN   \n",
      "3     Classification        Categorical, Integer        48842            14   \n",
      "4                NaN                         NaN          NaN           NaN   \n",
      "...              ...                         ...          ...           ...   \n",
      "1172             NaN                         NaN          NaN           NaN   \n",
      "1173      Regression                        Real          731          1068   \n",
      "1174             NaN                         NaN          NaN           NaN   \n",
      "1175      Regression                        Real          557             5   \n",
      "1176             NaN                         NaN          NaN           NaN   \n",
      "\n",
      "         6  \n",
      "0     Year  \n",
      "1     1995  \n",
      "2      NaN  \n",
      "3     1996  \n",
      "4      NaN  \n",
      "...    ...  \n",
      "1172   NaN  \n",
      "1173  2021  \n",
      "1174   NaN  \n",
      "1175  2021  \n",
      "1176   NaN  \n",
      "\n",
      "[1177 rows x 7 columns]\n"
     ]
    }
   ],
   "source": [
    "tables = soup.find_all('table', border='1',cellpadding=\"5\")\n",
    "\n",
    "# Step 3: Read tables with Pandas read_html()\n",
    "dfs = pd.read_html(str(tables))\n",
    "\n",
    "print(f'Total tables: {len(dfs)}')\n",
    "print(dfs[0])\n"
   ]
  },
  {
   "cell_type": "code",
   "execution_count": 205,
   "id": "c525fd98",
   "metadata": {},
   "outputs": [
    {
     "data": {
      "text/html": [
       "<div>\n",
       "<style scoped>\n",
       "    .dataframe tbody tr th:only-of-type {\n",
       "        vertical-align: middle;\n",
       "    }\n",
       "\n",
       "    .dataframe tbody tr th {\n",
       "        vertical-align: top;\n",
       "    }\n",
       "\n",
       "    .dataframe thead th {\n",
       "        text-align: right;\n",
       "    }\n",
       "</style>\n",
       "<table border=\"1\" class=\"dataframe\">\n",
       "  <thead>\n",
       "    <tr style=\"text-align: right;\">\n",
       "      <th></th>\n",
       "      <th>0</th>\n",
       "      <th>1</th>\n",
       "      <th>2</th>\n",
       "      <th>3</th>\n",
       "      <th>4</th>\n",
       "      <th>5</th>\n",
       "      <th>6</th>\n",
       "    </tr>\n",
       "  </thead>\n",
       "  <tbody>\n",
       "    <tr>\n",
       "      <th>0</th>\n",
       "      <td>Name</td>\n",
       "      <td>Data Types</td>\n",
       "      <td>Default Task</td>\n",
       "      <td>Attribute Types</td>\n",
       "      <td># Instances</td>\n",
       "      <td># Attributes</td>\n",
       "      <td>Year</td>\n",
       "    </tr>\n",
       "    <tr>\n",
       "      <th>1</th>\n",
       "      <td>Abalone</td>\n",
       "      <td>Multivariate</td>\n",
       "      <td>Classification</td>\n",
       "      <td>Categorical, Integer, Real</td>\n",
       "      <td>4177</td>\n",
       "      <td>8</td>\n",
       "      <td>1995</td>\n",
       "    </tr>\n",
       "    <tr>\n",
       "      <th>2</th>\n",
       "      <td>NaN</td>\n",
       "      <td>Abalone</td>\n",
       "      <td>NaN</td>\n",
       "      <td>NaN</td>\n",
       "      <td>NaN</td>\n",
       "      <td>NaN</td>\n",
       "      <td>NaN</td>\n",
       "    </tr>\n",
       "    <tr>\n",
       "      <th>3</th>\n",
       "      <td>Adult</td>\n",
       "      <td>Multivariate</td>\n",
       "      <td>Classification</td>\n",
       "      <td>Categorical, Integer</td>\n",
       "      <td>48842</td>\n",
       "      <td>14</td>\n",
       "      <td>1996</td>\n",
       "    </tr>\n",
       "    <tr>\n",
       "      <th>4</th>\n",
       "      <td>NaN</td>\n",
       "      <td>Adult</td>\n",
       "      <td>NaN</td>\n",
       "      <td>NaN</td>\n",
       "      <td>NaN</td>\n",
       "      <td>NaN</td>\n",
       "      <td>NaN</td>\n",
       "    </tr>\n",
       "  </tbody>\n",
       "</table>\n",
       "</div>"
      ],
      "text/plain": [
       "         0             1               2                           3  \\\n",
       "0     Name    Data Types    Default Task             Attribute Types   \n",
       "1  Abalone  Multivariate  Classification  Categorical, Integer, Real   \n",
       "2      NaN       Abalone             NaN                         NaN   \n",
       "3    Adult  Multivariate  Classification        Categorical, Integer   \n",
       "4      NaN         Adult             NaN                         NaN   \n",
       "\n",
       "             4             5     6  \n",
       "0  # Instances  # Attributes  Year  \n",
       "1         4177             8  1995  \n",
       "2          NaN           NaN   NaN  \n",
       "3        48842            14  1996  \n",
       "4          NaN           NaN   NaN  "
      ]
     },
     "execution_count": 205,
     "metadata": {},
     "output_type": "execute_result"
    }
   ],
   "source": [
    "df=pd.DataFrame(dfs[0])\n",
    "df.head()"
   ]
  },
  {
   "cell_type": "markdown",
   "id": "2a920bb8",
   "metadata": {},
   "source": [
    "# 😊The End😊"
   ]
  },
  {
   "cell_type": "code",
   "execution_count": null,
   "id": "1af17198",
   "metadata": {},
   "outputs": [],
   "source": []
  }
 ],
 "metadata": {
  "kernelspec": {
   "display_name": "Python 3 (ipykernel)",
   "language": "python",
   "name": "python3"
  },
  "language_info": {
   "codemirror_mode": {
    "name": "ipython",
    "version": 3
   },
   "file_extension": ".py",
   "mimetype": "text/x-python",
   "name": "python",
   "nbconvert_exporter": "python",
   "pygments_lexer": "ipython3",
   "version": "3.8.10"
  }
 },
 "nbformat": 4,
 "nbformat_minor": 5
}
