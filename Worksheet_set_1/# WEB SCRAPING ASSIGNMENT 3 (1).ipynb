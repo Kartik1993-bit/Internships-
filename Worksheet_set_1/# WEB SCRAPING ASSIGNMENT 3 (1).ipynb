{
 "cells": [
  {
   "cell_type": "markdown",
   "id": "a6901e75",
   "metadata": {},
   "source": [
    "# WEB SCRAPING ASSIGNMENT 3\n"
   ]
  },
  {
   "cell_type": "markdown",
   "id": "722d48e5",
   "metadata": {},
   "source": [
    "# Instructions:\n",
    "    • All questions are compulsory.\n",
    "    • In each of the questions you have to automate the process. You do not have to click on any \n",
    "    button, click any clickable element, enter keywords in search boxes manually. Each process \n",
    "    has to be performed via coding.\n",
    "    • Q1 and Q2 are connected questions i.e. after attempting Q1 proceed to Q2. Do not write \n",
    "    whole code from beginning for Q2.\n",
    "    • You may use any web scraping library and tools.\n",
    "    • The question can be attempted in various ways; the correctness of question depends on the \n",
    "    output.\n",
    "    • If you encounter any Null values during scraping, you may replace it by hyphen."
   ]
  },
  {
   "cell_type": "markdown",
   "id": "1e8623cd",
   "metadata": {},
   "source": [
    "    1. Write a python program which searches all the product under a particular product vertical\n",
    "    from www.amazon.in. The product verticals to be searched will be taken as input from user.\n",
    "    For e.g. If user input is ‘guitar’. Then search for guitars.\n",
    "\n",
    "    2. In the above question, now scrape the following details of each product listed in first 3 pages \n",
    "    of your search results and save it in a data frame and csv. In case if any product vertical has \n",
    "    less than 3 pages in search results then scrape all the products available under that product \n",
    "    vertical. Details to be scraped are: \"Brand Name\", \"Name of the Product\", \"Rating\", \"No. of \n",
    "    Ratings\", \"Price\", \"Return/Exchange\", \"Expected Delivery\", \"Availability\", \"Other Details\" \n",
    "    and “Product URL”. In case, if any of the details are missing for any of the product then \n",
    "    replace it by “-“.\n"
   ]
  },
  {
   "cell_type": "code",
   "execution_count": 1,
   "id": "599e7ca2",
   "metadata": {},
   "outputs": [],
   "source": [
    "#lets now import all required libraries\n",
    "import selenium\n",
    "import pandas as pd\n",
    "import time\n",
    "from selenium import webdriver"
   ]
  },
  {
   "cell_type": "code",
   "execution_count": 3,
   "id": "884a7a2d",
   "metadata": {},
   "outputs": [],
   "source": [
    "#lets first connect to the web driver\n",
    "driver=webdriver.Edge(\"msedgedriver.exe\")"
   ]
  },
  {
   "cell_type": "code",
   "execution_count": 4,
   "id": "c17a8cf3",
   "metadata": {},
   "outputs": [],
   "source": [
    "url=\"https://www.amazon.in/\"\n",
    "driver.get(url)"
   ]
  },
  {
   "cell_type": "code",
   "execution_count": 5,
   "id": "56b0be6e",
   "metadata": {},
   "outputs": [],
   "source": [
    "#find the serch bar elements by id\n",
    "search_bar = driver.find_element_by_id(\"twotabsearchtextbox\") \n"
   ]
  },
  {
   "cell_type": "code",
   "execution_count": 6,
   "id": "e54f3f0b",
   "metadata": {},
   "outputs": [],
   "source": [
    "search_bar.clear()"
   ]
  },
  {
   "cell_type": "code",
   "execution_count": 7,
   "id": "99684b4f",
   "metadata": {},
   "outputs": [],
   "source": [
    "#write on search bar\n",
    "search_bar.send_keys(\"Guitar\")"
   ]
  },
  {
   "cell_type": "code",
   "execution_count": 8,
   "id": "5dd330d9",
   "metadata": {},
   "outputs": [],
   "source": [
    "search_btn=driver.find_element_by_xpath('//div[@class=\"nav-search-submit nav-sprite\"]')\n",
    "search_btn.click()"
   ]
  },
  {
   "cell_type": "code",
   "execution_count": 159,
   "id": "ab45ad2b",
   "metadata": {},
   "outputs": [],
   "source": [
    "# scrape all product urls\n",
    "product_urls = []\n",
    "start=0\n",
    "end=3\n",
    "for page in range(start,end):#for loop for scrapping 3 page\n",
    "    url=driver.find_elements_by_xpath('//a[@class=\"a-link-normal a-text-normal\"]') #scraping urls\n",
    "    for i in url:\n",
    "        product_urls.append(i.get_attribute(\"href\")) \n",
    "#appending the urls in product_urls list\n",
    " \n",
    "nxt_button=driver.find_element_by_xpath(\"//li[@class='a-last']//a\") \n",
    "#scraping the list of buttons from the page\n",
    "nxt_button.click()\n",
    "time.sleep(2)"
   ]
  },
  {
   "cell_type": "code",
   "execution_count": 3,
   "id": "7c3ceb20",
   "metadata": {},
   "outputs": [],
   "source": [
    "#Make empty lists\n",
    "Brand = [] \n",
    "Name = []\n",
    "Rating = []\n",
    "no_of_ratings = []\n",
    "Price = []\n",
    "Return = []\n",
    "expected_delivery = []\n",
    "Availability = [] \n",
    "Other_Details = []"
   ]
  },
  {
   "cell_type": "code",
   "execution_count": 2,
   "id": "04ab3031",
   "metadata": {},
   "outputs": [],
   "source": [
    "# Importing required Exceptions which needs to handled\n",
    "from selenium.common.exceptions import StaleElementReferenceException,NoSuchElementException\n",
    "#Importing requests\n",
    "import requests\n",
    "# importing regex\n",
    "import re\n",
    "import csv"
   ]
  },
  {
   "cell_type": "code",
   "execution_count": 163,
   "id": "c6b2169f",
   "metadata": {},
   "outputs": [],
   "source": [
    "for url in product_urls:\n",
    "    driver.get(url)\n",
    "    time.sleep(2)\n",
    "\n",
    "# Extracting Brand from xpath\n",
    "    try:\n",
    "        brand = driver.find_element_by_xpath('//a[@id=\"bylineInfo\"]') \n",
    "        Brand.append(brand.text)\n",
    "    except NoSuchElementException:\n",
    "        Brand.append('-')\n",
    "    time.sleep(1)\n",
    "\n",
    "# Extracting name from id\n",
    "    try:\n",
    "        name = driver.find_element_by_id('productTitle') \n",
    "        Name.append(name.text)\n",
    "    except NoSuchElementException:\n",
    "        Name.append('-')\n",
    "    time.sleep(1)\n",
    "\n",
    "# Extracting Ratings from xpat\n",
    "    try:\n",
    "        rating = driver.find_element_by_xpath('//span[@class=\"a-size-base a-nowrap\"]//span') \n",
    "        Rating.append(rating.text)\n",
    "    except NoSuchElementException:\n",
    "        Rating.append('-')\n",
    "    time.sleep(1)\n",
    "\n",
    "# Extracting No of Ratings from xpath\n",
    "    try:\n",
    "        no_rating = driver.find_element_by_xpath('//span[@class=\"a-size-base a-color-secondary\"]') \n",
    "        no_of_ratings.append(no_rating.text)\n",
    "    except NoSuchElementException:\n",
    "        no_of_ratings.append('-')\n",
    "        time.sleep(1)\n",
    "\n",
    "# Extracting price from xpath \n",
    "    try:\n",
    "        price = driver.find_element_by_xpath('//td[@class=\"a-span12\"]') \n",
    "        Price.append(price.text)\n",
    "    except NoSuchElementException:\n",
    "        Price.append('-')\n",
    "    time.sleep(1)\n",
    "\n",
    "# Extracting Return from xpath\n",
    "    try:\n",
    "        return_ = driver.find_element_by_xpath('//a[@class=\"a-size-small a-link-normal a-text-normal\"]') \n",
    "        Return.append(return_.text)\n",
    "    except NoSuchElementException:\n",
    "        Return.append('-')\n",
    "    time.sleep(1)\n",
    "\n",
    " # Extracting expected_delivery from xpath\n",
    "    try:\n",
    "        exptd_dlvry= driver.find_element_by_xpath('//span[@class=\"a-color-error\"]') \n",
    "        expected_delivery.append(exptd_dlvry.text)\n",
    "    except NoSuchElementException:\n",
    "        expected_delivery.append('-')\n",
    "    time.sleep(1)\n",
    "\n",
    " # Extracting Availability from xpath \n",
    "    try:\n",
    "        avl= driver.find_element_by_xpath('//span[@class=\"a-size-medium a-color-success\"]') \n",
    "        Availability.append(avl.text)\n",
    "    except NoSuchElementException:\n",
    "        Availability.append('-')\n",
    "        time.sleep(1)\n",
    "\n",
    " # Extracting Other Details from xpath \n",
    "    try:\n",
    "        othr_dtls= driver.find_element_by_xpath('//ul[@class=\"a-unordered-list a-vertical a-spacing-mini\"]') \n",
    "        Other_Details.append(othr_dtls.text)\n",
    "    except NoSuchElementException:\n",
    "        Other_Details.append('-')\n",
    "    time.sleep(2)         "
   ]
  },
  {
   "cell_type": "code",
   "execution_count": null,
   "id": "e73e180f",
   "metadata": {},
   "outputs": [],
   "source": [
    "expected_delivery_tags=driver.find_elements_by_xpath('//span[@class=\"a-text-bold\"]')"
   ]
  },
  {
   "cell_type": "code",
   "execution_count": 178,
   "id": "7037500e",
   "metadata": {},
   "outputs": [
    {
     "data": {
      "text/plain": [
       "['Tomorrow, October 14',\n",
       " 'Sunday, October 17',\n",
       " 'Tomorrow, October 14',\n",
       " 'Tomorrow, October 14',\n",
       " 'Tomorrow, October 14',\n",
       " 'Tomorrow, October 14',\n",
       " 'Tomorrow, October 14',\n",
       " 'Sunday, October 17',\n",
       " 'Tomorrow, October 14',\n",
       " 'Tomorrow, October 14',\n",
       " 'Tomorrow, October 14',\n",
       " 'Tomorrow, October 14',\n",
       " 'Tomorrow, October 14',\n",
       " 'Tomorrow, October 14',\n",
       " 'Tomorrow, October 14',\n",
       " 'Tomorrow, October 14',\n",
       " 'Monday, October 18',\n",
       " 'Sunday, October 17',\n",
       " 'Sunday, October 17',\n",
       " 'Tomorrow, October 14',\n",
       " 'Tomorrow, October 14',\n",
       " 'Tomorrow, October 14',\n",
       " 'Tomorrow, October 14',\n",
       " 'Tomorrow, October 14',\n",
       " 'Tomorrow, October 14',\n",
       " 'Friday, October 15',\n",
       " 'Tomorrow, October 14',\n",
       " 'Wednesday, October 20',\n",
       " 'Tomorrow, October 14',\n",
       " 'Friday, October 15',\n",
       " 'Friday, October 15',\n",
       " 'Friday, October 15',\n",
       " 'Friday, October 15',\n",
       " 'Saturday, October 16',\n",
       " 'Saturday, October 16',\n",
       " 'Monday, October 18',\n",
       " 'Friday, October 15',\n",
       " 'Friday, October 15',\n",
       " 'Saturday, October 16',\n",
       " 'Tomorrow, October 14',\n",
       " 'Tomorrow, October 14',\n",
       " 'Tomorrow, October 14',\n",
       " 'Tomorrow, October 14',\n",
       " 'Friday, October 15',\n",
       " 'Tomorrow, October 14',\n",
       " 'Saturday, October 16',\n",
       " 'Saturday, October 16',\n",
       " 'Monday, October 18',\n",
       " 'Tomorrow, October 14',\n",
       " 'Friday, October 15',\n",
       " 'Monday, October 18',\n",
       " 'Tomorrow, October 14',\n",
       " 'Tomorrow, October 14',\n",
       " 'Friday, October 15',\n",
       " 'Tomorrow, October 14',\n",
       " 'Tomorrow, October 14',\n",
       " 'Tomorrow, October 14',\n",
       " 'Tomorrow, October 14',\n",
       " 'Tomorrow, October 14']"
      ]
     },
     "execution_count": 178,
     "metadata": {},
     "output_type": "execute_result"
    }
   ],
   "source": [
    "Expected_delivery=[]\n",
    "for i in expected_delivery_tags:\n",
    "    Expected_delivery.append(i.text.replace(\"\\n\",\"\"))\n",
    "Expected_delivery"
   ]
  },
  {
   "cell_type": "code",
   "execution_count": 176,
   "id": "e513fd0a",
   "metadata": {},
   "outputs": [
    {
     "data": {
      "text/html": [
       "<div>\n",
       "<style scoped>\n",
       "    .dataframe tbody tr th:only-of-type {\n",
       "        vertical-align: middle;\n",
       "    }\n",
       "\n",
       "    .dataframe tbody tr th {\n",
       "        vertical-align: top;\n",
       "    }\n",
       "\n",
       "    .dataframe thead th {\n",
       "        text-align: right;\n",
       "    }\n",
       "</style>\n",
       "<table border=\"1\" class=\"dataframe\">\n",
       "  <thead>\n",
       "    <tr style=\"text-align: right;\">\n",
       "      <th></th>\n",
       "      <th>Brand</th>\n",
       "      <th>Name</th>\n",
       "      <th>Rating</th>\n",
       "      <th>No.of ratings</th>\n",
       "      <th>Price</th>\n",
       "      <th>Return/Exchange</th>\n",
       "      <th>Expected Delivery</th>\n",
       "      <th>Availability</th>\n",
       "      <th>Other Details</th>\n",
       "      <th>URL</th>\n",
       "    </tr>\n",
       "  </thead>\n",
       "  <tbody>\n",
       "    <tr>\n",
       "      <th>0</th>\n",
       "      <td>Visit the JUAREZ Store</td>\n",
       "      <td>Juârez Acoustic Guitar, 38 Inch Cutaway, 038C ...</td>\n",
       "      <td>4 out of 5</td>\n",
       "      <td>13,263 global ratings</td>\n",
       "      <td>₹1,999.00</td>\n",
       "      <td>Pay on Delivery</td>\n",
       "      <td>-</td>\n",
       "      <td>In stock.</td>\n",
       "      <td>Black Glossy Finish, Number of Frets: 18, Acou...</td>\n",
       "      <td>https://www.amazon.in/gp/slredirect/picassoRed...</td>\n",
       "    </tr>\n",
       "    <tr>\n",
       "      <th>1</th>\n",
       "      <td>Brand: medellin</td>\n",
       "      <td>Medellin 38in Premium All Wood Acoustic Guitar...</td>\n",
       "      <td>3.9 out of 5</td>\n",
       "      <td>617 global ratings</td>\n",
       "      <td>₹3,199.00</td>\n",
       "      <td>Pay on Delivery</td>\n",
       "      <td>-</td>\n",
       "      <td>In stock.</td>\n",
       "      <td>Perfect beginner guitar: Specially designed fo...</td>\n",
       "      <td>https://www.amazon.in/gp/slredirect/picassoRed...</td>\n",
       "    </tr>\n",
       "    <tr>\n",
       "      <th>2</th>\n",
       "      <td>Visit the JUAREZ Store</td>\n",
       "      <td>Juarez Acoustic Guitar Kit, 38 Inch Cutaway, 3...</td>\n",
       "      <td>4 out of 5</td>\n",
       "      <td>4,342 global ratings</td>\n",
       "      <td>₹1,999.00</td>\n",
       "      <td>Pay on Delivery</td>\n",
       "      <td></td>\n",
       "      <td>In stock.</td>\n",
       "      <td>Number of Frets: 18\\nAcoustic guitar with stra...</td>\n",
       "      <td>https://www.amazon.in/gp/slredirect/picassoRed...</td>\n",
       "    </tr>\n",
       "    <tr>\n",
       "      <th>3</th>\n",
       "      <td>Visit the JUAREZ Store</td>\n",
       "      <td>JUAREZ 41\" Acoustic Guitar Cutaway with Dual A...</td>\n",
       "      <td>4.3 out of 5</td>\n",
       "      <td>22 global ratings</td>\n",
       "      <td>₹3,499.00</td>\n",
       "      <td>Pay on Delivery</td>\n",
       "      <td></td>\n",
       "      <td>In stock.</td>\n",
       "      <td>Glossy finish, Number of frets - 21, 41 Inch A...</td>\n",
       "      <td>https://www.amazon.in/gp/slredirect/picassoRed...</td>\n",
       "    </tr>\n",
       "    <tr>\n",
       "      <th>4</th>\n",
       "      <td>Visit the JUAREZ Store</td>\n",
       "      <td>Juârez Acoustic Guitar, 38 Inch Cutaway, 038C ...</td>\n",
       "      <td>4 out of 5</td>\n",
       "      <td>13,263 global ratings</td>\n",
       "      <td>₹1,999.00</td>\n",
       "      <td>Pay on Delivery</td>\n",
       "      <td>-</td>\n",
       "      <td>In stock.</td>\n",
       "      <td>Black Glossy Finish, Number of Frets: 18, Acou...</td>\n",
       "      <td>https://www.amazon.in/Juarez-Acoustic-Cutaway-...</td>\n",
       "    </tr>\n",
       "  </tbody>\n",
       "</table>\n",
       "</div>"
      ],
      "text/plain": [
       "                    Brand                                               Name  \\\n",
       "0  Visit the JUAREZ Store  Juârez Acoustic Guitar, 38 Inch Cutaway, 038C ...   \n",
       "1         Brand: medellin  Medellin 38in Premium All Wood Acoustic Guitar...   \n",
       "2  Visit the JUAREZ Store  Juarez Acoustic Guitar Kit, 38 Inch Cutaway, 3...   \n",
       "3  Visit the JUAREZ Store  JUAREZ 41\" Acoustic Guitar Cutaway with Dual A...   \n",
       "4  Visit the JUAREZ Store  Juârez Acoustic Guitar, 38 Inch Cutaway, 038C ...   \n",
       "\n",
       "         Rating          No.of ratings      Price  Return/Exchange  \\\n",
       "0    4 out of 5  13,263 global ratings  ₹1,999.00  Pay on Delivery   \n",
       "1  3.9 out of 5     617 global ratings  ₹3,199.00  Pay on Delivery   \n",
       "2    4 out of 5   4,342 global ratings  ₹1,999.00  Pay on Delivery   \n",
       "3  4.3 out of 5      22 global ratings  ₹3,499.00  Pay on Delivery   \n",
       "4    4 out of 5  13,263 global ratings  ₹1,999.00  Pay on Delivery   \n",
       "\n",
       "  Expected Delivery Availability  \\\n",
       "0                 -    In stock.   \n",
       "1                 -    In stock.   \n",
       "2                      In stock.   \n",
       "3                      In stock.   \n",
       "4                 -    In stock.   \n",
       "\n",
       "                                       Other Details  \\\n",
       "0  Black Glossy Finish, Number of Frets: 18, Acou...   \n",
       "1  Perfect beginner guitar: Specially designed fo...   \n",
       "2  Number of Frets: 18\\nAcoustic guitar with stra...   \n",
       "3  Glossy finish, Number of frets - 21, 41 Inch A...   \n",
       "4  Black Glossy Finish, Number of Frets: 18, Acou...   \n",
       "\n",
       "                                                 URL  \n",
       "0  https://www.amazon.in/gp/slredirect/picassoRed...  \n",
       "1  https://www.amazon.in/gp/slredirect/picassoRed...  \n",
       "2  https://www.amazon.in/gp/slredirect/picassoRed...  \n",
       "3  https://www.amazon.in/gp/slredirect/picassoRed...  \n",
       "4  https://www.amazon.in/Juarez-Acoustic-Cutaway-...  "
      ]
     },
     "execution_count": 176,
     "metadata": {},
     "output_type": "execute_result"
    }
   ],
   "source": [
    "# Make dataframe\n",
    "prod_df = pd.DataFrame({'Brand':Brand,'Name':Name,'Rating':Rating,'No.of ratings':no_of_ratings,'Price':Price,'Return/Exchange':Return,'Expected Delivery':expected_delivery,'Availability':Availability,'Other Details':Other_Details,'URL':product_urls})\n",
    "prod_df.head(5) "
   ]
  },
  {
   "cell_type": "markdown",
   "id": "27763aef",
   "metadata": {},
   "source": [
    "3. Write a python program to access the search bar and search button on images.google.com and \n",
    "scrape 100 images each for keywords ‘fruits’, ‘cars’ and ‘Machine Learning’."
   ]
  },
  {
   "cell_type": "code",
   "execution_count": 5,
   "id": "f09506ef",
   "metadata": {},
   "outputs": [],
   "source": [
    "#lets first connect to the web driver\n",
    "driver=webdriver.Edge(\"msedgedriver.exe\")"
   ]
  },
  {
   "cell_type": "code",
   "execution_count": 6,
   "id": "db31fb15",
   "metadata": {},
   "outputs": [],
   "source": [
    "url=\"https://images.google.com/\"\n",
    "driver.get(url)"
   ]
  },
  {
   "cell_type": "code",
   "execution_count": 99,
   "id": "7e013628",
   "metadata": {},
   "outputs": [],
   "source": [
    "#find the serch bar elements by id\n",
    "search_bar = driver.find_element_by_xpath('//input[@class=\"gLFyf gsfi\"]') \n"
   ]
  },
  {
   "cell_type": "code",
   "execution_count": 100,
   "id": "f99d2a9a",
   "metadata": {},
   "outputs": [],
   "source": [
    "search_bar.clear()"
   ]
  },
  {
   "cell_type": "code",
   "execution_count": 101,
   "id": "0f8303d6",
   "metadata": {},
   "outputs": [],
   "source": [
    "#write on search bar\n",
    "search_bar.send_keys(\"fruits\")"
   ]
  },
  {
   "cell_type": "code",
   "execution_count": 102,
   "id": "9d1c6026",
   "metadata": {},
   "outputs": [],
   "source": [
    "search_btn=driver.find_element_by_xpath('//button[@class=\"Tg7LZd\"]')\n",
    "search_btn.click()"
   ]
  },
  {
   "cell_type": "code",
   "execution_count": 111,
   "id": "c8e1b903",
   "metadata": {},
   "outputs": [],
   "source": [
    "images = driver.find_elements_by_xpath('//img[@class=\"rg_i Q4LuWd\"]')"
   ]
  },
  {
   "cell_type": "code",
   "execution_count": 112,
   "id": "842ac2d0",
   "metadata": {},
   "outputs": [],
   "source": [
    "img_urls = []\n",
    "img_data = []\n"
   ]
  },
  {
   "cell_type": "code",
   "execution_count": 113,
   "id": "37ae11b6",
   "metadata": {},
   "outputs": [],
   "source": [
    "for image in images:\n",
    "    source= image.get_attribute('src')\n",
    "if source is not None:\n",
    "    if(source[0:4] == 'http'):\n",
    "        img_urls.append(source)\n",
    " \n",
    " \n",
    "for i in range(len(img_urls)):\n",
    "    if i >= 100:\n",
    "        break\n",
    "    print(\"Downloading {0} of {1} images\" .format(i, 100))\n",
    "    response= requests.get(img_urls[i])"
   ]
  },
  {
   "cell_type": "code",
   "execution_count": 114,
   "id": "8bfb8836",
   "metadata": {},
   "outputs": [],
   "source": [
    "images = driver.find_elements_by_xpath('//img[@class=\"rg_i Q4LuWd\"]')\n",
    "\n",
    "for image in images:\n",
    "    image.get_attribute('src')\n",
    "    img_urls.append(images)\n",
    "for i in range(len(img_urls)):\n",
    "    if i >= 100:\n",
    "        break"
   ]
  },
  {
   "cell_type": "code",
   "execution_count": 116,
   "id": "e1d1f0cd",
   "metadata": {},
   "outputs": [
    {
     "data": {
      "text/plain": [
       "300"
      ]
     },
     "execution_count": 116,
     "metadata": {},
     "output_type": "execute_result"
    }
   ],
   "source": [
    "len(img_urls)"
   ]
  },
  {
   "cell_type": "code",
   "execution_count": 16,
   "id": "8c2f594e",
   "metadata": {},
   "outputs": [],
   "source": [
    "#lets first connect to the web driver\n",
    "driver=webdriver.Edge(\"msedgedriver.exe\")"
   ]
  },
  {
   "cell_type": "code",
   "execution_count": 17,
   "id": "7960a129",
   "metadata": {},
   "outputs": [],
   "source": [
    "url=\"https://images.google.com/\"\n",
    "driver.get(url)"
   ]
  },
  {
   "cell_type": "code",
   "execution_count": 117,
   "id": "83943139",
   "metadata": {},
   "outputs": [],
   "source": [
    "#find the serch bar elements by id\n",
    "search_bar = driver.find_element_by_xpath('//input[@class=\"gLFyf gsfi\"]') \n"
   ]
  },
  {
   "cell_type": "code",
   "execution_count": 118,
   "id": "e733fb33",
   "metadata": {},
   "outputs": [],
   "source": [
    "search_bar.clear()"
   ]
  },
  {
   "cell_type": "code",
   "execution_count": 119,
   "id": "161af194",
   "metadata": {},
   "outputs": [],
   "source": [
    "#write on search bar\n",
    "search_bar.send_keys(\"cars\")"
   ]
  },
  {
   "cell_type": "code",
   "execution_count": 120,
   "id": "ea590b48",
   "metadata": {},
   "outputs": [],
   "source": [
    "search_btn=driver.find_element_by_xpath('//button[@class=\"Tg7LZd\"]')\n",
    "search_btn.click()"
   ]
  },
  {
   "cell_type": "code",
   "execution_count": 121,
   "id": "68bfafe9",
   "metadata": {},
   "outputs": [],
   "source": [
    "images = driver.find_elements_by_xpath('//img[@class=\"rg_i Q4LuWd\"]')"
   ]
  },
  {
   "cell_type": "code",
   "execution_count": 122,
   "id": "7e03f779",
   "metadata": {},
   "outputs": [],
   "source": [
    "img_urls_cars=[]"
   ]
  },
  {
   "cell_type": "code",
   "execution_count": 123,
   "id": "23ccb51e",
   "metadata": {},
   "outputs": [],
   "source": [
    "for image in images:\n",
    "    source= image.get_attribute('src')\n",
    "if source is not None:\n",
    "    if(source[0:4] == 'http'):\n",
    "        img_urls_cars.append(source)\n",
    " \n",
    " \n",
    "for i in range(len(img_urls_cars)):\n",
    "    if i >= 100:\n",
    "        break\n",
    "    print(\"Downloading {0} of {1} images\" .format(i, 100))\n",
    "    response= requests.get(img_urls_cars[i])"
   ]
  },
  {
   "cell_type": "code",
   "execution_count": 124,
   "id": "ecf6b139",
   "metadata": {},
   "outputs": [],
   "source": [
    "images = driver.find_elements_by_xpath('//img[@class=\"rg_i Q4LuWd\"]')\n",
    "\n",
    "for image in images:\n",
    "    image.get_attribute('src')\n",
    "    img_urls_cars.append(images)\n",
    "for i in range(len(img_urls_cars)):\n",
    "    if i >= 100:\n",
    "        break"
   ]
  },
  {
   "cell_type": "code",
   "execution_count": 126,
   "id": "d42c9af9",
   "metadata": {},
   "outputs": [
    {
     "data": {
      "text/plain": [
       "300"
      ]
     },
     "execution_count": 126,
     "metadata": {},
     "output_type": "execute_result"
    }
   ],
   "source": [
    "len(img_urls_cars)"
   ]
  },
  {
   "cell_type": "code",
   "execution_count": 40,
   "id": "25f752a5",
   "metadata": {},
   "outputs": [],
   "source": [
    "#lets first connect to the web driver\n",
    "driver=webdriver.Edge(\"msedgedriver.exe\")"
   ]
  },
  {
   "cell_type": "code",
   "execution_count": 41,
   "id": "2f8e9c84",
   "metadata": {},
   "outputs": [],
   "source": [
    "url=\"https://images.google.com/\"\n",
    "driver.get(url)"
   ]
  },
  {
   "cell_type": "code",
   "execution_count": 42,
   "id": "444a80f4",
   "metadata": {},
   "outputs": [],
   "source": [
    "#find the serch bar elements by xpath\n",
    "search_bar = driver.find_element_by_xpath('//input[@class=\"gLFyf gsfi\"]') \n"
   ]
  },
  {
   "cell_type": "code",
   "execution_count": 43,
   "id": "53fc842a",
   "metadata": {},
   "outputs": [],
   "source": [
    "search_bar.clear()"
   ]
  },
  {
   "cell_type": "code",
   "execution_count": 44,
   "id": "56608c2c",
   "metadata": {},
   "outputs": [],
   "source": [
    "#write on search bar\n",
    "search_bar.send_keys(\"Machine Learning\")"
   ]
  },
  {
   "cell_type": "code",
   "execution_count": 45,
   "id": "59278743",
   "metadata": {},
   "outputs": [],
   "source": [
    "search_btn=driver.find_element_by_xpath('//button[@class=\"Tg7LZd\"]')\n",
    "search_btn.click()"
   ]
  },
  {
   "cell_type": "code",
   "execution_count": 68,
   "id": "47cdea48",
   "metadata": {},
   "outputs": [],
   "source": [
    "images = driver.find_elements_by_xpath('//img[@class=\"rg_i Q4LuWd\"]')"
   ]
  },
  {
   "cell_type": "code",
   "execution_count": 69,
   "id": "d23957c6",
   "metadata": {},
   "outputs": [],
   "source": [
    "img_urls_machine_learning=[]"
   ]
  },
  {
   "cell_type": "code",
   "execution_count": 70,
   "id": "cea28160",
   "metadata": {},
   "outputs": [],
   "source": [
    "for image in images:\n",
    "    source= image.get_attribute('src')\n",
    "if source is not None:\n",
    "    if(source[0:4] == 'http'):\n",
    "        img_urls_machine_learning.append(source)\n",
    " \n",
    " \n",
    "for i in range(len(img_urls_machine_learning)):\n",
    "    if i >= 100:\n",
    "        break\n",
    "    print(\"Downloading {0} of {1} images\" .format(i, 100))\n",
    "    response= requests.get(img_urls_machine_learning[i])"
   ]
  },
  {
   "cell_type": "code",
   "execution_count": 75,
   "id": "a997528c",
   "metadata": {},
   "outputs": [
    {
     "name": "stdout",
     "output_type": "stream",
     "text": [
      "Downloading 0 of 100 images\n"
     ]
    }
   ],
   "source": [
    "print(\"Downloading {0} of {1} images\" .format(i, 100))"
   ]
  },
  {
   "cell_type": "code",
   "execution_count": 76,
   "id": "10f491e4",
   "metadata": {},
   "outputs": [],
   "source": [
    "img_urls_machine_learning=[]"
   ]
  },
  {
   "cell_type": "code",
   "execution_count": 79,
   "id": "f8acb213",
   "metadata": {},
   "outputs": [],
   "source": [
    "images = driver.find_elements_by_xpath('//img[@class=\"rg_i Q4LuWd\"]')\n",
    "\n",
    "for image in images:\n",
    "    image.get_attribute('src')\n",
    "    img_urls_machine_learning.append(images)\n",
    "for i in range(len(img_urls_machine_learning)):\n",
    "    if i >= 100:\n",
    "        break"
   ]
  },
  {
   "cell_type": "code",
   "execution_count": 95,
   "id": "0c92648b",
   "metadata": {},
   "outputs": [
    {
     "data": {
      "text/plain": [
       "400"
      ]
     },
     "execution_count": 95,
     "metadata": {},
     "output_type": "execute_result"
    }
   ],
   "source": [
    "len(img_urls_machine_learning)"
   ]
  },
  {
   "cell_type": "code",
   "execution_count": 128,
   "id": "b173589e",
   "metadata": {},
   "outputs": [
    {
     "data": {
      "text/html": [
       "<div>\n",
       "<style scoped>\n",
       "    .dataframe tbody tr th:only-of-type {\n",
       "        vertical-align: middle;\n",
       "    }\n",
       "\n",
       "    .dataframe tbody tr th {\n",
       "        vertical-align: top;\n",
       "    }\n",
       "\n",
       "    .dataframe thead th {\n",
       "        text-align: right;\n",
       "    }\n",
       "</style>\n",
       "<table border=\"1\" class=\"dataframe\">\n",
       "  <thead>\n",
       "    <tr style=\"text-align: right;\">\n",
       "      <th></th>\n",
       "      <th>img_urls_fruits</th>\n",
       "      <th>img_urls_cars</th>\n",
       "      <th>img_urls_machine_lerning</th>\n",
       "    </tr>\n",
       "  </thead>\n",
       "  <tbody>\n",
       "    <tr>\n",
       "      <th>0</th>\n",
       "      <td>[&lt;selenium.webdriver.remote.webelement.WebElem...</td>\n",
       "      <td>[&lt;selenium.webdriver.remote.webelement.WebElem...</td>\n",
       "      <td>[&lt;selenium.webdriver.remote.webelement.WebElem...</td>\n",
       "    </tr>\n",
       "    <tr>\n",
       "      <th>1</th>\n",
       "      <td>[&lt;selenium.webdriver.remote.webelement.WebElem...</td>\n",
       "      <td>[&lt;selenium.webdriver.remote.webelement.WebElem...</td>\n",
       "      <td>[&lt;selenium.webdriver.remote.webelement.WebElem...</td>\n",
       "    </tr>\n",
       "    <tr>\n",
       "      <th>2</th>\n",
       "      <td>[&lt;selenium.webdriver.remote.webelement.WebElem...</td>\n",
       "      <td>[&lt;selenium.webdriver.remote.webelement.WebElem...</td>\n",
       "      <td>[&lt;selenium.webdriver.remote.webelement.WebElem...</td>\n",
       "    </tr>\n",
       "    <tr>\n",
       "      <th>3</th>\n",
       "      <td>[&lt;selenium.webdriver.remote.webelement.WebElem...</td>\n",
       "      <td>[&lt;selenium.webdriver.remote.webelement.WebElem...</td>\n",
       "      <td>[&lt;selenium.webdriver.remote.webelement.WebElem...</td>\n",
       "    </tr>\n",
       "    <tr>\n",
       "      <th>4</th>\n",
       "      <td>[&lt;selenium.webdriver.remote.webelement.WebElem...</td>\n",
       "      <td>[&lt;selenium.webdriver.remote.webelement.WebElem...</td>\n",
       "      <td>[&lt;selenium.webdriver.remote.webelement.WebElem...</td>\n",
       "    </tr>\n",
       "  </tbody>\n",
       "</table>\n",
       "</div>"
      ],
      "text/plain": [
       "                                     img_urls_fruits  \\\n",
       "0  [<selenium.webdriver.remote.webelement.WebElem...   \n",
       "1  [<selenium.webdriver.remote.webelement.WebElem...   \n",
       "2  [<selenium.webdriver.remote.webelement.WebElem...   \n",
       "3  [<selenium.webdriver.remote.webelement.WebElem...   \n",
       "4  [<selenium.webdriver.remote.webelement.WebElem...   \n",
       "\n",
       "                                       img_urls_cars  \\\n",
       "0  [<selenium.webdriver.remote.webelement.WebElem...   \n",
       "1  [<selenium.webdriver.remote.webelement.WebElem...   \n",
       "2  [<selenium.webdriver.remote.webelement.WebElem...   \n",
       "3  [<selenium.webdriver.remote.webelement.WebElem...   \n",
       "4  [<selenium.webdriver.remote.webelement.WebElem...   \n",
       "\n",
       "                            img_urls_machine_lerning  \n",
       "0  [<selenium.webdriver.remote.webelement.WebElem...  \n",
       "1  [<selenium.webdriver.remote.webelement.WebElem...  \n",
       "2  [<selenium.webdriver.remote.webelement.WebElem...  \n",
       "3  [<selenium.webdriver.remote.webelement.WebElem...  \n",
       "4  [<selenium.webdriver.remote.webelement.WebElem...  "
      ]
     },
     "execution_count": 128,
     "metadata": {},
     "output_type": "execute_result"
    }
   ],
   "source": [
    "import pandas as pd\n",
    "images_links=pd.DataFrame({})\n",
    "images_links['img_urls_fruits']=img_urls[:100]\n",
    "images_links['img_urls_cars']=img_urls_cars[0:100]\n",
    "images_links['img_urls_machine_lerning']=img_urls_machine_learning[0:100]\n",
    "images_links.head()"
   ]
  },
  {
   "cell_type": "markdown",
   "id": "18bef51b",
   "metadata": {},
   "source": [
    "4. Write a python program to search for a smartphone(e.g.: Oneplus Nord, pixel 4A, etc.) on \n",
    "www.flipkart.com and scrape following details for all the search results displayed on 1st page. \n",
    "Details to be scraped: “Brand Name”, “Smartphone name”, “Colour”, “RAM”, \n",
    "“Storage(ROM)”, “Primary Camera”, “Secondary Camera”, “Display Size”, “Display \n",
    "Resolution”, “Processor”, “Processor Cores”, “Battery Capacity”, “Price”, “Product URL”. \n",
    "Incase if any of the details is missing then replace it by “- “. Save your results in a dataframe \n",
    "and CSV.\n"
   ]
  },
  {
   "cell_type": "code",
   "execution_count": 314,
   "id": "27bdd6e3",
   "metadata": {},
   "outputs": [],
   "source": [
    "#lets first connect to the web driver\n",
    "driver=webdriver.Edge(\"msedgedriver.exe\")"
   ]
  },
  {
   "cell_type": "code",
   "execution_count": 315,
   "id": "32f41bf7",
   "metadata": {},
   "outputs": [],
   "source": [
    "url='https://www.flipkart.com/'\n",
    "driver.get(url)"
   ]
  },
  {
   "cell_type": "code",
   "execution_count": 316,
   "id": "0c14e3b6",
   "metadata": {},
   "outputs": [],
   "source": [
    "#find the serch bar elements by xpath\n",
    "search_bar = driver.find_element_by_xpath('//input[@class=\"_3704LK\"]') \n"
   ]
  },
  {
   "cell_type": "code",
   "execution_count": 317,
   "id": "b7d42a48",
   "metadata": {},
   "outputs": [],
   "source": [
    "search_bar.clear()"
   ]
  },
  {
   "cell_type": "code",
   "execution_count": 318,
   "id": "ab6c47c8",
   "metadata": {},
   "outputs": [],
   "source": [
    "#write on search bar\n",
    "search_bar.send_keys(\"Oneplus Nord, pixel 4A\")"
   ]
  },
  {
   "cell_type": "code",
   "execution_count": 320,
   "id": "84c1c2b3",
   "metadata": {},
   "outputs": [],
   "source": [
    "search_btn=driver.find_element_by_xpath('//button[@class=\"L0Z3Pu\"]')\n",
    "search_btn.click()"
   ]
  },
  {
   "cell_type": "code",
   "execution_count": 287,
   "id": "1e4c7976",
   "metadata": {},
   "outputs": [],
   "source": [
    "mobile_urls = []\n",
    "urls = driver.find_elements_by_xpath('//a[@class=\"_1fQZEK\"]')\n",
    "for url in urls:\n",
    "    mobile_urls.append(url.get_attribute(\"href\"))"
   ]
  },
  {
   "cell_type": "code",
   "execution_count": 289,
   "id": "1734e062",
   "metadata": {},
   "outputs": [
    {
     "data": {
      "text/plain": [
       "16"
      ]
     },
     "execution_count": 289,
     "metadata": {},
     "output_type": "execute_result"
    }
   ],
   "source": [
    "len(mobile_urls)"
   ]
  },
  {
   "cell_type": "code",
   "execution_count": 290,
   "id": "5ff9af77",
   "metadata": {},
   "outputs": [
    {
     "name": "stdout",
     "output_type": "stream",
     "text": [
      "Exception Occured. Moving to next page\n"
     ]
    }
   ],
   "source": [
    "try:\n",
    "    read_more = driver.find_element_by_xpath('//button[@class=\"_2KpZ6l _1FH0tX\"]') \n",
    "# Button for expanding the specs\n",
    "    read_more.click()\n",
    "except NoSuchElementException:\n",
    "    print(\"Exception Occured. Moving to next page\")"
   ]
  },
  {
   "cell_type": "code",
   "execution_count": 321,
   "id": "2fb19a64",
   "metadata": {},
   "outputs": [],
   "source": [
    "Brand_name=[]\n",
    "Smartphone_name=[]\n",
    "Colour=[]\n",
    "RAM=[]\n",
    "Storage_Rom=[]\n",
    "Primary_camera=[]\n",
    "Secondary_camera=[]\n",
    "Display_size=[]\n",
    "Dispaly_resolution=[]\n",
    "Processor=[]\n",
    "Processor_cores=[]\n",
    "Battery_capacity=[]\n",
    "Price=[]\n"
   ]
  },
  {
   "cell_type": "code",
   "execution_count": 333,
   "id": "56567f52",
   "metadata": {},
   "outputs": [],
   "source": [
    "for url in mobile_urls:\n",
    "    driver.get(url)\n",
    "    time.sleep(2)\n",
    "#Extracting Brand from xpath\n",
    "    try:\n",
    "        brand=driver.find_element_by_xpath('//span[@class=\"B_NuCI\"]')  \n",
    "        Brand_name.append(brand.text.split()[0])\n",
    "    except NoSuchElementException:\n",
    "        Brand_name.append('-')\n",
    "    time.sleep(1)\n"
   ]
  },
  {
   "cell_type": "code",
   "execution_count": 334,
   "id": "ab0ada8c",
   "metadata": {},
   "outputs": [
    {
     "data": {
      "text/plain": [
       "['ringme',\n",
       " 'ringme',\n",
       " 'SAMSUNG',\n",
       " 'Micromax',\n",
       " 'KARBONN',\n",
       " 'LAVA',\n",
       " 'LAVA',\n",
       " 'LAVA',\n",
       " 'Phicomm',\n",
       " 'Smart',\n",
       " 'I',\n",
       " 'Smart',\n",
       " 'Reach',\n",
       " 'Nokia',\n",
       " 'Micromax',\n",
       " 'Zopo']"
      ]
     },
     "execution_count": 334,
     "metadata": {},
     "output_type": "execute_result"
    }
   ],
   "source": [
    "Brand_name"
   ]
  },
  {
   "cell_type": "code",
   "execution_count": 335,
   "id": "3bcb423c",
   "metadata": {},
   "outputs": [
    {
     "data": {
      "text/plain": [
       "16"
      ]
     },
     "execution_count": 335,
     "metadata": {},
     "output_type": "execute_result"
    }
   ],
   "source": [
    "len(Brand_name)"
   ]
  },
  {
   "cell_type": "code",
   "execution_count": 336,
   "id": "d26532dd",
   "metadata": {},
   "outputs": [],
   "source": [
    "for url in mobile_urls:\n",
    "    driver.get(url)\n",
    "    time.sleep(2)\n",
    "# Extracting name from xpath\n",
    "    try:\n",
    "        name = driver.find_element_by_xpath('//div[@class=\"_3k-BhJ\"][1]/table/tbody/tr[3]/td[2]/ul/li')\n",
    "        Smartphone_name.append(name.text)\n",
    "    except NoSuchElementException:\n",
    "        Smartphone_name.append('-')\n",
    "    time.sleep(1)"
   ]
  },
  {
   "cell_type": "code",
   "execution_count": 337,
   "id": "a8e4052a",
   "metadata": {},
   "outputs": [
    {
     "data": {
      "text/plain": [
       "['Reno Plus',\n",
       " 'Reno Plus',\n",
       " 'Galaxy S10 Plus',\n",
       " '-',\n",
       " 'Titanium S9 plus',\n",
       " 'Pixel V2 Plus',\n",
       " 'Pixel V2 Plus',\n",
       " 'Pixel V2 Plus',\n",
       " 'Clue 3 Plus VoLTE',\n",
       " 'L4 POWER Combo of 2',\n",
       " 'K 8 NEw / K-8Plus',\n",
       " 'L4 FIRE',\n",
       " 'Cogent+',\n",
       " '5.1 Plus',\n",
       " 'CANVAS 2 PLUS',\n",
       " 'Flash X Plus']"
      ]
     },
     "execution_count": 337,
     "metadata": {},
     "output_type": "execute_result"
    }
   ],
   "source": [
    "Smartphone_name"
   ]
  },
  {
   "cell_type": "code",
   "execution_count": 338,
   "id": "f08324a6",
   "metadata": {},
   "outputs": [
    {
     "data": {
      "text/plain": [
       "16"
      ]
     },
     "execution_count": 338,
     "metadata": {},
     "output_type": "execute_result"
    }
   ],
   "source": [
    "len(Smartphone_name)"
   ]
  },
  {
   "cell_type": "code",
   "execution_count": 339,
   "id": "018998b4",
   "metadata": {},
   "outputs": [],
   "source": [
    "for url in mobile_urls:\n",
    "    driver.get(url)\n",
    "    time.sleep(2)\n",
    "# Extracting price from xpath\n",
    "    try:\n",
    "        price = driver.find_element_by_xpath('//div[@class=\"_30jeq3 _16Jk6d\"]') \n",
    "        Price.append(price.text)\n",
    "    except NoSuchElementException:\n",
    "        Price.append('-')\n",
    "    time.sleep(1)"
   ]
  },
  {
   "cell_type": "code",
   "execution_count": 340,
   "id": "77d4e5a4",
   "metadata": {},
   "outputs": [
    {
     "data": {
      "text/plain": [
       "['₹4,799',\n",
       " '₹5,469',\n",
       " '₹1,17,990',\n",
       " '₹5,500',\n",
       " '₹6,149',\n",
       " '₹8,999',\n",
       " '₹7,290',\n",
       " '₹6,199',\n",
       " '₹5,509',\n",
       " '₹1,375',\n",
       " '₹4,429',\n",
       " '₹748',\n",
       " '₹2,750',\n",
       " '₹9,900',\n",
       " '₹7,409',\n",
       " '₹4,949']"
      ]
     },
     "execution_count": 340,
     "metadata": {},
     "output_type": "execute_result"
    }
   ],
   "source": [
    "Price"
   ]
  },
  {
   "cell_type": "code",
   "execution_count": 341,
   "id": "bc0980be",
   "metadata": {},
   "outputs": [
    {
     "data": {
      "text/plain": [
       "16"
      ]
     },
     "execution_count": 341,
     "metadata": {},
     "output_type": "execute_result"
    }
   ],
   "source": [
    "len(Price)"
   ]
  },
  {
   "cell_type": "code",
   "execution_count": null,
   "id": "0a80dbdb",
   "metadata": {},
   "outputs": [],
   "source": []
  },
  {
   "cell_type": "code",
   "execution_count": 342,
   "id": "5a5ed9a2",
   "metadata": {},
   "outputs": [],
   "source": [
    "for url in mobile_urls:\n",
    "    driver.get(url)\n",
    "    time.sleep(2)\n",
    "    \n",
    "# Extracting color from xpath\n",
    "    try:\n",
    "        color = driver.find_element_by_xpath('//div[@class=\"_3k-BhJ\"][1]/table/tbody/tr[4]/td[2]/ul/li') \n",
    "        Colour.append(color.text)\n",
    "    except NoSuchElementException:\n",
    "        Colour.append('-')\n",
    "    time.sleep(1)\n",
    "    "
   ]
  },
  {
   "cell_type": "code",
   "execution_count": 343,
   "id": "0f4522bc",
   "metadata": {},
   "outputs": [
    {
     "data": {
      "text/plain": [
       "['Red',\n",
       " 'Blue',\n",
       " 'Ceramic White',\n",
       " '-',\n",
       " 'Blue',\n",
       " 'White',\n",
       " 'Black',\n",
       " 'Black',\n",
       " 'Gold',\n",
       " 'Black',\n",
       " 'Red',\n",
       " 'Black',\n",
       " 'Orange',\n",
       " 'Blue',\n",
       " 'jet black',\n",
       " 'Rose Gold']"
      ]
     },
     "execution_count": 343,
     "metadata": {},
     "output_type": "execute_result"
    }
   ],
   "source": [
    "Colour"
   ]
  },
  {
   "cell_type": "code",
   "execution_count": 344,
   "id": "82bb5f58",
   "metadata": {},
   "outputs": [
    {
     "data": {
      "text/plain": [
       "16"
      ]
     },
     "execution_count": 344,
     "metadata": {},
     "output_type": "execute_result"
    }
   ],
   "source": [
    "len(Colour)"
   ]
  },
  {
   "cell_type": "code",
   "execution_count": 328,
   "id": "055dc934",
   "metadata": {},
   "outputs": [],
   "source": [
    "for url in mobile_urls:\n",
    "    driver.get(url)\n",
    "    time.sleep(2)\n",
    "try:\n",
    "    disp_size = driver.find_element_by_xpath('//div[@class=\"_3k-BhJ\"][2]/div[1]/table[1]/tbody/tr[1]/td[2]/ul/li')\n",
    "    Display_size.append(disp_size.text)\n",
    "except NoSuchElementException:\n",
    "    Display_size.append('-')"
   ]
  },
  {
   "cell_type": "code",
   "execution_count": 330,
   "id": "e3bd2064",
   "metadata": {},
   "outputs": [
    {
     "data": {
      "text/plain": [
       "['', '', '-', '-']"
      ]
     },
     "execution_count": 330,
     "metadata": {},
     "output_type": "execute_result"
    }
   ],
   "source": [
    "Display_size"
   ]
  },
  {
   "cell_type": "code",
   "execution_count": 345,
   "id": "2c9079ce",
   "metadata": {},
   "outputs": [
    {
     "data": {
      "text/html": [
       "<div>\n",
       "<style scoped>\n",
       "    .dataframe tbody tr th:only-of-type {\n",
       "        vertical-align: middle;\n",
       "    }\n",
       "\n",
       "    .dataframe tbody tr th {\n",
       "        vertical-align: top;\n",
       "    }\n",
       "\n",
       "    .dataframe thead th {\n",
       "        text-align: right;\n",
       "    }\n",
       "</style>\n",
       "<table border=\"1\" class=\"dataframe\">\n",
       "  <thead>\n",
       "    <tr style=\"text-align: right;\">\n",
       "      <th></th>\n",
       "      <th>Brand_name</th>\n",
       "      <th>Smartphone_name</th>\n",
       "      <th>Price</th>\n",
       "      <th>Colour</th>\n",
       "    </tr>\n",
       "  </thead>\n",
       "  <tbody>\n",
       "    <tr>\n",
       "      <th>0</th>\n",
       "      <td>ringme</td>\n",
       "      <td>Reno Plus</td>\n",
       "      <td>₹4,799</td>\n",
       "      <td>Red</td>\n",
       "    </tr>\n",
       "    <tr>\n",
       "      <th>1</th>\n",
       "      <td>ringme</td>\n",
       "      <td>Reno Plus</td>\n",
       "      <td>₹5,469</td>\n",
       "      <td>Blue</td>\n",
       "    </tr>\n",
       "    <tr>\n",
       "      <th>2</th>\n",
       "      <td>SAMSUNG</td>\n",
       "      <td>Galaxy S10 Plus</td>\n",
       "      <td>₹1,17,990</td>\n",
       "      <td>Ceramic White</td>\n",
       "    </tr>\n",
       "    <tr>\n",
       "      <th>3</th>\n",
       "      <td>Micromax</td>\n",
       "      <td>-</td>\n",
       "      <td>₹5,500</td>\n",
       "      <td>-</td>\n",
       "    </tr>\n",
       "    <tr>\n",
       "      <th>4</th>\n",
       "      <td>KARBONN</td>\n",
       "      <td>Titanium S9 plus</td>\n",
       "      <td>₹6,149</td>\n",
       "      <td>Blue</td>\n",
       "    </tr>\n",
       "    <tr>\n",
       "      <th>5</th>\n",
       "      <td>LAVA</td>\n",
       "      <td>Pixel V2 Plus</td>\n",
       "      <td>₹8,999</td>\n",
       "      <td>White</td>\n",
       "    </tr>\n",
       "    <tr>\n",
       "      <th>6</th>\n",
       "      <td>LAVA</td>\n",
       "      <td>Pixel V2 Plus</td>\n",
       "      <td>₹7,290</td>\n",
       "      <td>Black</td>\n",
       "    </tr>\n",
       "    <tr>\n",
       "      <th>7</th>\n",
       "      <td>LAVA</td>\n",
       "      <td>Pixel V2 Plus</td>\n",
       "      <td>₹6,199</td>\n",
       "      <td>Black</td>\n",
       "    </tr>\n",
       "    <tr>\n",
       "      <th>8</th>\n",
       "      <td>Phicomm</td>\n",
       "      <td>Clue 3 Plus VoLTE</td>\n",
       "      <td>₹5,509</td>\n",
       "      <td>Gold</td>\n",
       "    </tr>\n",
       "    <tr>\n",
       "      <th>9</th>\n",
       "      <td>Smart</td>\n",
       "      <td>L4 POWER Combo of 2</td>\n",
       "      <td>₹1,375</td>\n",
       "      <td>Black</td>\n",
       "    </tr>\n",
       "    <tr>\n",
       "      <th>10</th>\n",
       "      <td>I</td>\n",
       "      <td>K 8 NEw / K-8Plus</td>\n",
       "      <td>₹4,429</td>\n",
       "      <td>Red</td>\n",
       "    </tr>\n",
       "    <tr>\n",
       "      <th>11</th>\n",
       "      <td>Smart</td>\n",
       "      <td>L4 FIRE</td>\n",
       "      <td>₹748</td>\n",
       "      <td>Black</td>\n",
       "    </tr>\n",
       "    <tr>\n",
       "      <th>12</th>\n",
       "      <td>Reach</td>\n",
       "      <td>Cogent+</td>\n",
       "      <td>₹2,750</td>\n",
       "      <td>Orange</td>\n",
       "    </tr>\n",
       "    <tr>\n",
       "      <th>13</th>\n",
       "      <td>Nokia</td>\n",
       "      <td>5.1 Plus</td>\n",
       "      <td>₹9,900</td>\n",
       "      <td>Blue</td>\n",
       "    </tr>\n",
       "    <tr>\n",
       "      <th>14</th>\n",
       "      <td>Micromax</td>\n",
       "      <td>CANVAS 2 PLUS</td>\n",
       "      <td>₹7,409</td>\n",
       "      <td>jet black</td>\n",
       "    </tr>\n",
       "    <tr>\n",
       "      <th>15</th>\n",
       "      <td>Zopo</td>\n",
       "      <td>Flash X Plus</td>\n",
       "      <td>₹4,949</td>\n",
       "      <td>Rose Gold</td>\n",
       "    </tr>\n",
       "  </tbody>\n",
       "</table>\n",
       "</div>"
      ],
      "text/plain": [
       "   Brand_name      Smartphone_name      Price         Colour\n",
       "0      ringme            Reno Plus     ₹4,799            Red\n",
       "1      ringme            Reno Plus     ₹5,469           Blue\n",
       "2     SAMSUNG      Galaxy S10 Plus  ₹1,17,990  Ceramic White\n",
       "3    Micromax                    -     ₹5,500              -\n",
       "4     KARBONN     Titanium S9 plus     ₹6,149           Blue\n",
       "5        LAVA        Pixel V2 Plus     ₹8,999          White\n",
       "6        LAVA        Pixel V2 Plus     ₹7,290          Black\n",
       "7        LAVA        Pixel V2 Plus     ₹6,199          Black\n",
       "8     Phicomm    Clue 3 Plus VoLTE     ₹5,509           Gold\n",
       "9       Smart  L4 POWER Combo of 2     ₹1,375          Black\n",
       "10          I    K 8 NEw / K-8Plus     ₹4,429            Red\n",
       "11      Smart              L4 FIRE       ₹748          Black\n",
       "12      Reach              Cogent+     ₹2,750         Orange\n",
       "13      Nokia             5.1 Plus     ₹9,900           Blue\n",
       "14   Micromax        CANVAS 2 PLUS     ₹7,409      jet black\n",
       "15       Zopo         Flash X Plus     ₹4,949      Rose Gold"
      ]
     },
     "execution_count": 345,
     "metadata": {},
     "output_type": "execute_result"
    }
   ],
   "source": [
    "import pandas as pd\n",
    "mobile_details=pd.DataFrame({})\n",
    "mobile_details['Brand_name']=Brand_name\n",
    "mobile_details['Smartphone_name']=Smartphone_name\n",
    "mobile_details['Price']=Price\n",
    "mobile_details[\"Colour\"]=Colour\n",
    "mobile_details"
   ]
  },
  {
   "cell_type": "markdown",
   "id": "f992579d",
   "metadata": {},
   "source": [
    "5. Write a program to scrap geospatial coordinates (latitude, longitude) of a city searched on \n",
    "google maps.\n"
   ]
  },
  {
   "cell_type": "code",
   "execution_count": 176,
   "id": "c4c62877",
   "metadata": {},
   "outputs": [],
   "source": [
    "#lets first connect to the web driver\n",
    "driver=webdriver.Edge(\"msedgedriver.exe\")"
   ]
  },
  {
   "cell_type": "code",
   "execution_count": 177,
   "id": "2590c137",
   "metadata": {},
   "outputs": [],
   "source": [
    "url=\"https://www.google.co.in/maps\"\n",
    "driver.get(url)"
   ]
  },
  {
   "cell_type": "code",
   "execution_count": 178,
   "id": "a78d4030",
   "metadata": {},
   "outputs": [],
   "source": [
    "#find the serch bar elements by id\n",
    "search_bar = driver.find_element_by_id(\"searchboxinput\") \n"
   ]
  },
  {
   "cell_type": "code",
   "execution_count": 179,
   "id": "22407ca7",
   "metadata": {},
   "outputs": [],
   "source": [
    "search_bar.clear()"
   ]
  },
  {
   "cell_type": "code",
   "execution_count": 180,
   "id": "1fb607ab",
   "metadata": {},
   "outputs": [],
   "source": [
    "#write on search bar\n",
    "search_bar.send_keys(\"Pune\")"
   ]
  },
  {
   "cell_type": "code",
   "execution_count": 181,
   "id": "a317ad3e",
   "metadata": {},
   "outputs": [],
   "source": [
    "search_btn=driver.find_element_by_id(\"searchbox-searchbutton\")\n",
    "search_btn.click()"
   ]
  },
  {
   "cell_type": "code",
   "execution_count": 184,
   "id": "da2dfe85",
   "metadata": {},
   "outputs": [
    {
     "name": "stdout",
     "output_type": "stream",
     "text": [
      "URL Scraped :  https://www.google.co.in/maps/place/Pune,+Maharashtra/@18.5245649,73.7228803,11z/data=!3m1!4b1!4m5!3m4!1s0x3bc2bf2e67461101:0x828d43bf9d9ee343!8m2!3d18.5204303!4d73.8567437\n",
      "Latitude = 18.5245649, Longitude = 73.7228803\n"
     ]
    }
   ],
   "source": [
    "try:\n",
    "    url_string = driver.current_url\n",
    "    print(\"URL Scraped : \", url_string)\n",
    "    lat_lng = re.findall(r'@(.*)data',url_string)\n",
    "    if len(lat_lng):\n",
    "        lat_lng_list = lat_lng[0].split(\",\")\n",
    "        if len(lat_lng_list)>=2:\n",
    "            lat = lat_lng_list[0]\n",
    "            lng = lat_lng_list[1]\n",
    "            print(\"Latitude = {}, Longitude = {}\".format(lat, lng))\n",
    "except Exception as e:\n",
    "           print(\"Error: \", str(e))"
   ]
  },
  {
   "cell_type": "markdown",
   "id": "d51df36c",
   "metadata": {},
   "source": [
    "6. Write a program to scrap details of all the funding deals for second quarter (i.e. July 20 –\n",
    "September 20) from trak.in"
   ]
  },
  {
   "cell_type": "code",
   "execution_count": 185,
   "id": "64fa9075",
   "metadata": {},
   "outputs": [],
   "source": [
    "#lets first connect to the web driver\n",
    "driver=webdriver.Edge(\"msedgedriver.exe\")"
   ]
  },
  {
   "cell_type": "code",
   "execution_count": 186,
   "id": "1489d4ff",
   "metadata": {},
   "outputs": [],
   "source": [
    "url=\"https://trak.in/\"\n",
    "driver.get(url)"
   ]
  },
  {
   "cell_type": "code",
   "execution_count": 188,
   "id": "f54e879d",
   "metadata": {},
   "outputs": [],
   "source": [
    "#find the serch bar elements by xpath\n",
    "button = driver.find_element_by_xpath('//li[@id=\"menu-item-51510\"]/a').get_attribute('href')\n",
    "driver.get(button) \n"
   ]
  },
  {
   "cell_type": "code",
   "execution_count": 190,
   "id": "85d63d76",
   "metadata": {},
   "outputs": [],
   "source": [
    "# Empty lists\n",
    "fund_dict = {}\n",
    "fund_dict['Date'] = []\n",
    "fund_dict['Startup Name'] = []\n",
    "fund_dict['Industry/Vertical'] = []\n",
    "fund_dict['Sub-Vertical'] = []\n",
    "fund_dict['Location'] = []\n",
    "fund_dict['Investor'] = []\n",
    "fund_dict['Investment Type'] = []\n",
    "fund_dict['Amount(in USD)'] = []"
   ]
  },
  {
   "cell_type": "code",
   "execution_count": 192,
   "id": "b60dfb51",
   "metadata": {},
   "outputs": [],
   "source": [
    "for i in range(48,51):\n",
    "    #Date\n",
    "    dt = driver.find_elements_by_xpath('//table[@id=\"tablepress-{}\"]/tbody/tr/td[2]'.format(i)) \n",
    "    for d in dt:\n",
    "        fund_dict['Date'].append(d.text)\n",
    "                                    \n",
    "    #Startup Name\n",
    "    sn = driver.find_elements_by_xpath('//table[@id=\"tablepress-{}\"]/tbody/tr/td[3]'.format(i))\n",
    "    for n in sn:\n",
    "        fund_dict['Startup Name'].append(n.text)\n",
    " \n",
    "    #Industry/Vertical\n",
    "    ind = driver.find_elements_by_xpath('//table[@id=\"tablepress-{}\"]/tbody/tr/td[4]'.format(i))\n",
    "    for n in ind:\n",
    "        fund_dict['Industry/Vertical'].append(n.text)\n",
    " \n",
    "    #Sub-Vertical\n",
    "    sv = driver.find_elements_by_xpath('//table[@id=\"tablepress-{}\"]/tbody/tr/td[5]'.format(i))\n",
    "    for s in sv:\n",
    "        fund_dict['Sub-Vertical'].append(s.text)\n",
    "    \n",
    "    #Location\n",
    "    loc = driver.find_elements_by_xpath('//table[@id=\"tablepress-{}\"]/tbody/tr/td[6]'.format(i))\n",
    "    for l in loc:\n",
    "        fund_dict['Location'].append(l.text)\n",
    " \n",
    "    #Investor\n",
    "    inv = driver.find_elements_by_xpath('//table[@id=\"tablepress-{}\"]/tbody/tr/td[7]'.format(i))\n",
    "    for n in inv:\n",
    "        fund_dict['Investor'].append(n.text)\n",
    " \n",
    "    #Investment Type\n",
    "    invt = driver.find_elements_by_xpath('//table[@id=\"tablepress-{}\"]/tbody/tr/td[8]'.format(i))\n",
    "    for n in invt:\n",
    "        fund_dict['Investment Type'].append(n.text)\n",
    " \n",
    "    #Amount(in USD) \n",
    "    amt = driver.find_elements_by_xpath('//table[@id=\"tablepress-{}\"]/tbody/tr/td[9]'.format(i))\n",
    "    for a in amt:\n",
    "        fund_dict['Amount(in USD)'].append(a.text)"
   ]
  },
  {
   "cell_type": "code",
   "execution_count": 193,
   "id": "d472e4a6",
   "metadata": {},
   "outputs": [
    {
     "data": {
      "text/html": [
       "<div>\n",
       "<style scoped>\n",
       "    .dataframe tbody tr th:only-of-type {\n",
       "        vertical-align: middle;\n",
       "    }\n",
       "\n",
       "    .dataframe tbody tr th {\n",
       "        vertical-align: top;\n",
       "    }\n",
       "\n",
       "    .dataframe thead th {\n",
       "        text-align: right;\n",
       "    }\n",
       "</style>\n",
       "<table border=\"1\" class=\"dataframe\">\n",
       "  <thead>\n",
       "    <tr style=\"text-align: right;\">\n",
       "      <th></th>\n",
       "      <th>Date</th>\n",
       "      <th>Startup Name</th>\n",
       "      <th>Industry/Vertical</th>\n",
       "      <th>Sub-Vertical</th>\n",
       "      <th>Location</th>\n",
       "      <th>Investor</th>\n",
       "      <th>Investment Type</th>\n",
       "      <th>Amount(in USD)</th>\n",
       "    </tr>\n",
       "  </thead>\n",
       "  <tbody>\n",
       "    <tr>\n",
       "      <th>0</th>\n",
       "      <td>15/07/2020</td>\n",
       "      <td>Flipkart</td>\n",
       "      <td>E-commerce</td>\n",
       "      <td>E-commerce</td>\n",
       "      <td>Bangalore</td>\n",
       "      <td>Walmart Inc</td>\n",
       "      <td>M&amp;A</td>\n",
       "      <td>1,200,000,000</td>\n",
       "    </tr>\n",
       "    <tr>\n",
       "      <th>1</th>\n",
       "      <td>16/07/2020</td>\n",
       "      <td>Vedantu</td>\n",
       "      <td>EduTech</td>\n",
       "      <td>Online Tutoring</td>\n",
       "      <td>Bangalore</td>\n",
       "      <td>Coatue Management</td>\n",
       "      <td>Series D</td>\n",
       "      <td>100,000,000</td>\n",
       "    </tr>\n",
       "    <tr>\n",
       "      <th>2</th>\n",
       "      <td>16/07/2020</td>\n",
       "      <td>Crio</td>\n",
       "      <td>EduTech</td>\n",
       "      <td>Learning Platform for Developers</td>\n",
       "      <td>Bangalore</td>\n",
       "      <td>021 Capital</td>\n",
       "      <td>pre-Series A</td>\n",
       "      <td>934,160</td>\n",
       "    </tr>\n",
       "    <tr>\n",
       "      <th>3</th>\n",
       "      <td>14/07/2020</td>\n",
       "      <td>goDutch</td>\n",
       "      <td>FinTech</td>\n",
       "      <td>Group Payments</td>\n",
       "      <td>Mumbai</td>\n",
       "      <td>Matrix India,Y Combinator, Global Founders Cap...</td>\n",
       "      <td>Seed</td>\n",
       "      <td>1,700,000</td>\n",
       "    </tr>\n",
       "    <tr>\n",
       "      <th>4</th>\n",
       "      <td>13/07/2020</td>\n",
       "      <td>Mystifly</td>\n",
       "      <td>Airfare Marketplace</td>\n",
       "      <td>Ticketing, Airline Retailing, and Post-Ticketi...</td>\n",
       "      <td>Singapore and Bangalore</td>\n",
       "      <td>Recruit Co. Ltd.</td>\n",
       "      <td>pre-Series B</td>\n",
       "      <td>3,300,000</td>\n",
       "    </tr>\n",
       "    <tr>\n",
       "      <th>5</th>\n",
       "      <td>09/07/2020</td>\n",
       "      <td>JetSynthesys</td>\n",
       "      <td>Gaming and Entertainment</td>\n",
       "      <td>Gaming and Entertainment</td>\n",
       "      <td>Pune</td>\n",
       "      <td>Adar Poonawalla and Kris Gopalakrishnan.</td>\n",
       "      <td>Venture-Series Unknown</td>\n",
       "      <td>400,000</td>\n",
       "    </tr>\n",
       "    <tr>\n",
       "      <th>6</th>\n",
       "      <td>10/07/2020</td>\n",
       "      <td>gigIndia</td>\n",
       "      <td>Marketplace</td>\n",
       "      <td>Crowd Sourcing, Freelance</td>\n",
       "      <td>Pune</td>\n",
       "      <td>Incubate Fund India and Beyond Next Ventures</td>\n",
       "      <td>pre-Series A</td>\n",
       "      <td>974,200</td>\n",
       "    </tr>\n",
       "    <tr>\n",
       "      <th>7</th>\n",
       "      <td>15/07/2020</td>\n",
       "      <td>PumPumPum</td>\n",
       "      <td>Automotive Rental</td>\n",
       "      <td>Used Car-leasing platform</td>\n",
       "      <td>Gurgaon</td>\n",
       "      <td>Early Adapters Syndicate</td>\n",
       "      <td>Seed</td>\n",
       "      <td>292,800</td>\n",
       "    </tr>\n",
       "    <tr>\n",
       "      <th>8</th>\n",
       "      <td>14/07/2020</td>\n",
       "      <td>FLYX</td>\n",
       "      <td>OTT Player</td>\n",
       "      <td>Streaming Social Network</td>\n",
       "      <td>New York and Delhi</td>\n",
       "      <td>Raj Mishra, founder of AIT Global Inc</td>\n",
       "      <td>pre-Seed</td>\n",
       "      <td>200,000</td>\n",
       "    </tr>\n",
       "    <tr>\n",
       "      <th>9</th>\n",
       "      <td>13/07/2020</td>\n",
       "      <td>Open Appliances Pvt. Ltd.</td>\n",
       "      <td>Information Technology</td>\n",
       "      <td>Internet-of-Things Security Solutions</td>\n",
       "      <td>Bangalore</td>\n",
       "      <td>Unicorn India Ventures</td>\n",
       "      <td>Venture-Series Unknown</td>\n",
       "      <td>500,000</td>\n",
       "    </tr>\n",
       "    <tr>\n",
       "      <th>10</th>\n",
       "      <td>15/08/2020</td>\n",
       "      <td>Practo</td>\n",
       "      <td>HealthTech</td>\n",
       "      <td>Health care and Wellness</td>\n",
       "      <td>Bangalore</td>\n",
       "      <td>A1A Company</td>\n",
       "      <td>Series F</td>\n",
       "      <td>32,000,000</td>\n",
       "    </tr>\n",
       "    <tr>\n",
       "      <th>11</th>\n",
       "      <td>13/08/2020</td>\n",
       "      <td>Medlife</td>\n",
       "      <td>E-commerce</td>\n",
       "      <td>Online Pharmacy</td>\n",
       "      <td>Bangalore</td>\n",
       "      <td>Prasid Uno Family Trust and SC Credit Fund</td>\n",
       "      <td></td>\n",
       "      <td>23,000,000</td>\n",
       "    </tr>\n",
       "    <tr>\n",
       "      <th>12</th>\n",
       "      <td>13/08/2020</td>\n",
       "      <td>HungerBox</td>\n",
       "      <td>FoodTech</td>\n",
       "      <td>Online Food Delivery Service</td>\n",
       "      <td>Bangalore</td>\n",
       "      <td>One97, Sabre Partners Trust, Pratithi Investme...</td>\n",
       "      <td>Series D1</td>\n",
       "      <td>1,560,000</td>\n",
       "    </tr>\n",
       "    <tr>\n",
       "      <th>13</th>\n",
       "      <td>04/08/2020</td>\n",
       "      <td>Dunzo</td>\n",
       "      <td>Hyper-local Logistics</td>\n",
       "      <td>Online Delivery Services</td>\n",
       "      <td>Bangalore</td>\n",
       "      <td>Existing Backers</td>\n",
       "      <td>In Progress</td>\n",
       "      <td>30,000,000</td>\n",
       "    </tr>\n",
       "    <tr>\n",
       "      <th>14</th>\n",
       "      <td>11/08/2020</td>\n",
       "      <td>Terra.do</td>\n",
       "      <td>EduTech</td>\n",
       "      <td>Online Climate School, E-learning</td>\n",
       "      <td>Stanford, California,</td>\n",
       "      <td>Stanford Angels and Entrepreneurs (India), BEE...</td>\n",
       "      <td>Seed</td>\n",
       "      <td>1,400,000</td>\n",
       "    </tr>\n",
       "    <tr>\n",
       "      <th>15</th>\n",
       "      <td>12/08/2020</td>\n",
       "      <td>Classplus</td>\n",
       "      <td>EduTech</td>\n",
       "      <td>E-learning, Online Tutoring</td>\n",
       "      <td>Noida</td>\n",
       "      <td>Falcon Edge</td>\n",
       "      <td>In Progress</td>\n",
       "      <td>upto 15,000,000</td>\n",
       "    </tr>\n",
       "    <tr>\n",
       "      <th>16</th>\n",
       "      <td>14/08/2020</td>\n",
       "      <td>Niyo</td>\n",
       "      <td>FinTech</td>\n",
       "      <td>Financial Services</td>\n",
       "      <td>Bangalore</td>\n",
       "      <td>Niyo Solutions Inc.</td>\n",
       "      <td></td>\n",
       "      <td>6,000,000</td>\n",
       "    </tr>\n",
       "    <tr>\n",
       "      <th>17</th>\n",
       "      <td>10/08/2020</td>\n",
       "      <td>ZestMoney</td>\n",
       "      <td>FinTech</td>\n",
       "      <td>Financial Services</td>\n",
       "      <td>Bangalore</td>\n",
       "      <td>Primrose Hills Ventures</td>\n",
       "      <td></td>\n",
       "      <td>10,670,000</td>\n",
       "    </tr>\n",
       "    <tr>\n",
       "      <th>18</th>\n",
       "      <td>07/08/2020</td>\n",
       "      <td>FreshToHome</td>\n",
       "      <td>E-commerce</td>\n",
       "      <td>Food Delivery</td>\n",
       "      <td>Bangalore</td>\n",
       "      <td>Ascent Capital</td>\n",
       "      <td>Venture</td>\n",
       "      <td>16,200,000</td>\n",
       "    </tr>\n",
       "    <tr>\n",
       "      <th>19</th>\n",
       "      <td>13/08/2020</td>\n",
       "      <td>Eduvanz</td>\n",
       "      <td>FinTech</td>\n",
       "      <td>Financial Services</td>\n",
       "      <td>Mumbai</td>\n",
       "      <td>Sequoia India, Unitus</td>\n",
       "      <td>Series A</td>\n",
       "      <td>5,000,000</td>\n",
       "    </tr>\n",
       "    <tr>\n",
       "      <th>20</th>\n",
       "      <td>08/09/2020</td>\n",
       "      <td>Byju’s</td>\n",
       "      <td>EduTech</td>\n",
       "      <td>Online Tutoring</td>\n",
       "      <td>Bangalore</td>\n",
       "      <td>Silver Lake, Tiger Global, General Atlantic an...</td>\n",
       "      <td>Private Equity</td>\n",
       "      <td>500,000,000</td>\n",
       "    </tr>\n",
       "    <tr>\n",
       "      <th>21</th>\n",
       "      <td>12/09/2020</td>\n",
       "      <td>mCaffeine</td>\n",
       "      <td>Personal Care</td>\n",
       "      <td>Skincare &amp; Haircare</td>\n",
       "      <td>Mumbai</td>\n",
       "      <td>Amicus Capital Private Equity I LLP, Amicus Ca...</td>\n",
       "      <td>Series B</td>\n",
       "      <td>3,000,000</td>\n",
       "    </tr>\n",
       "    <tr>\n",
       "      <th>22</th>\n",
       "      <td>09/09/2020</td>\n",
       "      <td>Qshala</td>\n",
       "      <td>EduTech</td>\n",
       "      <td>Online Curiosity Platform for Kids</td>\n",
       "      <td>Bangalore</td>\n",
       "      <td>Rainmatter Capital</td>\n",
       "      <td>Angel</td>\n",
       "      <td>370,000</td>\n",
       "    </tr>\n",
       "    <tr>\n",
       "      <th>23</th>\n",
       "      <td>02/09/2020</td>\n",
       "      <td>Winzo</td>\n",
       "      <td>Online Gaming</td>\n",
       "      <td>Online Gaming</td>\n",
       "      <td>New Delhi</td>\n",
       "      <td>Kalaari Capital Partners, IndigoEdge Managemen...</td>\n",
       "      <td>Series B</td>\n",
       "      <td>15,500,000</td>\n",
       "    </tr>\n",
       "    <tr>\n",
       "      <th>24</th>\n",
       "      <td>09/09/2020</td>\n",
       "      <td>Hippo Video</td>\n",
       "      <td>Video Customer Experience(CX) Platform</td>\n",
       "      <td>Video Customer Experience(CX) Platform</td>\n",
       "      <td>Newark, Delaware, United States of Amercia</td>\n",
       "      <td>Alpha Wave Incubation, Exfinity Venture Partne...</td>\n",
       "      <td>Series A</td>\n",
       "      <td>4,500,000</td>\n",
       "    </tr>\n",
       "    <tr>\n",
       "      <th>25</th>\n",
       "      <td>07/09/2020</td>\n",
       "      <td>Melorra</td>\n",
       "      <td>E-commerce</td>\n",
       "      <td>Online Jewelry Store</td>\n",
       "      <td>Bangalore</td>\n",
       "      <td>Shadow Holdings, Lightbox.</td>\n",
       "      <td>Debt Financing</td>\n",
       "      <td>upto 8,900,000</td>\n",
       "    </tr>\n",
       "    <tr>\n",
       "      <th>26</th>\n",
       "      <td>07/09/2020</td>\n",
       "      <td>1mg</td>\n",
       "      <td>E-commerce</td>\n",
       "      <td>Online Pharmacy</td>\n",
       "      <td>Gurgaon</td>\n",
       "      <td>Gaja Capital, Tata Capital, Partners Group</td>\n",
       "      <td>In Progress</td>\n",
       "      <td>100,000,000</td>\n",
       "    </tr>\n",
       "    <tr>\n",
       "      <th>27</th>\n",
       "      <td>31/08/2020</td>\n",
       "      <td>mfine</td>\n",
       "      <td>HealthTech</td>\n",
       "      <td>On-Demand Healthcare Services</td>\n",
       "      <td>Bangalore</td>\n",
       "      <td>Caretech Pte Inc</td>\n",
       "      <td>Series B</td>\n",
       "      <td>5,400,000</td>\n",
       "    </tr>\n",
       "    <tr>\n",
       "      <th>28</th>\n",
       "      <td>31/08/2020</td>\n",
       "      <td>Apna</td>\n",
       "      <td>Human Resources</td>\n",
       "      <td>Recruitment Platform</td>\n",
       "      <td>Bangalore</td>\n",
       "      <td>Lightspeed India and Sequoia Capital India</td>\n",
       "      <td>Series A</td>\n",
       "      <td>8,000,000</td>\n",
       "    </tr>\n",
       "    <tr>\n",
       "      <th>29</th>\n",
       "      <td>03/09/2020</td>\n",
       "      <td>Railofy</td>\n",
       "      <td>Transportation</td>\n",
       "      <td>WL &amp; RAC protection platform</td>\n",
       "      <td>Mumbai</td>\n",
       "      <td>Chiratae Ventures</td>\n",
       "      <td>Seed</td>\n",
       "      <td>950,000</td>\n",
       "    </tr>\n",
       "  </tbody>\n",
       "</table>\n",
       "</div>"
      ],
      "text/plain": [
       "          Date               Startup Name  \\\n",
       "0   15/07/2020                   Flipkart   \n",
       "1   16/07/2020                    Vedantu   \n",
       "2   16/07/2020                       Crio   \n",
       "3   14/07/2020                    goDutch   \n",
       "4   13/07/2020                   Mystifly   \n",
       "5   09/07/2020               JetSynthesys   \n",
       "6   10/07/2020                   gigIndia   \n",
       "7   15/07/2020                  PumPumPum   \n",
       "8   14/07/2020                       FLYX   \n",
       "9   13/07/2020  Open Appliances Pvt. Ltd.   \n",
       "10  15/08/2020                     Practo   \n",
       "11  13/08/2020                    Medlife   \n",
       "12  13/08/2020                  HungerBox   \n",
       "13  04/08/2020                      Dunzo   \n",
       "14  11/08/2020                   Terra.do   \n",
       "15  12/08/2020                  Classplus   \n",
       "16  14/08/2020                       Niyo   \n",
       "17  10/08/2020                  ZestMoney   \n",
       "18  07/08/2020                FreshToHome   \n",
       "19  13/08/2020                    Eduvanz   \n",
       "20  08/09/2020                     Byju’s   \n",
       "21  12/09/2020                  mCaffeine   \n",
       "22  09/09/2020                     Qshala   \n",
       "23  02/09/2020                      Winzo   \n",
       "24  09/09/2020                Hippo Video   \n",
       "25  07/09/2020                    Melorra   \n",
       "26  07/09/2020                        1mg   \n",
       "27  31/08/2020                      mfine   \n",
       "28  31/08/2020                       Apna   \n",
       "29  03/09/2020                    Railofy   \n",
       "\n",
       "                         Industry/Vertical  \\\n",
       "0                               E-commerce   \n",
       "1                                  EduTech   \n",
       "2                                  EduTech   \n",
       "3                                  FinTech   \n",
       "4                      Airfare Marketplace   \n",
       "5                 Gaming and Entertainment   \n",
       "6                              Marketplace   \n",
       "7                        Automotive Rental   \n",
       "8                               OTT Player   \n",
       "9                   Information Technology   \n",
       "10                              HealthTech   \n",
       "11                              E-commerce   \n",
       "12                                FoodTech   \n",
       "13                   Hyper-local Logistics   \n",
       "14                                 EduTech   \n",
       "15                                 EduTech   \n",
       "16                                 FinTech   \n",
       "17                                 FinTech   \n",
       "18                              E-commerce   \n",
       "19                                 FinTech   \n",
       "20                                 EduTech   \n",
       "21                           Personal Care   \n",
       "22                                 EduTech   \n",
       "23                           Online Gaming   \n",
       "24  Video Customer Experience(CX) Platform   \n",
       "25                              E-commerce   \n",
       "26                              E-commerce   \n",
       "27                              HealthTech   \n",
       "28                         Human Resources   \n",
       "29                          Transportation   \n",
       "\n",
       "                                         Sub-Vertical  \\\n",
       "0                                          E-commerce   \n",
       "1                                     Online Tutoring   \n",
       "2                    Learning Platform for Developers   \n",
       "3                                      Group Payments   \n",
       "4   Ticketing, Airline Retailing, and Post-Ticketi...   \n",
       "5                            Gaming and Entertainment   \n",
       "6                           Crowd Sourcing, Freelance   \n",
       "7                           Used Car-leasing platform   \n",
       "8                            Streaming Social Network   \n",
       "9               Internet-of-Things Security Solutions   \n",
       "10                           Health care and Wellness   \n",
       "11                                    Online Pharmacy   \n",
       "12                       Online Food Delivery Service   \n",
       "13                           Online Delivery Services   \n",
       "14                  Online Climate School, E-learning   \n",
       "15                        E-learning, Online Tutoring   \n",
       "16                                 Financial Services   \n",
       "17                                 Financial Services   \n",
       "18                                      Food Delivery   \n",
       "19                                 Financial Services   \n",
       "20                                    Online Tutoring   \n",
       "21                                Skincare & Haircare   \n",
       "22                 Online Curiosity Platform for Kids   \n",
       "23                                      Online Gaming   \n",
       "24             Video Customer Experience(CX) Platform   \n",
       "25                               Online Jewelry Store   \n",
       "26                                    Online Pharmacy   \n",
       "27                      On-Demand Healthcare Services   \n",
       "28                               Recruitment Platform   \n",
       "29                       WL & RAC protection platform   \n",
       "\n",
       "                                      Location  \\\n",
       "0                                    Bangalore   \n",
       "1                                    Bangalore   \n",
       "2                                    Bangalore   \n",
       "3                                       Mumbai   \n",
       "4                      Singapore and Bangalore   \n",
       "5                                         Pune   \n",
       "6                                         Pune   \n",
       "7                                      Gurgaon   \n",
       "8                           New York and Delhi   \n",
       "9                                    Bangalore   \n",
       "10                                   Bangalore   \n",
       "11                                   Bangalore   \n",
       "12                                   Bangalore   \n",
       "13                                   Bangalore   \n",
       "14                       Stanford, California,   \n",
       "15                                       Noida   \n",
       "16                                   Bangalore   \n",
       "17                                   Bangalore   \n",
       "18                                   Bangalore   \n",
       "19                                      Mumbai   \n",
       "20                                   Bangalore   \n",
       "21                                      Mumbai   \n",
       "22                                   Bangalore   \n",
       "23                                   New Delhi   \n",
       "24  Newark, Delaware, United States of Amercia   \n",
       "25                                   Bangalore   \n",
       "26                                     Gurgaon   \n",
       "27                                   Bangalore   \n",
       "28                                   Bangalore   \n",
       "29                                      Mumbai   \n",
       "\n",
       "                                             Investor         Investment Type  \\\n",
       "0                                         Walmart Inc                     M&A   \n",
       "1                                   Coatue Management                Series D   \n",
       "2                                         021 Capital            pre-Series A   \n",
       "3   Matrix India,Y Combinator, Global Founders Cap...                    Seed   \n",
       "4                                    Recruit Co. Ltd.            pre-Series B   \n",
       "5            Adar Poonawalla and Kris Gopalakrishnan.  Venture-Series Unknown   \n",
       "6        Incubate Fund India and Beyond Next Ventures            pre-Series A   \n",
       "7                            Early Adapters Syndicate                    Seed   \n",
       "8               Raj Mishra, founder of AIT Global Inc                pre-Seed   \n",
       "9                              Unicorn India Ventures  Venture-Series Unknown   \n",
       "10                                        A1A Company                Series F   \n",
       "11         Prasid Uno Family Trust and SC Credit Fund                           \n",
       "12  One97, Sabre Partners Trust, Pratithi Investme...               Series D1   \n",
       "13                                   Existing Backers             In Progress   \n",
       "14  Stanford Angels and Entrepreneurs (India), BEE...                    Seed   \n",
       "15                                        Falcon Edge             In Progress   \n",
       "16                                Niyo Solutions Inc.                           \n",
       "17                            Primrose Hills Ventures                           \n",
       "18                                     Ascent Capital                 Venture   \n",
       "19                              Sequoia India, Unitus                Series A   \n",
       "20  Silver Lake, Tiger Global, General Atlantic an...          Private Equity   \n",
       "21  Amicus Capital Private Equity I LLP, Amicus Ca...                Series B   \n",
       "22                                 Rainmatter Capital                   Angel   \n",
       "23  Kalaari Capital Partners, IndigoEdge Managemen...                Series B   \n",
       "24  Alpha Wave Incubation, Exfinity Venture Partne...                Series A   \n",
       "25                         Shadow Holdings, Lightbox.          Debt Financing   \n",
       "26         Gaja Capital, Tata Capital, Partners Group             In Progress   \n",
       "27                                   Caretech Pte Inc                Series B   \n",
       "28         Lightspeed India and Sequoia Capital India                Series A   \n",
       "29                                  Chiratae Ventures                    Seed   \n",
       "\n",
       "     Amount(in USD)  \n",
       "0     1,200,000,000  \n",
       "1       100,000,000  \n",
       "2           934,160  \n",
       "3         1,700,000  \n",
       "4         3,300,000  \n",
       "5           400,000  \n",
       "6           974,200  \n",
       "7           292,800  \n",
       "8           200,000  \n",
       "9           500,000  \n",
       "10       32,000,000  \n",
       "11       23,000,000  \n",
       "12        1,560,000  \n",
       "13       30,000,000  \n",
       "14        1,400,000  \n",
       "15  upto 15,000,000  \n",
       "16        6,000,000  \n",
       "17       10,670,000  \n",
       "18       16,200,000  \n",
       "19        5,000,000  \n",
       "20      500,000,000  \n",
       "21        3,000,000  \n",
       "22          370,000  \n",
       "23       15,500,000  \n",
       "24        4,500,000  \n",
       "25   upto 8,900,000  \n",
       "26      100,000,000  \n",
       "27        5,400,000  \n",
       "28        8,000,000  \n",
       "29          950,000  "
      ]
     },
     "execution_count": 193,
     "metadata": {},
     "output_type": "execute_result"
    }
   ],
   "source": [
    "fund_df = pd.DataFrame(fund_dict)\n",
    "fund_df\n"
   ]
  },
  {
   "cell_type": "markdown",
   "id": "b5a4182a",
   "metadata": {},
   "source": [
    "7. Write a program to scrap all the available details of best gaming laptops from digit.in. \n"
   ]
  },
  {
   "cell_type": "code",
   "execution_count": 194,
   "id": "3b3ca892",
   "metadata": {},
   "outputs": [],
   "source": [
    "#lets first connect to the web driver\n",
    "driver=webdriver.Edge(\"msedgedriver.exe\")"
   ]
  },
  {
   "cell_type": "code",
   "execution_count": 195,
   "id": "8c401724",
   "metadata": {},
   "outputs": [],
   "source": [
    "url=\"https://www.digit.in/\"\n",
    "driver.get(url)"
   ]
  },
  {
   "cell_type": "code",
   "execution_count": 209,
   "id": "ee373a31",
   "metadata": {},
   "outputs": [],
   "source": [
    "#making a list\n",
    "name = []\n",
    "Price = []\n",
    "OS = []\n",
    "display = []\n",
    "processor = []\n",
    "HDD = []\n",
    "RAM = []\n",
    "weight = []\n",
    "dimension = []\n",
    "GPU = []\n"
   ]
  },
  {
   "cell_type": "code",
   "execution_count": 210,
   "id": "13f1ab15",
   "metadata": {},
   "outputs": [],
   "source": [
    "time.sleep(1)\n",
    "#scraping names\n",
    "names=driver.find_elements_by_xpath(\"//div[@class='right-container']/div/a/h3\")\n",
    "for i in names:\n",
    "    name.append(i.text)\n",
    "    \n",
    "time.sleep(1)\n",
    "#scraping operating system\n",
    "os=driver.find_elements_by_xpath(\"//div[@class='product-detail']/div/ul/li[1]/div/div\")\n",
    "for i in os:\n",
    "    OS.append(i.text)\n",
    "    \n",
    "    \n",
    "time.sleep(1)\n",
    "# scraping memory\n",
    "memories=driver.find_elements_by_xpath(\"//div[@class='Spcs-details'][1]/table/tbody/tr[6]/td[3]\")\n",
    "for i in memories:\n",
    "    HDD.append(i.text.split(\"/\")[0])\n",
    "    RAM.append(i.text.split(\"/\")[1])\n",
    "    \n",
    "time.sleep(1)\n",
    "# scraping weight\n",
    "weights=driver.find_elements_by_xpath(\"//div[@class='Spcs-details'][1]/table/tbody/tr[7]/td[3]\")\n",
    "for i in weights:\n",
    "    weight.append(i.text)\n",
    "    \n",
    "time.sleep(1)\n",
    "# scraping dimension\n",
    "dimension=[]\n",
    "dimensions=driver.find_elements_by_xpath(\"//div[@class='Spcs-details'][1]/table/tbody/tr[8]/td[3]\") \n",
    "for i in dimensions:\n",
    "    dimension.append(i.text)\n",
    "    \n",
    "time.sleep(1)\n",
    "# scraping graphical processor\n",
    "GPUs=driver.find_elements_by_xpath(\"//div[@class='Spcs-details'][1]/table/tbody/tr[9]/td[3]\") \n",
    "for i in GPUs:\n",
    "    GPU.append(i.text)\n",
    "    \n",
    "time.sleep(1)\n",
    "#scraping price\n",
    "price=driver.find_elements_by_xpath(\"//table[@id='summtable']//tr//td[3]\")\n",
    "for i in price:\n",
    "    Price.append(i.text)\n"
   ]
  },
  {
   "cell_type": "code",
   "execution_count": 252,
   "id": "aae77b51",
   "metadata": {},
   "outputs": [],
   "source": [
    "time.sleep(1)\n",
    "#scraping display\n",
    "displays=driver.find_elements_by_xpath(\"//div[@class='Spcs-details']/table/tbody/tr[4]/td[3]\")\n",
    "for i in displays:\n",
    "    display.append(i.text)\n"
   ]
  },
  {
   "cell_type": "code",
   "execution_count": 283,
   "id": "9507f93b",
   "metadata": {},
   "outputs": [
    {
     "data": {
      "text/plain": [
       "['15.6\" (1920 x 1080)',\n",
       " '15.6\" (1920 x 1080)',\n",
       " '15.6\" (2560 x 1440)',\n",
       " '17.3\" (1920 x 1080)',\n",
       " '15.6\" (3840 x 2160)',\n",
       " '15.6\" (1920 x 1080)',\n",
       " '14\" (1920 x 1080)',\n",
       " '15.6\" (1920 x 1080)',\n",
       " '15.6\" (3840 x 1100)',\n",
       " '15.6\" (1920 x 1080)']"
      ]
     },
     "execution_count": 283,
     "metadata": {},
     "output_type": "execute_result"
    }
   ],
   "source": [
    "display"
   ]
  },
  {
   "cell_type": "code",
   "execution_count": 280,
   "id": "ef5a5e56",
   "metadata": {},
   "outputs": [],
   "source": [
    "time.sleep(1)\n",
    "#scraping processor\n",
    "processors=driver.find_elements_by_xpath(\"//div[@class='Spcs-details']/table/tbody/tr[5]/td[3]\")\n",
    "for i in processors:\n",
    "    processor.append(i.text)"
   ]
  },
  {
   "cell_type": "code",
   "execution_count": 289,
   "id": "e4ea0793",
   "metadata": {},
   "outputs": [
    {
     "data": {
      "text/plain": [
       "['AMD Ryzen 9 Octa Core | 2.4 GHz',\n",
       " 'Intel Core i7 11th Gen - 11375H | NA',\n",
       " 'AMD Ryzen 9 Octa Core - 5900HX | 3.3 GHz',\n",
       " '10th Generation Intel® Core™ i7-10700 | 2.90 GHz',\n",
       " '10th Generation Intel® Core™ i9-10980HK | NA',\n",
       " 'AMD Ryzen™ 9 5900HX | 3.3 GHz',\n",
       " 'AMD 3rd Generation Ryzen 9 | 3.3 GHz',\n",
       " '10th Generation Intel® Core™ i5-10300H | 2.50 GHz',\n",
       " 'Intel Core i7 10th Gen 10875H | NA',\n",
       " 'AMD Ryzen™ 5-5500U hexa-core | NA']"
      ]
     },
     "execution_count": 289,
     "metadata": {},
     "output_type": "execute_result"
    }
   ],
   "source": [
    "processor"
   ]
  },
  {
   "cell_type": "code",
   "execution_count": 290,
   "id": "0140dc0c",
   "metadata": {},
   "outputs": [],
   "source": [
    "#make dataFrame\n",
    "df=pd.DataFrame({\"Name\":name,\"price\":Price,\"OS\":OS,\"Display\":display,\"HDD\":HDD,\"RAM\":RAM,\"processor\":processor,\"weight\":weight,\"Dimension\":dimension,\"Graphical processor\":GPU})"
   ]
  },
  {
   "cell_type": "code",
   "execution_count": 291,
   "id": "725ab1d5",
   "metadata": {},
   "outputs": [
    {
     "data": {
      "text/html": [
       "<div>\n",
       "<style scoped>\n",
       "    .dataframe tbody tr th:only-of-type {\n",
       "        vertical-align: middle;\n",
       "    }\n",
       "\n",
       "    .dataframe tbody tr th {\n",
       "        vertical-align: top;\n",
       "    }\n",
       "\n",
       "    .dataframe thead th {\n",
       "        text-align: right;\n",
       "    }\n",
       "</style>\n",
       "<table border=\"1\" class=\"dataframe\">\n",
       "  <thead>\n",
       "    <tr style=\"text-align: right;\">\n",
       "      <th></th>\n",
       "      <th>Name</th>\n",
       "      <th>price</th>\n",
       "      <th>OS</th>\n",
       "      <th>Display</th>\n",
       "      <th>HDD</th>\n",
       "      <th>RAM</th>\n",
       "      <th>processor</th>\n",
       "      <th>weight</th>\n",
       "      <th>Dimension</th>\n",
       "      <th>Graphical processor</th>\n",
       "    </tr>\n",
       "  </thead>\n",
       "  <tbody>\n",
       "    <tr>\n",
       "      <th>0</th>\n",
       "      <td>ACER NITRO 5 RYZEN 9 (2021)</td>\n",
       "      <td>₹ 129,990</td>\n",
       "      <td>WINDOWS 10</td>\n",
       "      <td>15.6\" (1920 x 1080)</td>\n",
       "      <td>1 TB HDD</td>\n",
       "      <td>16 GBGB DDR4</td>\n",
       "      <td>AMD Ryzen 9 Octa Core | 2.4 GHz</td>\n",
       "      <td>2.4</td>\n",
       "      <td>363.4 x 255 x 23.9</td>\n",
       "      <td>NVIDIA GeForce RTX 3070</td>\n",
       "    </tr>\n",
       "    <tr>\n",
       "      <th>1</th>\n",
       "      <td>MSI STEALTH 15M 11TH GEN CORE I7-11375H (2021</td>\n",
       "      <td>₹ 134,990</td>\n",
       "      <td>WINDOWS 10</td>\n",
       "      <td>15.6\" (1920 x 1080)</td>\n",
       "      <td>1 TB SSD</td>\n",
       "      <td>16 GBGB DDR4</td>\n",
       "      <td>Intel Core i7 11th Gen - 11375H | NA</td>\n",
       "      <td>1.7</td>\n",
       "      <td>358.3 x 248 x 16.15</td>\n",
       "      <td>NVIDIA GeForce RTX 3060</td>\n",
       "    </tr>\n",
       "    <tr>\n",
       "      <th>2</th>\n",
       "      <td>ASUS ROG STRIX SCAR 15 RYZEN 9-5900HX (2021)</td>\n",
       "      <td>₹ 268,990</td>\n",
       "      <td>WINDOWS 10</td>\n",
       "      <td>15.6\" (2560 x 1440)</td>\n",
       "      <td>2 TB SSD</td>\n",
       "      <td>32 GBGB DDR4</td>\n",
       "      <td>AMD Ryzen 9 Octa Core - 5900HX | 3.3 GHz</td>\n",
       "      <td>2.30</td>\n",
       "      <td>354 x 259 x 22.6</td>\n",
       "      <td>NVIDIA GeForce RTX 3080</td>\n",
       "    </tr>\n",
       "    <tr>\n",
       "      <th>3</th>\n",
       "      <td>ALIENWARE AREA 51M R2</td>\n",
       "      <td>₹ 342,989</td>\n",
       "      <td>WINDOWS 10 HOME</td>\n",
       "      <td>17.3\" (1920 x 1080)</td>\n",
       "      <td>1 TB SSD</td>\n",
       "      <td>16 GBGB DDR4</td>\n",
       "      <td>10th Generation Intel® Core™ i7-10700 | 2.90 GHz</td>\n",
       "      <td>4.1</td>\n",
       "      <td>27.65 x 402.6 x 319.14</td>\n",
       "      <td>Intel® UHD Graphics 630</td>\n",
       "    </tr>\n",
       "    <tr>\n",
       "      <th>4</th>\n",
       "      <td>ALIENWARE M15 R3</td>\n",
       "      <td>₹ 319,990</td>\n",
       "      <td>WINDOWS 10 HOME</td>\n",
       "      <td>15.6\" (3840 x 2160)</td>\n",
       "      <td>1 TB SSD</td>\n",
       "      <td>16 GBGB DDR4</td>\n",
       "      <td>10th Generation Intel® Core™ i9-10980HK | NA</td>\n",
       "      <td>NA</td>\n",
       "      <td>NA</td>\n",
       "      <td>NA</td>\n",
       "    </tr>\n",
       "    <tr>\n",
       "      <th>5</th>\n",
       "      <td>ASUS ROG STRIX SCAR 15</td>\n",
       "      <td>₹ 215,990</td>\n",
       "      <td>WINDOWS 10 HOME</td>\n",
       "      <td>15.6\" (1920 x 1080)</td>\n",
       "      <td>1 TB SSD</td>\n",
       "      <td>16 GBGB DDR4</td>\n",
       "      <td>AMD Ryzen™ 9 5900HX | 3.3 GHz</td>\n",
       "      <td>2.30</td>\n",
       "      <td>35.4 x 25.9 x 2.26</td>\n",
       "      <td>NVIDIA® GeForce RTX™ 3070</td>\n",
       "    </tr>\n",
       "    <tr>\n",
       "      <th>6</th>\n",
       "      <td>ASUS ROG ZEPHYRUS G14</td>\n",
       "      <td>₹ 164,990</td>\n",
       "      <td>WINDOWS 10 HOME</td>\n",
       "      <td>14\" (1920 x 1080)</td>\n",
       "      <td>1 TB SSD</td>\n",
       "      <td>16 GBGB DDR4</td>\n",
       "      <td>AMD 3rd Generation Ryzen 9 | 3.3 GHz</td>\n",
       "      <td>1.65</td>\n",
       "      <td>32.5 x 22.1 x 1.8</td>\n",
       "      <td>NVIDIA GeForce RTX 2060</td>\n",
       "    </tr>\n",
       "    <tr>\n",
       "      <th>7</th>\n",
       "      <td>LENOVO LEGION 5I</td>\n",
       "      <td>₹ 76,988</td>\n",
       "      <td>WINDOWS 10 PRO</td>\n",
       "      <td>15.6\" (1920 x 1080)</td>\n",
       "      <td>1 TB SSD</td>\n",
       "      <td>16 GBGB DDR4</td>\n",
       "      <td>10th Generation Intel® Core™ i5-10300H | 2.50 GHz</td>\n",
       "      <td>2.3</td>\n",
       "      <td>363.06 x 259.61 x 23.57</td>\n",
       "      <td>NVIDIA® GeForce® GTX 1650 4GB</td>\n",
       "    </tr>\n",
       "    <tr>\n",
       "      <th>8</th>\n",
       "      <td>ASUS ROG ZEPHYRUS DUO 15</td>\n",
       "      <td>₹ 185,000</td>\n",
       "      <td>WINDOWS 10</td>\n",
       "      <td>15.6\" (3840 x 1100)</td>\n",
       "      <td>512 GB SSD</td>\n",
       "      <td>4 GBGB DDR4</td>\n",
       "      <td>Intel Core i7 10th Gen 10875H | NA</td>\n",
       "      <td>2.4</td>\n",
       "      <td>268.30 x 360.00 x 20.90</td>\n",
       "      <td>NVIDIA GeForce RTX 2070 Max-Q</td>\n",
       "    </tr>\n",
       "    <tr>\n",
       "      <th>9</th>\n",
       "      <td>ACER ASPIRE 7 GAMING</td>\n",
       "      <td>₹ 62,980</td>\n",
       "      <td>WINDOWS 10 HOME</td>\n",
       "      <td>15.6\" (1920 x 1080)</td>\n",
       "      <td>512 GB SSD</td>\n",
       "      <td>8 GBGB DDR4</td>\n",
       "      <td>AMD Ryzen™ 5-5500U hexa-core | NA</td>\n",
       "      <td>2.15</td>\n",
       "      <td>2.29 x 36.3 x 25.4</td>\n",
       "      <td>NVIDIA® GeForce® GTX 1650</td>\n",
       "    </tr>\n",
       "  </tbody>\n",
       "</table>\n",
       "</div>"
      ],
      "text/plain": [
       "                                            Name      price               OS  \\\n",
       "0                    ACER NITRO 5 RYZEN 9 (2021)  ₹ 129,990       WINDOWS 10   \n",
       "1  MSI STEALTH 15M 11TH GEN CORE I7-11375H (2021  ₹ 134,990       WINDOWS 10   \n",
       "2   ASUS ROG STRIX SCAR 15 RYZEN 9-5900HX (2021)  ₹ 268,990       WINDOWS 10   \n",
       "3                          ALIENWARE AREA 51M R2  ₹ 342,989  WINDOWS 10 HOME   \n",
       "4                               ALIENWARE M15 R3  ₹ 319,990  WINDOWS 10 HOME   \n",
       "5                         ASUS ROG STRIX SCAR 15  ₹ 215,990  WINDOWS 10 HOME   \n",
       "6                          ASUS ROG ZEPHYRUS G14  ₹ 164,990  WINDOWS 10 HOME   \n",
       "7                               LENOVO LEGION 5I   ₹ 76,988   WINDOWS 10 PRO   \n",
       "8                       ASUS ROG ZEPHYRUS DUO 15  ₹ 185,000       WINDOWS 10   \n",
       "9                           ACER ASPIRE 7 GAMING   ₹ 62,980  WINDOWS 10 HOME   \n",
       "\n",
       "               Display         HDD           RAM  \\\n",
       "0  15.6\" (1920 x 1080)    1 TB HDD  16 GBGB DDR4   \n",
       "1  15.6\" (1920 x 1080)    1 TB SSD  16 GBGB DDR4   \n",
       "2  15.6\" (2560 x 1440)    2 TB SSD  32 GBGB DDR4   \n",
       "3  17.3\" (1920 x 1080)    1 TB SSD  16 GBGB DDR4   \n",
       "4  15.6\" (3840 x 2160)    1 TB SSD  16 GBGB DDR4   \n",
       "5  15.6\" (1920 x 1080)    1 TB SSD  16 GBGB DDR4   \n",
       "6    14\" (1920 x 1080)    1 TB SSD  16 GBGB DDR4   \n",
       "7  15.6\" (1920 x 1080)    1 TB SSD  16 GBGB DDR4   \n",
       "8  15.6\" (3840 x 1100)  512 GB SSD   4 GBGB DDR4   \n",
       "9  15.6\" (1920 x 1080)  512 GB SSD   8 GBGB DDR4   \n",
       "\n",
       "                                           processor weight  \\\n",
       "0                    AMD Ryzen 9 Octa Core | 2.4 GHz    2.4   \n",
       "1               Intel Core i7 11th Gen - 11375H | NA    1.7   \n",
       "2           AMD Ryzen 9 Octa Core - 5900HX | 3.3 GHz   2.30   \n",
       "3   10th Generation Intel® Core™ i7-10700 | 2.90 GHz    4.1   \n",
       "4       10th Generation Intel® Core™ i9-10980HK | NA     NA   \n",
       "5                      AMD Ryzen™ 9 5900HX | 3.3 GHz   2.30   \n",
       "6               AMD 3rd Generation Ryzen 9 | 3.3 GHz   1.65   \n",
       "7  10th Generation Intel® Core™ i5-10300H | 2.50 GHz    2.3   \n",
       "8                 Intel Core i7 10th Gen 10875H | NA    2.4   \n",
       "9                  AMD Ryzen™ 5-5500U hexa-core | NA   2.15   \n",
       "\n",
       "                 Dimension            Graphical processor  \n",
       "0       363.4 x 255 x 23.9        NVIDIA GeForce RTX 3070  \n",
       "1      358.3 x 248 x 16.15        NVIDIA GeForce RTX 3060  \n",
       "2         354 x 259 x 22.6        NVIDIA GeForce RTX 3080  \n",
       "3   27.65 x 402.6 x 319.14        Intel® UHD Graphics 630  \n",
       "4                       NA                             NA  \n",
       "5       35.4 x 25.9 x 2.26      NVIDIA® GeForce RTX™ 3070  \n",
       "6        32.5 x 22.1 x 1.8        NVIDIA GeForce RTX 2060  \n",
       "7  363.06 x 259.61 x 23.57  NVIDIA® GeForce® GTX 1650 4GB  \n",
       "8  268.30 x 360.00 x 20.90  NVIDIA GeForce RTX 2070 Max-Q  \n",
       "9       2.29 x 36.3 x 25.4      NVIDIA® GeForce® GTX 1650  "
      ]
     },
     "execution_count": 291,
     "metadata": {},
     "output_type": "execute_result"
    }
   ],
   "source": [
    "df"
   ]
  },
  {
   "cell_type": "markdown",
   "id": "09d4c5bb",
   "metadata": {},
   "source": [
    "8. Write a python program to scrape the details for all billionaires from www.forbes.com. \n",
    "Details to be scrapped: “Rank”, “Name”, “Net worth”, “Age”, “Citizenship”, “Source”, \n",
    "“Industry”.\n"
   ]
  },
  {
   "cell_type": "code",
   "execution_count": 5,
   "id": "f9112cb1",
   "metadata": {},
   "outputs": [],
   "source": [
    "#lets first connect to the web driver\n",
    "driver=webdriver.Edge(\"msedgedriver.exe\")"
   ]
  },
  {
   "cell_type": "code",
   "execution_count": 6,
   "id": "5914cef0",
   "metadata": {},
   "outputs": [],
   "source": [
    "url=\"https://www.forbes.com/?sh=69e6b8c92254\"\n",
    "driver.get(url)"
   ]
  },
  {
   "cell_type": "code",
   "execution_count": 7,
   "id": "d3116489",
   "metadata": {},
   "outputs": [],
   "source": [
    "button = driver.find_element_by_xpath(\"//button[@class='icon--hamburger']\")\n",
    "button.click()\n",
    "\n",
    "time.sleep(1)\n",
    "#select billioners \n",
    "billioners = driver.find_element_by_xpath(\"/html/body/div[1]/header/nav/div[3]/ul/li[1]\")\n",
    "billioners.click()\n",
    "\n",
    "time.sleep(1)\n",
    "#select world billioners \n",
    "world_billioners=driver.find_element_by_xpath(\"/html/body/div[1]/header/nav/div[3]/ul/li[1]/div[2]/ul/li[2]/a\")\n",
    "world_billioners.click()\n",
    "time.sleep(1)\n"
   ]
  },
  {
   "cell_type": "code",
   "execution_count": 65,
   "id": "e53c9879",
   "metadata": {},
   "outputs": [],
   "source": [
    "#make empty listes\n",
    "Rank = [] \n",
    "Person_Name = [] \n",
    "total_net_worth = [] \n",
    "Age = []\n",
    "country_of_citizenship = [] \n",
    "Source = []\n",
    "industry = []\n",
    "Net_Worth = [] "
   ]
  },
  {
   "cell_type": "code",
   "execution_count": 9,
   "id": "b2561b21",
   "metadata": {},
   "outputs": [],
   "source": [
    "#scraping rank of billionaire\n",
    "rank= driver.find_elements_by_xpath(\"//div[@class='rank']\")\n",
    "for i in rank:\n",
    "    Rank.append(i.text)\n",
    "    time.sleep(1)"
   ]
  },
  {
   "cell_type": "code",
   "execution_count": 10,
   "id": "b2894c86",
   "metadata": {},
   "outputs": [],
   "source": [
    "#scraping name of billionaire\n",
    "name=driver.find_elements_by_xpath(\"//div[@class='personName']//div\")\n",
    "for i in name:\n",
    "    Person_Name.append(i.text)\n",
    "    time.sleep(1)"
   ]
  },
  {
   "cell_type": "code",
   "execution_count": 66,
   "id": "300c370f",
   "metadata": {},
   "outputs": [],
   "source": [
    " #scraping Age of billionaire    \n",
    "age= driver.find_elements_by_xpath(\"//div[@class='age']//div\")\n",
    "for i in age:\n",
    "    Age.append(i.text) \n",
    "time.sleep(1)"
   ]
  },
  {
   "cell_type": "code",
   "execution_count": 13,
   "id": "65023cb6",
   "metadata": {},
   "outputs": [],
   "source": [
    "#scraping citizenship of billionaire \n",
    "citizenship=driver.find_elements_by_xpath(\"//div[@class='countryOfCitizenship']\")\n",
    "for i in citizenship:\n",
    "    country_of_citizenship.append(i.text)\n",
    "    time.sleep(1)"
   ]
  },
  {
   "cell_type": "code",
   "execution_count": 14,
   "id": "ff5dd0e0",
   "metadata": {},
   "outputs": [],
   "source": [
    " #scraping source of income\n",
    "source= driver.find_elements_by_xpath(\"//div[@class='source']\")\n",
    " for i in source:\n",
    "    Source.append(i.text) \n",
    "    time.sleep(1)"
   ]
  },
  {
   "cell_type": "code",
   "execution_count": 16,
   "id": "01d42f03",
   "metadata": {},
   "outputs": [],
   "source": [
    "#scraping industries of billionaire\n",
    "industries=driver.find_elements_by_xpath(\"//div[@class='category']//div\")\n",
    "for i in industries:\n",
    "    industry.append(i.text)"
   ]
  },
  {
   "cell_type": "code",
   "execution_count": null,
   "id": "dc9d16bd",
   "metadata": {},
   "outputs": [],
   "source": []
  },
  {
   "cell_type": "code",
   "execution_count": 17,
   "id": "12af5e21",
   "metadata": {},
   "outputs": [],
   "source": [
    "#scraping net_worth of billionaire\n",
    "net_worth=driver.find_elements_by_xpath(\"//div[@class='netWorth']//div[1]\")\n",
    "for i in net_worth:\n",
    "    total_net_worth.append(i.text)\n",
    "    time.sleep(1) "
   ]
  },
  {
   "cell_type": "code",
   "execution_count": 26,
   "id": "1c71d559",
   "metadata": {},
   "outputs": [],
   "source": [
    "try:\n",
    "    next_button =driver.find_element_by_xpath(\"//button[@class='pagination-btnpagination-btn--next ']\")\n",
    "    next_button.click()\n",
    "except:\n",
    "    \n",
    "    Net_Worth = [] \n",
    "    for i in range(0,len(total_net_worth),2):\n",
    "        Net_Worth.append(total_net_worth[i])\n",
    "        time.sleep(2)"
   ]
  },
  {
   "cell_type": "code",
   "execution_count": 27,
   "id": "fab02f41",
   "metadata": {},
   "outputs": [],
   "source": [
    "#creating dataframe\n",
    "df=pd.DataFrame({'Rank':Rank,'Name':Person_Name,'Net Worth':Net_Worth,'Age':Age,'Country of Citizenship':country_of_citizenship,'Source':Source,'Industry':industry})"
   ]
  },
  {
   "cell_type": "code",
   "execution_count": 28,
   "id": "045bff34",
   "metadata": {},
   "outputs": [
    {
     "data": {
      "text/html": [
       "<div>\n",
       "<style scoped>\n",
       "    .dataframe tbody tr th:only-of-type {\n",
       "        vertical-align: middle;\n",
       "    }\n",
       "\n",
       "    .dataframe tbody tr th {\n",
       "        vertical-align: top;\n",
       "    }\n",
       "\n",
       "    .dataframe thead th {\n",
       "        text-align: right;\n",
       "    }\n",
       "</style>\n",
       "<table border=\"1\" class=\"dataframe\">\n",
       "  <thead>\n",
       "    <tr style=\"text-align: right;\">\n",
       "      <th></th>\n",
       "      <th>Rank</th>\n",
       "      <th>Name</th>\n",
       "      <th>Net Worth</th>\n",
       "      <th>Age</th>\n",
       "      <th>Country of Citizenship</th>\n",
       "      <th>Source</th>\n",
       "      <th>Industry</th>\n",
       "    </tr>\n",
       "  </thead>\n",
       "  <tbody>\n",
       "    <tr>\n",
       "      <th>0</th>\n",
       "      <td>1.</td>\n",
       "      <td>Jeff Bezos</td>\n",
       "      <td>$3.3 B</td>\n",
       "      <td></td>\n",
       "      <td>Germany</td>\n",
       "      <td>drugstores</td>\n",
       "      <td></td>\n",
       "    </tr>\n",
       "    <tr>\n",
       "      <th>1</th>\n",
       "      <td>2.</td>\n",
       "      <td>Elon Musk</td>\n",
       "      <td>$1.5 B</td>\n",
       "      <td></td>\n",
       "      <td>China</td>\n",
       "      <td>chemicals</td>\n",
       "      <td></td>\n",
       "    </tr>\n",
       "    <tr>\n",
       "      <th>2</th>\n",
       "      <td>3.</td>\n",
       "      <td>Bernard Arnault &amp; family</td>\n",
       "      <td>$1.4 B</td>\n",
       "      <td></td>\n",
       "      <td>Norway</td>\n",
       "      <td>investments</td>\n",
       "      <td></td>\n",
       "    </tr>\n",
       "    <tr>\n",
       "      <th>3</th>\n",
       "      <td>4.</td>\n",
       "      <td>Bill Gates</td>\n",
       "      <td>$1.4 B</td>\n",
       "      <td></td>\n",
       "      <td>Norway</td>\n",
       "      <td>investments</td>\n",
       "      <td></td>\n",
       "    </tr>\n",
       "    <tr>\n",
       "      <th>4</th>\n",
       "      <td>5.</td>\n",
       "      <td>Mark Zuckerberg</td>\n",
       "      <td>$2.4 B</td>\n",
       "      <td></td>\n",
       "      <td>United States</td>\n",
       "      <td>sensors\\n★</td>\n",
       "      <td></td>\n",
       "    </tr>\n",
       "    <tr>\n",
       "      <th>...</th>\n",
       "      <td>...</td>\n",
       "      <td>...</td>\n",
       "      <td>...</td>\n",
       "      <td>...</td>\n",
       "      <td>...</td>\n",
       "      <td>...</td>\n",
       "      <td>...</td>\n",
       "    </tr>\n",
       "    <tr>\n",
       "      <th>195</th>\n",
       "      <td>195.</td>\n",
       "      <td>Harry Triguboff</td>\n",
       "      <td>$2.1 B</td>\n",
       "      <td></td>\n",
       "      <td>China</td>\n",
       "      <td>smartphones</td>\n",
       "      <td></td>\n",
       "    </tr>\n",
       "    <tr>\n",
       "      <th>196</th>\n",
       "      <td>197.</td>\n",
       "      <td>Leonid Fedun &amp; family</td>\n",
       "      <td>$2.1 B</td>\n",
       "      <td></td>\n",
       "      <td>China</td>\n",
       "      <td>online games</td>\n",
       "      <td></td>\n",
       "    </tr>\n",
       "    <tr>\n",
       "      <th>197</th>\n",
       "      <td>197.</td>\n",
       "      <td>Eyal Ofer</td>\n",
       "      <td>$1.9 B</td>\n",
       "      <td></td>\n",
       "      <td>France</td>\n",
       "      <td>cloud computing</td>\n",
       "      <td></td>\n",
       "    </tr>\n",
       "    <tr>\n",
       "      <th>198</th>\n",
       "      <td>197.</td>\n",
       "      <td>Evan Spiegel</td>\n",
       "      <td>$1.7 B</td>\n",
       "      <td></td>\n",
       "      <td>United Kingdom</td>\n",
       "      <td>consumer goods</td>\n",
       "      <td></td>\n",
       "    </tr>\n",
       "    <tr>\n",
       "      <th>199</th>\n",
       "      <td>200.</td>\n",
       "      <td>Luis Carlos Sarmiento</td>\n",
       "      <td>$1.7 B</td>\n",
       "      <td></td>\n",
       "      <td>Israel</td>\n",
       "      <td>sports betting\\n★</td>\n",
       "      <td></td>\n",
       "    </tr>\n",
       "  </tbody>\n",
       "</table>\n",
       "<p>200 rows × 7 columns</p>\n",
       "</div>"
      ],
      "text/plain": [
       "     Rank                      Name Net Worth Age Country of Citizenship  \\\n",
       "0      1.                Jeff Bezos    $3.3 B                    Germany   \n",
       "1      2.                 Elon Musk    $1.5 B                      China   \n",
       "2      3.  Bernard Arnault & family    $1.4 B                     Norway   \n",
       "3      4.                Bill Gates    $1.4 B                     Norway   \n",
       "4      5.           Mark Zuckerberg    $2.4 B              United States   \n",
       "..    ...                       ...       ...  ..                    ...   \n",
       "195  195.           Harry Triguboff    $2.1 B                      China   \n",
       "196  197.     Leonid Fedun & family    $2.1 B                      China   \n",
       "197  197.                 Eyal Ofer    $1.9 B                     France   \n",
       "198  197.              Evan Spiegel    $1.7 B             United Kingdom   \n",
       "199  200.     Luis Carlos Sarmiento    $1.7 B                     Israel   \n",
       "\n",
       "                Source Industry  \n",
       "0           drugstores           \n",
       "1            chemicals           \n",
       "2          investments           \n",
       "3          investments           \n",
       "4           sensors\\n★           \n",
       "..                 ...      ...  \n",
       "195        smartphones           \n",
       "196       online games           \n",
       "197    cloud computing           \n",
       "198     consumer goods           \n",
       "199  sports betting\\n★           \n",
       "\n",
       "[200 rows x 7 columns]"
      ]
     },
     "execution_count": 28,
     "metadata": {},
     "output_type": "execute_result"
    }
   ],
   "source": [
    "df"
   ]
  },
  {
   "cell_type": "markdown",
   "id": "f50a5254",
   "metadata": {},
   "source": [
    "9. Write a program to extract at least 500 Comments, Comment upvote and time when comment \n",
    "was posted from any YouTube Video.\n"
   ]
  },
  {
   "cell_type": "code",
   "execution_count": 177,
   "id": "558c6f61",
   "metadata": {},
   "outputs": [],
   "source": [
    "#lets first connect to the web driver\n",
    "driver=webdriver.Edge(\"msedgedriver.exe\")"
   ]
  },
  {
   "cell_type": "code",
   "execution_count": 178,
   "id": "9f794fd4",
   "metadata": {},
   "outputs": [],
   "source": [
    "url=\"https://www.youtube.com/\"\n",
    "driver.get(url)\n",
    "time.sleep(2)\n"
   ]
  },
  {
   "cell_type": "code",
   "execution_count": 182,
   "id": "e8e37cd2",
   "metadata": {},
   "outputs": [],
   "source": [
    "#driver find elements by xpath\n",
    "search_bar = driver.find_element_by_xpath('//input[@class=\"ytd-searchbox\"]')\n",
    "time.sleep(2)"
   ]
  },
  {
   "cell_type": "code",
   "execution_count": 183,
   "id": "0b6ea5c3",
   "metadata": {},
   "outputs": [],
   "source": [
    "#driver send keys\n",
    "search_bar.send_keys(\"Nadiyon paar\") \n",
    "time.sleep(1)"
   ]
  },
  {
   "cell_type": "code",
   "execution_count": 184,
   "id": "ac0e81d3",
   "metadata": {},
   "outputs": [],
   "source": [
    "#click on search button\n",
    "search_btn = driver.find_element_by_id(\"search-icon-legacy\") \n",
    "search_btn.click()\n",
    "time.sleep(2)"
   ]
  },
  {
   "cell_type": "code",
   "execution_count": 187,
   "id": "72bc9ceb",
   "metadata": {},
   "outputs": [],
   "source": [
    "#driver find elements by xpath\n",
    "link_click = driver.find_element_by_xpath(\"//yt-formatted-string[@class ='style-scope ytd-video-renderer']\")\n",
    "link_click.click()\n",
    "time.sleep(2)"
   ]
  },
  {
   "cell_type": "code",
   "execution_count": 188,
   "id": "2f29af31",
   "metadata": {},
   "outputs": [],
   "source": [
    "#make empty lists\n",
    "comments = []\n",
    "comment_time = []\n",
    "Time = []\n",
    "Likes = []\n",
    "No_of_Likes = []"
   ]
  },
  {
   "cell_type": "code",
   "execution_count": 166,
   "id": "643ce4a7",
   "metadata": {},
   "outputs": [],
   "source": [
    "#scrape comments\n",
    "\n",
    "cm = driver.find_elements_by_id(\"content-text\")\n",
    "for i in range(len(cm)):\n",
    "    comments.append(cm[i].text)\n",
    "\n",
    "\n"
   ]
  },
  {
   "cell_type": "code",
   "execution_count": 163,
   "id": "be661608",
   "metadata": {},
   "outputs": [],
   "source": []
  },
  {
   "cell_type": "code",
   "execution_count": 191,
   "id": "26f72826",
   "metadata": {},
   "outputs": [],
   "source": [
    "#scrape comments\n",
    "cm = driver.find_elements_by_id(\"content-text\")\n",
    "for i in range(len(cm)):\n",
    "    comments.append(cm[i].text)\n",
    "\n",
    "\n",
    "\n",
    "# scrape time when comment was posted\n",
    "tm = driver.find_elements_by_xpath(\"//a[contains(text(),'ago')]\")\n",
    "for i in tm:\n",
    "    Time.append(i.text)\n",
    "for i in range(0,len(Time),2):\n",
    "    comment_time.append(Time[i])\n",
    "time.sleep(5)\n",
    " \n",
    "# scrape the comment likes\n",
    "like = driver.find_elements_by_xpath(\"//span[@class='style-scope ytd-comment-action-buttons-renderer']\")\n",
    "for i in like:\n",
    "    Likes.append(i.text)\n",
    "    \n",
    "for i in range(1,len(Likes),2):\n",
    "    No_of_Likes.append(Likes[i])\n"
   ]
  },
  {
   "cell_type": "code",
   "execution_count": 192,
   "id": "8d25d5e0",
   "metadata": {},
   "outputs": [
    {
     "data": {
      "text/plain": [
       "540"
      ]
     },
     "execution_count": 192,
     "metadata": {},
     "output_type": "execute_result"
    }
   ],
   "source": [
    "len(comment_time)"
   ]
  },
  {
   "cell_type": "code",
   "execution_count": 193,
   "id": "8ee93faa",
   "metadata": {},
   "outputs": [],
   "source": [
    "df=pd.DataFrame({'Comments':comments,'Time':comment_time,'Likes':No_of_Likes})\n"
   ]
  },
  {
   "cell_type": "code",
   "execution_count": 194,
   "id": "ebc2d635",
   "metadata": {},
   "outputs": [
    {
     "data": {
      "text/html": [
       "<div>\n",
       "<style scoped>\n",
       "    .dataframe tbody tr th:only-of-type {\n",
       "        vertical-align: middle;\n",
       "    }\n",
       "\n",
       "    .dataframe tbody tr th {\n",
       "        vertical-align: top;\n",
       "    }\n",
       "\n",
       "    .dataframe thead th {\n",
       "        text-align: right;\n",
       "    }\n",
       "</style>\n",
       "<table border=\"1\" class=\"dataframe\">\n",
       "  <thead>\n",
       "    <tr style=\"text-align: right;\">\n",
       "      <th></th>\n",
       "      <th>Comments</th>\n",
       "      <th>Time</th>\n",
       "      <th>Likes</th>\n",
       "    </tr>\n",
       "  </thead>\n",
       "  <tbody>\n",
       "    <tr>\n",
       "      <th>0</th>\n",
       "      <td>Nadiyon Paar (Let the Music Play Again) is all...</td>\n",
       "      <td>7 months ago</td>\n",
       "      <td>25K</td>\n",
       "    </tr>\n",
       "    <tr>\n",
       "      <th>1</th>\n",
       "      <td>❤️from kerala🌴\\nമലയാളീസ് ഉണ്ടോ മക്കളേ..😍✌️</td>\n",
       "      <td>5 months ago</td>\n",
       "      <td>11K</td>\n",
       "    </tr>\n",
       "    <tr>\n",
       "      <th>2</th>\n",
       "      <td>This song is so addictive!!!! Amazing dance by...</td>\n",
       "      <td>1 month ago (edited)</td>\n",
       "      <td>496</td>\n",
       "    </tr>\n",
       "    <tr>\n",
       "      <th>3</th>\n",
       "      <td>I can't believe I watched this beautiful song ...</td>\n",
       "      <td>2 months ago</td>\n",
       "      <td>473</td>\n",
       "    </tr>\n",
       "    <tr>\n",
       "      <th>4</th>\n",
       "      <td>Literally to lovely friends who's reading this...</td>\n",
       "      <td>3 weeks ago</td>\n",
       "      <td>614</td>\n",
       "    </tr>\n",
       "    <tr>\n",
       "      <th>...</th>\n",
       "      <td>...</td>\n",
       "      <td>...</td>\n",
       "      <td>...</td>\n",
       "    </tr>\n",
       "    <tr>\n",
       "      <th>535</th>\n",
       "      <td>She did a great job in Roohi. She's worked har...</td>\n",
       "      <td>5 months ago</td>\n",
       "      <td>76</td>\n",
       "    </tr>\n",
       "    <tr>\n",
       "      <th>536</th>\n",
       "      <td>ഇത് കാണുന്ന മലയാളി ആരെങ്കിലുമുണ്ടെങ്കിൽ മലയാളം...</td>\n",
       "      <td>1 week ago</td>\n",
       "      <td>1</td>\n",
       "    </tr>\n",
       "    <tr>\n",
       "      <th>537</th>\n",
       "      <td>I have love 💛 this song 🎵so much</td>\n",
       "      <td>26 minutes ago</td>\n",
       "      <td></td>\n",
       "    </tr>\n",
       "    <tr>\n",
       "      <th>538</th>\n",
       "      <td>क्या माल है यार 🤤🤤🤤</td>\n",
       "      <td>1 month ago</td>\n",
       "      <td>1</td>\n",
       "    </tr>\n",
       "    <tr>\n",
       "      <th>539</th>\n",
       "      <td>في حد مصري بيسمع لاغنية دي عشان محسش اني لوحدي 😂♥</td>\n",
       "      <td>1 week ago</td>\n",
       "      <td></td>\n",
       "    </tr>\n",
       "  </tbody>\n",
       "</table>\n",
       "<p>540 rows × 3 columns</p>\n",
       "</div>"
      ],
      "text/plain": [
       "                                              Comments                  Time  \\\n",
       "0    Nadiyon Paar (Let the Music Play Again) is all...          7 months ago   \n",
       "1           ❤️from kerala🌴\\nമലയാളീസ് ഉണ്ടോ മക്കളേ..😍✌️          5 months ago   \n",
       "2    This song is so addictive!!!! Amazing dance by...  1 month ago (edited)   \n",
       "3    I can't believe I watched this beautiful song ...          2 months ago   \n",
       "4    Literally to lovely friends who's reading this...           3 weeks ago   \n",
       "..                                                 ...                   ...   \n",
       "535  She did a great job in Roohi. She's worked har...          5 months ago   \n",
       "536  ഇത് കാണുന്ന മലയാളി ആരെങ്കിലുമുണ്ടെങ്കിൽ മലയാളം...            1 week ago   \n",
       "537                   I have love 💛 this song 🎵so much        26 minutes ago   \n",
       "538                                क्या माल है यार 🤤🤤🤤           1 month ago   \n",
       "539  في حد مصري بيسمع لاغنية دي عشان محسش اني لوحدي 😂♥            1 week ago   \n",
       "\n",
       "    Likes  \n",
       "0     25K  \n",
       "1     11K  \n",
       "2     496  \n",
       "3     473  \n",
       "4     614  \n",
       "..    ...  \n",
       "535    76  \n",
       "536     1  \n",
       "537        \n",
       "538     1  \n",
       "539        \n",
       "\n",
       "[540 rows x 3 columns]"
      ]
     },
     "execution_count": 194,
     "metadata": {},
     "output_type": "execute_result"
    }
   ],
   "source": [
    "df"
   ]
  },
  {
   "cell_type": "markdown",
   "id": "fff369ff",
   "metadata": {},
   "source": [
    "10. Write a python program to scrape a data for all available Hostels from \n",
    "https://www.hostelworld.com/ in “London” location. You have to scrape hostel name, \n",
    "distance from city centre, ratings, total reviews, overall reviews, privates from price, dorms \n",
    "from price, facilities and property description."
   ]
  },
  {
   "cell_type": "code",
   "execution_count": 214,
   "id": "00b0cd9b",
   "metadata": {},
   "outputs": [],
   "source": [
    "#lets first connect to the web driver\n",
    "driver=webdriver.Edge(\"msedgedriver.exe\")"
   ]
  },
  {
   "cell_type": "code",
   "execution_count": 215,
   "id": "717aa7ca",
   "metadata": {},
   "outputs": [],
   "source": [
    "url=\"https://www.hostelworld.com/\"\n",
    "driver.get(url)\n",
    "time.sleep(2)\n"
   ]
  },
  {
   "cell_type": "code",
   "execution_count": 221,
   "id": "0be9a07a",
   "metadata": {},
   "outputs": [],
   "source": [
    "#driver find elements by xpath\n",
    "search_bar = driver.find_element_by_id(\"location-text-input-field\")\n",
    "time.sleep(2)"
   ]
  },
  {
   "cell_type": "code",
   "execution_count": 222,
   "id": "e82df0cc",
   "metadata": {},
   "outputs": [],
   "source": [
    "#driver send keys\n",
    "search_bar.send_keys(\"London\") \n",
    "time.sleep(1)"
   ]
  },
  {
   "cell_type": "code",
   "execution_count": 223,
   "id": "2d84f81d",
   "metadata": {},
   "outputs": [],
   "source": [
    "london =driver.find_element_by_xpath('//div[@class=\"label\"]')\n",
    "london.click()\n",
    "time.sleep(1)"
   ]
  },
  {
   "cell_type": "code",
   "execution_count": 224,
   "id": "0aa58e45",
   "metadata": {},
   "outputs": [],
   "source": [
    "#click on search button\n",
    "search_btn = driver.find_element_by_xpath('//button[@class=\"button primary large\"]') \n",
    "search_btn.click()\n",
    "time.sleep(2)"
   ]
  },
  {
   "cell_type": "code",
   "execution_count": 259,
   "id": "3758e05a",
   "metadata": {},
   "outputs": [],
   "source": [
    "# Make empty lists\n",
    "Hostel_Name = []\n",
    "Distance = []\n",
    "overall_review = []\n",
    "total_reviews = []\n",
    "facilities = []\n",
    "price = []\n",
    "Rating = []\n",
    "property_description = []"
   ]
  },
  {
   "cell_type": "code",
   "execution_count": 268,
   "id": "c3496da5",
   "metadata": {},
   "outputs": [],
   "source": [
    "#  scraping Hostel name\n",
    "names = driver.find_elements_by_xpath('//h2[@class=\"title title-6\"]')\n",
    "for i in names:\n",
    "    Hostel_Name.append(i.text)\n",
    "time.sleep(2)\n"
   ]
  },
  {
   "cell_type": "code",
   "execution_count": 269,
   "id": "5332b1a4",
   "metadata": {},
   "outputs": [
    {
     "data": {
      "text/plain": [
       "30"
      ]
     },
     "execution_count": 269,
     "metadata": {},
     "output_type": "execute_result"
    }
   ],
   "source": [
    "len(Hostel_Name)"
   ]
  },
  {
   "cell_type": "code",
   "execution_count": 270,
   "id": "5d29d90f",
   "metadata": {},
   "outputs": [],
   "source": [
    "# Distance from city centre\n",
    "dis =driver.find_elements_by_xpath('//span[@class=\"description\"]')\n",
    "for i in dis:\n",
    "    Distance.append(i.text)\n",
    "time.sleep(2)"
   ]
  },
  {
   "cell_type": "code",
   "execution_count": 271,
   "id": "7159d351",
   "metadata": {},
   "outputs": [
    {
     "data": {
      "text/plain": [
       "30"
      ]
     },
     "execution_count": 271,
     "metadata": {},
     "output_type": "execute_result"
    }
   ],
   "source": [
    "len(Distance)"
   ]
  },
  {
   "cell_type": "code",
   "execution_count": 272,
   "id": "28b5c518",
   "metadata": {},
   "outputs": [],
   "source": [
    "#scraping Overall Review \n",
    "review =driver.find_elements_by_xpath('//div[@class=\"keyword\"]')\n",
    "for i in review:\n",
    "    overall_review.append(i.text)\n",
    "time.sleep(2)"
   ]
  },
  {
   "cell_type": "code",
   "execution_count": 273,
   "id": "4b72ab04",
   "metadata": {},
   "outputs": [
    {
     "data": {
      "text/plain": [
       "32"
      ]
     },
     "execution_count": 273,
     "metadata": {},
     "output_type": "execute_result"
    }
   ],
   "source": [
    "len(overall_review)"
   ]
  },
  {
   "cell_type": "code",
   "execution_count": 274,
   "id": "5702ddbd",
   "metadata": {},
   "outputs": [],
   "source": [
    "#scraping Total No of reviews \n",
    "t_review =driver.find_elements_by_xpath('//div[@class=\"reviews\"]')\n",
    "for i in t_review:\n",
    "    total_reviews.append(i.text)\n",
    "time.sleep(2)\n",
    " "
   ]
  },
  {
   "cell_type": "code",
   "execution_count": 275,
   "id": "6202954d",
   "metadata": {},
   "outputs": [
    {
     "data": {
      "text/plain": [
       "30"
      ]
     },
     "execution_count": 275,
     "metadata": {},
     "output_type": "execute_result"
    }
   ],
   "source": [
    "len(total_reviews)"
   ]
  },
  {
   "cell_type": "code",
   "execution_count": 276,
   "id": "2d957869",
   "metadata": {},
   "outputs": [],
   "source": [
    "# scraping facilities\n",
    "service = driver.find_elements_by_xpath('//div[@class=\"facilities-label facilities\"]')\n",
    "for i in service:\n",
    "    facilities.append(i.text)\n",
    "time.sleep(2)\n"
   ]
  },
  {
   "cell_type": "code",
   "execution_count": 277,
   "id": "2b787ae6",
   "metadata": {},
   "outputs": [
    {
     "data": {
      "text/plain": [
       "30"
      ]
     },
     "execution_count": 277,
     "metadata": {},
     "output_type": "execute_result"
    }
   ],
   "source": [
    "len(facilities)"
   ]
  },
  {
   "cell_type": "code",
   "execution_count": 252,
   "id": "2273232a",
   "metadata": {},
   "outputs": [],
   "source": [
    "# scraping Prices \n",
    "prices = driver.find_elements_by_xpath('//div[@class=\"price-col\"]')\n",
    "for i in prices:\n",
    "    price.append(i.text)\n",
    "time.sleep(2)\n",
    "\n",
    "try:\n",
    "    next_button =driver.find_element_by_xpath('//div[@class=\"pagination-item pagination-next\"]')\n",
    "    next_button.click()\n",
    "except NoSuchElementException:\n",
    "    time.sleep(4) \n",
    "    \n",
    "#Separate Privates_From price and Dorms_From price\n",
    "Privates_From = []\n",
    "for i in range(0,len(price),2):\n",
    "    Privates_From.append(price[i])\n",
    "time.sleep(2)\n",
    "Dorms_From = []\n",
    "for i in range(1,len(price),2):\n",
    "    Dorms_From.append(price[i])"
   ]
  },
  {
   "cell_type": "code",
   "execution_count": 253,
   "id": "4e9676d3",
   "metadata": {},
   "outputs": [
    {
     "data": {
      "text/plain": [
       "120"
      ]
     },
     "execution_count": 253,
     "metadata": {},
     "output_type": "execute_result"
    }
   ],
   "source": [
    "len(Privates_From)"
   ]
  },
  {
   "cell_type": "code",
   "execution_count": 254,
   "id": "b14ca5e5",
   "metadata": {},
   "outputs": [
    {
     "data": {
      "text/plain": [
       "120"
      ]
     },
     "execution_count": 254,
     "metadata": {},
     "output_type": "execute_result"
    }
   ],
   "source": [
    "len(Dorms_From)"
   ]
  },
  {
   "cell_type": "code",
   "execution_count": 260,
   "id": "707d61d0",
   "metadata": {},
   "outputs": [],
   "source": [
    "# scraping rating\n",
    "rate = driver.find_elements_by_xpath('//div[@class=\"score orange big\"]')\n",
    "for i in rate:\n",
    "    Rating.append(i.text)\n",
    "time.sleep(2)\n"
   ]
  },
  {
   "cell_type": "code",
   "execution_count": 261,
   "id": "e0292efb",
   "metadata": {},
   "outputs": [
    {
     "data": {
      "text/plain": [
       "29"
      ]
     },
     "execution_count": 261,
     "metadata": {},
     "output_type": "execute_result"
    }
   ],
   "source": [
    "len(Rating)"
   ]
  },
  {
   "cell_type": "code",
   "execution_count": 278,
   "id": "2643c2d9",
   "metadata": {},
   "outputs": [
    {
     "data": {
      "text/html": [
       "<div>\n",
       "<style scoped>\n",
       "    .dataframe tbody tr th:only-of-type {\n",
       "        vertical-align: middle;\n",
       "    }\n",
       "\n",
       "    .dataframe tbody tr th {\n",
       "        vertical-align: top;\n",
       "    }\n",
       "\n",
       "    .dataframe thead th {\n",
       "        text-align: right;\n",
       "    }\n",
       "</style>\n",
       "<table border=\"1\" class=\"dataframe\">\n",
       "  <thead>\n",
       "    <tr style=\"text-align: right;\">\n",
       "      <th></th>\n",
       "      <th>Hostel_Name</th>\n",
       "      <th>Distance</th>\n",
       "      <th>overall_review</th>\n",
       "      <th>total_reviews</th>\n",
       "      <th>facilities</th>\n",
       "      <th>Privates_From_Price</th>\n",
       "      <th>Dorms_From_price</th>\n",
       "      <th>Rating</th>\n",
       "    </tr>\n",
       "  </thead>\n",
       "  <tbody>\n",
       "    <tr>\n",
       "      <th>0</th>\n",
       "      <td>St Christopher's Inn - Liverpool Street</td>\n",
       "      <td>Hostel - 3.2km from city centre</td>\n",
       "      <td>Superb</td>\n",
       "      <td>359 Total Reviews</td>\n",
       "      <td>Free WiFi\\nFollows Covid-19 sanitation guidance</td>\n",
       "      <td>No Privates Available</td>\n",
       "      <td>Dorms From\\nRs1981</td>\n",
       "      <td>9.7</td>\n",
       "    </tr>\n",
       "    <tr>\n",
       "      <th>1</th>\n",
       "      <td>247london Hostel and Private Rooms</td>\n",
       "      <td>Hostel - 8.2km from city centre</td>\n",
       "      <td>Fabulous</td>\n",
       "      <td>443 Total Reviews</td>\n",
       "      <td>Free WiFi</td>\n",
       "      <td>Privates From\\nRs5254</td>\n",
       "      <td>No Dorms Available</td>\n",
       "      <td>6.6</td>\n",
       "    </tr>\n",
       "    <tr>\n",
       "      <th>2</th>\n",
       "      <td>Astor Hyde Park</td>\n",
       "      <td>Hostel - 4.3km from city centre</td>\n",
       "      <td>Superb</td>\n",
       "      <td>11348 Total Reviews</td>\n",
       "      <td>Free WiFi\\nFollows Covid-19 sanitation guidance</td>\n",
       "      <td>No Privates Available</td>\n",
       "      <td>Dorms From\\nRs1545</td>\n",
       "      <td>8.9</td>\n",
       "    </tr>\n",
       "    <tr>\n",
       "      <th>3</th>\n",
       "      <td>St Christopher's Village</td>\n",
       "      <td>Hostel - 1.8km from city centre</td>\n",
       "      <td>Good</td>\n",
       "      <td>10869 Total Reviews</td>\n",
       "      <td>Free WiFi\\nFollows Covid-19 sanitation guidance</td>\n",
       "      <td>Privates From\\nRs6456</td>\n",
       "      <td>Dorms From\\nRs1192</td>\n",
       "      <td>8.4</td>\n",
       "    </tr>\n",
       "    <tr>\n",
       "      <th>4</th>\n",
       "      <td>Smart Camden Inn Hostel</td>\n",
       "      <td>Hostel - 4.4km from city centre</td>\n",
       "      <td>Fabulous</td>\n",
       "      <td>2694 Total Reviews</td>\n",
       "      <td>Free WiFi\\nFollows Covid-19 sanitation guidance</td>\n",
       "      <td>No Privates Available</td>\n",
       "      <td>Dorms From\\nRs1248</td>\n",
       "      <td>8.9</td>\n",
       "    </tr>\n",
       "    <tr>\n",
       "      <th>5</th>\n",
       "      <td>The Finnish Church in London</td>\n",
       "      <td>Hostel - 4.5km from city centre</td>\n",
       "      <td>Fabulous</td>\n",
       "      <td>194 Total Reviews</td>\n",
       "      <td>Free WiFi\\nFollows Covid-19 sanitation guidance</td>\n",
       "      <td>No Privates Available</td>\n",
       "      <td>Dorms From\\nRs2987</td>\n",
       "      <td>9.5</td>\n",
       "    </tr>\n",
       "    <tr>\n",
       "      <th>6</th>\n",
       "      <td>No.8 Seven Sisters</td>\n",
       "      <td>Hostel - 9km from city centre</td>\n",
       "      <td>Fabulous</td>\n",
       "      <td>3637 Total Reviews</td>\n",
       "      <td>Free WiFi\\nFollows Covid-19 sanitation guidance</td>\n",
       "      <td>No Privates Available</td>\n",
       "      <td>Dorms From\\nRs802</td>\n",
       "      <td>6.8</td>\n",
       "    </tr>\n",
       "    <tr>\n",
       "      <th>7</th>\n",
       "      <td>The London Home Hostel</td>\n",
       "      <td>Hostel - 8.2km from city centre</td>\n",
       "      <td>Superb</td>\n",
       "      <td>249 Total Reviews</td>\n",
       "      <td>Free WiFi</td>\n",
       "      <td>Privates From\\nRs4121</td>\n",
       "      <td>Dorms From\\nRs1628</td>\n",
       "      <td>7.7</td>\n",
       "    </tr>\n",
       "    <tr>\n",
       "      <th>8</th>\n",
       "      <td>Selina Camden</td>\n",
       "      <td>Hostel - 5.5km from city centre</td>\n",
       "      <td>Good</td>\n",
       "      <td>10 Total Reviews</td>\n",
       "      <td>Free WiFi</td>\n",
       "      <td>Privates From\\nRs17373</td>\n",
       "      <td>Dorms From\\nRs2956</td>\n",
       "      <td>9.0</td>\n",
       "    </tr>\n",
       "    <tr>\n",
       "      <th>9</th>\n",
       "      <td>Safestay London Elephant &amp; Castle</td>\n",
       "      <td>Hostel - 1.7km from city centre</td>\n",
       "      <td>Very Good</td>\n",
       "      <td>3967 Total Reviews</td>\n",
       "      <td>Free WiFi\\nFollows Covid-19 sanitation guidance</td>\n",
       "      <td>Privates From\\nRs8035</td>\n",
       "      <td>Dorms From\\nRs2009</td>\n",
       "      <td>8.0</td>\n",
       "    </tr>\n",
       "    <tr>\n",
       "      <th>10</th>\n",
       "      <td>PubLove @ The White Ferry, Victoria</td>\n",
       "      <td>Hostel - 2.4km from city centre</td>\n",
       "      <td>Superb</td>\n",
       "      <td>161 Total Reviews</td>\n",
       "      <td>Free WiFi\\nFollows Covid-19 sanitation guidance</td>\n",
       "      <td>Privates From\\nRs21839</td>\n",
       "      <td>Dorms From\\nRs1717</td>\n",
       "      <td>8.8</td>\n",
       "    </tr>\n",
       "    <tr>\n",
       "      <th>11</th>\n",
       "      <td>Generator London</td>\n",
       "      <td>Hostel - 3km from city centre</td>\n",
       "      <td>Fabulous</td>\n",
       "      <td>6755 Total Reviews</td>\n",
       "      <td>Free WiFi\\nFollows Covid-19 sanitation guidance</td>\n",
       "      <td>Privates From\\nRs9581</td>\n",
       "      <td>Dorms From\\nRs2163</td>\n",
       "      <td>7.5</td>\n",
       "    </tr>\n",
       "    <tr>\n",
       "      <th>12</th>\n",
       "      <td>Venture Hostel</td>\n",
       "      <td>Hostel - 6.9km from city centre</td>\n",
       "      <td>Fabulous</td>\n",
       "      <td>1170 Total Reviews</td>\n",
       "      <td>Free WiFi</td>\n",
       "      <td>Privates From\\nRs5605</td>\n",
       "      <td>Dorms From\\nRs1493</td>\n",
       "      <td>9.3</td>\n",
       "    </tr>\n",
       "    <tr>\n",
       "      <th>13</th>\n",
       "      <td>Astor Museum Inn</td>\n",
       "      <td>Hostel - 2.2km from city centre</td>\n",
       "      <td>Very Good</td>\n",
       "      <td>8747 Total Reviews</td>\n",
       "      <td>Free WiFi\\nFollows Covid-19 sanitation guidance</td>\n",
       "      <td>No Privates Available</td>\n",
       "      <td>Dorms From\\nRs1751</td>\n",
       "      <td>6.9</td>\n",
       "    </tr>\n",
       "    <tr>\n",
       "      <th>14</th>\n",
       "      <td>Saint James Backpackers</td>\n",
       "      <td>Hostel - 5.5km from city centre</td>\n",
       "      <td>Rating</td>\n",
       "      <td>1764 Total Reviews</td>\n",
       "      <td>Free WiFi\\nFree Breakfast\\nFollows Covid-19 sa...</td>\n",
       "      <td>Privates From\\nRs7290</td>\n",
       "      <td>Dorms From\\nRs2349</td>\n",
       "      <td>6.9</td>\n",
       "    </tr>\n",
       "    <tr>\n",
       "      <th>15</th>\n",
       "      <td>New Cross Inn Hostel</td>\n",
       "      <td>Hostel - 6.1km from city centre</td>\n",
       "      <td>Superb</td>\n",
       "      <td>1022 Total Reviews</td>\n",
       "      <td>Free WiFi\\nFree Breakfast</td>\n",
       "      <td>Privates From\\nRs3318</td>\n",
       "      <td>Dorms From\\nRs1233</td>\n",
       "      <td>6.8</td>\n",
       "    </tr>\n",
       "    <tr>\n",
       "      <th>16</th>\n",
       "      <td>London Waterloo Hostel</td>\n",
       "      <td>Hostel - 0.7km from city centre</td>\n",
       "      <td>Good</td>\n",
       "      <td>2425 Total Reviews</td>\n",
       "      <td>Free WiFi\\nFree Breakfast\\nFollows Covid-19 sa...</td>\n",
       "      <td>No Privates Available</td>\n",
       "      <td>Dorms From\\nRs1462</td>\n",
       "      <td>6.7</td>\n",
       "    </tr>\n",
       "    <tr>\n",
       "      <th>17</th>\n",
       "      <td>Smart Russell Square Hostel</td>\n",
       "      <td>Hostel - 2.6km from city centre</td>\n",
       "      <td>Good</td>\n",
       "      <td>9522 Total Reviews</td>\n",
       "      <td>Free WiFi\\nFollows Covid-19 sanitation guidance</td>\n",
       "      <td>No Privates Available</td>\n",
       "      <td>Dorms From\\nRs1386</td>\n",
       "      <td>8.4</td>\n",
       "    </tr>\n",
       "    <tr>\n",
       "      <th>18</th>\n",
       "      <td>No.8 Willesden Hostel London</td>\n",
       "      <td>Hostel - 10km from city centre</td>\n",
       "      <td>Good</td>\n",
       "      <td>4589 Total Reviews</td>\n",
       "      <td>Free WiFi\\nFollows Covid-19 sanitation guidance</td>\n",
       "      <td>No Privates Available</td>\n",
       "      <td>Dorms From\\nRs905</td>\n",
       "      <td>10</td>\n",
       "    </tr>\n",
       "    <tr>\n",
       "      <th>19</th>\n",
       "      <td>Prime Backpackers Angel</td>\n",
       "      <td>Hostel - 3.6km from city centre</td>\n",
       "      <td>Good</td>\n",
       "      <td>515 Total Reviews</td>\n",
       "      <td>Free WiFi\\nFollows Covid-19 sanitation guidance</td>\n",
       "      <td>Privates From\\nRs7734</td>\n",
       "      <td>Dorms From\\nRs2437</td>\n",
       "      <td>7.5</td>\n",
       "    </tr>\n",
       "    <tr>\n",
       "      <th>20</th>\n",
       "      <td>PubLove @ The Rose &amp; Crown</td>\n",
       "      <td>Hostel - 1.6km from city centre</td>\n",
       "      <td>Fabulous</td>\n",
       "      <td>101 Total Reviews</td>\n",
       "      <td>Free WiFi\\nFollows Covid-19 sanitation guidance</td>\n",
       "      <td>No Privates Available</td>\n",
       "      <td>Dorms From\\nRs2026</td>\n",
       "      <td>8.9</td>\n",
       "    </tr>\n",
       "    <tr>\n",
       "      <th>21</th>\n",
       "      <td>St Christopher's Inn - London Bridge</td>\n",
       "      <td>Hostel - 1.8km from city centre</td>\n",
       "      <td>Superb</td>\n",
       "      <td>3239 Total Reviews</td>\n",
       "      <td>Free WiFi\\nFollows Covid-19 sanitation guidance</td>\n",
       "      <td>No Privates Available</td>\n",
       "      <td>Dorms From\\nRs1501</td>\n",
       "      <td>7.6</td>\n",
       "    </tr>\n",
       "    <tr>\n",
       "      <th>22</th>\n",
       "      <td>St Christopher's Camden</td>\n",
       "      <td>Hostel - 4.3km from city centre</td>\n",
       "      <td>Very Good</td>\n",
       "      <td>3712 Total Reviews</td>\n",
       "      <td>Free WiFi\\nFollows Covid-19 sanitation guidance</td>\n",
       "      <td>No Privates Available</td>\n",
       "      <td>Dorms From\\nRs1157</td>\n",
       "      <td>8.2</td>\n",
       "    </tr>\n",
       "    <tr>\n",
       "      <th>23</th>\n",
       "      <td>St Christopher's Shepherds Bush</td>\n",
       "      <td>Hostel - 7km from city centre</td>\n",
       "      <td>Fabulous</td>\n",
       "      <td>631 Total Reviews</td>\n",
       "      <td>Free WiFi\\nFollows Covid-19 sanitation guidance</td>\n",
       "      <td>No Privates Available</td>\n",
       "      <td>Dorms From\\nRs1226</td>\n",
       "      <td>7.5</td>\n",
       "    </tr>\n",
       "    <tr>\n",
       "      <th>24</th>\n",
       "      <td>Astor Kensington</td>\n",
       "      <td>Hostel - 4.9km from city centre</td>\n",
       "      <td>Very Good</td>\n",
       "      <td>6334 Total Reviews</td>\n",
       "      <td>Free WiFi\\nFollows Covid-19 sanitation guidance</td>\n",
       "      <td>No Privates Available</td>\n",
       "      <td>Dorms From\\nRs1442</td>\n",
       "      <td>8.1</td>\n",
       "    </tr>\n",
       "    <tr>\n",
       "      <th>25</th>\n",
       "      <td>Phoenix Hostel</td>\n",
       "      <td>Hostel - 4.2km from city centre</td>\n",
       "      <td>Fabulous</td>\n",
       "      <td>3441 Total Reviews</td>\n",
       "      <td>Free WiFi\\nFollows Covid-19 sanitation guidance</td>\n",
       "      <td>No Privates Available</td>\n",
       "      <td>Dorms From\\nRs1135</td>\n",
       "      <td>9.6</td>\n",
       "    </tr>\n",
       "    <tr>\n",
       "      <th>26</th>\n",
       "      <td>Mornington Camden</td>\n",
       "      <td>Hostel - 4.1km from city centre</td>\n",
       "      <td>Very Good</td>\n",
       "      <td>42 Total Reviews</td>\n",
       "      <td>Free WiFi</td>\n",
       "      <td>No Privates Available</td>\n",
       "      <td>Dorms From\\nRs3230</td>\n",
       "      <td>6.7</td>\n",
       "    </tr>\n",
       "    <tr>\n",
       "      <th>27</th>\n",
       "      <td>PubLove @ The Green Man, Paddington</td>\n",
       "      <td>Hostel - 4.3km from city centre</td>\n",
       "      <td>Fabulous</td>\n",
       "      <td>395 Total Reviews</td>\n",
       "      <td>Free WiFi\\nFollows Covid-19 sanitation guidance</td>\n",
       "      <td>No Privates Available</td>\n",
       "      <td>Dorms From\\nRs1786</td>\n",
       "      <td>9.3</td>\n",
       "    </tr>\n",
       "    <tr>\n",
       "      <th>28</th>\n",
       "      <td>Burlington Residence</td>\n",
       "      <td>Hostel - 7.1km from city centre</td>\n",
       "      <td>Superb</td>\n",
       "      <td>31 Total Reviews</td>\n",
       "      <td>Free WiFi\\nFree Breakfast\\nFollows Covid-19 sa...</td>\n",
       "      <td>No Privates Available</td>\n",
       "      <td>Dorms From\\nRs2308</td>\n",
       "      <td>8.7</td>\n",
       "    </tr>\n",
       "  </tbody>\n",
       "</table>\n",
       "</div>"
      ],
      "text/plain": [
       "                                Hostel_Name                         Distance  \\\n",
       "0   St Christopher's Inn - Liverpool Street  Hostel - 3.2km from city centre   \n",
       "1        247london Hostel and Private Rooms  Hostel - 8.2km from city centre   \n",
       "2                           Astor Hyde Park  Hostel - 4.3km from city centre   \n",
       "3                  St Christopher's Village  Hostel - 1.8km from city centre   \n",
       "4                   Smart Camden Inn Hostel  Hostel - 4.4km from city centre   \n",
       "5              The Finnish Church in London  Hostel - 4.5km from city centre   \n",
       "6                        No.8 Seven Sisters    Hostel - 9km from city centre   \n",
       "7                    The London Home Hostel  Hostel - 8.2km from city centre   \n",
       "8                             Selina Camden  Hostel - 5.5km from city centre   \n",
       "9         Safestay London Elephant & Castle  Hostel - 1.7km from city centre   \n",
       "10      PubLove @ The White Ferry, Victoria  Hostel - 2.4km from city centre   \n",
       "11                         Generator London    Hostel - 3km from city centre   \n",
       "12                           Venture Hostel  Hostel - 6.9km from city centre   \n",
       "13                         Astor Museum Inn  Hostel - 2.2km from city centre   \n",
       "14                  Saint James Backpackers  Hostel - 5.5km from city centre   \n",
       "15                     New Cross Inn Hostel  Hostel - 6.1km from city centre   \n",
       "16                   London Waterloo Hostel  Hostel - 0.7km from city centre   \n",
       "17              Smart Russell Square Hostel  Hostel - 2.6km from city centre   \n",
       "18             No.8 Willesden Hostel London   Hostel - 10km from city centre   \n",
       "19                  Prime Backpackers Angel  Hostel - 3.6km from city centre   \n",
       "20               PubLove @ The Rose & Crown  Hostel - 1.6km from city centre   \n",
       "21     St Christopher's Inn - London Bridge  Hostel - 1.8km from city centre   \n",
       "22                  St Christopher's Camden  Hostel - 4.3km from city centre   \n",
       "23          St Christopher's Shepherds Bush    Hostel - 7km from city centre   \n",
       "24                         Astor Kensington  Hostel - 4.9km from city centre   \n",
       "25                           Phoenix Hostel  Hostel - 4.2km from city centre   \n",
       "26                        Mornington Camden  Hostel - 4.1km from city centre   \n",
       "27      PubLove @ The Green Man, Paddington  Hostel - 4.3km from city centre   \n",
       "28                     Burlington Residence  Hostel - 7.1km from city centre   \n",
       "\n",
       "   overall_review        total_reviews  \\\n",
       "0          Superb    359 Total Reviews   \n",
       "1        Fabulous    443 Total Reviews   \n",
       "2          Superb  11348 Total Reviews   \n",
       "3            Good  10869 Total Reviews   \n",
       "4        Fabulous   2694 Total Reviews   \n",
       "5        Fabulous    194 Total Reviews   \n",
       "6        Fabulous   3637 Total Reviews   \n",
       "7          Superb    249 Total Reviews   \n",
       "8            Good     10 Total Reviews   \n",
       "9       Very Good   3967 Total Reviews   \n",
       "10         Superb    161 Total Reviews   \n",
       "11       Fabulous   6755 Total Reviews   \n",
       "12       Fabulous   1170 Total Reviews   \n",
       "13      Very Good   8747 Total Reviews   \n",
       "14         Rating   1764 Total Reviews   \n",
       "15         Superb   1022 Total Reviews   \n",
       "16           Good   2425 Total Reviews   \n",
       "17           Good   9522 Total Reviews   \n",
       "18           Good   4589 Total Reviews   \n",
       "19           Good    515 Total Reviews   \n",
       "20       Fabulous    101 Total Reviews   \n",
       "21         Superb   3239 Total Reviews   \n",
       "22      Very Good   3712 Total Reviews   \n",
       "23       Fabulous    631 Total Reviews   \n",
       "24      Very Good   6334 Total Reviews   \n",
       "25       Fabulous   3441 Total Reviews   \n",
       "26      Very Good     42 Total Reviews   \n",
       "27       Fabulous    395 Total Reviews   \n",
       "28         Superb     31 Total Reviews   \n",
       "\n",
       "                                           facilities     Privates_From_Price  \\\n",
       "0     Free WiFi\\nFollows Covid-19 sanitation guidance   No Privates Available   \n",
       "1                                           Free WiFi   Privates From\\nRs5254   \n",
       "2     Free WiFi\\nFollows Covid-19 sanitation guidance   No Privates Available   \n",
       "3     Free WiFi\\nFollows Covid-19 sanitation guidance   Privates From\\nRs6456   \n",
       "4     Free WiFi\\nFollows Covid-19 sanitation guidance   No Privates Available   \n",
       "5     Free WiFi\\nFollows Covid-19 sanitation guidance   No Privates Available   \n",
       "6     Free WiFi\\nFollows Covid-19 sanitation guidance   No Privates Available   \n",
       "7                                           Free WiFi   Privates From\\nRs4121   \n",
       "8                                           Free WiFi  Privates From\\nRs17373   \n",
       "9     Free WiFi\\nFollows Covid-19 sanitation guidance   Privates From\\nRs8035   \n",
       "10    Free WiFi\\nFollows Covid-19 sanitation guidance  Privates From\\nRs21839   \n",
       "11    Free WiFi\\nFollows Covid-19 sanitation guidance   Privates From\\nRs9581   \n",
       "12                                          Free WiFi   Privates From\\nRs5605   \n",
       "13    Free WiFi\\nFollows Covid-19 sanitation guidance   No Privates Available   \n",
       "14  Free WiFi\\nFree Breakfast\\nFollows Covid-19 sa...   Privates From\\nRs7290   \n",
       "15                          Free WiFi\\nFree Breakfast   Privates From\\nRs3318   \n",
       "16  Free WiFi\\nFree Breakfast\\nFollows Covid-19 sa...   No Privates Available   \n",
       "17    Free WiFi\\nFollows Covid-19 sanitation guidance   No Privates Available   \n",
       "18    Free WiFi\\nFollows Covid-19 sanitation guidance   No Privates Available   \n",
       "19    Free WiFi\\nFollows Covid-19 sanitation guidance   Privates From\\nRs7734   \n",
       "20    Free WiFi\\nFollows Covid-19 sanitation guidance   No Privates Available   \n",
       "21    Free WiFi\\nFollows Covid-19 sanitation guidance   No Privates Available   \n",
       "22    Free WiFi\\nFollows Covid-19 sanitation guidance   No Privates Available   \n",
       "23    Free WiFi\\nFollows Covid-19 sanitation guidance   No Privates Available   \n",
       "24    Free WiFi\\nFollows Covid-19 sanitation guidance   No Privates Available   \n",
       "25    Free WiFi\\nFollows Covid-19 sanitation guidance   No Privates Available   \n",
       "26                                          Free WiFi   No Privates Available   \n",
       "27    Free WiFi\\nFollows Covid-19 sanitation guidance   No Privates Available   \n",
       "28  Free WiFi\\nFree Breakfast\\nFollows Covid-19 sa...   No Privates Available   \n",
       "\n",
       "      Dorms_From_price Rating   \n",
       "0   Dorms From\\nRs1981     9.7  \n",
       "1   No Dorms Available     6.6  \n",
       "2   Dorms From\\nRs1545     8.9  \n",
       "3   Dorms From\\nRs1192     8.4  \n",
       "4   Dorms From\\nRs1248     8.9  \n",
       "5   Dorms From\\nRs2987     9.5  \n",
       "6    Dorms From\\nRs802     6.8  \n",
       "7   Dorms From\\nRs1628     7.7  \n",
       "8   Dorms From\\nRs2956     9.0  \n",
       "9   Dorms From\\nRs2009     8.0  \n",
       "10  Dorms From\\nRs1717     8.8  \n",
       "11  Dorms From\\nRs2163     7.5  \n",
       "12  Dorms From\\nRs1493     9.3  \n",
       "13  Dorms From\\nRs1751     6.9  \n",
       "14  Dorms From\\nRs2349     6.9  \n",
       "15  Dorms From\\nRs1233     6.8  \n",
       "16  Dorms From\\nRs1462     6.7  \n",
       "17  Dorms From\\nRs1386     8.4  \n",
       "18   Dorms From\\nRs905      10  \n",
       "19  Dorms From\\nRs2437     7.5  \n",
       "20  Dorms From\\nRs2026     8.9  \n",
       "21  Dorms From\\nRs1501     7.6  \n",
       "22  Dorms From\\nRs1157     8.2  \n",
       "23  Dorms From\\nRs1226     7.5  \n",
       "24  Dorms From\\nRs1442     8.1  \n",
       "25  Dorms From\\nRs1135     9.6  \n",
       "26  Dorms From\\nRs3230     6.7  \n",
       "27  Dorms From\\nRs1786     9.3  \n",
       "28  Dorms From\\nRs2308     8.7  "
      ]
     },
     "execution_count": 278,
     "metadata": {},
     "output_type": "execute_result"
    }
   ],
   "source": [
    "hostel_details=pd.DataFrame({})\n",
    "hostel_details[\"Hostel_Name\"]=Hostel_Name[:29]\n",
    "hostel_details[\"Distance\"]=Distance[:29]\n",
    "hostel_details[\"overall_review\"]=overall_review[:29]\n",
    "hostel_details[\"total_reviews\"]=total_reviews[:29]\n",
    "hostel_details[\"facilities\"]=facilities[:29]\n",
    "hostel_details[\"Privates_From_Price\"]=Privates_From[:29]\n",
    "hostel_details[\"Dorms_From_price\"]=Dorms_From[:29]\n",
    "hostel_details[\"Rating \"]=Rating\n",
    "hostel_details"
   ]
  },
  {
   "cell_type": "code",
   "execution_count": null,
   "id": "9f8fee7d",
   "metadata": {},
   "outputs": [],
   "source": []
  }
 ],
 "metadata": {
  "kernelspec": {
   "display_name": "Python 3 (ipykernel)",
   "language": "python",
   "name": "python3"
  },
  "language_info": {
   "codemirror_mode": {
    "name": "ipython",
    "version": 3
   },
   "file_extension": ".py",
   "mimetype": "text/x-python",
   "name": "python",
   "nbconvert_exporter": "python",
   "pygments_lexer": "ipython3",
   "version": "3.8.10"
  }
 },
 "nbformat": 4,
 "nbformat_minor": 5
}
